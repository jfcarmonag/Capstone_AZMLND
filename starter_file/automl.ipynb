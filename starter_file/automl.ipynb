{
  "cells": [
    {
      "cell_type": "markdown",
      "source": [
        "\n",
        "# Automated ML\n",
        "\n",
        "TODO: Import Dependencies. In the cell below, import all the dependencies that you will need to complete the project."
      ],
      "metadata": {}
    },
    {
      "cell_type": "code",
      "source": [
        "!pip install --upgrade azureml-sdk[automl]\n",
        "#!pip install --upgrade --upgrade-strategy eager azureml-sdk"
      ],
      "outputs": [
        {
          "output_type": "stream",
          "name": "stdout",
          "text": [
            "Requirement already up-to-date: azureml-sdk[automl] in /anaconda/envs/azureml_py36/lib/python3.6/site-packages (1.21.0)\n",
            "Requirement already satisfied, skipping upgrade: azureml-core~=1.21.0 in /anaconda/envs/azureml_py36/lib/python3.6/site-packages (from azureml-sdk[automl]) (1.21.0.post2)\n",
            "Requirement already satisfied, skipping upgrade: azureml-train-automl-client~=1.21.0 in /anaconda/envs/azureml_py36/lib/python3.6/site-packages (from azureml-sdk[automl]) (1.21.0)\n",
            "Requirement already satisfied, skipping upgrade: azureml-train~=1.21.0 in /anaconda/envs/azureml_py36/lib/python3.6/site-packages (from azureml-sdk[automl]) (1.21.0)\n",
            "Requirement already satisfied, skipping upgrade: azureml-pipeline~=1.21.0 in /anaconda/envs/azureml_py36/lib/python3.6/site-packages (from azureml-sdk[automl]) (1.21.0)\n",
            "Requirement already satisfied, skipping upgrade: azureml-dataset-runtime[fuse]~=1.21.0 in /anaconda/envs/azureml_py36/lib/python3.6/site-packages (from azureml-sdk[automl]) (1.21.0)\n",
            "Requirement already satisfied, skipping upgrade: azureml-train-automl~=1.21.0; extra == \"automl\" in /anaconda/envs/azureml_py36/lib/python3.6/site-packages (from azureml-sdk[automl]) (1.21.0)\n",
            "Requirement already satisfied, skipping upgrade: cryptography!=1.9,!=2.0.*,!=2.1.*,!=2.2.* in /anaconda/envs/azureml_py36/lib/python3.6/site-packages (from azureml-core~=1.21.0->azureml-sdk[automl]) (3.3.1)\n",
            "Requirement already satisfied, skipping upgrade: ruamel.yaml>=0.15.35 in /anaconda/envs/azureml_py36/lib/python3.6/site-packages (from azureml-core~=1.21.0->azureml-sdk[automl]) (0.16.12)\n",
            "Requirement already satisfied, skipping upgrade: SecretStorage in /anaconda/envs/azureml_py36/lib/python3.6/site-packages (from azureml-core~=1.21.0->azureml-sdk[automl]) (3.3.0)\n",
            "Requirement already satisfied, skipping upgrade: adal>=1.2.0 in /anaconda/envs/azureml_py36/lib/python3.6/site-packages (from azureml-core~=1.21.0->azureml-sdk[automl]) (1.2.5)\n",
            "Requirement already satisfied, skipping upgrade: msrest>=0.5.1 in /anaconda/envs/azureml_py36/lib/python3.6/site-packages (from azureml-core~=1.21.0->azureml-sdk[automl]) (0.6.19)\n",
            "Requirement already satisfied, skipping upgrade: jsonpickle in /anaconda/envs/azureml_py36/lib/python3.6/site-packages (from azureml-core~=1.21.0->azureml-sdk[automl]) (1.4.2)\n",
            "Requirement already satisfied, skipping upgrade: azure-mgmt-containerregistry>=2.0.0 in /anaconda/envs/azureml_py36/lib/python3.6/site-packages (from azureml-core~=1.21.0->azureml-sdk[automl]) (2.8.0)\n",
            "Requirement already satisfied, skipping upgrade: azure-common>=1.1.12 in /anaconda/envs/azureml_py36/lib/python3.6/site-packages (from azureml-core~=1.21.0->azureml-sdk[automl]) (1.1.26)\n",
            "Requirement already satisfied, skipping upgrade: urllib3>=1.23 in /anaconda/envs/azureml_py36/lib/python3.6/site-packages (from azureml-core~=1.21.0->azureml-sdk[automl]) (1.25.11)\n",
            "Requirement already satisfied, skipping upgrade: PyJWT<2.0.0 in /anaconda/envs/azureml_py36/lib/python3.6/site-packages (from azureml-core~=1.21.0->azureml-sdk[automl]) (1.7.1)\n",
            "Requirement already satisfied, skipping upgrade: msrestazure>=0.4.33 in /anaconda/envs/azureml_py36/lib/python3.6/site-packages (from azureml-core~=1.21.0->azureml-sdk[automl]) (0.6.4)\n",
            "Requirement already satisfied, skipping upgrade: azure-mgmt-keyvault<7.0.0,>=0.40.0 in /anaconda/envs/azureml_py36/lib/python3.6/site-packages (from azureml-core~=1.21.0->azureml-sdk[automl]) (2.2.0)\n",
            "Requirement already satisfied, skipping upgrade: azure-graphrbac<1.0.0,>=0.40.0 in /anaconda/envs/azureml_py36/lib/python3.6/site-packages (from azureml-core~=1.21.0->azureml-sdk[automl]) (0.61.1)\n",
            "Requirement already satisfied, skipping upgrade: contextlib2 in /anaconda/envs/azureml_py36/lib/python3.6/site-packages (from azureml-core~=1.21.0->azureml-sdk[automl]) (0.6.0.post1)\n",
            "Requirement already satisfied, skipping upgrade: requests>=2.19.1 in /anaconda/envs/azureml_py36/lib/python3.6/site-packages (from azureml-core~=1.21.0->azureml-sdk[automl]) (2.25.1)\n",
            "Requirement already satisfied, skipping upgrade: docker in /anaconda/envs/azureml_py36/lib/python3.6/site-packages (from azureml-core~=1.21.0->azureml-sdk[automl]) (4.4.1)\n",
            "Requirement already satisfied, skipping upgrade: jmespath in /anaconda/envs/azureml_py36/lib/python3.6/site-packages (from azureml-core~=1.21.0->azureml-sdk[automl]) (0.10.0)\n",
            "Requirement already satisfied, skipping upgrade: azure-mgmt-authorization<1.0.0,>=0.40.0 in /anaconda/envs/azureml_py36/lib/python3.6/site-packages (from azureml-core~=1.21.0->azureml-sdk[automl]) (0.61.0)\n",
            "Requirement already satisfied, skipping upgrade: pathspec in /anaconda/envs/azureml_py36/lib/python3.6/site-packages (from azureml-core~=1.21.0->azureml-sdk[automl]) (0.8.1)\n",
            "Requirement already satisfied, skipping upgrade: pytz in /anaconda/envs/azureml_py36/lib/python3.6/site-packages (from azureml-core~=1.21.0->azureml-sdk[automl]) (2020.5)\n",
            "Requirement already satisfied, skipping upgrade: pyopenssl<21.0.0 in /anaconda/envs/azureml_py36/lib/python3.6/site-packages (from azureml-core~=1.21.0->azureml-sdk[automl]) (19.1.0)\n",
            "Requirement already satisfied, skipping upgrade: python-dateutil>=2.7.3 in /anaconda/envs/azureml_py36/lib/python3.6/site-packages (from azureml-core~=1.21.0->azureml-sdk[automl]) (2.8.1)\n",
            "Requirement already satisfied, skipping upgrade: backports.tempfile in /anaconda/envs/azureml_py36/lib/python3.6/site-packages (from azureml-core~=1.21.0->azureml-sdk[automl]) (1.0)\n",
            "Requirement already satisfied, skipping upgrade: azure-mgmt-storage<16.0.0,>=1.5.0 in /anaconda/envs/azureml_py36/lib/python3.6/site-packages (from azureml-core~=1.21.0->azureml-sdk[automl]) (11.2.0)\n",
            "Requirement already satisfied, skipping upgrade: azure-mgmt-resource<15.0.0,>=1.2.1 in /anaconda/envs/azureml_py36/lib/python3.6/site-packages (from azureml-core~=1.21.0->azureml-sdk[automl]) (12.0.0)\n",
            "Requirement already satisfied, skipping upgrade: ndg-httpsclient in /anaconda/envs/azureml_py36/lib/python3.6/site-packages (from azureml-core~=1.21.0->azureml-sdk[automl]) (0.5.1)\n",
            "Requirement already satisfied, skipping upgrade: azureml-telemetry~=1.21.0 in /anaconda/envs/azureml_py36/lib/python3.6/site-packages (from azureml-train-automl-client~=1.21.0->azureml-sdk[automl]) (1.21.0)\n",
            "Requirement already satisfied, skipping upgrade: azureml-automl-core~=1.21.0 in /anaconda/envs/azureml_py36/lib/python3.6/site-packages (from azureml-train-automl-client~=1.21.0->azureml-sdk[automl]) (1.21.0)\n",
            "Requirement already satisfied, skipping upgrade: azureml-train-core~=1.21.0 in /anaconda/envs/azureml_py36/lib/python3.6/site-packages (from azureml-train~=1.21.0->azureml-sdk[automl]) (1.21.0)\n",
            "Requirement already satisfied, skipping upgrade: azureml-pipeline-core~=1.21.0 in /anaconda/envs/azureml_py36/lib/python3.6/site-packages (from azureml-pipeline~=1.21.0->azureml-sdk[automl]) (1.21.0)\n",
            "Requirement already satisfied, skipping upgrade: azureml-pipeline-steps~=1.21.0 in /anaconda/envs/azureml_py36/lib/python3.6/site-packages (from azureml-pipeline~=1.21.0->azureml-sdk[automl]) (1.21.0)\n",
            "Requirement already satisfied, skipping upgrade: pyarrow<2.0.0,>=0.17.0 in /anaconda/envs/azureml_py36/lib/python3.6/site-packages (from azureml-dataset-runtime[fuse]~=1.21.0->azureml-sdk[automl]) (1.0.1)\n",
            "Requirement already satisfied, skipping upgrade: numpy!=1.19.3; sys_platform == \"linux\" in /anaconda/envs/azureml_py36/lib/python3.6/site-packages (from azureml-dataset-runtime[fuse]~=1.21.0->azureml-sdk[automl]) (1.18.5)\n",
            "Requirement already satisfied, skipping upgrade: azureml-dataprep<2.9.0a,>=2.8.0a in /anaconda/envs/azureml_py36/lib/python3.6/site-packages (from azureml-dataset-runtime[fuse]~=1.21.0->azureml-sdk[automl]) (2.8.2)\n",
            "Requirement already satisfied, skipping upgrade: fusepy<4.0.0,>=3.0.1; extra == \"fuse\" in /anaconda/envs/azureml_py36/lib/python3.6/site-packages (from azureml-dataset-runtime[fuse]~=1.21.0->azureml-sdk[automl]) (3.0.1)\n",
            "Requirement already satisfied, skipping upgrade: azureml-train-automl-runtime~=1.21.0 in /anaconda/envs/azureml_py36/lib/python3.6/site-packages (from azureml-train-automl~=1.21.0; extra == \"automl\"->azureml-sdk[automl]) (1.21.0.post1)\n",
            "Requirement already satisfied, skipping upgrade: azureml-automl-runtime~=1.21.0 in /anaconda/envs/azureml_py36/lib/python3.6/site-packages (from azureml-train-automl~=1.21.0; extra == \"automl\"->azureml-sdk[automl]) (1.21.0)\n",
            "Requirement already satisfied, skipping upgrade: cffi>=1.12 in /anaconda/envs/azureml_py36/lib/python3.6/site-packages (from cryptography!=1.9,!=2.0.*,!=2.1.*,!=2.2.*->azureml-core~=1.21.0->azureml-sdk[automl]) (1.14.4)\n",
            "Requirement already satisfied, skipping upgrade: six>=1.4.1 in /anaconda/envs/azureml_py36/lib/python3.6/site-packages (from cryptography!=1.9,!=2.0.*,!=2.1.*,!=2.2.*->azureml-core~=1.21.0->azureml-sdk[automl]) (1.15.0)\n",
            "Requirement already satisfied, skipping upgrade: ruamel.yaml.clib>=0.1.2; platform_python_implementation == \"CPython\" and python_version < \"3.9\" in /anaconda/envs/azureml_py36/lib/python3.6/site-packages (from ruamel.yaml>=0.15.35->azureml-core~=1.21.0->azureml-sdk[automl]) (0.2.2)\n",
            "Requirement already satisfied, skipping upgrade: jeepney>=0.6 in /anaconda/envs/azureml_py36/lib/python3.6/site-packages (from SecretStorage->azureml-core~=1.21.0->azureml-sdk[automl]) (0.6.0)\n",
            "Requirement already satisfied, skipping upgrade: requests-oauthlib>=0.5.0 in /anaconda/envs/azureml_py36/lib/python3.6/site-packages (from msrest>=0.5.1->azureml-core~=1.21.0->azureml-sdk[automl]) (1.3.0)\n",
            "Requirement already satisfied, skipping upgrade: isodate>=0.6.0 in /anaconda/envs/azureml_py36/lib/python3.6/site-packages (from msrest>=0.5.1->azureml-core~=1.21.0->azureml-sdk[automl]) (0.6.0)\n",
            "Requirement already satisfied, skipping upgrade: certifi>=2017.4.17 in /anaconda/envs/azureml_py36/lib/python3.6/site-packages (from msrest>=0.5.1->azureml-core~=1.21.0->azureml-sdk[automl]) (2020.12.5)\n",
            "Requirement already satisfied, skipping upgrade: importlib-metadata; python_version < \"3.8\" in /anaconda/envs/azureml_py36/lib/python3.6/site-packages (from jsonpickle->azureml-core~=1.21.0->azureml-sdk[automl]) (3.3.0)\n",
            "Requirement already satisfied, skipping upgrade: chardet<5,>=3.0.2 in /anaconda/envs/azureml_py36/lib/python3.6/site-packages (from requests>=2.19.1->azureml-core~=1.21.0->azureml-sdk[automl]) (4.0.0)\n",
            "Requirement already satisfied, skipping upgrade: idna<3,>=2.5 in /anaconda/envs/azureml_py36/lib/python3.6/site-packages (from requests>=2.19.1->azureml-core~=1.21.0->azureml-sdk[automl]) (2.10)\n",
            "Requirement already satisfied, skipping upgrade: websocket-client>=0.32.0 in /anaconda/envs/azureml_py36/lib/python3.6/site-packages (from docker->azureml-core~=1.21.0->azureml-sdk[automl]) (0.57.0)\n",
            "Requirement already satisfied, skipping upgrade: backports.weakref in /anaconda/envs/azureml_py36/lib/python3.6/site-packages (from backports.tempfile->azureml-core~=1.21.0->azureml-sdk[automl]) (1.0.post1)\n",
            "Requirement already satisfied, skipping upgrade: pyasn1>=0.1.1 in /anaconda/envs/azureml_py36/lib/python3.6/site-packages (from ndg-httpsclient->azureml-core~=1.21.0->azureml-sdk[automl]) (0.4.8)\n",
            "Requirement already satisfied, skipping upgrade: applicationinsights in /anaconda/envs/azureml_py36/lib/python3.6/site-packages (from azureml-telemetry~=1.21.0->azureml-train-automl-client~=1.21.0->azureml-sdk[automl]) (0.11.9)\n",
            "Requirement already satisfied, skipping upgrade: azureml-train-restclients-hyperdrive~=1.21.0 in /anaconda/envs/azureml_py36/lib/python3.6/site-packages (from azureml-train-core~=1.21.0->azureml-train~=1.21.0->azureml-sdk[automl]) (1.21.0)\n",
            "Requirement already satisfied, skipping upgrade: cloudpickle<2.0.0,>=1.1.0 in /anaconda/envs/azureml_py36/lib/python3.6/site-packages (from azureml-dataprep<2.9.0a,>=2.8.0a->azureml-dataset-runtime[fuse]~=1.21.0->azureml-sdk[automl]) (1.6.0)\n",
            "Requirement already satisfied, skipping upgrade: azure-identity<1.5.0,>=1.2.0 in /anaconda/envs/azureml_py36/lib/python3.6/site-packages (from azureml-dataprep<2.9.0a,>=2.8.0a->azureml-dataset-runtime[fuse]~=1.21.0->azureml-sdk[automl]) (1.4.1)\n",
            "Requirement already satisfied, skipping upgrade: azureml-dataprep-rslex<1.7.0a,>=1.6.0dev0 in /anaconda/envs/azureml_py36/lib/python3.6/site-packages (from azureml-dataprep<2.9.0a,>=2.8.0a->azureml-dataset-runtime[fuse]~=1.21.0->azureml-sdk[automl]) (1.6.0)\n",
            "Requirement already satisfied, skipping upgrade: dotnetcore2<3.0.0,>=2.1.14 in /anaconda/envs/azureml_py36/lib/python3.6/site-packages (from azureml-dataprep<2.9.0a,>=2.8.0a->azureml-dataset-runtime[fuse]~=1.21.0->azureml-sdk[automl]) (2.1.20)\n",
            "Requirement already satisfied, skipping upgrade: azureml-dataprep-native<29.0.0,>=28.0.0 in /anaconda/envs/azureml_py36/lib/python3.6/site-packages (from azureml-dataprep<2.9.0a,>=2.8.0a->azureml-dataset-runtime[fuse]~=1.21.0->azureml-sdk[automl]) (28.0.0)\n",
            "Requirement already satisfied, skipping upgrade: statsmodels<=0.10.2,>=0.9.0 in /anaconda/envs/azureml_py36/lib/python3.6/site-packages (from azureml-train-automl-runtime~=1.21.0->azureml-train-automl~=1.21.0; extra == \"automl\"->azureml-sdk[automl]) (0.10.2)\n",
            "Requirement already satisfied, skipping upgrade: azure-storage-queue~=12.1 in /anaconda/envs/azureml_py36/lib/python3.6/site-packages (from azureml-train-automl-runtime~=1.21.0->azureml-train-automl~=1.21.0; extra == \"automl\"->azureml-sdk[automl]) (12.1.4)\n",
            "Requirement already satisfied, skipping upgrade: skl2onnx==1.4.9 in /anaconda/envs/azureml_py36/lib/python3.6/site-packages (from azureml-train-automl-runtime~=1.21.0->azureml-train-automl~=1.21.0; extra == \"automl\"->azureml-sdk[automl]) (1.4.9)\n",
            "Requirement already satisfied, skipping upgrade: gensim<3.9.0 in /anaconda/envs/azureml_py36/lib/python3.6/site-packages (from azureml-train-automl-runtime~=1.21.0->azureml-train-automl~=1.21.0; extra == \"automl\"->azureml-sdk[automl]) (3.8.3)\n",
            "Requirement already satisfied, skipping upgrade: sklearn-pandas<=1.7.0,>=1.4.0 in /anaconda/envs/azureml_py36/lib/python3.6/site-packages (from azureml-train-automl-runtime~=1.21.0->azureml-train-automl~=1.21.0; extra == \"automl\"->azureml-sdk[automl]) (1.7.0)\n",
            "Requirement already satisfied, skipping upgrade: botocore<=1.18.18 in /anaconda/envs/azureml_py36/lib/python3.6/site-packages (from azureml-train-automl-runtime~=1.21.0->azureml-train-automl~=1.21.0; extra == \"automl\"->azureml-sdk[automl]) (1.18.18)\n",
            "Requirement already satisfied, skipping upgrade: onnxconverter-common<=1.6.0,>=1.4.2 in /anaconda/envs/azureml_py36/lib/python3.6/site-packages (from azureml-train-automl-runtime~=1.21.0->azureml-train-automl~=1.21.0; extra == \"automl\"->azureml-sdk[automl]) (1.6.0)\n",
            "Requirement already satisfied, skipping upgrade: azureml-defaults~=1.21.0 in /anaconda/envs/azureml_py36/lib/python3.6/site-packages (from azureml-train-automl-runtime~=1.21.0->azureml-train-automl~=1.21.0; extra == \"automl\"->azureml-sdk[automl]) (1.21.0)\n",
            "Requirement already satisfied, skipping upgrade: scikit-learn<0.23.0,>=0.19.0 in /anaconda/envs/azureml_py36/lib/python3.6/site-packages (from azureml-train-automl-runtime~=1.21.0->azureml-train-automl~=1.21.0; extra == \"automl\"->azureml-sdk[automl]) (0.22.2.post1)\n",
            "Requirement already satisfied, skipping upgrade: scipy<=1.5.2,>=1.0.0 in /anaconda/envs/azureml_py36/lib/python3.6/site-packages (from azureml-train-automl-runtime~=1.21.0->azureml-train-automl~=1.21.0; extra == \"automl\"->azureml-sdk[automl]) (1.5.2)\n",
            "Requirement already satisfied, skipping upgrade: onnx<=1.7.0,>=1.5.0 in /anaconda/envs/azureml_py36/lib/python3.6/site-packages (from azureml-train-automl-runtime~=1.21.0->azureml-train-automl~=1.21.0; extra == \"automl\"->azureml-sdk[automl]) (1.7.0)\n",
            "Requirement already satisfied, skipping upgrade: boto3<=1.15.18 in /anaconda/envs/azureml_py36/lib/python3.6/site-packages (from azureml-train-automl-runtime~=1.21.0->azureml-train-automl~=1.21.0; extra == \"automl\"->azureml-sdk[automl]) (1.15.18)\n",
            "Requirement already satisfied, skipping upgrade: jinja2<=2.11.2 in /anaconda/envs/azureml_py36/lib/python3.6/site-packages (from azureml-train-automl-runtime~=1.21.0->azureml-train-automl~=1.21.0; extra == \"automl\"->azureml-sdk[automl]) (2.11.2)\n",
            "Requirement already satisfied, skipping upgrade: onnxmltools==1.4.1 in /anaconda/envs/azureml_py36/lib/python3.6/site-packages (from azureml-train-automl-runtime~=1.21.0->azureml-train-automl~=1.21.0; extra == \"automl\"->azureml-sdk[automl]) (1.4.1)\n",
            "Requirement already satisfied, skipping upgrade: pandas<1.0.0,>=0.21.0 in /anaconda/envs/azureml_py36/lib/python3.6/site-packages (from azureml-train-automl-runtime~=1.21.0->azureml-train-automl~=1.21.0; extra == \"automl\"->azureml-sdk[automl]) (0.25.3)\n",
            "Requirement already satisfied, skipping upgrade: onnxruntime==1.3.0 in /anaconda/envs/azureml_py36/lib/python3.6/site-packages (from azureml-train-automl-runtime~=1.21.0->azureml-train-automl~=1.21.0; extra == \"automl\"->azureml-sdk[automl]) (1.3.0)\n",
            "Requirement already satisfied, skipping upgrade: lightgbm<=2.3.0,>=2.0.11 in /anaconda/envs/azureml_py36/lib/python3.6/site-packages (from azureml-train-automl-runtime~=1.21.0->azureml-train-automl~=1.21.0; extra == \"automl\"->azureml-sdk[automl]) (2.3.0)\n",
            "Requirement already satisfied, skipping upgrade: keras2onnx<=1.6.0,>=1.4.0 in /anaconda/envs/azureml_py36/lib/python3.6/site-packages (from azureml-train-automl-runtime~=1.21.0->azureml-train-automl~=1.21.0; extra == \"automl\"->azureml-sdk[automl]) (1.6.0)\n",
            "Requirement already satisfied, skipping upgrade: smart-open<=1.9.0 in /anaconda/envs/azureml_py36/lib/python3.6/site-packages (from azureml-train-automl-runtime~=1.21.0->azureml-train-automl~=1.21.0; extra == \"automl\"->azureml-sdk[automl]) (1.9.0)\n",
            "Requirement already satisfied, skipping upgrade: azureml-interpret~=1.21.0 in /anaconda/envs/azureml_py36/lib/python3.6/site-packages (from azureml-train-automl-runtime~=1.21.0->azureml-train-automl~=1.21.0; extra == \"automl\"->azureml-sdk[automl]) (1.21.0)\n",
            "Requirement already satisfied, skipping upgrade: py-cpuinfo==5.0.0 in /anaconda/envs/azureml_py36/lib/python3.6/site-packages (from azureml-automl-runtime~=1.21.0->azureml-train-automl~=1.21.0; extra == \"automl\"->azureml-sdk[automl]) (5.0.0)\n",
            "Requirement already satisfied, skipping upgrade: psutil<6.0.0,>=5.2.2 in /anaconda/envs/azureml_py36/lib/python3.6/site-packages (from azureml-automl-runtime~=1.21.0->azureml-train-automl~=1.21.0; extra == \"automl\"->azureml-sdk[automl]) (5.8.0)\n",
            "Requirement already satisfied, skipping upgrade: pmdarima==1.1.1 in /anaconda/envs/azureml_py36/lib/python3.6/site-packages (from azureml-automl-runtime~=1.21.0->azureml-train-automl~=1.21.0; extra == \"automl\"->azureml-sdk[automl]) (1.1.1)\n",
            "Requirement already satisfied, skipping upgrade: joblib==0.14.1 in /anaconda/envs/azureml_py36/lib/python3.6/site-packages (from azureml-automl-runtime~=1.21.0->azureml-train-automl~=1.21.0; extra == \"automl\"->azureml-sdk[automl]) (0.14.1)\n",
            "Requirement already satisfied, skipping upgrade: nimbusml<=1.8.0,>=1.7.1 in /anaconda/envs/azureml_py36/lib/python3.6/site-packages (from azureml-automl-runtime~=1.21.0->azureml-train-automl~=1.21.0; extra == \"automl\"->azureml-sdk[automl]) (1.8.0)\n",
            "Requirement already satisfied, skipping upgrade: dill<0.4.0,>=0.2.8 in /anaconda/envs/azureml_py36/lib/python3.6/site-packages (from azureml-automl-runtime~=1.21.0->azureml-train-automl~=1.21.0; extra == \"automl\"->azureml-sdk[automl]) (0.3.3)\n",
            "Requirement already satisfied, skipping upgrade: pycparser in /anaconda/envs/azureml_py36/lib/python3.6/site-packages (from cffi>=1.12->cryptography!=1.9,!=2.0.*,!=2.1.*,!=2.2.*->azureml-core~=1.21.0->azureml-sdk[automl]) (2.20)\n",
            "Requirement already satisfied, skipping upgrade: oauthlib>=3.0.0 in /anaconda/envs/azureml_py36/lib/python3.6/site-packages (from requests-oauthlib>=0.5.0->msrest>=0.5.1->azureml-core~=1.21.0->azureml-sdk[automl]) (3.1.0)\n",
            "Requirement already satisfied, skipping upgrade: typing-extensions>=3.6.4; python_version < \"3.8\" in /anaconda/envs/azureml_py36/lib/python3.6/site-packages (from importlib-metadata; python_version < \"3.8\"->jsonpickle->azureml-core~=1.21.0->azureml-sdk[automl]) (3.7.4.3)\n",
            "Requirement already satisfied, skipping upgrade: zipp>=0.5 in /anaconda/envs/azureml_py36/lib/python3.6/site-packages (from importlib-metadata; python_version < \"3.8\"->jsonpickle->azureml-core~=1.21.0->azureml-sdk[automl]) (3.4.0)\n",
            "Requirement already satisfied, skipping upgrade: msal<2.0.0,>=1.3.0 in /anaconda/envs/azureml_py36/lib/python3.6/site-packages (from azure-identity<1.5.0,>=1.2.0->azureml-dataprep<2.9.0a,>=2.8.0a->azureml-dataset-runtime[fuse]~=1.21.0->azureml-sdk[automl]) (1.8.0)\n",
            "Requirement already satisfied, skipping upgrade: msal-extensions~=0.2.2 in /anaconda/envs/azureml_py36/lib/python3.6/site-packages (from azure-identity<1.5.0,>=1.2.0->azureml-dataprep<2.9.0a,>=2.8.0a->azureml-dataset-runtime[fuse]~=1.21.0->azureml-sdk[automl]) (0.2.2)\n",
            "Requirement already satisfied, skipping upgrade: azure-core<2.0.0,>=1.0.0 in /anaconda/envs/azureml_py36/lib/python3.6/site-packages (from azure-identity<1.5.0,>=1.2.0->azureml-dataprep<2.9.0a,>=2.8.0a->azureml-dataset-runtime[fuse]~=1.21.0->azureml-sdk[automl]) (1.9.0)\n",
            "Requirement already satisfied, skipping upgrade: distro>=1.2.0 in /anaconda/envs/azureml_py36/lib/python3.6/site-packages (from dotnetcore2<3.0.0,>=2.1.14->azureml-dataprep<2.9.0a,>=2.8.0a->azureml-dataset-runtime[fuse]~=1.21.0->azureml-sdk[automl]) (1.5.0)\n",
            "Requirement already satisfied, skipping upgrade: patsy>=0.4.0 in /anaconda/envs/azureml_py36/lib/python3.6/site-packages (from statsmodels<=0.10.2,>=0.9.0->azureml-train-automl-runtime~=1.21.0->azureml-train-automl~=1.21.0; extra == \"automl\"->azureml-sdk[automl]) (0.5.1)\n",
            "Requirement already satisfied, skipping upgrade: protobuf in /anaconda/envs/azureml_py36/lib/python3.6/site-packages (from skl2onnx==1.4.9->azureml-train-automl-runtime~=1.21.0->azureml-train-automl~=1.21.0; extra == \"automl\"->azureml-sdk[automl]) (3.14.0)\n",
            "Requirement already satisfied, skipping upgrade: json-logging-py==0.2 in /anaconda/envs/azureml_py36/lib/python3.6/site-packages (from azureml-defaults~=1.21.0->azureml-train-automl-runtime~=1.21.0->azureml-train-automl~=1.21.0; extra == \"automl\"->azureml-sdk[automl]) (0.2)\n",
            "Requirement already satisfied, skipping upgrade: werkzeug<=1.0.1,>=0.16.1 in /anaconda/envs/azureml_py36/lib/python3.6/site-packages (from azureml-defaults~=1.21.0->azureml-train-automl-runtime~=1.21.0->azureml-train-automl~=1.21.0; extra == \"automl\"->azureml-sdk[automl]) (1.0.1)\n",
            "Requirement already satisfied, skipping upgrade: azureml-model-management-sdk==1.0.1b6.post1 in /anaconda/envs/azureml_py36/lib/python3.6/site-packages (from azureml-defaults~=1.21.0->azureml-train-automl-runtime~=1.21.0->azureml-train-automl~=1.21.0; extra == \"automl\"->azureml-sdk[automl]) (1.0.1b6.post1)\n",
            "Requirement already satisfied, skipping upgrade: gunicorn==19.9.0 in /anaconda/envs/azureml_py36/lib/python3.6/site-packages (from azureml-defaults~=1.21.0->azureml-train-automl-runtime~=1.21.0->azureml-train-automl~=1.21.0; extra == \"automl\"->azureml-sdk[automl]) (19.9.0)\n",
            "Requirement already satisfied, skipping upgrade: configparser==3.7.4 in /anaconda/envs/azureml_py36/lib/python3.6/site-packages (from azureml-defaults~=1.21.0->azureml-train-automl-runtime~=1.21.0->azureml-train-automl~=1.21.0; extra == \"automl\"->azureml-sdk[automl]) (3.7.4)\n",
            "Requirement already satisfied, skipping upgrade: flask==1.0.3 in /anaconda/envs/azureml_py36/lib/python3.6/site-packages (from azureml-defaults~=1.21.0->azureml-train-automl-runtime~=1.21.0->azureml-train-automl~=1.21.0; extra == \"automl\"->azureml-sdk[automl]) (1.0.3)\n",
            "Requirement already satisfied, skipping upgrade: s3transfer<0.4.0,>=0.3.0 in /anaconda/envs/azureml_py36/lib/python3.6/site-packages (from boto3<=1.15.18->azureml-train-automl-runtime~=1.21.0->azureml-train-automl~=1.21.0; extra == \"automl\"->azureml-sdk[automl]) (0.3.3)\n",
            "Requirement already satisfied, skipping upgrade: MarkupSafe>=0.23 in /anaconda/envs/azureml_py36/lib/python3.6/site-packages (from jinja2<=2.11.2->azureml-train-automl-runtime~=1.21.0->azureml-train-automl~=1.21.0; extra == \"automl\"->azureml-sdk[automl]) (1.1.1)\n",
            "Requirement already satisfied, skipping upgrade: fire in /anaconda/envs/azureml_py36/lib/python3.6/site-packages (from keras2onnx<=1.6.0,>=1.4.0->azureml-train-automl-runtime~=1.21.0->azureml-train-automl~=1.21.0; extra == \"automl\"->azureml-sdk[automl]) (0.3.1)\n",
            "Requirement already satisfied, skipping upgrade: boto>=2.32 in /anaconda/envs/azureml_py36/lib/python3.6/site-packages (from smart-open<=1.9.0->azureml-train-automl-runtime~=1.21.0->azureml-train-automl~=1.21.0; extra == \"automl\"->azureml-sdk[automl]) (2.49.0)\n",
            "Requirement already satisfied, skipping upgrade: interpret-community==0.16.* in /anaconda/envs/azureml_py36/lib/python3.6/site-packages (from azureml-interpret~=1.21.0->azureml-train-automl-runtime~=1.21.0->azureml-train-automl~=1.21.0; extra == \"automl\"->azureml-sdk[automl]) (0.16.0)\n",
            "Requirement already satisfied, skipping upgrade: Cython>=0.29 in /anaconda/envs/azureml_py36/lib/python3.6/site-packages (from pmdarima==1.1.1->azureml-automl-runtime~=1.21.0->azureml-train-automl~=1.21.0; extra == \"automl\"->azureml-sdk[automl]) (0.29.21)\n",
            "Requirement already satisfied, skipping upgrade: portalocker~=1.0; platform_system != \"Windows\" in /anaconda/envs/azureml_py36/lib/python3.6/site-packages (from msal-extensions~=0.2.2->azure-identity<1.5.0,>=1.2.0->azureml-dataprep<2.9.0a,>=2.8.0a->azureml-dataset-runtime[fuse]~=1.21.0->azureml-sdk[automl]) (1.7.1)\n",
            "Requirement already satisfied, skipping upgrade: liac-arff>=2.1.1 in /anaconda/envs/azureml_py36/lib/python3.6/site-packages (from azureml-model-management-sdk==1.0.1b6.post1->azureml-defaults~=1.21.0->azureml-train-automl-runtime~=1.21.0->azureml-train-automl~=1.21.0; extra == \"automl\"->azureml-sdk[automl]) (2.5.0)\n",
            "Requirement already satisfied, skipping upgrade: itsdangerous>=0.24 in /anaconda/envs/azureml_py36/lib/python3.6/site-packages (from flask==1.0.3->azureml-defaults~=1.21.0->azureml-train-automl-runtime~=1.21.0->azureml-train-automl~=1.21.0; extra == \"automl\"->azureml-sdk[automl]) (1.1.0)\n",
            "Requirement already satisfied, skipping upgrade: click>=5.1 in /anaconda/envs/azureml_py36/lib/python3.6/site-packages (from flask==1.0.3->azureml-defaults~=1.21.0->azureml-train-automl-runtime~=1.21.0->azureml-train-automl~=1.21.0; extra == \"automl\"->azureml-sdk[automl]) (7.1.2)\n",
            "Requirement already satisfied, skipping upgrade: termcolor in /anaconda/envs/azureml_py36/lib/python3.6/site-packages (from fire->keras2onnx<=1.6.0,>=1.4.0->azureml-train-automl-runtime~=1.21.0->azureml-train-automl~=1.21.0; extra == \"automl\"->azureml-sdk[automl]) (1.1.0)\n",
            "Requirement already satisfied, skipping upgrade: interpret-core[required]<=0.2.1,>=0.1.20 in /anaconda/envs/azureml_py36/lib/python3.6/site-packages (from interpret-community==0.16.*->azureml-interpret~=1.21.0->azureml-train-automl-runtime~=1.21.0->azureml-train-automl~=1.21.0; extra == \"automl\"->azureml-sdk[automl]) (0.2.1)\n",
            "Requirement already satisfied, skipping upgrade: packaging in /anaconda/envs/azureml_py36/lib/python3.6/site-packages (from interpret-community==0.16.*->azureml-interpret~=1.21.0->azureml-train-automl-runtime~=1.21.0->azureml-train-automl~=1.21.0; extra == \"automl\"->azureml-sdk[automl]) (20.8)\n",
            "Requirement already satisfied, skipping upgrade: shap<=0.34.0,>=0.20.0 in /anaconda/envs/azureml_py36/lib/python3.6/site-packages (from interpret-community==0.16.*->azureml-interpret~=1.21.0->azureml-train-automl-runtime~=1.21.0->azureml-train-automl~=1.21.0; extra == \"automl\"->azureml-sdk[automl]) (0.34.0)\n",
            "Requirement already satisfied, skipping upgrade: pyparsing>=2.0.2 in /anaconda/envs/azureml_py36/lib/python3.6/site-packages (from packaging->interpret-community==0.16.*->azureml-interpret~=1.21.0->azureml-train-automl-runtime~=1.21.0->azureml-train-automl~=1.21.0; extra == \"automl\"->azureml-sdk[automl]) (2.4.7)\n",
            "Requirement already satisfied, skipping upgrade: tqdm>4.25.0 in /anaconda/envs/azureml_py36/lib/python3.6/site-packages (from shap<=0.34.0,>=0.20.0->interpret-community==0.16.*->azureml-interpret~=1.21.0->azureml-train-automl-runtime~=1.21.0->azureml-train-automl~=1.21.0; extra == \"automl\"->azureml-sdk[automl]) (4.55.1)\n"
          ]
        }
      ],
      "execution_count": 1,
      "metadata": {
        "gather": {
          "logged": 1612321936790
        }
      }
    },
    {
      "cell_type": "code",
      "source": [
        "from azureml.core import Workspace, Experiment\n",
        "from azureml.core.compute import ComputeTarget, AmlCompute\n",
        "from azureml.core.compute_target import ComputeTargetException"
      ],
      "outputs": [],
      "execution_count": 2,
      "metadata": {
        "gather": {
          "logged": 1612321936974
        },
        "jupyter": {
          "outputs_hidden": false,
          "source_hidden": false
        },
        "nteract": {
          "transient": {
            "deleting": false
          }
        }
      }
    },
    {
      "cell_type": "markdown",
      "source": [
        "## Dataset\n",
        "\n",
        "### Overview\n",
        "TODO: In this markdown cell, give an overview of the dataset you are using. Also mention the task you will be performing.\n",
        "\n",
        "The dataset is extracted from an Udacity's competition called 'Predicting customer satisfaction' It consists of customers data from Santander bank, containing all their relevant features (like the number of products, their name, interest rate of loans, etc). \n",
        "\n",
        "TODO: Get data. In the cell below, write code to access the data you will be using in this project. Remember that the dataset needs to be external."
      ],
      "metadata": {}
    },
    {
      "cell_type": "code",
      "source": [
        "ws = Workspace.from_config()\n",
        "cluster_name = 'project-cluster'\n",
        "try:\n",
        "    compute_target = ComputeTarget(ws, cluster_name)\n",
        "except ComputeTargetException:\n",
        "    compute_config = AmlCompute.provisioning_configuration(vm_size='STANDARD_D2_V2', min_nodes=1, max_nodes=4)\n",
        "    compute_target = ComputeTarget.create(ws, cluster_name, compute_config)\n",
        "\n",
        "compute_target.wait_for_completion(show_output=True)"
      ],
      "outputs": [
        {
          "output_type": "stream",
          "name": "stdout",
          "text": [
            "Succeeded\n",
            "AmlCompute wait for completion finished\n",
            "\n",
            "Minimum number of nodes requested have been provisioned\n"
          ]
        }
      ],
      "execution_count": 3,
      "metadata": {
        "gather": {
          "logged": 1612321941254
        }
      }
    },
    {
      "cell_type": "code",
      "source": [
        "#import dataset\n",
        "from azureml.data.dataset_factory import TabularDatasetFactory\n",
        "Data_URL= \"https://github.com/jfcarmonag/Capstone_AZMLND/raw/master/starter_file/BankChurners.csv\"\n",
        "ds=TabularDatasetFactory.from_delimited_files(path=Data_URL)\n",
        "# choose a name for experiment\n",
        "experiment_name = 'exp-capstone'\n",
        "experiment=Experiment(ws, experiment_name)"
      ],
      "outputs": [],
      "execution_count": 4,
      "metadata": {
        "gather": {
          "logged": 1612321948690
        },
        "jupyter": {
          "outputs_hidden": false,
          "source_hidden": false
        },
        "nteract": {
          "transient": {
            "deleting": false
          }
        }
      }
    },
    {
      "cell_type": "code",
      "source": [
        "import pandas as pd\n",
        "from train import clean_data\n",
        "from azureml.train.automl import AutoMLConfig\n",
        "\n",
        "# Use the clean_data function to clean your data.\n",
        "x, y = clean_data(ds)\n",
        "complete_data = pd.concat([x, y], axis=1)\n",
        "\n",
        "complete_data"
      ],
      "outputs": [
        {
          "output_type": "execute_result",
          "execution_count": 5,
          "data": {
            "text/plain": "       Customer_Age  Gender_M  Gender_F  Dependent_count  Education_Level  \\\n0                45         1         0                3                1   \n1                49         0         1                5                3   \n2                51         1         0                3                3   \n3                40         0         1                4                1   \n4                40         1         0                3                0   \n...             ...       ...       ...              ...              ...   \n10122            50         1         0                2                3   \n10123            41         1         0                2                0   \n10124            44         0         1                1                1   \n10125            30         1         0                2                3   \n10126            43         0         1                2                3   \n\n       Married  Unknown  Divorced  Single  Income_Category  ...  \\\n0            1        0         0       0                3  ...   \n1            0        0         0       1                1  ...   \n2            1        0         0       0                4  ...   \n3            0        1         0       0                1  ...   \n4            1        0         0       0                3  ...   \n...        ...      ...       ...     ...              ...  ...   \n10122        0        0         0       1                2  ...   \n10123        0        0         1       0                2  ...   \n10124        1        0         0       0                1  ...   \n10125        0        1         0       0                2  ...   \n10126        1        0         0       0                1  ...   \n\n       Contacts_Count_12_mon  Credit_Limit  Total_Revolving_Bal  \\\n0                          3       12691.0                  777   \n1                          2        8256.0                  864   \n2                          0        3418.0                    0   \n3                          1        3313.0                 2517   \n4                          0        4716.0                    0   \n...                      ...           ...                  ...   \n10122                      3        4003.0                 1851   \n10123                      3        4277.0                 2186   \n10124                      4        5409.0                    0   \n10125                      3        5281.0                    0   \n10126                      4       10388.0                 1961   \n\n       Avg_Open_To_Buy  Total_Amt_Chng_Q4_Q1  Total_Trans_Amt  Total_Trans_Ct  \\\n0              11914.0                 1.335             1144              42   \n1               7392.0                 1.541             1291              33   \n2               3418.0                 2.594             1887              20   \n3                796.0                 1.405             1171              20   \n4               4716.0                 2.175              816              28   \n...                ...                   ...              ...             ...   \n10122           2152.0                 0.703            15476             117   \n10123           2091.0                 0.804             8764              69   \n10124           5409.0                 0.819            10291              60   \n10125           5281.0                 0.535             8395              62   \n10126           8427.0                 0.703            10294              61   \n\n       Total_Ct_Chng_Q4_Q1  Avg_Utilization_Ratio  Attrition_Flag  \n0                    1.625                  0.061               0  \n1                    3.714                  0.105               0  \n2                    2.333                  0.000               0  \n3                    2.333                  0.760               0  \n4                    2.500                  0.000               0  \n...                    ...                    ...             ...  \n10122                0.857                  0.462               0  \n10123                0.683                  0.511               1  \n10124                0.818                  0.000               1  \n10125                0.722                  0.000               1  \n10126                0.649                  0.189               1  \n\n[10127 rows x 24 columns]",
            "text/html": "<div>\n<style scoped>\n    .dataframe tbody tr th:only-of-type {\n        vertical-align: middle;\n    }\n\n    .dataframe tbody tr th {\n        vertical-align: top;\n    }\n\n    .dataframe thead th {\n        text-align: right;\n    }\n</style>\n<table border=\"1\" class=\"dataframe\">\n  <thead>\n    <tr style=\"text-align: right;\">\n      <th></th>\n      <th>Customer_Age</th>\n      <th>Gender_M</th>\n      <th>Gender_F</th>\n      <th>Dependent_count</th>\n      <th>Education_Level</th>\n      <th>Married</th>\n      <th>Unknown</th>\n      <th>Divorced</th>\n      <th>Single</th>\n      <th>Income_Category</th>\n      <th>...</th>\n      <th>Contacts_Count_12_mon</th>\n      <th>Credit_Limit</th>\n      <th>Total_Revolving_Bal</th>\n      <th>Avg_Open_To_Buy</th>\n      <th>Total_Amt_Chng_Q4_Q1</th>\n      <th>Total_Trans_Amt</th>\n      <th>Total_Trans_Ct</th>\n      <th>Total_Ct_Chng_Q4_Q1</th>\n      <th>Avg_Utilization_Ratio</th>\n      <th>Attrition_Flag</th>\n    </tr>\n  </thead>\n  <tbody>\n    <tr>\n      <th>0</th>\n      <td>45</td>\n      <td>1</td>\n      <td>0</td>\n      <td>3</td>\n      <td>1</td>\n      <td>1</td>\n      <td>0</td>\n      <td>0</td>\n      <td>0</td>\n      <td>3</td>\n      <td>...</td>\n      <td>3</td>\n      <td>12691.0</td>\n      <td>777</td>\n      <td>11914.0</td>\n      <td>1.335</td>\n      <td>1144</td>\n      <td>42</td>\n      <td>1.625</td>\n      <td>0.061</td>\n      <td>0</td>\n    </tr>\n    <tr>\n      <th>1</th>\n      <td>49</td>\n      <td>0</td>\n      <td>1</td>\n      <td>5</td>\n      <td>3</td>\n      <td>0</td>\n      <td>0</td>\n      <td>0</td>\n      <td>1</td>\n      <td>1</td>\n      <td>...</td>\n      <td>2</td>\n      <td>8256.0</td>\n      <td>864</td>\n      <td>7392.0</td>\n      <td>1.541</td>\n      <td>1291</td>\n      <td>33</td>\n      <td>3.714</td>\n      <td>0.105</td>\n      <td>0</td>\n    </tr>\n    <tr>\n      <th>2</th>\n      <td>51</td>\n      <td>1</td>\n      <td>0</td>\n      <td>3</td>\n      <td>3</td>\n      <td>1</td>\n      <td>0</td>\n      <td>0</td>\n      <td>0</td>\n      <td>4</td>\n      <td>...</td>\n      <td>0</td>\n      <td>3418.0</td>\n      <td>0</td>\n      <td>3418.0</td>\n      <td>2.594</td>\n      <td>1887</td>\n      <td>20</td>\n      <td>2.333</td>\n      <td>0.000</td>\n      <td>0</td>\n    </tr>\n    <tr>\n      <th>3</th>\n      <td>40</td>\n      <td>0</td>\n      <td>1</td>\n      <td>4</td>\n      <td>1</td>\n      <td>0</td>\n      <td>1</td>\n      <td>0</td>\n      <td>0</td>\n      <td>1</td>\n      <td>...</td>\n      <td>1</td>\n      <td>3313.0</td>\n      <td>2517</td>\n      <td>796.0</td>\n      <td>1.405</td>\n      <td>1171</td>\n      <td>20</td>\n      <td>2.333</td>\n      <td>0.760</td>\n      <td>0</td>\n    </tr>\n    <tr>\n      <th>4</th>\n      <td>40</td>\n      <td>1</td>\n      <td>0</td>\n      <td>3</td>\n      <td>0</td>\n      <td>1</td>\n      <td>0</td>\n      <td>0</td>\n      <td>0</td>\n      <td>3</td>\n      <td>...</td>\n      <td>0</td>\n      <td>4716.0</td>\n      <td>0</td>\n      <td>4716.0</td>\n      <td>2.175</td>\n      <td>816</td>\n      <td>28</td>\n      <td>2.500</td>\n      <td>0.000</td>\n      <td>0</td>\n    </tr>\n    <tr>\n      <th>...</th>\n      <td>...</td>\n      <td>...</td>\n      <td>...</td>\n      <td>...</td>\n      <td>...</td>\n      <td>...</td>\n      <td>...</td>\n      <td>...</td>\n      <td>...</td>\n      <td>...</td>\n      <td>...</td>\n      <td>...</td>\n      <td>...</td>\n      <td>...</td>\n      <td>...</td>\n      <td>...</td>\n      <td>...</td>\n      <td>...</td>\n      <td>...</td>\n      <td>...</td>\n      <td>...</td>\n    </tr>\n    <tr>\n      <th>10122</th>\n      <td>50</td>\n      <td>1</td>\n      <td>0</td>\n      <td>2</td>\n      <td>3</td>\n      <td>0</td>\n      <td>0</td>\n      <td>0</td>\n      <td>1</td>\n      <td>2</td>\n      <td>...</td>\n      <td>3</td>\n      <td>4003.0</td>\n      <td>1851</td>\n      <td>2152.0</td>\n      <td>0.703</td>\n      <td>15476</td>\n      <td>117</td>\n      <td>0.857</td>\n      <td>0.462</td>\n      <td>0</td>\n    </tr>\n    <tr>\n      <th>10123</th>\n      <td>41</td>\n      <td>1</td>\n      <td>0</td>\n      <td>2</td>\n      <td>0</td>\n      <td>0</td>\n      <td>0</td>\n      <td>1</td>\n      <td>0</td>\n      <td>2</td>\n      <td>...</td>\n      <td>3</td>\n      <td>4277.0</td>\n      <td>2186</td>\n      <td>2091.0</td>\n      <td>0.804</td>\n      <td>8764</td>\n      <td>69</td>\n      <td>0.683</td>\n      <td>0.511</td>\n      <td>1</td>\n    </tr>\n    <tr>\n      <th>10124</th>\n      <td>44</td>\n      <td>0</td>\n      <td>1</td>\n      <td>1</td>\n      <td>1</td>\n      <td>1</td>\n      <td>0</td>\n      <td>0</td>\n      <td>0</td>\n      <td>1</td>\n      <td>...</td>\n      <td>4</td>\n      <td>5409.0</td>\n      <td>0</td>\n      <td>5409.0</td>\n      <td>0.819</td>\n      <td>10291</td>\n      <td>60</td>\n      <td>0.818</td>\n      <td>0.000</td>\n      <td>1</td>\n    </tr>\n    <tr>\n      <th>10125</th>\n      <td>30</td>\n      <td>1</td>\n      <td>0</td>\n      <td>2</td>\n      <td>3</td>\n      <td>0</td>\n      <td>1</td>\n      <td>0</td>\n      <td>0</td>\n      <td>2</td>\n      <td>...</td>\n      <td>3</td>\n      <td>5281.0</td>\n      <td>0</td>\n      <td>5281.0</td>\n      <td>0.535</td>\n      <td>8395</td>\n      <td>62</td>\n      <td>0.722</td>\n      <td>0.000</td>\n      <td>1</td>\n    </tr>\n    <tr>\n      <th>10126</th>\n      <td>43</td>\n      <td>0</td>\n      <td>1</td>\n      <td>2</td>\n      <td>3</td>\n      <td>1</td>\n      <td>0</td>\n      <td>0</td>\n      <td>0</td>\n      <td>1</td>\n      <td>...</td>\n      <td>4</td>\n      <td>10388.0</td>\n      <td>1961</td>\n      <td>8427.0</td>\n      <td>0.703</td>\n      <td>10294</td>\n      <td>61</td>\n      <td>0.649</td>\n      <td>0.189</td>\n      <td>1</td>\n    </tr>\n  </tbody>\n</table>\n<p>10127 rows × 24 columns</p>\n</div>"
          },
          "metadata": {}
        }
      ],
      "execution_count": 5,
      "metadata": {
        "collapsed": true,
        "gather": {
          "logged": 1612321950409
        },
        "jupyter": {
          "outputs_hidden": false,
          "source_hidden": false
        },
        "nteract": {
          "transient": {
            "deleting": false
          }
        }
      }
    },
    {
      "cell_type": "code",
      "source": [
        "len(list(complete_data.iloc[[1]]))"
      ],
      "outputs": [
        {
          "output_type": "execute_result",
          "execution_count": 85,
          "data": {
            "text/plain": "24"
          },
          "metadata": {}
        }
      ],
      "execution_count": 85,
      "metadata": {
        "collapsed": true,
        "jupyter": {
          "source_hidden": false,
          "outputs_hidden": false
        },
        "nteract": {
          "transient": {
            "deleting": false
          }
        },
        "gather": {
          "logged": 1612331367014
        }
      }
    },
    {
      "cell_type": "markdown",
      "source": [
        "## AutoML Configuration\n",
        "\n",
        "TODO: Explain why you chose the automl settings and cofiguration you used below.\n",
        "\n",
        "- Since the dataset is unbalanced (HOW), F1-score is appropriate given that it takes into account both precision and recall."
      ],
      "metadata": {}
    },
    {
      "cell_type": "code",
      "source": [
        "# azureml-core of version 1.0.72 or higher is required\n",
        "# azureml-dataprep[pandas] of version 1.1.34 or higher is required\n",
        "\n",
        "from azureml.core import Workspace, Dataset\n",
        "local_path = 'data/prepared.csv'\n",
        "complete_data.to_csv(local_path, index=False)\n",
        "\n",
        "# get the datastore to upload prepared data\n",
        "datastore = ws.get_default_datastore()\n",
        "\n",
        "# upload the local file from src_dir to the target_path in datastore\n",
        "datastore.upload(src_dir='data', target_path='data')\n",
        "\n",
        "# create a dataset referencing the cloud location\n",
        "dataset = Dataset.Tabular.from_delimited_files(path = [(datastore, ('data/prepared.csv'))])"
      ],
      "outputs": [
        {
          "output_type": "stream",
          "name": "stdout",
          "text": [
            "Uploading an estimated of 1 files\n",
            "Target already exists. Skipping upload for data/prepared.csv\n",
            "Uploaded 0 files\n"
          ]
        }
      ],
      "execution_count": 88,
      "metadata": {
        "collapsed": true,
        "gather": {
          "logged": 1612321952043
        },
        "jupyter": {
          "outputs_hidden": false,
          "source_hidden": false
        },
        "nteract": {
          "transient": {
            "deleting": false
          }
        }
      }
    },
    {
      "cell_type": "code",
      "source": [
        "import pandas as pd\n",
        "from train import clean_data\n",
        "from azureml.train.automl import AutoMLConfig\n",
        "\n",
        "# automl settings\n",
        "automl_settings = {\n",
        "       \"n_cross_validations\": 3,\n",
        "       \"primary_metric\": 'accuracy',\n",
        "       \"enable_early_stopping\": True,\n",
        "       \"experiment_timeout_hours\": 1.0,\n",
        "       \"max_concurrent_iterations\": 4,\n",
        "       \"max_cores_per_iteration\": -1,\n",
        "       #\"verbosity\": logging.INFO,\n",
        "   }\n",
        "\n",
        "# automl configuration\n",
        "automl_config = AutoMLConfig(task = 'classification',\n",
        "                               compute_target = compute_target,\n",
        "                               training_data = dataset,\n",
        "                               label_column_name = \"Attrition_Flag\",\n",
        "                               **automl_settings\n",
        "                               )"
      ],
      "outputs": [],
      "execution_count": 7,
      "metadata": {
        "gather": {
          "logged": 1612321952166
        },
        "jupyter": {
          "outputs_hidden": false,
          "source_hidden": false
        },
        "nteract": {
          "transient": {
            "deleting": false
          }
        }
      }
    },
    {
      "cell_type": "code",
      "source": [
        "# TODO: Submit your experiment\n",
        "remote_run = experiment.submit(automl_config, show_output=\"True\")"
      ],
      "outputs": [
        {
          "output_type": "stream",
          "name": "stdout",
          "text": [
            "Running on remote.\n",
            "No run_configuration provided, running on project-cluster with default configuration\n",
            "Running on remote compute: project-cluster\n",
            "Parent Run ID: AutoML_0fdbdd47-d7a0-46cb-8179-fbb94af9c3a4\n",
            "\n",
            "Current status: FeaturesGeneration. Generating features for the dataset.\n",
            "Current status: DatasetFeaturization. Beginning to fit featurizers and featurize the dataset.\n",
            "Current status: DatasetBalancing. Performing class balancing sweeping\n",
            "Current status: DatasetCrossValidationSplit. Generating individually featurized CV splits.\n",
            "Current status: ModelSelection. Beginning model selection.\n",
            "\n",
            "****************************************************************************************************\n",
            "DATA GUARDRAILS: \n",
            "\n",
            "TYPE:         Class balancing detection\n",
            "STATUS:       ALERTED\n",
            "DESCRIPTION:  To decrease model bias, please cancel the current run and fix balancing problem.\n",
            "              Learn more about imbalanced data: https://aka.ms/AutomatedMLImbalancedData\n",
            "DETAILS:      Imbalanced data can lead to a falsely perceived positive effect of a model's accuracy because the input data has bias towards one class.\n",
            "+---------------------------------+---------------------------------+--------------------------------------+\n",
            "|Size of the smallest class       |Name/Label of the smallest class |Number of samples in the training data|\n",
            "+=================================+=================================+======================================+\n",
            "|1627                             |1                                |10127                                 |\n",
            "+---------------------------------+---------------------------------+--------------------------------------+\n",
            "\n",
            "****************************************************************************************************\n",
            "\n",
            "TYPE:         Missing feature values imputation\n",
            "STATUS:       PASSED\n",
            "DESCRIPTION:  No feature missing values were detected in the training data.\n",
            "              Learn more about missing value imputation: https://aka.ms/AutomatedMLFeaturization\n",
            "\n",
            "****************************************************************************************************\n",
            "\n",
            "TYPE:         High cardinality feature detection\n",
            "STATUS:       PASSED\n",
            "DESCRIPTION:  Your inputs were analyzed, and no high cardinality features were detected.\n",
            "              Learn more about high cardinality feature handling: https://aka.ms/AutomatedMLFeaturization\n",
            "\n",
            "****************************************************************************************************\n",
            "\n",
            "****************************************************************************************************\n",
            "ITERATION: The iteration being evaluated.\n",
            "PIPELINE: A summary description of the pipeline being evaluated.\n",
            "DURATION: Time taken for the current iteration.\n",
            "METRIC: The result of computing score on the fitted pipeline.\n",
            "BEST: The best observed score thus far.\n",
            "****************************************************************************************************\n",
            "\n",
            " ITERATION   PIPELINE                                       DURATION      METRIC      BEST\n",
            "         2   MaxAbsScaler RandomForest                      0:00:57       0.8975    0.8975\n",
            "         3   MaxAbsScaler RandomForest                      0:01:08       0.8708    0.8975\n",
            "         1   MaxAbsScaler XGBoostClassifier                 0:00:57       0.9849    0.9849\n",
            "         0   MaxAbsScaler LightGBM                          0:00:52       0.9871    0.9871\n",
            "         7   SparseNormalizer XGBoostClassifier             0:00:51       0.9605    0.9871\n",
            "         8   MaxAbsScaler LogisticRegression                0:00:55       0.9559    0.9871\n",
            "         5   MaxAbsScaler RandomForest                      0:03:30       0.8304    0.9871\n",
            "         4   MaxAbsScaler RandomForest                      0:03:30       0.9166    0.9871\n",
            "         6   SparseNormalizer XGBoostClassifier             0:03:33       0.9695    0.9871\n",
            "         9   MaxAbsScaler RandomForest                      0:00:59       0.8825    0.9871\n",
            "        10   StandardScalerWrapper RandomForest             0:00:50       0.9334    0.9871\n",
            "        11   MaxAbsScaler GradientBoosting                  0:01:02       0.9460    0.9871\n",
            "        12   SparseNormalizer XGBoostClassifier             0:00:55       0.9017    0.9871\n",
            "        13   SparseNormalizer LightGBM                      0:00:48       0.9133    0.9871\n",
            "        14   MaxAbsScaler LightGBM                          0:00:52       0.9229    0.9871\n",
            "        15   SparseNormalizer XGBoostClassifier             0:00:55       0.9407    0.9871\n",
            "        16   SparseNormalizer LightGBM                      0:00:52       0.8726    0.9871\n",
            "        18   SparseNormalizer XGBoostClassifier             0:00:53       0.9566    0.9871\n",
            "        19   SparseNormalizer XGBoostClassifier             0:01:00       0.9725    0.9871\n",
            "        20   SparseNormalizer XGBoostClassifier             0:00:57       0.9724    0.9871\n",
            "        17   SparseNormalizer XGBoostClassifier             0:01:55       0.9612    0.9871\n",
            "        21   MaxAbsScaler LogisticRegression                0:00:49       0.9546    0.9871\n",
            "        22   StandardScalerWrapper XGBoostClassifier        0:00:44       0.9737    0.9871\n",
            "        23   MaxAbsScaler LogisticRegression                0:00:48       0.9567    0.9871\n",
            "        24   SparseNormalizer XGBoostClassifier             0:00:52       0.9025    0.9871\n",
            "        25   MaxAbsScaler LightGBM                          0:00:55       0.8393    0.9871\n",
            "        26   StandardScalerWrapper LogisticRegression       0:00:55       0.9550    0.9871\n",
            "        27   SparseNormalizer XGBoostClassifier             0:00:58       0.9706    0.9871\n",
            "        28   SparseNormalizer XGBoostClassifier             0:01:00       0.9652    0.9871\n",
            "        30   SparseNormalizer LightGBM                      0:00:51       0.9661    0.9871\n",
            "        31   SparseNormalizer XGBoostClassifier             0:00:50       0.9636    0.9871\n",
            "        32   SparseNormalizer XGBoostClassifier             0:00:54       0.9634    0.9871\n",
            "        29   SparseNormalizer XGBoostClassifier             0:01:36       0.9732    0.9871\n",
            "        33   SparseNormalizer XGBoostClassifier             0:00:24          nan    0.9871\n",
            "        34                                                  0:00:17          nan    0.9871\n",
            "        35                                                  0:00:18          nan    0.9871\n",
            "        36    VotingEnsemble                                0:01:28       0.9882    0.9882\n",
            "        37    StackEnsemble                                 0:01:29       0.9877    0.9882\n"
          ]
        }
      ],
      "execution_count": 8,
      "metadata": {
        "gather": {
          "logged": 1612323345617
        },
        "jupyter": {
          "outputs_hidden": false,
          "source_hidden": false
        },
        "nteract": {
          "transient": {
            "deleting": false
          }
        }
      }
    },
    {
      "cell_type": "markdown",
      "source": [
        "## Run Details\n",
        "\n",
        "OPTIONAL: Write about the different models trained and their performance. Why do you think some models did better than others?\n",
        "\n",
        "TODO: In the cell below, use the `RunDetails` widget to show the different experiments."
      ],
      "metadata": {}
    },
    {
      "cell_type": "code",
      "source": [
        "from azureml.widgets import RunDetails\n",
        "RunDetails(remote_run).show()\n",
        "remote_run.wait_for_completion(show_output=True)"
      ],
      "outputs": [
        {
          "output_type": "display_data",
          "data": {
            "text/plain": "_AutoMLWidget(widget_settings={'childWidgetDisplay': 'popup', 'send_telemetry': False, 'log_level': 'INFO', 's…",
            "application/vnd.jupyter.widget-view+json": {
              "version_major": 2,
              "version_minor": 0,
              "model_id": "65dc11d7e6ea4cbf8ab4d79bc4184bbe"
            }
          },
          "metadata": {}
        },
        {
          "output_type": "display_data",
          "data": {
            "application/aml.mini.widget.v1": "{\"status\": \"Completed\", \"workbench_run_details_uri\": \"https://ml.azure.com/experiments/exp-capstone/runs/AutoML_0fdbdd47-d7a0-46cb-8179-fbb94af9c3a4?wsid=/subscriptions/6b4af8be-9931-443e-90f6-c4c34a1f9737/resourcegroups/aml-quickstarts-137041/workspaces/quick-starts-ws-137041\", \"run_id\": \"AutoML_0fdbdd47-d7a0-46cb-8179-fbb94af9c3a4\", \"run_properties\": {\"run_id\": \"AutoML_0fdbdd47-d7a0-46cb-8179-fbb94af9c3a4\", \"created_utc\": \"2021-02-03T03:12:34.084883Z\", \"properties\": {\"num_iterations\": \"1000\", \"training_type\": \"TrainFull\", \"acquisition_function\": \"EI\", \"primary_metric\": \"accuracy\", \"train_split\": \"0\", \"acquisition_parameter\": \"0\", \"num_cross_validation\": \"3\", \"target\": \"project-cluster\", \"AMLSettingsJsonString\": \"{\\\"path\\\":null,\\\"name\\\":\\\"exp-capstone\\\",\\\"subscription_id\\\":\\\"6b4af8be-9931-443e-90f6-c4c34a1f9737\\\",\\\"resource_group\\\":\\\"aml-quickstarts-137041\\\",\\\"workspace_name\\\":\\\"quick-starts-ws-137041\\\",\\\"region\\\":\\\"southcentralus\\\",\\\"compute_target\\\":\\\"project-cluster\\\",\\\"spark_service\\\":null,\\\"azure_service\\\":\\\"remote\\\",\\\"many_models\\\":false,\\\"pipeline_fetch_max_batch_size\\\":1,\\\"iterations\\\":1000,\\\"primary_metric\\\":\\\"accuracy\\\",\\\"task_type\\\":\\\"classification\\\",\\\"data_script\\\":null,\\\"validation_size\\\":0.0,\\\"n_cross_validations\\\":3,\\\"y_min\\\":null,\\\"y_max\\\":null,\\\"num_classes\\\":null,\\\"featurization\\\":\\\"auto\\\",\\\"_ignore_package_version_incompatibilities\\\":false,\\\"is_timeseries\\\":false,\\\"max_cores_per_iteration\\\":-1,\\\"max_concurrent_iterations\\\":4,\\\"iteration_timeout_minutes\\\":null,\\\"mem_in_mb\\\":null,\\\"enforce_time_on_windows\\\":false,\\\"experiment_timeout_minutes\\\":60,\\\"experiment_exit_score\\\":null,\\\"whitelist_models\\\":null,\\\"blacklist_algos\\\":[\\\"TensorFlowLinearClassifier\\\",\\\"TensorFlowDNN\\\"],\\\"supported_models\\\":[\\\"LogisticRegression\\\",\\\"TensorFlowLinearClassifier\\\",\\\"LinearSVM\\\",\\\"DecisionTree\\\",\\\"SGD\\\",\\\"BernoulliNaiveBayes\\\",\\\"LightGBM\\\",\\\"SVM\\\",\\\"GradientBoosting\\\",\\\"AveragedPerceptronClassifier\\\",\\\"MultinomialNaiveBayes\\\",\\\"ExtremeRandomTrees\\\",\\\"RandomForest\\\",\\\"XGBoostClassifier\\\",\\\"KNN\\\",\\\"TensorFlowDNN\\\"],\\\"auto_blacklist\\\":true,\\\"blacklist_samples_reached\\\":false,\\\"exclude_nan_labels\\\":true,\\\"verbosity\\\":20,\\\"_debug_log\\\":\\\"azureml_automl.log\\\",\\\"show_warnings\\\":false,\\\"model_explainability\\\":true,\\\"service_url\\\":null,\\\"sdk_url\\\":null,\\\"sdk_packages\\\":null,\\\"enable_onnx_compatible_models\\\":false,\\\"enable_split_onnx_featurizer_estimator_models\\\":false,\\\"vm_type\\\":\\\"STANDARD_D2_V2\\\",\\\"telemetry_verbosity\\\":20,\\\"send_telemetry\\\":true,\\\"enable_dnn\\\":false,\\\"scenario\\\":\\\"SDK-1.13.0\\\",\\\"environment_label\\\":null,\\\"force_text_dnn\\\":false,\\\"enable_feature_sweeping\\\":true,\\\"enable_early_stopping\\\":true,\\\"early_stopping_n_iters\\\":10,\\\"metrics\\\":null,\\\"enable_ensembling\\\":true,\\\"enable_stack_ensembling\\\":true,\\\"ensemble_iterations\\\":15,\\\"enable_tf\\\":false,\\\"enable_subsampling\\\":null,\\\"subsample_seed\\\":null,\\\"enable_nimbusml\\\":false,\\\"enable_streaming\\\":false,\\\"force_streaming\\\":false,\\\"track_child_runs\\\":true,\\\"allowed_private_models\\\":[],\\\"label_column_name\\\":\\\"Attrition_Flag\\\",\\\"weight_column_name\\\":null,\\\"cv_split_column_names\\\":null,\\\"enable_local_managed\\\":false,\\\"_local_managed_run_id\\\":null,\\\"cost_mode\\\":1,\\\"lag_length\\\":0,\\\"metric_operation\\\":\\\"maximize\\\",\\\"preprocess\\\":true}\", \"DataPrepJsonString\": \"{\\\\\\\"training_data\\\\\\\": \\\\\\\"{\\\\\\\\\\\\\\\"blocks\\\\\\\\\\\\\\\": [{\\\\\\\\\\\\\\\"id\\\\\\\\\\\\\\\": \\\\\\\\\\\\\\\"36e55726-981f-46b4-970e-90965a23eb2b\\\\\\\\\\\\\\\", \\\\\\\\\\\\\\\"type\\\\\\\\\\\\\\\": \\\\\\\\\\\\\\\"Microsoft.DPrep.GetDatastoreFilesBlock\\\\\\\\\\\\\\\", \\\\\\\\\\\\\\\"arguments\\\\\\\\\\\\\\\": {\\\\\\\\\\\\\\\"datastores\\\\\\\\\\\\\\\": [{\\\\\\\\\\\\\\\"datastoreName\\\\\\\\\\\\\\\": \\\\\\\\\\\\\\\"workspaceblobstore\\\\\\\\\\\\\\\", \\\\\\\\\\\\\\\"path\\\\\\\\\\\\\\\": \\\\\\\\\\\\\\\"data/prepared.csv\\\\\\\\\\\\\\\", \\\\\\\\\\\\\\\"resourceGroup\\\\\\\\\\\\\\\": \\\\\\\\\\\\\\\"aml-quickstarts-137041\\\\\\\\\\\\\\\", \\\\\\\\\\\\\\\"subscription\\\\\\\\\\\\\\\": \\\\\\\\\\\\\\\"6b4af8be-9931-443e-90f6-c4c34a1f9737\\\\\\\\\\\\\\\", \\\\\\\\\\\\\\\"workspaceName\\\\\\\\\\\\\\\": \\\\\\\\\\\\\\\"quick-starts-ws-137041\\\\\\\\\\\\\\\"}]}, \\\\\\\\\\\\\\\"localData\\\\\\\\\\\\\\\": {}, \\\\\\\\\\\\\\\"isEnabled\\\\\\\\\\\\\\\": true, \\\\\\\\\\\\\\\"name\\\\\\\\\\\\\\\": null, \\\\\\\\\\\\\\\"annotation\\\\\\\\\\\\\\\": null}, {\\\\\\\\\\\\\\\"id\\\\\\\\\\\\\\\": \\\\\\\\\\\\\\\"05c47b97-9a9c-41ba-8828-462e56a8cf21\\\\\\\\\\\\\\\", \\\\\\\\\\\\\\\"type\\\\\\\\\\\\\\\": \\\\\\\\\\\\\\\"Microsoft.DPrep.ParseDelimitedBlock\\\\\\\\\\\\\\\", \\\\\\\\\\\\\\\"arguments\\\\\\\\\\\\\\\": {\\\\\\\\\\\\\\\"columnHeadersMode\\\\\\\\\\\\\\\": 3, \\\\\\\\\\\\\\\"fileEncoding\\\\\\\\\\\\\\\": 0, \\\\\\\\\\\\\\\"handleQuotedLineBreaks\\\\\\\\\\\\\\\": false, \\\\\\\\\\\\\\\"preview\\\\\\\\\\\\\\\": false, \\\\\\\\\\\\\\\"separator\\\\\\\\\\\\\\\": \\\\\\\\\\\\\\\",\\\\\\\\\\\\\\\", \\\\\\\\\\\\\\\"skipRows\\\\\\\\\\\\\\\": 0, \\\\\\\\\\\\\\\"skipRowsMode\\\\\\\\\\\\\\\": 0}, \\\\\\\\\\\\\\\"localData\\\\\\\\\\\\\\\": {}, \\\\\\\\\\\\\\\"isEnabled\\\\\\\\\\\\\\\": true, \\\\\\\\\\\\\\\"name\\\\\\\\\\\\\\\": null, \\\\\\\\\\\\\\\"annotation\\\\\\\\\\\\\\\": null}, {\\\\\\\\\\\\\\\"id\\\\\\\\\\\\\\\": \\\\\\\\\\\\\\\"5b14c30c-de2b-43f5-8a5b-a5a22b0794a1\\\\\\\\\\\\\\\", \\\\\\\\\\\\\\\"type\\\\\\\\\\\\\\\": \\\\\\\\\\\\\\\"Microsoft.DPrep.DropColumnsBlock\\\\\\\\\\\\\\\", \\\\\\\\\\\\\\\"arguments\\\\\\\\\\\\\\\": {\\\\\\\\\\\\\\\"columns\\\\\\\\\\\\\\\": {\\\\\\\\\\\\\\\"type\\\\\\\\\\\\\\\": 0, \\\\\\\\\\\\\\\"details\\\\\\\\\\\\\\\": {\\\\\\\\\\\\\\\"selectedColumns\\\\\\\\\\\\\\\": [\\\\\\\\\\\\\\\"Path\\\\\\\\\\\\\\\"]}}}, \\\\\\\\\\\\\\\"localData\\\\\\\\\\\\\\\": {}, \\\\\\\\\\\\\\\"isEnabled\\\\\\\\\\\\\\\": true, \\\\\\\\\\\\\\\"name\\\\\\\\\\\\\\\": null, \\\\\\\\\\\\\\\"annotation\\\\\\\\\\\\\\\": null}, {\\\\\\\\\\\\\\\"id\\\\\\\\\\\\\\\": \\\\\\\\\\\\\\\"26facdb1-b410-421b-af9b-b16723017839\\\\\\\\\\\\\\\", \\\\\\\\\\\\\\\"type\\\\\\\\\\\\\\\": \\\\\\\\\\\\\\\"Microsoft.DPrep.SetColumnTypesBlock\\\\\\\\\\\\\\\", \\\\\\\\\\\\\\\"arguments\\\\\\\\\\\\\\\": {\\\\\\\\\\\\\\\"columnConversion\\\\\\\\\\\\\\\": [{\\\\\\\\\\\\\\\"column\\\\\\\\\\\\\\\": {\\\\\\\\\\\\\\\"type\\\\\\\\\\\\\\\": 2, \\\\\\\\\\\\\\\"details\\\\\\\\\\\\\\\": {\\\\\\\\\\\\\\\"selectedColumn\\\\\\\\\\\\\\\": \\\\\\\\\\\\\\\"Column1\\\\\\\\\\\\\\\"}}, \\\\\\\\\\\\\\\"typeProperty\\\\\\\\\\\\\\\": 2}, {\\\\\\\\\\\\\\\"column\\\\\\\\\\\\\\\": {\\\\\\\\\\\\\\\"type\\\\\\\\\\\\\\\": 2, \\\\\\\\\\\\\\\"details\\\\\\\\\\\\\\\": {\\\\\\\\\\\\\\\"selectedColumn\\\\\\\\\\\\\\\": \\\\\\\\\\\\\\\"Customer_Age\\\\\\\\\\\\\\\"}}, \\\\\\\\\\\\\\\"typeProperty\\\\\\\\\\\\\\\": 2}, {\\\\\\\\\\\\\\\"column\\\\\\\\\\\\\\\": {\\\\\\\\\\\\\\\"type\\\\\\\\\\\\\\\": 2, \\\\\\\\\\\\\\\"details\\\\\\\\\\\\\\\": {\\\\\\\\\\\\\\\"selectedColumn\\\\\\\\\\\\\\\": \\\\\\\\\\\\\\\"Gender_M\\\\\\\\\\\\\\\"}}, \\\\\\\\\\\\\\\"typeProperty\\\\\\\\\\\\\\\": 2}, {\\\\\\\\\\\\\\\"column\\\\\\\\\\\\\\\": {\\\\\\\\\\\\\\\"type\\\\\\\\\\\\\\\": 2, \\\\\\\\\\\\\\\"details\\\\\\\\\\\\\\\": {\\\\\\\\\\\\\\\"selectedColumn\\\\\\\\\\\\\\\": \\\\\\\\\\\\\\\"Gender_F\\\\\\\\\\\\\\\"}}, \\\\\\\\\\\\\\\"typeProperty\\\\\\\\\\\\\\\": 2}, {\\\\\\\\\\\\\\\"column\\\\\\\\\\\\\\\": {\\\\\\\\\\\\\\\"type\\\\\\\\\\\\\\\": 2, \\\\\\\\\\\\\\\"details\\\\\\\\\\\\\\\": {\\\\\\\\\\\\\\\"selectedColumn\\\\\\\\\\\\\\\": \\\\\\\\\\\\\\\"Dependent_count\\\\\\\\\\\\\\\"}}, \\\\\\\\\\\\\\\"typeProperty\\\\\\\\\\\\\\\": 2}, {\\\\\\\\\\\\\\\"column\\\\\\\\\\\\\\\": {\\\\\\\\\\\\\\\"type\\\\\\\\\\\\\\\": 2, \\\\\\\\\\\\\\\"details\\\\\\\\\\\\\\\": {\\\\\\\\\\\\\\\"selectedColumn\\\\\\\\\\\\\\\": \\\\\\\\\\\\\\\"Education_Level\\\\\\\\\\\\\\\"}}, \\\\\\\\\\\\\\\"typeProperty\\\\\\\\\\\\\\\": 2}, {\\\\\\\\\\\\\\\"column\\\\\\\\\\\\\\\": {\\\\\\\\\\\\\\\"type\\\\\\\\\\\\\\\": 2, \\\\\\\\\\\\\\\"details\\\\\\\\\\\\\\\": {\\\\\\\\\\\\\\\"selectedColumn\\\\\\\\\\\\\\\": \\\\\\\\\\\\\\\"Married\\\\\\\\\\\\\\\"}}, \\\\\\\\\\\\\\\"typeProperty\\\\\\\\\\\\\\\": 2}, {\\\\\\\\\\\\\\\"column\\\\\\\\\\\\\\\": {\\\\\\\\\\\\\\\"type\\\\\\\\\\\\\\\": 2, \\\\\\\\\\\\\\\"details\\\\\\\\\\\\\\\": {\\\\\\\\\\\\\\\"selectedColumn\\\\\\\\\\\\\\\": \\\\\\\\\\\\\\\"Unknown\\\\\\\\\\\\\\\"}}, \\\\\\\\\\\\\\\"typeProperty\\\\\\\\\\\\\\\": 2}, {\\\\\\\\\\\\\\\"column\\\\\\\\\\\\\\\": {\\\\\\\\\\\\\\\"type\\\\\\\\\\\\\\\": 2, \\\\\\\\\\\\\\\"details\\\\\\\\\\\\\\\": {\\\\\\\\\\\\\\\"selectedColumn\\\\\\\\\\\\\\\": \\\\\\\\\\\\\\\"Divorced\\\\\\\\\\\\\\\"}}, \\\\\\\\\\\\\\\"typeProperty\\\\\\\\\\\\\\\": 2}, {\\\\\\\\\\\\\\\"column\\\\\\\\\\\\\\\": {\\\\\\\\\\\\\\\"type\\\\\\\\\\\\\\\": 2, \\\\\\\\\\\\\\\"details\\\\\\\\\\\\\\\": {\\\\\\\\\\\\\\\"selectedColumn\\\\\\\\\\\\\\\": \\\\\\\\\\\\\\\"Single\\\\\\\\\\\\\\\"}}, \\\\\\\\\\\\\\\"typeProperty\\\\\\\\\\\\\\\": 2}, {\\\\\\\\\\\\\\\"column\\\\\\\\\\\\\\\": {\\\\\\\\\\\\\\\"type\\\\\\\\\\\\\\\": 2, \\\\\\\\\\\\\\\"details\\\\\\\\\\\\\\\": {\\\\\\\\\\\\\\\"selectedColumn\\\\\\\\\\\\\\\": \\\\\\\\\\\\\\\"Income_Category\\\\\\\\\\\\\\\"}}, \\\\\\\\\\\\\\\"typeProperty\\\\\\\\\\\\\\\": 2}, {\\\\\\\\\\\\\\\"column\\\\\\\\\\\\\\\": {\\\\\\\\\\\\\\\"type\\\\\\\\\\\\\\\": 2, \\\\\\\\\\\\\\\"details\\\\\\\\\\\\\\\": {\\\\\\\\\\\\\\\"selectedColumn\\\\\\\\\\\\\\\": \\\\\\\\\\\\\\\"Card_Category\\\\\\\\\\\\\\\"}}, \\\\\\\\\\\\\\\"typeProperty\\\\\\\\\\\\\\\": 2}, {\\\\\\\\\\\\\\\"column\\\\\\\\\\\\\\\": {\\\\\\\\\\\\\\\"type\\\\\\\\\\\\\\\": 2, \\\\\\\\\\\\\\\"details\\\\\\\\\\\\\\\": {\\\\\\\\\\\\\\\"selectedColumn\\\\\\\\\\\\\\\": \\\\\\\\\\\\\\\"Months_on_book\\\\\\\\\\\\\\\"}}, \\\\\\\\\\\\\\\"typeProperty\\\\\\\\\\\\\\\": 2}, {\\\\\\\\\\\\\\\"column\\\\\\\\\\\\\\\": {\\\\\\\\\\\\\\\"type\\\\\\\\\\\\\\\": 2, \\\\\\\\\\\\\\\"details\\\\\\\\\\\\\\\": {\\\\\\\\\\\\\\\"selectedColumn\\\\\\\\\\\\\\\": \\\\\\\\\\\\\\\"Total_Relationship_Count\\\\\\\\\\\\\\\"}}, \\\\\\\\\\\\\\\"typeProperty\\\\\\\\\\\\\\\": 2}, {\\\\\\\\\\\\\\\"column\\\\\\\\\\\\\\\": {\\\\\\\\\\\\\\\"type\\\\\\\\\\\\\\\": 2, \\\\\\\\\\\\\\\"details\\\\\\\\\\\\\\\": {\\\\\\\\\\\\\\\"selectedColumn\\\\\\\\\\\\\\\": \\\\\\\\\\\\\\\"Months_Inactive_12_mon\\\\\\\\\\\\\\\"}}, \\\\\\\\\\\\\\\"typeProperty\\\\\\\\\\\\\\\": 2}, {\\\\\\\\\\\\\\\"column\\\\\\\\\\\\\\\": {\\\\\\\\\\\\\\\"type\\\\\\\\\\\\\\\": 2, \\\\\\\\\\\\\\\"details\\\\\\\\\\\\\\\": {\\\\\\\\\\\\\\\"selectedColumn\\\\\\\\\\\\\\\": \\\\\\\\\\\\\\\"Contacts_Count_12_mon\\\\\\\\\\\\\\\"}}, \\\\\\\\\\\\\\\"typeProperty\\\\\\\\\\\\\\\": 2}, {\\\\\\\\\\\\\\\"column\\\\\\\\\\\\\\\": {\\\\\\\\\\\\\\\"type\\\\\\\\\\\\\\\": 2, \\\\\\\\\\\\\\\"details\\\\\\\\\\\\\\\": {\\\\\\\\\\\\\\\"selectedColumn\\\\\\\\\\\\\\\": \\\\\\\\\\\\\\\"Credit_Limit\\\\\\\\\\\\\\\"}}, \\\\\\\\\\\\\\\"typeProperty\\\\\\\\\\\\\\\": 3}, {\\\\\\\\\\\\\\\"column\\\\\\\\\\\\\\\": {\\\\\\\\\\\\\\\"type\\\\\\\\\\\\\\\": 2, \\\\\\\\\\\\\\\"details\\\\\\\\\\\\\\\": {\\\\\\\\\\\\\\\"selectedColumn\\\\\\\\\\\\\\\": \\\\\\\\\\\\\\\"Total_Revolving_Bal\\\\\\\\\\\\\\\"}}, \\\\\\\\\\\\\\\"typeProperty\\\\\\\\\\\\\\\": 2}, {\\\\\\\\\\\\\\\"column\\\\\\\\\\\\\\\": {\\\\\\\\\\\\\\\"type\\\\\\\\\\\\\\\": 2, \\\\\\\\\\\\\\\"details\\\\\\\\\\\\\\\": {\\\\\\\\\\\\\\\"selectedColumn\\\\\\\\\\\\\\\": \\\\\\\\\\\\\\\"Avg_Open_To_Buy\\\\\\\\\\\\\\\"}}, \\\\\\\\\\\\\\\"typeProperty\\\\\\\\\\\\\\\": 3}, {\\\\\\\\\\\\\\\"column\\\\\\\\\\\\\\\": {\\\\\\\\\\\\\\\"type\\\\\\\\\\\\\\\": 2, \\\\\\\\\\\\\\\"details\\\\\\\\\\\\\\\": {\\\\\\\\\\\\\\\"selectedColumn\\\\\\\\\\\\\\\": \\\\\\\\\\\\\\\"Total_Amt_Chng_Q4_Q1\\\\\\\\\\\\\\\"}}, \\\\\\\\\\\\\\\"typeProperty\\\\\\\\\\\\\\\": 3}, {\\\\\\\\\\\\\\\"column\\\\\\\\\\\\\\\": {\\\\\\\\\\\\\\\"type\\\\\\\\\\\\\\\": 2, \\\\\\\\\\\\\\\"details\\\\\\\\\\\\\\\": {\\\\\\\\\\\\\\\"selectedColumn\\\\\\\\\\\\\\\": \\\\\\\\\\\\\\\"Total_Trans_Amt\\\\\\\\\\\\\\\"}}, \\\\\\\\\\\\\\\"typeProperty\\\\\\\\\\\\\\\": 2}, {\\\\\\\\\\\\\\\"column\\\\\\\\\\\\\\\": {\\\\\\\\\\\\\\\"type\\\\\\\\\\\\\\\": 2, \\\\\\\\\\\\\\\"details\\\\\\\\\\\\\\\": {\\\\\\\\\\\\\\\"selectedColumn\\\\\\\\\\\\\\\": \\\\\\\\\\\\\\\"Total_Trans_Ct\\\\\\\\\\\\\\\"}}, \\\\\\\\\\\\\\\"typeProperty\\\\\\\\\\\\\\\": 2}, {\\\\\\\\\\\\\\\"column\\\\\\\\\\\\\\\": {\\\\\\\\\\\\\\\"type\\\\\\\\\\\\\\\": 2, \\\\\\\\\\\\\\\"details\\\\\\\\\\\\\\\": {\\\\\\\\\\\\\\\"selectedColumn\\\\\\\\\\\\\\\": \\\\\\\\\\\\\\\"Total_Ct_Chng_Q4_Q1\\\\\\\\\\\\\\\"}}, \\\\\\\\\\\\\\\"typeProperty\\\\\\\\\\\\\\\": 3}, {\\\\\\\\\\\\\\\"column\\\\\\\\\\\\\\\": {\\\\\\\\\\\\\\\"type\\\\\\\\\\\\\\\": 2, \\\\\\\\\\\\\\\"details\\\\\\\\\\\\\\\": {\\\\\\\\\\\\\\\"selectedColumn\\\\\\\\\\\\\\\": \\\\\\\\\\\\\\\"Avg_Utilization_Ratio\\\\\\\\\\\\\\\"}}, \\\\\\\\\\\\\\\"typeProperty\\\\\\\\\\\\\\\": 3}, {\\\\\\\\\\\\\\\"column\\\\\\\\\\\\\\\": {\\\\\\\\\\\\\\\"type\\\\\\\\\\\\\\\": 2, \\\\\\\\\\\\\\\"details\\\\\\\\\\\\\\\": {\\\\\\\\\\\\\\\"selectedColumn\\\\\\\\\\\\\\\": \\\\\\\\\\\\\\\"Attrition_Flag\\\\\\\\\\\\\\\"}}, \\\\\\\\\\\\\\\"typeProperty\\\\\\\\\\\\\\\": 2}]}, \\\\\\\\\\\\\\\"localData\\\\\\\\\\\\\\\": {}, \\\\\\\\\\\\\\\"isEnabled\\\\\\\\\\\\\\\": true, \\\\\\\\\\\\\\\"name\\\\\\\\\\\\\\\": null, \\\\\\\\\\\\\\\"annotation\\\\\\\\\\\\\\\": null}], \\\\\\\\\\\\\\\"inspectors\\\\\\\\\\\\\\\": [], \\\\\\\\\\\\\\\"meta\\\\\\\\\\\\\\\": {\\\\\\\\\\\\\\\"savedDatasetId\\\\\\\\\\\\\\\": \\\\\\\\\\\\\\\"8d2e2451-25d6-40b5-8f4e-47aae38bf538\\\\\\\\\\\\\\\", \\\\\\\\\\\\\\\"datasetType\\\\\\\\\\\\\\\": \\\\\\\\\\\\\\\"tabular\\\\\\\\\\\\\\\", \\\\\\\\\\\\\\\"subscriptionId\\\\\\\\\\\\\\\": \\\\\\\\\\\\\\\"6b4af8be-9931-443e-90f6-c4c34a1f9737\\\\\\\\\\\\\\\", \\\\\\\\\\\\\\\"workspaceId\\\\\\\\\\\\\\\": \\\\\\\\\\\\\\\"4efbfa29-d836-4572-8448-b021d094e8a2\\\\\\\\\\\\\\\", \\\\\\\\\\\\\\\"workspaceLocation\\\\\\\\\\\\\\\": \\\\\\\\\\\\\\\"southcentralus\\\\\\\\\\\\\\\"}}\\\\\\\", \\\\\\\"activities\\\\\\\": 0}\", \"EnableSubsampling\": null, \"runTemplate\": \"AutoML\", \"azureml.runsource\": \"automl\", \"display_task_type\": \"classification\", \"dependencies_versions\": \"{\\\"azureml-widgets\\\": \\\"1.20.0\\\", \\\"azureml-train\\\": \\\"1.21.0\\\", \\\"azureml-train-restclients-hyperdrive\\\": \\\"1.21.0\\\", \\\"azureml-train-core\\\": \\\"1.21.0\\\", \\\"azureml-train-automl\\\": \\\"1.21.0\\\", \\\"azureml-train-automl-runtime\\\": \\\"1.21.0.post1\\\", \\\"azureml-train-automl-client\\\": \\\"1.21.0\\\", \\\"azureml-tensorboard\\\": \\\"1.20.0\\\", \\\"azureml-telemetry\\\": \\\"1.21.0\\\", \\\"azureml-sdk\\\": \\\"1.21.0\\\", \\\"azureml-samples\\\": \\\"0+unknown\\\", \\\"azureml-pipeline\\\": \\\"1.21.0\\\", \\\"azureml-pipeline-steps\\\": \\\"1.21.0\\\", \\\"azureml-pipeline-core\\\": \\\"1.21.0\\\", \\\"azureml-opendatasets\\\": \\\"1.20.0\\\", \\\"azureml-model-management-sdk\\\": \\\"1.0.1b6.post1\\\", \\\"azureml-mlflow\\\": \\\"1.20.0.post1\\\", \\\"azureml-interpret\\\": \\\"1.21.0\\\", \\\"azureml-explain-model\\\": \\\"1.20.0\\\", \\\"azureml-defaults\\\": \\\"1.21.0\\\", \\\"azureml-dataset-runtime\\\": \\\"1.21.0\\\", \\\"azureml-dataprep\\\": \\\"2.8.2\\\", \\\"azureml-dataprep-rslex\\\": \\\"1.6.0\\\", \\\"azureml-dataprep-native\\\": \\\"28.0.0\\\", \\\"azureml-datadrift\\\": \\\"1.20.0\\\", \\\"azureml-core\\\": \\\"1.21.0.post2\\\", \\\"azureml-contrib-services\\\": \\\"1.20.0\\\", \\\"azureml-contrib-server\\\": \\\"1.20.0\\\", \\\"azureml-contrib-reinforcementlearning\\\": \\\"1.20.0\\\", \\\"azureml-contrib-pipeline-steps\\\": \\\"1.20.0\\\", \\\"azureml-contrib-notebook\\\": \\\"1.20.0\\\", \\\"azureml-contrib-interpret\\\": \\\"1.20.0\\\", \\\"azureml-contrib-gbdt\\\": \\\"1.20.0\\\", \\\"azureml-contrib-fairness\\\": \\\"1.20.0\\\", \\\"azureml-contrib-dataset\\\": \\\"1.20.0\\\", \\\"azureml-cli-common\\\": \\\"1.20.0\\\", \\\"azureml-automl-runtime\\\": \\\"1.21.0\\\", \\\"azureml-automl-core\\\": \\\"1.21.0\\\", \\\"azureml-accel-models\\\": \\\"1.20.0\\\"}\", \"_aml_system_scenario_identification\": \"Remote.Parent\", \"ClientType\": \"SDK\", \"environment_cpu_name\": \"AzureML-AutoML\", \"environment_cpu_label\": \"prod\", \"environment_gpu_name\": \"AzureML-AutoML-GPU\", \"environment_gpu_label\": \"prod\", \"root_attribution\": \"automl\", \"attribution\": \"AutoML\", \"Orchestrator\": \"AutoML\", \"CancelUri\": \"https://southcentralus.experiments.azureml.net/jasmine/v1.0/subscriptions/6b4af8be-9931-443e-90f6-c4c34a1f9737/resourceGroups/aml-quickstarts-137041/providers/Microsoft.MachineLearningServices/workspaces/quick-starts-ws-137041/experimentids/9e02e400-f6f5-473f-affe-8f3ff32a3378/cancel/AutoML_0fdbdd47-d7a0-46cb-8179-fbb94af9c3a4\", \"ClientSdkVersion\": \"1.21.0\", \"snapshotId\": \"00000000-0000-0000-0000-000000000000\", \"SetupRunId\": \"AutoML_0fdbdd47-d7a0-46cb-8179-fbb94af9c3a4_setup\", \"SetupRunContainerId\": \"dcid.AutoML_0fdbdd47-d7a0-46cb-8179-fbb94af9c3a4_setup\", \"FeaturizationRunJsonPath\": \"featurizer_container.json\", \"FeaturizationRunId\": \"AutoML_0fdbdd47-d7a0-46cb-8179-fbb94af9c3a4_featurize\", \"ProblemInfoJsonString\": \"{\\\"dataset_num_categorical\\\": 0, \\\"is_sparse\\\": true, \\\"subsampling\\\": false, \\\"dataset_classes\\\": 2, \\\"dataset_features\\\": 154, \\\"dataset_samples\\\": 10127, \\\"single_frequency_class_detected\\\": false}\", \"ModelExplainRunId\": \"AutoML_0fdbdd47-d7a0-46cb-8179-fbb94af9c3a4_ModelExplain\"}, \"tags\": {\"model_explain_run\": \"best_run\", \"_aml_system_azureml.automlComponent\": \"AutoML\", \"pipeline_id\": \"\", \"score\": \"\", \"predicted_cost\": \"\", \"fit_time\": \"\", \"training_percent\": \"\", \"iteration\": \"\", \"run_preprocessor\": \"\", \"run_algorithm\": \"\", \"dynamic_whitelisting_iterations\": \"<25>;<30>;<35>;\", \"automl_best_child_run_id\": \"AutoML_0fdbdd47-d7a0-46cb-8179-fbb94af9c3a4_36\", \"model_explain_best_run_child_id\": \"AutoML_0fdbdd47-d7a0-46cb-8179-fbb94af9c3a4_36\"}, \"end_time_utc\": \"2021-02-03T03:35:39.989827Z\", \"status\": \"Completed\", \"log_files\": {}, \"log_groups\": [], \"run_duration\": \"0:23:05\"}, \"child_runs\": [{\"run_id\": \"AutoML_0fdbdd47-d7a0-46cb-8179-fbb94af9c3a4_2\", \"run_number\": 7, \"metric\": null, \"status\": \"Completed\", \"run_type\": \"azureml.scriptrun\", \"training_percent\": \"100\", \"start_time\": \"2021-02-03T03:19:02.790807Z\", \"end_time\": \"2021-02-03T03:20:00.15946Z\", \"created_time\": \"2021-02-03T03:18:51.851521Z\", \"created_time_dt\": \"2021-02-03T03:18:51.851521Z\", \"duration\": \"0:01:08\", \"iteration\": \"2\", \"goal\": \"accuracy_max\", \"run_name\": \"MaxAbsScaler, RandomForest\", \"run_properties\": \"copy=True\", \"primary_metric\": 0.89750082, \"best_metric\": 0.98706451}, {\"run_id\": \"AutoML_0fdbdd47-d7a0-46cb-8179-fbb94af9c3a4_1\", \"run_number\": 8, \"metric\": null, \"status\": \"Completed\", \"run_type\": \"azureml.scriptrun\", \"training_percent\": \"100\", \"start_time\": \"2021-02-03T03:21:20.209881Z\", \"end_time\": \"2021-02-03T03:22:17.171686Z\", \"created_time\": \"2021-02-03T03:18:51.858317Z\", \"created_time_dt\": \"2021-02-03T03:18:51.858317Z\", \"duration\": \"0:03:25\", \"iteration\": \"1\", \"goal\": \"accuracy_max\", \"run_name\": \"MaxAbsScaler, XGBoostClassifier\", \"run_properties\": \"copy=True\", \"primary_metric\": 0.98489199, \"best_metric\": 0.98706451}, {\"run_id\": \"AutoML_0fdbdd47-d7a0-46cb-8179-fbb94af9c3a4_3\", \"run_number\": 9, \"metric\": null, \"status\": \"Completed\", \"run_type\": \"azureml.scriptrun\", \"training_percent\": \"100\", \"start_time\": \"2021-02-03T03:20:04.874375Z\", \"end_time\": \"2021-02-03T03:21:13.343483Z\", \"created_time\": \"2021-02-03T03:18:51.880123Z\", \"created_time_dt\": \"2021-02-03T03:18:51.880123Z\", \"duration\": \"0:02:21\", \"iteration\": \"3\", \"goal\": \"accuracy_max\", \"run_name\": \"MaxAbsScaler, RandomForest\", \"run_properties\": \"copy=True\", \"primary_metric\": 0.87084112, \"best_metric\": 0.98706451}, {\"run_id\": \"AutoML_0fdbdd47-d7a0-46cb-8179-fbb94af9c3a4_0\", \"run_number\": 10, \"metric\": null, \"status\": \"Completed\", \"run_type\": \"azureml.scriptrun\", \"training_percent\": \"100\", \"start_time\": \"2021-02-03T03:22:24.110428Z\", \"end_time\": \"2021-02-03T03:23:15.703905Z\", \"created_time\": \"2021-02-03T03:18:51.878665Z\", \"created_time_dt\": \"2021-02-03T03:18:51.878665Z\", \"duration\": \"0:04:23\", \"iteration\": \"0\", \"goal\": \"accuracy_max\", \"run_name\": \"MaxAbsScaler, LightGBM\", \"run_properties\": \"copy=True\", \"primary_metric\": 0.98706451, \"best_metric\": 0.98706451}, {\"run_id\": \"AutoML_0fdbdd47-d7a0-46cb-8179-fbb94af9c3a4_4\", \"run_number\": 11, \"metric\": null, \"status\": \"Completed\", \"run_type\": \"azureml.scriptrun\", \"training_percent\": \"100\", \"start_time\": \"2021-02-03T03:22:36.028803Z\", \"end_time\": \"2021-02-03T03:26:06.496452Z\", \"created_time\": \"2021-02-03T03:20:03.632643Z\", \"created_time_dt\": \"2021-02-03T03:20:03.632643Z\", \"duration\": \"0:06:02\", \"iteration\": \"4\", \"goal\": \"accuracy_max\", \"run_name\": \"MaxAbsScaler, RandomForest\", \"run_properties\": \"copy=True\", \"primary_metric\": 0.91655895, \"best_metric\": 0.98706451}, {\"run_id\": \"AutoML_0fdbdd47-d7a0-46cb-8179-fbb94af9c3a4_5\", \"run_number\": 12, \"metric\": null, \"status\": \"Completed\", \"run_type\": \"azureml.scriptrun\", \"training_percent\": \"100\", \"start_time\": \"2021-02-03T03:22:35.441411Z\", \"end_time\": \"2021-02-03T03:26:05.810524Z\", \"created_time\": \"2021-02-03T03:21:15.546316Z\", \"created_time_dt\": \"2021-02-03T03:21:15.546316Z\", \"duration\": \"0:04:50\", \"iteration\": \"5\", \"goal\": \"accuracy_max\", \"run_name\": \"MaxAbsScaler, RandomForest\", \"run_properties\": \"copy=True\", \"primary_metric\": 0.83035422, \"best_metric\": 0.98706451}, {\"run_id\": \"AutoML_0fdbdd47-d7a0-46cb-8179-fbb94af9c3a4_6\", \"run_number\": 13, \"metric\": null, \"status\": \"Completed\", \"run_type\": \"azureml.scriptrun\", \"training_percent\": \"100\", \"start_time\": \"2021-02-03T03:22:36.458523Z\", \"end_time\": \"2021-02-03T03:26:09.620659Z\", \"created_time\": \"2021-02-03T03:22:20.11867Z\", \"created_time_dt\": \"2021-02-03T03:22:20.11867Z\", \"duration\": \"0:03:49\", \"iteration\": \"6\", \"goal\": \"accuracy_max\", \"run_name\": \"SparseNormalizer, XGBoostClassifier\", \"run_properties\": \"<azureml.automl.runtime.shared.model_wrappers.SparseNormalizer object at 0x7f6c46086438\", \"primary_metric\": 0.96948745, \"best_metric\": 0.98706451}, {\"run_id\": \"AutoML_0fdbdd47-d7a0-46cb-8179-fbb94af9c3a4_7\", \"run_number\": 14, \"metric\": null, \"status\": \"Completed\", \"run_type\": \"azureml.scriptrun\", \"training_percent\": \"100\", \"start_time\": \"2021-02-03T03:23:30.225607Z\", \"end_time\": \"2021-02-03T03:24:20.932296Z\", \"created_time\": \"2021-02-03T03:23:18.770663Z\", \"created_time_dt\": \"2021-02-03T03:23:18.770663Z\", \"duration\": \"0:01:02\", \"iteration\": \"7\", \"goal\": \"accuracy_max\", \"run_name\": \"SparseNormalizer, XGBoostClassifier\", \"run_properties\": \"<azureml.automl.runtime.shared.model_wrappers.SparseNormalizer object at 0x7f75ad496f60\", \"primary_metric\": 0.96050173, \"best_metric\": 0.98706451}, {\"run_id\": \"AutoML_0fdbdd47-d7a0-46cb-8179-fbb94af9c3a4_8\", \"run_number\": 15, \"metric\": null, \"status\": \"Completed\", \"run_type\": \"azureml.scriptrun\", \"training_percent\": \"100\", \"start_time\": \"2021-02-03T03:24:35.747317Z\", \"end_time\": \"2021-02-03T03:25:30.294154Z\", \"created_time\": \"2021-02-03T03:24:23.521583Z\", \"created_time_dt\": \"2021-02-03T03:24:23.521583Z\", \"duration\": \"0:01:06\", \"iteration\": \"8\", \"goal\": \"accuracy_max\", \"run_name\": \"MaxAbsScaler, LogisticRegression\", \"run_properties\": \"copy=True\", \"primary_metric\": 0.95586022, \"best_metric\": 0.98706451}, {\"run_id\": \"AutoML_0fdbdd47-d7a0-46cb-8179-fbb94af9c3a4_9\", \"run_number\": 16, \"metric\": null, \"status\": \"Completed\", \"run_type\": \"azureml.scriptrun\", \"training_percent\": \"100\", \"start_time\": \"2021-02-03T03:25:43.702597Z\", \"end_time\": \"2021-02-03T03:26:43.128593Z\", \"created_time\": \"2021-02-03T03:25:33.45868Z\", \"created_time_dt\": \"2021-02-03T03:25:33.45868Z\", \"duration\": \"0:01:09\", \"iteration\": \"9\", \"goal\": \"accuracy_max\", \"run_name\": \"MaxAbsScaler, RandomForest\", \"run_properties\": \"copy=True\", \"primary_metric\": 0.88249178, \"best_metric\": 0.98706451}, {\"run_id\": \"AutoML_0fdbdd47-d7a0-46cb-8179-fbb94af9c3a4_10\", \"run_number\": 17, \"metric\": null, \"status\": \"Completed\", \"run_type\": \"azureml.scriptrun\", \"training_percent\": \"100\", \"start_time\": \"2021-02-03T03:26:18.426993Z\", \"end_time\": \"2021-02-03T03:27:08.687375Z\", \"created_time\": \"2021-02-03T03:26:08.285964Z\", \"created_time_dt\": \"2021-02-03T03:26:08.285964Z\", \"duration\": \"0:01:00\", \"iteration\": \"10\", \"goal\": \"accuracy_max\", \"run_name\": \"StandardScalerWrapper, RandomForest\", \"run_properties\": \"<azureml.automl.runtime.shared.model_wrappers.StandardScalerWrapper object at 0x7fd9768b8908\", \"primary_metric\": 0.93344485, \"best_metric\": 0.98706451}, {\"run_id\": \"AutoML_0fdbdd47-d7a0-46cb-8179-fbb94af9c3a4_11\", \"run_number\": 18, \"metric\": null, \"status\": \"Completed\", \"run_type\": \"azureml.scriptrun\", \"training_percent\": \"100\", \"start_time\": \"2021-02-03T03:26:20.828074Z\", \"end_time\": \"2021-02-03T03:27:22.639509Z\", \"created_time\": \"2021-02-03T03:26:08.417223Z\", \"created_time_dt\": \"2021-02-03T03:26:08.417223Z\", \"duration\": \"0:01:14\", \"iteration\": \"11\", \"goal\": \"accuracy_max\", \"run_name\": \"MaxAbsScaler, GradientBoosting\", \"run_properties\": \"copy=True\", \"primary_metric\": 0.94598569, \"best_metric\": 0.98706451}, {\"run_id\": \"AutoML_0fdbdd47-d7a0-46cb-8179-fbb94af9c3a4_12\", \"run_number\": 19, \"metric\": null, \"status\": \"Completed\", \"run_type\": \"azureml.scriptrun\", \"training_percent\": \"100\", \"start_time\": \"2021-02-03T03:26:24.741343Z\", \"end_time\": \"2021-02-03T03:27:19.982479Z\", \"created_time\": \"2021-02-03T03:26:13.090119Z\", \"created_time_dt\": \"2021-02-03T03:26:13.090119Z\", \"duration\": \"0:01:06\", \"iteration\": \"12\", \"goal\": \"accuracy_max\", \"run_name\": \"SparseNormalizer, XGBoostClassifier\", \"run_properties\": \"<azureml.automl.runtime.shared.model_wrappers.SparseNormalizer object at 0x7f0f7fda69b0\", \"primary_metric\": 0.9017477, \"best_metric\": 0.98706451}, {\"run_id\": \"AutoML_0fdbdd47-d7a0-46cb-8179-fbb94af9c3a4_13\", \"run_number\": 20, \"metric\": null, \"status\": \"Completed\", \"run_type\": \"azureml.scriptrun\", \"training_percent\": \"100\", \"start_time\": \"2021-02-03T03:26:56.896667Z\", \"end_time\": \"2021-02-03T03:27:45.030536Z\", \"created_time\": \"2021-02-03T03:26:45.972549Z\", \"created_time_dt\": \"2021-02-03T03:26:45.972549Z\", \"duration\": \"0:00:59\", \"iteration\": \"13\", \"goal\": \"accuracy_max\", \"run_name\": \"SparseNormalizer, LightGBM\", \"run_properties\": \"<azureml.automl.runtime.shared.model_wrappers.SparseNormalizer object at 0x7f40c8c938d0\", \"primary_metric\": 0.91330066, \"best_metric\": 0.98706451}, {\"run_id\": \"AutoML_0fdbdd47-d7a0-46cb-8179-fbb94af9c3a4_14\", \"run_number\": 21, \"metric\": null, \"status\": \"Completed\", \"run_type\": \"azureml.scriptrun\", \"training_percent\": \"100\", \"start_time\": \"2021-02-03T03:27:25.32824Z\", \"end_time\": \"2021-02-03T03:28:17.668654Z\", \"created_time\": \"2021-02-03T03:27:11.378024Z\", \"created_time_dt\": \"2021-02-03T03:27:11.378024Z\", \"duration\": \"0:01:06\", \"iteration\": \"14\", \"goal\": \"accuracy_max\", \"run_name\": \"MaxAbsScaler, LightGBM\", \"run_properties\": \"copy=True\", \"primary_metric\": 0.92287818, \"best_metric\": 0.98706451}, {\"run_id\": \"AutoML_0fdbdd47-d7a0-46cb-8179-fbb94af9c3a4_15\", \"run_number\": 22, \"metric\": null, \"status\": \"Completed\", \"run_type\": \"azureml.scriptrun\", \"training_percent\": \"100\", \"start_time\": \"2021-02-03T03:27:35.831429Z\", \"end_time\": \"2021-02-03T03:28:30.492648Z\", \"created_time\": \"2021-02-03T03:27:22.515276Z\", \"created_time_dt\": \"2021-02-03T03:27:22.515276Z\", \"duration\": \"0:01:07\", \"iteration\": \"15\", \"goal\": \"accuracy_max\", \"run_name\": \"SparseNormalizer, XGBoostClassifier\", \"run_properties\": \"<azureml.automl.runtime.shared.model_wrappers.SparseNormalizer object at 0x7fa791401ba8\", \"primary_metric\": 0.94065403, \"best_metric\": 0.98706451}, {\"run_id\": \"AutoML_0fdbdd47-d7a0-46cb-8179-fbb94af9c3a4_16\", \"run_number\": 23, \"metric\": null, \"status\": \"Completed\", \"run_type\": \"azureml.scriptrun\", \"training_percent\": \"100\", \"start_time\": \"2021-02-03T03:27:39.80377Z\", \"end_time\": \"2021-02-03T03:28:31.450648Z\", \"created_time\": \"2021-02-03T03:27:27.264132Z\", \"created_time_dt\": \"2021-02-03T03:27:27.264132Z\", \"duration\": \"0:01:04\", \"iteration\": \"16\", \"goal\": \"accuracy_max\", \"run_name\": \"SparseNormalizer, LightGBM\", \"run_properties\": \"<azureml.automl.runtime.shared.model_wrappers.SparseNormalizer object at 0x7f1f92bfef60\", \"primary_metric\": 0.87261725, \"best_metric\": 0.98706451}, {\"run_id\": \"AutoML_0fdbdd47-d7a0-46cb-8179-fbb94af9c3a4_17\", \"run_number\": 24, \"metric\": null, \"status\": \"Completed\", \"run_type\": \"azureml.scriptrun\", \"training_percent\": \"100\", \"start_time\": \"2021-02-03T03:28:00.274185Z\", \"end_time\": \"2021-02-03T03:29:55.035369Z\", \"created_time\": \"2021-02-03T03:27:48.00448Z\", \"created_time_dt\": \"2021-02-03T03:27:48.00448Z\", \"duration\": \"0:02:07\", \"iteration\": \"17\", \"goal\": \"accuracy_max\", \"run_name\": \"SparseNormalizer, XGBoostClassifier\", \"run_properties\": \"<azureml.automl.runtime.shared.model_wrappers.SparseNormalizer object at 0x7fc42c5eee10\", \"primary_metric\": 0.96119285, \"best_metric\": 0.98706451}, {\"run_id\": \"AutoML_0fdbdd47-d7a0-46cb-8179-fbb94af9c3a4_18\", \"run_number\": 25, \"metric\": null, \"status\": \"Completed\", \"run_type\": \"azureml.scriptrun\", \"training_percent\": \"100\", \"start_time\": \"2021-02-03T03:28:32.326133Z\", \"end_time\": \"2021-02-03T03:29:25.189555Z\", \"created_time\": \"2021-02-03T03:28:19.986707Z\", \"created_time_dt\": \"2021-02-03T03:28:19.986707Z\", \"duration\": \"0:01:05\", \"iteration\": \"18\", \"goal\": \"accuracy_max\", \"run_name\": \"SparseNormalizer, XGBoostClassifier\", \"run_properties\": \"<azureml.automl.runtime.shared.model_wrappers.SparseNormalizer object at 0x7f7d29f45b00\", \"primary_metric\": 0.95655178, \"best_metric\": 0.98706451}, {\"run_id\": \"AutoML_0fdbdd47-d7a0-46cb-8179-fbb94af9c3a4_19\", \"run_number\": 26, \"metric\": null, \"status\": \"Completed\", \"run_type\": \"azureml.scriptrun\", \"training_percent\": \"100\", \"start_time\": \"2021-02-03T03:28:45.406941Z\", \"end_time\": \"2021-02-03T03:29:45.227825Z\", \"created_time\": \"2021-02-03T03:28:33.177988Z\", \"created_time_dt\": \"2021-02-03T03:28:33.177988Z\", \"duration\": \"0:01:12\", \"iteration\": \"19\", \"goal\": \"accuracy_max\", \"run_name\": \"SparseNormalizer, XGBoostClassifier\", \"run_properties\": \"<azureml.automl.runtime.shared.model_wrappers.SparseNormalizer object at 0x7fada3cc2f98\", \"primary_metric\": 0.97254853, \"best_metric\": 0.98706451}, {\"run_id\": \"AutoML_0fdbdd47-d7a0-46cb-8179-fbb94af9c3a4_20\", \"run_number\": 27, \"metric\": null, \"status\": \"Completed\", \"run_type\": \"azureml.scriptrun\", \"training_percent\": \"100\", \"start_time\": \"2021-02-03T03:28:45.178534Z\", \"end_time\": \"2021-02-03T03:29:41.865102Z\", \"created_time\": \"2021-02-03T03:28:33.342989Z\", \"created_time_dt\": \"2021-02-03T03:28:33.342989Z\", \"duration\": \"0:01:08\", \"iteration\": \"20\", \"goal\": \"accuracy_max\", \"run_name\": \"SparseNormalizer, XGBoostClassifier\", \"run_properties\": \"<azureml.automl.runtime.shared.model_wrappers.SparseNormalizer object at 0x7f1aae8ac0f0\", \"primary_metric\": 0.97235112, \"best_metric\": 0.98706451}, {\"run_id\": \"AutoML_0fdbdd47-d7a0-46cb-8179-fbb94af9c3a4_21\", \"run_number\": 28, \"metric\": null, \"status\": \"Completed\", \"run_type\": \"azureml.scriptrun\", \"training_percent\": \"100\", \"start_time\": \"2021-02-03T03:29:43.610366Z\", \"end_time\": \"2021-02-03T03:30:32.966881Z\", \"created_time\": \"2021-02-03T03:29:28.461474Z\", \"created_time_dt\": \"2021-02-03T03:29:28.461474Z\", \"duration\": \"0:01:04\", \"iteration\": \"21\", \"goal\": \"accuracy_max\", \"run_name\": \"MaxAbsScaler, LogisticRegression\", \"run_properties\": \"copy=True\", \"primary_metric\": 0.95457665, \"best_metric\": 0.98706451}, {\"run_id\": \"AutoML_0fdbdd47-d7a0-46cb-8179-fbb94af9c3a4_22\", \"run_number\": 29, \"metric\": null, \"status\": \"Completed\", \"run_type\": \"azureml.scriptrun\", \"training_percent\": \"100\", \"start_time\": \"2021-02-03T03:30:00.157099Z\", \"end_time\": \"2021-02-03T03:30:44.274654Z\", \"created_time\": \"2021-02-03T03:29:45.270486Z\", \"created_time_dt\": \"2021-02-03T03:29:45.270486Z\", \"duration\": \"0:00:59\", \"iteration\": \"22\", \"goal\": \"accuracy_max\", \"run_name\": \"StandardScalerWrapper, XGBoostClassifier\", \"run_properties\": \"<azureml.automl.runtime.shared.model_wrappers.StandardScalerWrapper object at 0x7fa0021d5eb8\", \"primary_metric\": 0.97373343, \"best_metric\": 0.98706451}, {\"run_id\": \"AutoML_0fdbdd47-d7a0-46cb-8179-fbb94af9c3a4_23\", \"run_number\": 30, \"metric\": null, \"status\": \"Completed\", \"run_type\": \"azureml.scriptrun\", \"training_percent\": \"100\", \"start_time\": \"2021-02-03T03:30:05.563185Z\", \"end_time\": \"2021-02-03T03:30:53.904444Z\", \"created_time\": \"2021-02-03T03:29:52.373002Z\", \"created_time_dt\": \"2021-02-03T03:29:52.373002Z\", \"duration\": \"0:01:01\", \"iteration\": \"23\", \"goal\": \"accuracy_max\", \"run_name\": \"MaxAbsScaler, LogisticRegression\", \"run_properties\": \"copy=True\", \"primary_metric\": 0.9566502, \"best_metric\": 0.98706451}, {\"run_id\": \"AutoML_0fdbdd47-d7a0-46cb-8179-fbb94af9c3a4_24\", \"run_number\": 31, \"metric\": null, \"status\": \"Completed\", \"run_type\": \"azureml.scriptrun\", \"training_percent\": \"100\", \"start_time\": \"2021-02-03T03:30:12.647162Z\", \"end_time\": \"2021-02-03T03:31:04.834682Z\", \"created_time\": \"2021-02-03T03:29:58.483906Z\", \"created_time_dt\": \"2021-02-03T03:29:58.483906Z\", \"duration\": \"0:01:06\", \"iteration\": \"24\", \"goal\": \"accuracy_max\", \"run_name\": \"SparseNormalizer, XGBoostClassifier\", \"run_properties\": \"<azureml.automl.runtime.shared.model_wrappers.SparseNormalizer object at 0x7f647da38fd0\", \"primary_metric\": 0.90253824, \"best_metric\": 0.98706451}, {\"run_id\": \"AutoML_0fdbdd47-d7a0-46cb-8179-fbb94af9c3a4_25\", \"run_number\": 32, \"metric\": null, \"status\": \"Completed\", \"run_type\": \"azureml.scriptrun\", \"training_percent\": \"100\", \"start_time\": \"2021-02-03T03:30:48.554455Z\", \"end_time\": \"2021-02-03T03:31:43.644439Z\", \"created_time\": \"2021-02-03T03:30:36.371189Z\", \"created_time_dt\": \"2021-02-03T03:30:36.371189Z\", \"duration\": \"0:01:07\", \"iteration\": \"25\", \"goal\": \"accuracy_max\", \"run_name\": \"MaxAbsScaler, LightGBM\", \"run_properties\": \"copy=True\", \"primary_metric\": 0.83933968, \"best_metric\": 0.98706451}, {\"run_id\": \"AutoML_0fdbdd47-d7a0-46cb-8179-fbb94af9c3a4_26\", \"run_number\": 33, \"metric\": null, \"status\": \"Completed\", \"run_type\": \"azureml.scriptrun\", \"training_percent\": \"100\", \"start_time\": \"2021-02-03T03:31:00.072916Z\", \"end_time\": \"2021-02-03T03:31:55.255103Z\", \"created_time\": \"2021-02-03T03:30:46.949492Z\", \"created_time_dt\": \"2021-02-03T03:30:46.949492Z\", \"duration\": \"0:01:08\", \"iteration\": \"26\", \"goal\": \"accuracy_max\", \"run_name\": \"StandardScalerWrapper, LogisticRegression\", \"run_properties\": \"<azureml.automl.runtime.shared.model_wrappers.StandardScalerWrapper object at 0x7fe761a53278\", \"primary_metric\": 0.95497145, \"best_metric\": 0.98706451}, {\"run_id\": \"AutoML_0fdbdd47-d7a0-46cb-8179-fbb94af9c3a4_27\", \"run_number\": 34, \"metric\": null, \"status\": \"Completed\", \"run_type\": \"azureml.scriptrun\", \"training_percent\": \"100\", \"start_time\": \"2021-02-03T03:31:08.313759Z\", \"end_time\": \"2021-02-03T03:32:06.219939Z\", \"created_time\": \"2021-02-03T03:30:56.308714Z\", \"created_time_dt\": \"2021-02-03T03:30:56.308714Z\", \"duration\": \"0:01:09\", \"iteration\": \"27\", \"goal\": \"accuracy_max\", \"run_name\": \"SparseNormalizer, XGBoostClassifier\", \"run_properties\": \"<azureml.automl.runtime.shared.model_wrappers.SparseNormalizer object at 0x7ff484f5db38\", \"primary_metric\": 0.97057369, \"best_metric\": 0.98706451}, {\"run_id\": \"AutoML_0fdbdd47-d7a0-46cb-8179-fbb94af9c3a4_28\", \"run_number\": 35, \"metric\": null, \"status\": \"Completed\", \"run_type\": \"azureml.scriptrun\", \"training_percent\": \"100\", \"start_time\": \"2021-02-03T03:31:17.298109Z\", \"end_time\": \"2021-02-03T03:32:16.874423Z\", \"created_time\": \"2021-02-03T03:31:06.997651Z\", \"created_time_dt\": \"2021-02-03T03:31:06.997651Z\", \"duration\": \"0:01:09\", \"iteration\": \"28\", \"goal\": \"accuracy_max\", \"run_name\": \"SparseNormalizer, XGBoostClassifier\", \"run_properties\": \"<azureml.automl.runtime.shared.model_wrappers.SparseNormalizer object at 0x7faf49b84f28\", \"primary_metric\": 0.96524127, \"best_metric\": 0.98706451}, {\"run_id\": \"AutoML_0fdbdd47-d7a0-46cb-8179-fbb94af9c3a4_29\", \"run_number\": 36, \"metric\": null, \"status\": \"Completed\", \"run_type\": \"azureml.scriptrun\", \"training_percent\": \"100\", \"start_time\": \"2021-02-03T03:31:58.05628Z\", \"end_time\": \"2021-02-03T03:33:34.308643Z\", \"created_time\": \"2021-02-03T03:31:45.864292Z\", \"created_time_dt\": \"2021-02-03T03:31:45.864292Z\", \"duration\": \"0:01:48\", \"iteration\": \"29\", \"goal\": \"accuracy_max\", \"run_name\": \"SparseNormalizer, XGBoostClassifier\", \"run_properties\": \"<azureml.automl.runtime.shared.model_wrappers.SparseNormalizer object at 0x7f527dfb20f0\", \"primary_metric\": 0.97323975, \"best_metric\": 0.98706451}, {\"run_id\": \"AutoML_0fdbdd47-d7a0-46cb-8179-fbb94af9c3a4_30\", \"run_number\": 37, \"metric\": null, \"status\": \"Completed\", \"run_type\": \"azureml.scriptrun\", \"training_percent\": \"100\", \"start_time\": \"2021-02-03T03:32:10.781316Z\", \"end_time\": \"2021-02-03T03:33:02.120159Z\", \"created_time\": \"2021-02-03T03:31:59.170505Z\", \"created_time_dt\": \"2021-02-03T03:31:59.170505Z\", \"duration\": \"0:01:02\", \"iteration\": \"30\", \"goal\": \"accuracy_max\", \"run_name\": \"SparseNormalizer, LightGBM\", \"run_properties\": \"<azureml.automl.runtime.shared.model_wrappers.SparseNormalizer object at 0x7f4e7843d128\", \"primary_metric\": 0.96613013, \"best_metric\": 0.98706451}, {\"run_id\": \"AutoML_0fdbdd47-d7a0-46cb-8179-fbb94af9c3a4_31\", \"run_number\": 38, \"metric\": null, \"status\": \"Completed\", \"run_type\": \"azureml.scriptrun\", \"training_percent\": \"100\", \"start_time\": \"2021-02-03T03:32:21.701013Z\", \"end_time\": \"2021-02-03T03:33:11.419912Z\", \"created_time\": \"2021-02-03T03:32:08.665106Z\", \"created_time_dt\": \"2021-02-03T03:32:08.665106Z\", \"duration\": \"0:01:02\", \"iteration\": \"31\", \"goal\": \"accuracy_max\", \"run_name\": \"SparseNormalizer, XGBoostClassifier\", \"run_properties\": \"<azureml.automl.runtime.shared.model_wrappers.SparseNormalizer object at 0x7f4ae149de80\", \"primary_metric\": 0.96356272, \"best_metric\": 0.98706451}, {\"run_id\": \"AutoML_0fdbdd47-d7a0-46cb-8179-fbb94af9c3a4_32\", \"run_number\": 39, \"metric\": null, \"status\": \"Completed\", \"run_type\": \"azureml.scriptrun\", \"training_percent\": \"100\", \"start_time\": \"2021-02-03T03:32:30.546493Z\", \"end_time\": \"2021-02-03T03:33:24.605054Z\", \"created_time\": \"2021-02-03T03:32:19.194579Z\", \"created_time_dt\": \"2021-02-03T03:32:19.194579Z\", \"duration\": \"0:01:05\", \"iteration\": \"32\", \"goal\": \"accuracy_max\", \"run_name\": \"SparseNormalizer, XGBoostClassifier\", \"run_properties\": \"<azureml.automl.runtime.shared.model_wrappers.SparseNormalizer object at 0x7feb06842e10\", \"primary_metric\": 0.9633651, \"best_metric\": 0.98706451}, {\"run_id\": \"AutoML_0fdbdd47-d7a0-46cb-8179-fbb94af9c3a4_33\", \"run_number\": 40, \"metric\": null, \"status\": \"Canceled\", \"run_type\": \"azureml.scriptrun\", \"training_percent\": \"100\", \"start_time\": \"2021-02-03T03:33:17.255467Z\", \"end_time\": \"2021-02-03T03:33:41.293476Z\", \"created_time\": \"2021-02-03T03:33:04.564634Z\", \"created_time_dt\": \"2021-02-03T03:33:04.564634Z\", \"duration\": \"0:00:36\", \"iteration\": \"33\", \"goal\": null, \"run_name\": \"SparseNormalizer, XGBoostClassifier\", \"run_properties\": null}, {\"run_id\": \"AutoML_0fdbdd47-d7a0-46cb-8179-fbb94af9c3a4_34\", \"run_number\": 41, \"metric\": null, \"status\": \"Canceled\", \"run_type\": \"azureml.scriptrun\", \"training_percent\": \"100\", \"start_time\": \"2021-02-03T03:33:25.719117Z\", \"end_time\": \"2021-02-03T03:33:42.643465Z\", \"created_time\": \"2021-02-03T03:33:13.796905Z\", \"created_time_dt\": \"2021-02-03T03:33:13.796905Z\", \"duration\": \"0:00:28\", \"iteration\": \"34\", \"goal\": null, \"run_name\": \"Canceled\", \"run_properties\": null}, {\"run_id\": \"AutoML_0fdbdd47-d7a0-46cb-8179-fbb94af9c3a4_35\", \"run_number\": 42, \"metric\": null, \"status\": \"Canceled\", \"run_type\": \"azureml.scriptrun\", \"training_percent\": \"100\", \"start_time\": \"2021-02-03T03:33:28.261131Z\", \"end_time\": \"2021-02-03T03:33:46.026533Z\", \"created_time\": \"2021-02-03T03:33:28.261131Z\", \"created_time_dt\": \"2021-02-03T03:33:28.261131Z\", \"duration\": \"0:00:17\", \"iteration\": \"35\", \"goal\": null, \"run_name\": \"Canceled\", \"run_properties\": null}, {\"run_id\": \"AutoML_0fdbdd47-d7a0-46cb-8179-fbb94af9c3a4_36\", \"run_number\": 43, \"metric\": null, \"status\": \"Completed\", \"run_type\": \"azureml.scriptrun\", \"training_percent\": \"100\", \"start_time\": \"2021-02-03T03:33:58.707117Z\", \"end_time\": \"2021-02-03T03:35:26.29421Z\", \"created_time\": \"2021-02-03T03:33:47.260449Z\", \"created_time_dt\": \"2021-02-03T03:33:47.260449Z\", \"duration\": \"0:01:39\", \"iteration\": \"36\", \"goal\": \"accuracy_max\", \"run_name\": \"VotingEnsemble\", \"run_properties\": \"classification_labels=None,\\n                              estimators=[('0',\\n                                           Pipeline(memory=None,\\n                                                    steps=[('maxabsscaler',\\n                                                            MaxAbsScaler(copy=True\", \"primary_metric\": 0.98824934, \"best_metric\": 0.98824934}, {\"run_id\": \"AutoML_0fdbdd47-d7a0-46cb-8179-fbb94af9c3a4_37\", \"run_number\": 44, \"metric\": null, \"status\": \"Completed\", \"run_type\": \"azureml.scriptrun\", \"training_percent\": \"100\", \"start_time\": \"2021-02-03T03:33:59.106247Z\", \"end_time\": \"2021-02-03T03:35:28.099783Z\", \"created_time\": \"2021-02-03T03:33:47.351785Z\", \"created_time_dt\": \"2021-02-03T03:33:47.351785Z\", \"duration\": \"0:01:40\", \"iteration\": \"37\", \"goal\": \"accuracy_max\", \"run_name\": \"StackEnsemble\", \"run_properties\": \"base_learners=[('0',\\n                                        Pipeline(memory=None,\\n                                                 steps=[('maxabsscaler',\\n                                                         MaxAbsScaler(copy=True\", \"primary_metric\": 0.98765695, \"best_metric\": 0.98824934}], \"children_metrics\": {\"categories\": [0], \"series\": {\"AUC_weighted\": [{\"categories\": [\"0\", \"1\", \"2\", \"3\", \"4\", \"5\", \"6\", \"7\", \"8\", \"9\", \"10\", \"11\", \"12\", \"13\", \"14\", \"15\", \"16\", \"17\", \"18\", \"19\", \"20\", \"21\", \"22\", \"23\", \"24\", \"25\", \"26\", \"27\", \"28\", \"29\", \"30\", \"31\", \"32\", \"36\", \"37\"], \"mode\": \"markers\", \"name\": \"AUC_weighted\", \"stepped\": false, \"type\": \"scatter\", \"data\": [0.9982280497775059, 0.9978002335774097, 0.9475430181001764, 0.9094538240141091, 0.9601536062316707, 0.9120065525756077, 0.9922851625950188, 0.9874115178953744, 0.9833670949969725, 0.9476594121213581, 0.9851027330268031, 0.984112675140656, 0.9195926511090337, 0.9493284344855869, 0.9871926657522713, 0.9668085494744513, 0.9482978556165268, 0.9882910122286068, 0.9864672425079819, 0.9933005606117339, 0.9922918294917947, 0.9829776342042299, 0.9932263855656734, 0.9834784942216986, 0.9241277141792216, 0.9651079518286717, 0.9819994495673482, 0.9925987443989189, 0.9909152711948274, 0.9934738451700665, 0.9904412680593162, 0.9883721301718557, 0.9897225875791408, 0.9974885437420142, 0.9976995194885113]}, {\"categories\": [\"0\", \"1\", \"2\", \"3\", \"4\", \"5\", \"6\", \"7\", \"8\", \"9\", \"10\", \"11\", \"12\", \"13\", \"14\", \"15\", \"16\", \"17\", \"18\", \"19\", \"20\", \"21\", \"22\", \"23\", \"24\", \"25\", \"26\", \"27\", \"28\", \"29\", \"30\", \"31\", \"32\", \"36\", \"37\"], \"mode\": \"lines\", \"name\": \"AUC_weighted_max\", \"stepped\": true, \"type\": \"scatter\", \"data\": [0.9982280497775059, 0.9982280497775059, 0.9982280497775059, 0.9982280497775059, 0.9982280497775059, 0.9982280497775059, 0.9982280497775059, 0.9982280497775059, 0.9982280497775059, 0.9982280497775059, 0.9982280497775059, 0.9982280497775059, 0.9982280497775059, 0.9982280497775059, 0.9982280497775059, 0.9982280497775059, 0.9982280497775059, 0.9982280497775059, 0.9982280497775059, 0.9982280497775059, 0.9982280497775059, 0.9982280497775059, 0.9982280497775059, 0.9982280497775059, 0.9982280497775059, 0.9982280497775059, 0.9982280497775059, 0.9982280497775059, 0.9982280497775059, 0.9982280497775059, 0.9982280497775059, 0.9982280497775059, 0.9982280497775059, 0.9982280497775059, 0.9982280497775059]}], \"accuracy\": [{\"categories\": [\"0\", \"1\", \"2\", \"3\", \"4\", \"5\", \"6\", \"7\", \"8\", \"9\", \"10\", \"11\", \"12\", \"13\", \"14\", \"15\", \"16\", \"17\", \"18\", \"19\", \"20\", \"21\", \"22\", \"23\", \"24\", \"25\", \"26\", \"27\", \"28\", \"29\", \"30\", \"31\", \"32\", \"36\", \"37\"], \"mode\": \"markers\", \"name\": \"accuracy\", \"stepped\": false, \"type\": \"scatter\", \"data\": [0.9870645076355977, 0.9848919899362238, 0.8975008191445789, 0.8708411152068339, 0.9165589491545258, 0.8303542215200984, 0.9694874495348428, 0.9605017260546487, 0.9558602188286233, 0.8824917792990462, 0.9334448540167339, 0.9459856942250306, 0.9017477034696624, 0.9133006553156632, 0.9228781814990347, 0.9406540284360189, 0.8726172546954537, 0.9611928500380317, 0.9565517816394594, 0.9725485343163068, 0.9723511204727635, 0.9545766485284654, 0.9737334269498567, 0.9566501960095956, 0.9025382364987421, 0.8393396817038207, 0.9549714469603886, 0.9705736937569481, 0.9652412673336844, 0.9732397460651806, 0.9661301269674097, 0.963562723070622, 0.9633651044409338, 0.9882493417588204, 0.9876569539523725]}, {\"categories\": [\"0\", \"1\", \"2\", \"3\", \"4\", \"5\", \"6\", \"7\", \"8\", \"9\", \"10\", \"11\", \"12\", \"13\", \"14\", \"15\", \"16\", \"17\", \"18\", \"19\", \"20\", \"21\", \"22\", \"23\", \"24\", \"25\", \"26\", \"27\", \"28\", \"29\", \"30\", \"31\", \"32\", \"36\", \"37\"], \"mode\": \"lines\", \"name\": \"accuracy_max\", \"stepped\": true, \"type\": \"scatter\", \"data\": [0.9870645076355977, 0.9870645076355977, 0.9870645076355977, 0.9870645076355977, 0.9870645076355977, 0.9870645076355977, 0.9870645076355977, 0.9870645076355977, 0.9870645076355977, 0.9870645076355977, 0.9870645076355977, 0.9870645076355977, 0.9870645076355977, 0.9870645076355977, 0.9870645076355977, 0.9870645076355977, 0.9870645076355977, 0.9870645076355977, 0.9870645076355977, 0.9870645076355977, 0.9870645076355977, 0.9870645076355977, 0.9870645076355977, 0.9870645076355977, 0.9870645076355977, 0.9870645076355977, 0.9870645076355977, 0.9870645076355977, 0.9870645076355977, 0.9870645076355977, 0.9870645076355977, 0.9870645076355977, 0.9870645076355977, 0.9882493417588204, 0.9882493417588204]}], \"recall_score_micro\": [{\"categories\": [\"0\", \"1\", \"2\", \"3\", \"4\", \"5\", \"6\", \"7\", \"8\", \"9\", \"10\", \"11\", \"12\", \"13\", \"14\", \"15\", \"16\", \"17\", \"18\", \"19\", \"20\", \"21\", \"22\", \"23\", \"24\", \"25\", \"26\", \"27\", \"28\", \"29\", \"30\", \"31\", \"32\", \"36\", \"37\"], \"mode\": \"markers\", \"name\": \"recall_score_micro\", \"stepped\": false, \"type\": \"scatter\", \"data\": [0.9870645076355977, 0.9848919899362238, 0.8975008191445789, 0.8708411152068339, 0.9165589491545258, 0.8303542215200984, 0.9694874495348428, 0.9605017260546487, 0.9558602188286233, 0.8824917792990462, 0.9334448540167339, 0.9459856942250306, 0.9017477034696624, 0.9133006553156632, 0.9228781814990347, 0.9406540284360189, 0.8726172546954537, 0.9611928500380317, 0.9565517816394594, 0.9725485343163068, 0.9723511204727635, 0.9545766485284654, 0.9737334269498567, 0.9566501960095956, 0.9025382364987421, 0.8393396817038207, 0.9549714469603886, 0.9705736937569481, 0.9652412673336844, 0.9732397460651806, 0.9661301269674097, 0.963562723070622, 0.9633651044409338, 0.9882493417588204, 0.9876569539523725]}, {\"categories\": [\"0\", \"1\", \"2\", \"3\", \"4\", \"5\", \"6\", \"7\", \"8\", \"9\", \"10\", \"11\", \"12\", \"13\", \"14\", \"15\", \"16\", \"17\", \"18\", \"19\", \"20\", \"21\", \"22\", \"23\", \"24\", \"25\", \"26\", \"27\", \"28\", \"29\", \"30\", \"31\", \"32\", \"36\", \"37\"], \"mode\": \"lines\", \"name\": \"recall_score_micro_max\", \"stepped\": true, \"type\": \"scatter\", \"data\": [0.9870645076355977, 0.9870645076355977, 0.9870645076355977, 0.9870645076355977, 0.9870645076355977, 0.9870645076355977, 0.9870645076355977, 0.9870645076355977, 0.9870645076355977, 0.9870645076355977, 0.9870645076355977, 0.9870645076355977, 0.9870645076355977, 0.9870645076355977, 0.9870645076355977, 0.9870645076355977, 0.9870645076355977, 0.9870645076355977, 0.9870645076355977, 0.9870645076355977, 0.9870645076355977, 0.9870645076355977, 0.9870645076355977, 0.9870645076355977, 0.9870645076355977, 0.9870645076355977, 0.9870645076355977, 0.9870645076355977, 0.9870645076355977, 0.9870645076355977, 0.9870645076355977, 0.9870645076355977, 0.9870645076355977, 0.9882493417588204, 0.9882493417588204]}], \"recall_score_macro\": [{\"categories\": [\"0\", \"1\", \"2\", \"3\", \"4\", \"5\", \"6\", \"7\", \"8\", \"9\", \"10\", \"11\", \"12\", \"13\", \"14\", \"15\", \"16\", \"17\", \"18\", \"19\", \"20\", \"21\", \"22\", \"23\", \"24\", \"25\", \"26\", \"27\", \"28\", \"29\", \"30\", \"31\", \"32\", \"36\", \"37\"], \"mode\": \"markers\", \"name\": \"recall_score_macro\", \"stepped\": false, \"type\": \"scatter\", \"data\": [0.9726150637386283, 0.9643810058620156, 0.6882458178430341, 0.5993655611167351, 0.8958964318810233, 0.828464900606256, 0.9202302347533369, 0.8952282961090119, 0.9091095223598155, 0.6344228085534533, 0.8059995279238198, 0.8421533710579497, 0.7046190551696556, 0.747817910219212, 0.762471443250897, 0.8330249286520596, 0.6043024416464241, 0.896864507255866, 0.8824024356846717, 0.9292769738029426, 0.9284022669859832, 0.8954716808633454, 0.933923229475227, 0.9066026009588933, 0.7049435427818912, 0.5, 0.8953035960003843, 0.9245501663677828, 0.9073869474318116, 0.9329171412145939, 0.9101923702859844, 0.9010723867495342, 0.9021006178576926, 0.9730665979636323, 0.9724401694412262]}, {\"categories\": [\"0\", \"1\", \"2\", \"3\", \"4\", \"5\", \"6\", \"7\", \"8\", \"9\", \"10\", \"11\", \"12\", \"13\", \"14\", \"15\", \"16\", \"17\", \"18\", \"19\", \"20\", \"21\", \"22\", \"23\", \"24\", \"25\", \"26\", \"27\", \"28\", \"29\", \"30\", \"31\", \"32\", \"36\", \"37\"], \"mode\": \"lines\", \"name\": \"recall_score_macro_max\", \"stepped\": true, \"type\": \"scatter\", \"data\": [0.9726150637386283, 0.9726150637386283, 0.9726150637386283, 0.9726150637386283, 0.9726150637386283, 0.9726150637386283, 0.9726150637386283, 0.9726150637386283, 0.9726150637386283, 0.9726150637386283, 0.9726150637386283, 0.9726150637386283, 0.9726150637386283, 0.9726150637386283, 0.9726150637386283, 0.9726150637386283, 0.9726150637386283, 0.9726150637386283, 0.9726150637386283, 0.9726150637386283, 0.9726150637386283, 0.9726150637386283, 0.9726150637386283, 0.9726150637386283, 0.9726150637386283, 0.9726150637386283, 0.9726150637386283, 0.9726150637386283, 0.9726150637386283, 0.9726150637386283, 0.9726150637386283, 0.9726150637386283, 0.9726150637386283, 0.9730665979636323, 0.9730665979636323]}], \"balanced_accuracy\": [{\"categories\": [\"0\", \"1\", \"2\", \"3\", \"4\", \"5\", \"6\", \"7\", \"8\", \"9\", \"10\", \"11\", \"12\", \"13\", \"14\", \"15\", \"16\", \"17\", \"18\", \"19\", \"20\", \"21\", \"22\", \"23\", \"24\", \"25\", \"26\", \"27\", \"28\", \"29\", \"30\", \"31\", \"32\", \"36\", \"37\"], \"mode\": \"markers\", \"name\": \"balanced_accuracy\", \"stepped\": false, \"type\": \"scatter\", \"data\": [0.9726150637386283, 0.9643810058620156, 0.6882458178430341, 0.5993655611167351, 0.8958964318810233, 0.828464900606256, 0.9202302347533369, 0.8952282961090119, 0.9091095223598155, 0.6344228085534533, 0.8059995279238198, 0.8421533710579497, 0.7046190551696556, 0.747817910219212, 0.762471443250897, 0.8330249286520596, 0.6043024416464241, 0.896864507255866, 0.8824024356846717, 0.9292769738029426, 0.9284022669859832, 0.8954716808633454, 0.933923229475227, 0.9066026009588933, 0.7049435427818912, 0.5, 0.8953035960003843, 0.9245501663677828, 0.9073869474318116, 0.9329171412145939, 0.9101923702859844, 0.9010723867495342, 0.9021006178576926, 0.9730665979636323, 0.9724401694412262]}, {\"categories\": [\"0\", \"1\", \"2\", \"3\", \"4\", \"5\", \"6\", \"7\", \"8\", \"9\", \"10\", \"11\", \"12\", \"13\", \"14\", \"15\", \"16\", \"17\", \"18\", \"19\", \"20\", \"21\", \"22\", \"23\", \"24\", \"25\", \"26\", \"27\", \"28\", \"29\", \"30\", \"31\", \"32\", \"36\", \"37\"], \"mode\": \"lines\", \"name\": \"balanced_accuracy_max\", \"stepped\": true, \"type\": \"scatter\", \"data\": [0.9726150637386283, 0.9726150637386283, 0.9726150637386283, 0.9726150637386283, 0.9726150637386283, 0.9726150637386283, 0.9726150637386283, 0.9726150637386283, 0.9726150637386283, 0.9726150637386283, 0.9726150637386283, 0.9726150637386283, 0.9726150637386283, 0.9726150637386283, 0.9726150637386283, 0.9726150637386283, 0.9726150637386283, 0.9726150637386283, 0.9726150637386283, 0.9726150637386283, 0.9726150637386283, 0.9726150637386283, 0.9726150637386283, 0.9726150637386283, 0.9726150637386283, 0.9726150637386283, 0.9726150637386283, 0.9726150637386283, 0.9726150637386283, 0.9726150637386283, 0.9726150637386283, 0.9726150637386283, 0.9726150637386283, 0.9730665979636323, 0.9730665979636323]}], \"weighted_accuracy\": [{\"categories\": [\"0\", \"1\", \"2\", \"3\", \"4\", \"5\", \"6\", \"7\", \"8\", \"9\", \"10\", \"11\", \"12\", \"13\", \"14\", \"15\", \"16\", \"17\", \"18\", \"19\", \"20\", \"21\", \"22\", \"23\", \"24\", \"25\", \"26\", \"27\", \"28\", \"29\", \"30\", \"31\", \"32\", \"36\", \"37\"], \"mode\": \"markers\", \"name\": \"weighted_accuracy\", \"stepped\": false, \"type\": \"scatter\", \"data\": [0.9923888994257476, 0.9924567237363556, 0.974815661927641, 0.9707929066931583, 0.9241795788813008, 0.8308967915532492, 0.9876780294099179, 0.9846027355881656, 0.973117093646704, 0.9740936549496775, 0.9805453857171251, 0.9843276805918855, 0.9744258362598782, 0.9743775094043072, 0.9822926218740301, 0.9803404830012341, 0.9716550055171073, 0.984936875387406, 0.9839176908702146, 0.9885356115854682, 0.9885897067869517, 0.9764113902397392, 0.9884294482009325, 0.9751250664170056, 0.975283842267565, 0.9645956071695932, 0.9770372932623967, 0.9875579862834756, 0.9866416714778863, 0.9881371020230731, 0.9867624591296081, 0.9866465253451843, 0.985965831967511, 0.9938389094553889, 0.9932540746099132]}, {\"categories\": [\"0\", \"1\", \"2\", \"3\", \"4\", \"5\", \"6\", \"7\", \"8\", \"9\", \"10\", \"11\", \"12\", \"13\", \"14\", \"15\", \"16\", \"17\", \"18\", \"19\", \"20\", \"21\", \"22\", \"23\", \"24\", \"25\", \"26\", \"27\", \"28\", \"29\", \"30\", \"31\", \"32\", \"36\", \"37\"], \"mode\": \"lines\", \"name\": \"weighted_accuracy_max\", \"stepped\": true, \"type\": \"scatter\", \"data\": [0.9923888994257476, 0.9924567237363556, 0.9924567237363556, 0.9924567237363556, 0.9924567237363556, 0.9924567237363556, 0.9924567237363556, 0.9924567237363556, 0.9924567237363556, 0.9924567237363556, 0.9924567237363556, 0.9924567237363556, 0.9924567237363556, 0.9924567237363556, 0.9924567237363556, 0.9924567237363556, 0.9924567237363556, 0.9924567237363556, 0.9924567237363556, 0.9924567237363556, 0.9924567237363556, 0.9924567237363556, 0.9924567237363556, 0.9924567237363556, 0.9924567237363556, 0.9924567237363556, 0.9924567237363556, 0.9924567237363556, 0.9924567237363556, 0.9924567237363556, 0.9924567237363556, 0.9924567237363556, 0.9924567237363556, 0.9938389094553889, 0.9938389094553889]}], \"f1_score_micro\": [{\"categories\": [\"0\", \"1\", \"2\", \"3\", \"4\", \"5\", \"6\", \"7\", \"8\", \"9\", \"10\", \"11\", \"12\", \"13\", \"14\", \"15\", \"16\", \"17\", \"18\", \"19\", \"20\", \"21\", \"22\", \"23\", \"24\", \"25\", \"26\", \"27\", \"28\", \"29\", \"30\", \"31\", \"32\", \"36\", \"37\"], \"mode\": \"markers\", \"name\": \"f1_score_micro\", \"stepped\": false, \"type\": \"scatter\", \"data\": [0.9870645076355977, 0.9848919899362238, 0.8975008191445789, 0.8708411152068342, 0.9165589491545257, 0.8303542215200984, 0.969487449534843, 0.9605017260546487, 0.9558602188286233, 0.8824917792990462, 0.9334448540167339, 0.9459856942250306, 0.9017477034696624, 0.9133006553156632, 0.9228781814990347, 0.9406540284360189, 0.8726172546954537, 0.9611928500380317, 0.9565517816394594, 0.9725485343163068, 0.9723511204727635, 0.9545766485284654, 0.9737334269498567, 0.9566501960095956, 0.9025382364987421, 0.8393396817038208, 0.9549714469603886, 0.9705736937569481, 0.9652412673336844, 0.9732397460651806, 0.9661301269674097, 0.963562723070622, 0.9633651044409338, 0.9882493417588204, 0.9876569539523725]}, {\"categories\": [\"0\", \"1\", \"2\", \"3\", \"4\", \"5\", \"6\", \"7\", \"8\", \"9\", \"10\", \"11\", \"12\", \"13\", \"14\", \"15\", \"16\", \"17\", \"18\", \"19\", \"20\", \"21\", \"22\", \"23\", \"24\", \"25\", \"26\", \"27\", \"28\", \"29\", \"30\", \"31\", \"32\", \"36\", \"37\"], \"mode\": \"lines\", \"name\": \"f1_score_micro_max\", \"stepped\": true, \"type\": \"scatter\", \"data\": [0.9870645076355977, 0.9870645076355977, 0.9870645076355977, 0.9870645076355977, 0.9870645076355977, 0.9870645076355977, 0.9870645076355977, 0.9870645076355977, 0.9870645076355977, 0.9870645076355977, 0.9870645076355977, 0.9870645076355977, 0.9870645076355977, 0.9870645076355977, 0.9870645076355977, 0.9870645076355977, 0.9870645076355977, 0.9870645076355977, 0.9870645076355977, 0.9870645076355977, 0.9870645076355977, 0.9870645076355977, 0.9870645076355977, 0.9870645076355977, 0.9870645076355977, 0.9870645076355977, 0.9870645076355977, 0.9870645076355977, 0.9870645076355977, 0.9870645076355977, 0.9870645076355977, 0.9870645076355977, 0.9870645076355977, 0.9882493417588204, 0.9882493417588204]}], \"f1_score_weighted\": [{\"categories\": [\"0\", \"1\", \"2\", \"3\", \"4\", \"5\", \"6\", \"7\", \"8\", \"9\", \"10\", \"11\", \"12\", \"13\", \"14\", \"15\", \"16\", \"17\", \"18\", \"19\", \"20\", \"21\", \"22\", \"23\", \"24\", \"25\", \"26\", \"27\", \"28\", \"29\", \"30\", \"31\", \"32\", \"36\", \"37\"], \"mode\": \"markers\", \"name\": \"f1_score_weighted\", \"stepped\": false, \"type\": \"scatter\", \"data\": [0.9870217314796622, 0.9847732528627852, 0.878107732467338, 0.832005190528175, 0.9201973234308012, 0.8463493407970146, 0.9687184255956298, 0.9591001332849864, 0.9554663418321754, 0.8524232980321994, 0.9274351530480324, 0.9421944034742687, 0.8851415100564414, 0.9024088757536255, 0.9124734038230121, 0.9365100785687627, 0.8355765757413783, 0.9598495629938557, 0.9547327666380205, 0.9719670100477772, 0.9717529815492704, 0.9535935243118304, 0.9732493379171784, 0.9560722305414157, 0.8857566122077838, 0.7660348770601465, 0.9539403159919057, 0.9699183257544458, 0.9641532730838195, 0.9727434997639545, 0.9651301977550283, 0.9622671160489801, 0.9621543188333131, 0.9881894570962356, 0.9875997620715943]}, {\"categories\": [\"0\", \"1\", \"2\", \"3\", \"4\", \"5\", \"6\", \"7\", \"8\", \"9\", \"10\", \"11\", \"12\", \"13\", \"14\", \"15\", \"16\", \"17\", \"18\", \"19\", \"20\", \"21\", \"22\", \"23\", \"24\", \"25\", \"26\", \"27\", \"28\", \"29\", \"30\", \"31\", \"32\", \"36\", \"37\"], \"mode\": \"lines\", \"name\": \"f1_score_weighted_max\", \"stepped\": true, \"type\": \"scatter\", \"data\": [0.9870217314796622, 0.9870217314796622, 0.9870217314796622, 0.9870217314796622, 0.9870217314796622, 0.9870217314796622, 0.9870217314796622, 0.9870217314796622, 0.9870217314796622, 0.9870217314796622, 0.9870217314796622, 0.9870217314796622, 0.9870217314796622, 0.9870217314796622, 0.9870217314796622, 0.9870217314796622, 0.9870217314796622, 0.9870217314796622, 0.9870217314796622, 0.9870217314796622, 0.9870217314796622, 0.9870217314796622, 0.9870217314796622, 0.9870217314796622, 0.9870217314796622, 0.9870217314796622, 0.9870217314796622, 0.9870217314796622, 0.9870217314796622, 0.9870217314796622, 0.9870217314796622, 0.9870217314796622, 0.9870217314796622, 0.9881894570962356, 0.9881894570962356]}], \"log_loss\": [{\"categories\": [\"0\", \"1\", \"2\", \"3\", \"4\", \"5\", \"6\", \"7\", \"8\", \"9\", \"10\", \"11\", \"12\", \"13\", \"14\", \"15\", \"16\", \"17\", \"18\", \"19\", \"20\", \"21\", \"22\", \"23\", \"24\", \"25\", \"26\", \"27\", \"28\", \"29\", \"30\", \"31\", \"32\", \"36\", \"37\"], \"mode\": \"markers\", \"name\": \"log_loss\", \"stepped\": false, \"type\": \"scatter\", \"data\": [0.041168174060837504, 0.04690762719381039, 0.2594090588689057, 0.3055038193041388, 0.39622782085198366, 0.48703857016363167, 0.08372271987820638, 0.13907416346409607, 0.11622232264590433, 0.27763488250891616, 0.17857201011421106, 0.15943766425101685, 0.3783144857078183, 0.223351044792344, 0.20305931750901587, 0.3098620680943169, 0.28768878692738215, 0.13289423181529214, 0.1225916138027598, 0.07448886563287599, 0.07745815301378245, 0.11962037324209329, 0.2619970360565935, 0.11464150919579312, 0.3600331754540018, 0.354964517105029, 0.12181700710592132, 0.08012232225107072, 0.09491337761064707, 0.07490470380963367, 0.09894090455001829, 0.10567211632307778, 0.10040970964658345, 0.11380021103765514, 0.04403404529560883]}, {\"categories\": [\"0\", \"1\", \"2\", \"3\", \"4\", \"5\", \"6\", \"7\", \"8\", \"9\", \"10\", \"11\", \"12\", \"13\", \"14\", \"15\", \"16\", \"17\", \"18\", \"19\", \"20\", \"21\", \"22\", \"23\", \"24\", \"25\", \"26\", \"27\", \"28\", \"29\", \"30\", \"31\", \"32\", \"36\", \"37\"], \"mode\": \"lines\", \"name\": \"log_loss_min\", \"stepped\": true, \"type\": \"scatter\", \"data\": [0.041168174060837504, 0.041168174060837504, 0.041168174060837504, 0.041168174060837504, 0.041168174060837504, 0.041168174060837504, 0.041168174060837504, 0.041168174060837504, 0.041168174060837504, 0.041168174060837504, 0.041168174060837504, 0.041168174060837504, 0.041168174060837504, 0.041168174060837504, 0.041168174060837504, 0.041168174060837504, 0.041168174060837504, 0.041168174060837504, 0.041168174060837504, 0.041168174060837504, 0.041168174060837504, 0.041168174060837504, 0.041168174060837504, 0.041168174060837504, 0.041168174060837504, 0.041168174060837504, 0.041168174060837504, 0.041168174060837504, 0.041168174060837504, 0.041168174060837504, 0.041168174060837504, 0.041168174060837504, 0.041168174060837504, 0.041168174060837504, 0.041168174060837504]}], \"average_precision_score_weighted\": [{\"categories\": [\"0\", \"1\", \"2\", \"3\", \"4\", \"5\", \"6\", \"7\", \"8\", \"9\", \"10\", \"11\", \"12\", \"13\", \"14\", \"15\", \"16\", \"17\", \"18\", \"19\", \"20\", \"21\", \"22\", \"23\", \"24\", \"25\", \"26\", \"27\", \"28\", \"29\", \"30\", \"31\", \"32\", \"36\", \"37\"], \"mode\": \"markers\", \"name\": \"average_precision_score_weighted\", \"stepped\": false, \"type\": \"scatter\", \"data\": [0.9983263461727869, 0.9979993445004435, 0.9629059442267339, 0.9410130517028098, 0.9698053728874884, 0.9414070658696326, 0.9937440559585191, 0.9901982482249156, 0.9867256459945146, 0.9632963612398887, 0.9870079798229945, 0.9877937112646026, 0.9417879998582951, 0.9641974217751663, 0.989507144307245, 0.9773774936006419, 0.9637584733682484, 0.9910067275469395, 0.989526971980231, 0.9945654517510075, 0.9940605077362585, 0.9864013209489236, 0.9947284003308331, 0.9867922022083541, 0.9473084576819071, 0.9743687874997883, 0.985915459976496, 0.99411433881491, 0.9927866056919492, 0.994767933689869, 0.9924478477227053, 0.9913124592806795, 0.9920233965744906, 0.997850780106115, 0.9979866373577316]}, {\"categories\": [\"0\", \"1\", \"2\", \"3\", \"4\", \"5\", \"6\", \"7\", \"8\", \"9\", \"10\", \"11\", \"12\", \"13\", \"14\", \"15\", \"16\", \"17\", \"18\", \"19\", \"20\", \"21\", \"22\", \"23\", \"24\", \"25\", \"26\", \"27\", \"28\", \"29\", \"30\", \"31\", \"32\", \"36\", \"37\"], \"mode\": \"lines\", \"name\": \"average_precision_score_weighted_max\", \"stepped\": true, \"type\": \"scatter\", \"data\": [0.9983263461727869, 0.9983263461727869, 0.9983263461727869, 0.9983263461727869, 0.9983263461727869, 0.9983263461727869, 0.9983263461727869, 0.9983263461727869, 0.9983263461727869, 0.9983263461727869, 0.9983263461727869, 0.9983263461727869, 0.9983263461727869, 0.9983263461727869, 0.9983263461727869, 0.9983263461727869, 0.9983263461727869, 0.9983263461727869, 0.9983263461727869, 0.9983263461727869, 0.9983263461727869, 0.9983263461727869, 0.9983263461727869, 0.9983263461727869, 0.9983263461727869, 0.9983263461727869, 0.9983263461727869, 0.9983263461727869, 0.9983263461727869, 0.9983263461727869, 0.9983263461727869, 0.9983263461727869, 0.9983263461727869, 0.9983263461727869, 0.9983263461727869]}], \"AUC_macro\": [{\"categories\": [\"0\", \"1\", \"2\", \"3\", \"4\", \"5\", \"6\", \"7\", \"8\", \"9\", \"10\", \"11\", \"12\", \"13\", \"14\", \"15\", \"16\", \"17\", \"18\", \"19\", \"20\", \"21\", \"22\", \"23\", \"24\", \"25\", \"26\", \"27\", \"28\", \"29\", \"30\", \"31\", \"32\", \"36\", \"37\"], \"mode\": \"markers\", \"name\": \"AUC_macro\", \"stepped\": false, \"type\": \"scatter\", \"data\": [0.9982280497775061, 0.9978002335774097, 0.9475430181001764, 0.9094538240141091, 0.9601536062316708, 0.9120065525756077, 0.9922851625950188, 0.9874115527295938, 0.9833670949969725, 0.9476594121213581, 0.9851027330268031, 0.984112675140656, 0.9195926511090337, 0.9493284344855869, 0.9871926657522713, 0.9668085494744513, 0.9482978556165268, 0.9882910122286068, 0.9864672425079819, 0.993300560611734, 0.9922918294917946, 0.9829776342042297, 0.9932263855656734, 0.9834784942216986, 0.9241277141792216, 0.9651079518286717, 0.9819994495673482, 0.9925987443989189, 0.9909152711948274, 0.9934738463500903, 0.9904412680593162, 0.9883721301718557, 0.9897226224133598, 0.9974885437420143, 0.9976995194885113]}, {\"categories\": [\"0\", \"1\", \"2\", \"3\", \"4\", \"5\", \"6\", \"7\", \"8\", \"9\", \"10\", \"11\", \"12\", \"13\", \"14\", \"15\", \"16\", \"17\", \"18\", \"19\", \"20\", \"21\", \"22\", \"23\", \"24\", \"25\", \"26\", \"27\", \"28\", \"29\", \"30\", \"31\", \"32\", \"36\", \"37\"], \"mode\": \"lines\", \"name\": \"AUC_macro_max\", \"stepped\": true, \"type\": \"scatter\", \"data\": [0.9982280497775061, 0.9982280497775061, 0.9982280497775061, 0.9982280497775061, 0.9982280497775061, 0.9982280497775061, 0.9982280497775061, 0.9982280497775061, 0.9982280497775061, 0.9982280497775061, 0.9982280497775061, 0.9982280497775061, 0.9982280497775061, 0.9982280497775061, 0.9982280497775061, 0.9982280497775061, 0.9982280497775061, 0.9982280497775061, 0.9982280497775061, 0.9982280497775061, 0.9982280497775061, 0.9982280497775061, 0.9982280497775061, 0.9982280497775061, 0.9982280497775061, 0.9982280497775061, 0.9982280497775061, 0.9982280497775061, 0.9982280497775061, 0.9982280497775061, 0.9982280497775061, 0.9982280497775061, 0.9982280497775061, 0.9982280497775061, 0.9982280497775061]}], \"average_precision_score_micro\": [{\"categories\": [\"0\", \"1\", \"2\", \"3\", \"4\", \"5\", \"6\", \"7\", \"8\", \"9\", \"10\", \"11\", \"12\", \"13\", \"14\", \"15\", \"16\", \"17\", \"18\", \"19\", \"20\", \"21\", \"22\", \"23\", \"24\", \"25\", \"26\", \"27\", \"28\", \"29\", \"30\", \"31\", \"32\", \"36\", \"37\"], \"mode\": \"markers\", \"name\": \"average_precision_score_micro\", \"stepped\": false, \"type\": \"scatter\", \"data\": [0.9990679065558378, 0.998817963738651, 0.9682889829269974, 0.9532789195896351, 0.9693260521346309, 0.9140191956618345, 0.9958384403919739, 0.9930729226144149, 0.9918871528118128, 0.9649967322934359, 0.9884473801278179, 0.9899513802786654, 0.9565125381994055, 0.9754909106142774, 0.9859119137738581, 0.9838577882830105, 0.9651119261767441, 0.9938234101488592, 0.9927406648796517, 0.9964732490421025, 0.9960512621857954, 0.9916738920870541, 0.9961369395676424, 0.991970651172823, 0.9632197711582372, 0.9669103885729552, 0.9912988998617881, 0.9961183899028984, 0.9952058791748061, 0.9966387278331504, 0.9950097444769778, 0.9939958265501626, 0.9945321976722149, 0.9986733468442552, 0.9983783152257345]}, {\"categories\": [\"0\", \"1\", \"2\", \"3\", \"4\", \"5\", \"6\", \"7\", \"8\", \"9\", \"10\", \"11\", \"12\", \"13\", \"14\", \"15\", \"16\", \"17\", \"18\", \"19\", \"20\", \"21\", \"22\", \"23\", \"24\", \"25\", \"26\", \"27\", \"28\", \"29\", \"30\", \"31\", \"32\", \"36\", \"37\"], \"mode\": \"lines\", \"name\": \"average_precision_score_micro_max\", \"stepped\": true, \"type\": \"scatter\", \"data\": [0.9990679065558378, 0.9990679065558378, 0.9990679065558378, 0.9990679065558378, 0.9990679065558378, 0.9990679065558378, 0.9990679065558378, 0.9990679065558378, 0.9990679065558378, 0.9990679065558378, 0.9990679065558378, 0.9990679065558378, 0.9990679065558378, 0.9990679065558378, 0.9990679065558378, 0.9990679065558378, 0.9990679065558378, 0.9990679065558378, 0.9990679065558378, 0.9990679065558378, 0.9990679065558378, 0.9990679065558378, 0.9990679065558378, 0.9990679065558378, 0.9990679065558378, 0.9990679065558378, 0.9990679065558378, 0.9990679065558378, 0.9990679065558378, 0.9990679065558378, 0.9990679065558378, 0.9990679065558378, 0.9990679065558378, 0.9990679065558378, 0.9990679065558378]}], \"matthews_correlation\": [{\"categories\": [\"0\", \"1\", \"2\", \"3\", \"4\", \"5\", \"6\", \"7\", \"8\", \"9\", \"10\", \"11\", \"12\", \"13\", \"14\", \"15\", \"16\", \"17\", \"18\", \"19\", \"20\", \"21\", \"22\", \"23\", \"24\", \"25\", \"26\", \"27\", \"28\", \"29\", \"30\", \"31\", \"32\", \"36\", \"37\"], \"mode\": \"markers\", \"name\": \"matthews_correlation\", \"stepped\": false, \"type\": \"scatter\", \"data\": [0.9516087292695069, 0.943264332927543, 0.5656976941272037, 0.4041933198165915, 0.7260733256202867, 0.5416825245064764, 0.8836275370419234, 0.8477394300884112, 0.8339388983655938, 0.48540412072254396, 0.7346822656410518, 0.788391486269396, 0.5860260080841675, 0.642651429005365, 0.6899582003800058, 0.7651918460656391, 0.42346286262999894, 0.8505700721906847, 0.8317167778331015, 0.8956759334126212, 0.8948101148498502, 0.8261022869444625, 0.9004188432644001, 0.8358086411990454, 0.5892716913075294, 0.0, 0.8276022693894426, 0.887879355949709, 0.8668684359271919, 0.8984768431329897, 0.8702592188092965, 0.8600227921749921, 0.8593383907661373, 0.9560284158501058, 0.9537560405127801]}, {\"categories\": [\"0\", \"1\", \"2\", \"3\", \"4\", \"5\", \"6\", \"7\", \"8\", \"9\", \"10\", \"11\", \"12\", \"13\", \"14\", \"15\", \"16\", \"17\", \"18\", \"19\", \"20\", \"21\", \"22\", \"23\", \"24\", \"25\", \"26\", \"27\", \"28\", \"29\", \"30\", \"31\", \"32\", \"36\", \"37\"], \"mode\": \"lines\", \"name\": \"matthews_correlation_max\", \"stepped\": true, \"type\": \"scatter\", \"data\": [0.9516087292695069, 0.9516087292695069, 0.9516087292695069, 0.9516087292695069, 0.9516087292695069, 0.9516087292695069, 0.9516087292695069, 0.9516087292695069, 0.9516087292695069, 0.9516087292695069, 0.9516087292695069, 0.9516087292695069, 0.9516087292695069, 0.9516087292695069, 0.9516087292695069, 0.9516087292695069, 0.9516087292695069, 0.9516087292695069, 0.9516087292695069, 0.9516087292695069, 0.9516087292695069, 0.9516087292695069, 0.9516087292695069, 0.9516087292695069, 0.9516087292695069, 0.9516087292695069, 0.9516087292695069, 0.9516087292695069, 0.9516087292695069, 0.9516087292695069, 0.9516087292695069, 0.9516087292695069, 0.9516087292695069, 0.9560284158501058, 0.9560284158501058]}], \"AUC_micro\": [{\"categories\": [\"0\", \"1\", \"2\", \"3\", \"4\", \"5\", \"6\", \"7\", \"8\", \"9\", \"10\", \"11\", \"12\", \"13\", \"14\", \"15\", \"16\", \"17\", \"18\", \"19\", \"20\", \"21\", \"22\", \"23\", \"24\", \"25\", \"26\", \"27\", \"28\", \"29\", \"30\", \"31\", \"32\", \"36\", \"37\"], \"mode\": \"markers\", \"name\": \"AUC_micro\", \"stepped\": false, \"type\": \"scatter\", \"data\": [0.9990507840664953, 0.9987954030487526, 0.967167090047532, 0.9521426148979705, 0.9686916287527808, 0.9109661641189871, 0.9957503128082198, 0.9931295120192889, 0.9917066601133303, 0.9634422346927942, 0.987998360469133, 0.9896829163500516, 0.9610638399309915, 0.9746876952732895, 0.9853109340540908, 0.9840234012152956, 0.9633834464195763, 0.9938036835403486, 0.9925583233281984, 0.9963894042340669, 0.9959933222713383, 0.9914818308435915, 0.996249962920888, 0.9917906330446654, 0.9656760789528361, 0.9647426547848518, 0.9911019393243595, 0.9960341090759078, 0.9950831307646473, 0.9965753644357395, 0.9948859441805676, 0.9938836928020267, 0.9944012141607942, 0.9986469353276867, 0.998512627765079]}, {\"categories\": [\"0\", \"1\", \"2\", \"3\", \"4\", \"5\", \"6\", \"7\", \"8\", \"9\", \"10\", \"11\", \"12\", \"13\", \"14\", \"15\", \"16\", \"17\", \"18\", \"19\", \"20\", \"21\", \"22\", \"23\", \"24\", \"25\", \"26\", \"27\", \"28\", \"29\", \"30\", \"31\", \"32\", \"36\", \"37\"], \"mode\": \"lines\", \"name\": \"AUC_micro_max\", \"stepped\": true, \"type\": \"scatter\", \"data\": [0.9990507840664953, 0.9990507840664953, 0.9990507840664953, 0.9990507840664953, 0.9990507840664953, 0.9990507840664953, 0.9990507840664953, 0.9990507840664953, 0.9990507840664953, 0.9990507840664953, 0.9990507840664953, 0.9990507840664953, 0.9990507840664953, 0.9990507840664953, 0.9990507840664953, 0.9990507840664953, 0.9990507840664953, 0.9990507840664953, 0.9990507840664953, 0.9990507840664953, 0.9990507840664953, 0.9990507840664953, 0.9990507840664953, 0.9990507840664953, 0.9990507840664953, 0.9990507840664953, 0.9990507840664953, 0.9990507840664953, 0.9990507840664953, 0.9990507840664953, 0.9990507840664953, 0.9990507840664953, 0.9990507840664953, 0.9990507840664953, 0.9990507840664953]}], \"precision_score_micro\": [{\"categories\": [\"0\", \"1\", \"2\", \"3\", \"4\", \"5\", \"6\", \"7\", \"8\", \"9\", \"10\", \"11\", \"12\", \"13\", \"14\", \"15\", \"16\", \"17\", \"18\", \"19\", \"20\", \"21\", \"22\", \"23\", \"24\", \"25\", \"26\", \"27\", \"28\", \"29\", \"30\", \"31\", \"32\", \"36\", \"37\"], \"mode\": \"markers\", \"name\": \"precision_score_micro\", \"stepped\": false, \"type\": \"scatter\", \"data\": [0.9870645076355977, 0.9848919899362238, 0.8975008191445789, 0.8708411152068339, 0.9165589491545258, 0.8303542215200984, 0.9694874495348428, 0.9605017260546487, 0.9558602188286233, 0.8824917792990462, 0.9334448540167339, 0.9459856942250306, 0.9017477034696624, 0.9133006553156632, 0.9228781814990347, 0.9406540284360189, 0.8726172546954537, 0.9611928500380317, 0.9565517816394594, 0.9725485343163068, 0.9723511204727635, 0.9545766485284654, 0.9737334269498567, 0.9566501960095956, 0.9025382364987421, 0.8393396817038207, 0.9549714469603886, 0.9705736937569481, 0.9652412673336844, 0.9732397460651806, 0.9661301269674097, 0.963562723070622, 0.9633651044409338, 0.9882493417588204, 0.9876569539523725]}, {\"categories\": [\"0\", \"1\", \"2\", \"3\", \"4\", \"5\", \"6\", \"7\", \"8\", \"9\", \"10\", \"11\", \"12\", \"13\", \"14\", \"15\", \"16\", \"17\", \"18\", \"19\", \"20\", \"21\", \"22\", \"23\", \"24\", \"25\", \"26\", \"27\", \"28\", \"29\", \"30\", \"31\", \"32\", \"36\", \"37\"], \"mode\": \"lines\", \"name\": \"precision_score_micro_max\", \"stepped\": true, \"type\": \"scatter\", \"data\": [0.9870645076355977, 0.9870645076355977, 0.9870645076355977, 0.9870645076355977, 0.9870645076355977, 0.9870645076355977, 0.9870645076355977, 0.9870645076355977, 0.9870645076355977, 0.9870645076355977, 0.9870645076355977, 0.9870645076355977, 0.9870645076355977, 0.9870645076355977, 0.9870645076355977, 0.9870645076355977, 0.9870645076355977, 0.9870645076355977, 0.9870645076355977, 0.9870645076355977, 0.9870645076355977, 0.9870645076355977, 0.9870645076355977, 0.9870645076355977, 0.9870645076355977, 0.9870645076355977, 0.9870645076355977, 0.9870645076355977, 0.9870645076355977, 0.9870645076355977, 0.9870645076355977, 0.9870645076355977, 0.9870645076355977, 0.9882493417588204, 0.9882493417588204]}], \"recall_score_weighted\": [{\"categories\": [\"0\", \"1\", \"2\", \"3\", \"4\", \"5\", \"6\", \"7\", \"8\", \"9\", \"10\", \"11\", \"12\", \"13\", \"14\", \"15\", \"16\", \"17\", \"18\", \"19\", \"20\", \"21\", \"22\", \"23\", \"24\", \"25\", \"26\", \"27\", \"28\", \"29\", \"30\", \"31\", \"32\", \"36\", \"37\"], \"mode\": \"markers\", \"name\": \"recall_score_weighted\", \"stepped\": false, \"type\": \"scatter\", \"data\": [0.9870645076355977, 0.9848919899362238, 0.8975008191445789, 0.8708411152068339, 0.9165589491545258, 0.8303542215200984, 0.9694874495348428, 0.9605017260546487, 0.9558602188286233, 0.8824917792990462, 0.9334448540167339, 0.9459856942250306, 0.9017477034696624, 0.9133006553156632, 0.9228781814990347, 0.9406540284360189, 0.8726172546954537, 0.9611928500380317, 0.9565517816394594, 0.9725485343163068, 0.9723511204727635, 0.9545766485284654, 0.9737334269498567, 0.9566501960095956, 0.9025382364987421, 0.8393396817038207, 0.9549714469603886, 0.9705736937569481, 0.9652412673336844, 0.9732397460651806, 0.9661301269674097, 0.963562723070622, 0.9633651044409338, 0.9882493417588204, 0.9876569539523725]}, {\"categories\": [\"0\", \"1\", \"2\", \"3\", \"4\", \"5\", \"6\", \"7\", \"8\", \"9\", \"10\", \"11\", \"12\", \"13\", \"14\", \"15\", \"16\", \"17\", \"18\", \"19\", \"20\", \"21\", \"22\", \"23\", \"24\", \"25\", \"26\", \"27\", \"28\", \"29\", \"30\", \"31\", \"32\", \"36\", \"37\"], \"mode\": \"lines\", \"name\": \"recall_score_weighted_max\", \"stepped\": true, \"type\": \"scatter\", \"data\": [0.9870645076355977, 0.9870645076355977, 0.9870645076355977, 0.9870645076355977, 0.9870645076355977, 0.9870645076355977, 0.9870645076355977, 0.9870645076355977, 0.9870645076355977, 0.9870645076355977, 0.9870645076355977, 0.9870645076355977, 0.9870645076355977, 0.9870645076355977, 0.9870645076355977, 0.9870645076355977, 0.9870645076355977, 0.9870645076355977, 0.9870645076355977, 0.9870645076355977, 0.9870645076355977, 0.9870645076355977, 0.9870645076355977, 0.9870645076355977, 0.9870645076355977, 0.9870645076355977, 0.9870645076355977, 0.9870645076355977, 0.9870645076355977, 0.9870645076355977, 0.9870645076355977, 0.9870645076355977, 0.9870645076355977, 0.9882493417588204, 0.9882493417588204]}], \"f1_score_macro\": [{\"categories\": [\"0\", \"1\", \"2\", \"3\", \"4\", \"5\", \"6\", \"7\", \"8\", \"9\", \"10\", \"11\", \"12\", \"13\", \"14\", \"15\", \"16\", \"17\", \"18\", \"19\", \"20\", \"21\", \"22\", \"23\", \"24\", \"25\", \"26\", \"27\", \"28\", \"29\", \"30\", \"31\", \"32\", \"36\", \"37\"], \"mode\": \"markers\", \"name\": \"f1_score_macro\", \"stepped\": false, \"type\": \"scatter\", \"data\": [0.975779235757441, 0.9715043611300881, 0.7428468454411435, 0.6270276506924298, 0.8592665788052516, 0.7510149869541078, 0.9406266941248799, 0.9216288358259206, 0.9167184395435611, 0.6790179613244641, 0.8553098226592771, 0.8863114034991867, 0.7596548336574509, 0.8008637621829106, 0.8210102828426411, 0.8749194979063534, 0.6372732162837016, 0.9231419584097359, 0.9127932947864563, 0.9469766616375566, 0.9464888467249684, 0.9121735030088614, 0.9495494375518962, 0.9175138409824659, 0.7601601738278104, 0.4563222431737475, 0.9128155101853377, 0.9429914640901457, 0.9316406844611343, 0.9485740318064018, 0.9335185532720013, 0.9277442361546165, 0.9276625744050847, 0.9779554040419759, 0.976831783231058]}, {\"categories\": [\"0\", \"1\", \"2\", \"3\", \"4\", \"5\", \"6\", \"7\", \"8\", \"9\", \"10\", \"11\", \"12\", \"13\", \"14\", \"15\", \"16\", \"17\", \"18\", \"19\", \"20\", \"21\", \"22\", \"23\", \"24\", \"25\", \"26\", \"27\", \"28\", \"29\", \"30\", \"31\", \"32\", \"36\", \"37\"], \"mode\": \"lines\", \"name\": \"f1_score_macro_max\", \"stepped\": true, \"type\": \"scatter\", \"data\": [0.975779235757441, 0.975779235757441, 0.975779235757441, 0.975779235757441, 0.975779235757441, 0.975779235757441, 0.975779235757441, 0.975779235757441, 0.975779235757441, 0.975779235757441, 0.975779235757441, 0.975779235757441, 0.975779235757441, 0.975779235757441, 0.975779235757441, 0.975779235757441, 0.975779235757441, 0.975779235757441, 0.975779235757441, 0.975779235757441, 0.975779235757441, 0.975779235757441, 0.975779235757441, 0.975779235757441, 0.975779235757441, 0.975779235757441, 0.975779235757441, 0.975779235757441, 0.975779235757441, 0.975779235757441, 0.975779235757441, 0.975779235757441, 0.975779235757441, 0.9779554040419759, 0.9779554040419759]}], \"norm_macro_recall\": [{\"categories\": [\"0\", \"1\", \"2\", \"3\", \"4\", \"5\", \"6\", \"7\", \"8\", \"9\", \"10\", \"11\", \"12\", \"13\", \"14\", \"15\", \"16\", \"17\", \"18\", \"19\", \"20\", \"21\", \"22\", \"23\", \"24\", \"25\", \"26\", \"27\", \"28\", \"29\", \"30\", \"31\", \"32\", \"36\", \"37\"], \"mode\": \"markers\", \"name\": \"norm_macro_recall\", \"stepped\": false, \"type\": \"scatter\", \"data\": [0.9452301274772567, 0.9287620117240314, 0.37649163568606814, 0.1987311222334703, 0.7917928637620465, 0.656929801212512, 0.8404604695066736, 0.7904565922180238, 0.818219044719631, 0.26884561710690663, 0.6119990558476398, 0.6843067421158994, 0.4092381103393112, 0.49563582043842397, 0.5249428865017939, 0.6660498573041191, 0.20860488329284813, 0.7937290145117318, 0.7648048713693432, 0.8585539476058851, 0.8568045339719662, 0.7909433617266908, 0.8678464589504539, 0.8132052019177868, 0.40988708556378267, 0.0, 0.7906071920007687, 0.8491003327355656, 0.8147738948636233, 0.8658342824291877, 0.820384740571969, 0.8021447734990682, 0.8042012357153854, 0.9461331959272646, 0.9448803388824526]}, {\"categories\": [\"0\", \"1\", \"2\", \"3\", \"4\", \"5\", \"6\", \"7\", \"8\", \"9\", \"10\", \"11\", \"12\", \"13\", \"14\", \"15\", \"16\", \"17\", \"18\", \"19\", \"20\", \"21\", \"22\", \"23\", \"24\", \"25\", \"26\", \"27\", \"28\", \"29\", \"30\", \"31\", \"32\", \"36\", \"37\"], \"mode\": \"lines\", \"name\": \"norm_macro_recall_max\", \"stepped\": true, \"type\": \"scatter\", \"data\": [0.9452301274772567, 0.9452301274772567, 0.9452301274772567, 0.9452301274772567, 0.9452301274772567, 0.9452301274772567, 0.9452301274772567, 0.9452301274772567, 0.9452301274772567, 0.9452301274772567, 0.9452301274772567, 0.9452301274772567, 0.9452301274772567, 0.9452301274772567, 0.9452301274772567, 0.9452301274772567, 0.9452301274772567, 0.9452301274772567, 0.9452301274772567, 0.9452301274772567, 0.9452301274772567, 0.9452301274772567, 0.9452301274772567, 0.9452301274772567, 0.9452301274772567, 0.9452301274772567, 0.9452301274772567, 0.9452301274772567, 0.9452301274772567, 0.9452301274772567, 0.9452301274772567, 0.9452301274772567, 0.9452301274772567, 0.9461331959272646, 0.9461331959272646]}], \"precision_score_macro\": [{\"categories\": [\"0\", \"1\", \"2\", \"3\", \"4\", \"5\", \"6\", \"7\", \"8\", \"9\", \"10\", \"11\", \"12\", \"13\", \"14\", \"15\", \"16\", \"17\", \"18\", \"19\", \"20\", \"21\", \"22\", \"23\", \"24\", \"25\", \"26\", \"27\", \"28\", \"29\", \"30\", \"31\", \"32\", \"36\", \"37\"], \"mode\": \"markers\", \"name\": \"precision_score_macro\", \"stepped\": false, \"type\": \"scatter\", \"data\": [0.979016396860827, 0.979001116364894, 0.9252608399578873, 0.9251312585309712, 0.8329501874431724, 0.723414498080856, 0.9645150492543575, 0.9546458060968289, 0.9250597704257162, 0.9385986036917662, 0.9410453688208745, 0.9541723286820503, 0.9199659738002058, 0.9167731825286071, 0.9540952434687918, 0.9398739597043958, 0.9299256281022871, 0.9557449084905906, 0.9522607912144331, 0.9672041457174881, 0.9672633418259332, 0.9314343433890979, 0.9671126866915079, 0.9295629390762591, 0.9247454589214416, 0.41966984085191034, 0.9332049263360355, 0.9642172802411973, 0.9611786809036378, 0.9661777767328624, 0.9615966825443016, 0.9611219165435562, 0.9591548706400967, 0.9830163697708644, 0.9813585095076651]}, {\"categories\": [\"0\", \"1\", \"2\", \"3\", \"4\", \"5\", \"6\", \"7\", \"8\", \"9\", \"10\", \"11\", \"12\", \"13\", \"14\", \"15\", \"16\", \"17\", \"18\", \"19\", \"20\", \"21\", \"22\", \"23\", \"24\", \"25\", \"26\", \"27\", \"28\", \"29\", \"30\", \"31\", \"32\", \"36\", \"37\"], \"mode\": \"lines\", \"name\": \"precision_score_macro_max\", \"stepped\": true, \"type\": \"scatter\", \"data\": [0.979016396860827, 0.979016396860827, 0.979016396860827, 0.979016396860827, 0.979016396860827, 0.979016396860827, 0.979016396860827, 0.979016396860827, 0.979016396860827, 0.979016396860827, 0.979016396860827, 0.979016396860827, 0.979016396860827, 0.979016396860827, 0.979016396860827, 0.979016396860827, 0.979016396860827, 0.979016396860827, 0.979016396860827, 0.979016396860827, 0.979016396860827, 0.979016396860827, 0.979016396860827, 0.979016396860827, 0.979016396860827, 0.979016396860827, 0.979016396860827, 0.979016396860827, 0.979016396860827, 0.979016396860827, 0.979016396860827, 0.979016396860827, 0.979016396860827, 0.9830163697708644, 0.9830163697708644]}], \"average_precision_score_macro\": [{\"categories\": [\"0\", \"1\", \"2\", \"3\", \"4\", \"5\", \"6\", \"7\", \"8\", \"9\", \"10\", \"11\", \"12\", \"13\", \"14\", \"15\", \"16\", \"17\", \"18\", \"19\", \"20\", \"21\", \"22\", \"23\", \"24\", \"25\", \"26\", \"27\", \"28\", \"29\", \"30\", \"31\", \"32\", \"36\", \"37\"], \"mode\": \"markers\", \"name\": \"average_precision_score_macro\", \"stepped\": false, \"type\": \"scatter\", \"data\": [0.9954964949711412, 0.9946682984736789, 0.9083040217548266, 0.8599522145921868, 0.9233017492818832, 0.8581451064760063, 0.9837890100847747, 0.9750206561305479, 0.9658232143612239, 0.9095645858057138, 0.9656087031223586, 0.9688239731193682, 0.8669442565740567, 0.9109981990210189, 0.9727394158531991, 0.9457613436771113, 0.9099174133060582, 0.9774591438764824, 0.973195306592423, 0.9858622073909796, 0.9848402221240441, 0.9649803639425588, 0.9870747616751063, 0.9659755965555337, 0.8769714031078522, 0.9355400213431123, 0.9639387441863408, 0.9847573244295229, 0.9813334746423541, 0.9864736626214032, 0.9805369749745229, 0.9780433882016366, 0.9795627813947517, 0.9943414092192802, 0.9946754042579697]}, {\"categories\": [\"0\", \"1\", \"2\", \"3\", \"4\", \"5\", \"6\", \"7\", \"8\", \"9\", \"10\", \"11\", \"12\", \"13\", \"14\", \"15\", \"16\", \"17\", \"18\", \"19\", \"20\", \"21\", \"22\", \"23\", \"24\", \"25\", \"26\", \"27\", \"28\", \"29\", \"30\", \"31\", \"32\", \"36\", \"37\"], \"mode\": \"lines\", \"name\": \"average_precision_score_macro_max\", \"stepped\": true, \"type\": \"scatter\", \"data\": [0.9954964949711412, 0.9954964949711412, 0.9954964949711412, 0.9954964949711412, 0.9954964949711412, 0.9954964949711412, 0.9954964949711412, 0.9954964949711412, 0.9954964949711412, 0.9954964949711412, 0.9954964949711412, 0.9954964949711412, 0.9954964949711412, 0.9954964949711412, 0.9954964949711412, 0.9954964949711412, 0.9954964949711412, 0.9954964949711412, 0.9954964949711412, 0.9954964949711412, 0.9954964949711412, 0.9954964949711412, 0.9954964949711412, 0.9954964949711412, 0.9954964949711412, 0.9954964949711412, 0.9954964949711412, 0.9954964949711412, 0.9954964949711412, 0.9954964949711412, 0.9954964949711412, 0.9954964949711412, 0.9954964949711412, 0.9954964949711412, 0.9954964949711412]}], \"precision_score_weighted\": [{\"categories\": [\"0\", \"1\", \"2\", \"3\", \"4\", \"5\", \"6\", \"7\", \"8\", \"9\", \"10\", \"11\", \"12\", \"13\", \"14\", \"15\", \"16\", \"17\", \"18\", \"19\", \"20\", \"21\", \"22\", \"23\", \"24\", \"25\", \"26\", \"27\", \"28\", \"29\", \"30\", \"31\", \"32\", \"36\", \"37\"], \"mode\": \"markers\", \"name\": \"precision_score_weighted\", \"stepped\": false, \"type\": \"scatter\", \"data\": [0.9870063888315647, 0.9847926995392209, 0.9036935613483159, 0.8858139807870605, 0.9279441855472471, 0.8850997902668997, 0.9692323568162132, 0.9601237214661799, 0.9553423637010309, 0.8969544422453932, 0.9345469066089943, 0.946954795204983, 0.9055513862291312, 0.9139221422954552, 0.9286422685681887, 0.9406901780628566, 0.8882411898469781, 0.9608219322795201, 0.9562289740133467, 0.972318172799315, 0.9721504228791692, 0.9535615053929379, 0.9734768591694655, 0.9559151890839178, 0.9072994923316822, 0.7045183772507437, 0.9539776378819441, 0.9702882575931207, 0.9650121041819321, 0.9729664184089577, 0.9658679048511775, 0.9634243518362372, 0.9631069408755182, 0.9881927022055556, 0.987592345695623]}, {\"categories\": [\"0\", \"1\", \"2\", \"3\", \"4\", \"5\", \"6\", \"7\", \"8\", \"9\", \"10\", \"11\", \"12\", \"13\", \"14\", \"15\", \"16\", \"17\", \"18\", \"19\", \"20\", \"21\", \"22\", \"23\", \"24\", \"25\", \"26\", \"27\", \"28\", \"29\", \"30\", \"31\", \"32\", \"36\", \"37\"], \"mode\": \"lines\", \"name\": \"precision_score_weighted_max\", \"stepped\": true, \"type\": \"scatter\", \"data\": [0.9870063888315647, 0.9870063888315647, 0.9870063888315647, 0.9870063888315647, 0.9870063888315647, 0.9870063888315647, 0.9870063888315647, 0.9870063888315647, 0.9870063888315647, 0.9870063888315647, 0.9870063888315647, 0.9870063888315647, 0.9870063888315647, 0.9870063888315647, 0.9870063888315647, 0.9870063888315647, 0.9870063888315647, 0.9870063888315647, 0.9870063888315647, 0.9870063888315647, 0.9870063888315647, 0.9870063888315647, 0.9870063888315647, 0.9870063888315647, 0.9870063888315647, 0.9870063888315647, 0.9870063888315647, 0.9870063888315647, 0.9870063888315647, 0.9870063888315647, 0.9870063888315647, 0.9870063888315647, 0.9870063888315647, 0.9881927022055556, 0.9881927022055556]}]}, \"metricName\": null, \"primaryMetricName\": \"accuracy\", \"showLegend\": false}, \"run_metrics\": [{\"name\": \"experiment_status\", \"run_id\": \"AutoML_0fdbdd47-d7a0-46cb-8179-fbb94af9c3a4\", \"categories\": [0, 1, 2, 3, 4, 5, 6, 7, 8, 9, 10, 11, 12, 13, 14], \"series\": [{\"data\": [\"DatasetEvaluation\", \"FeaturesGeneration\", \"DatasetFeaturization\", \"DatasetFeaturizationCompleted\", \"DatasetBalancing\", \"DatasetCrossValidationSplit\", \"ModelSelection\", \"BestRunExplainModel\", \"ModelExplanationDataSetSetup\", \"PickSurrogateModel\", \"EngineeredFeatureExplanations\", \"EngineeredFeatureExplanations\", \"RawFeaturesExplanations\", \"RawFeaturesExplanations\", \"BestRunExplainModel\"]}]}, {\"name\": \"experiment_status_description\", \"run_id\": \"AutoML_0fdbdd47-d7a0-46cb-8179-fbb94af9c3a4\", \"categories\": [0, 1, 2, 3, 4, 5, 6, 7, 8, 9, 10, 11, 12, 13, 14], \"series\": [{\"data\": [\"Gathering dataset statistics.\", \"Generating features for the dataset.\", \"Beginning to fit featurizers and featurize the dataset.\", \"Completed fit featurizers and featurizing the dataset.\", \"Performing class balancing sweeping\", \"Generating individually featurized CV splits.\", \"Beginning model selection.\", \"Best run model explanations started\", \"Model explanations data setup completed\", \"Choosing LightGBM as the surrogate model for explanations\", \"Computation of engineered features started\", \"Computation of engineered features completed\", \"Computation of raw features started\", \"Computation of raw features completed\", \"Best run model explanations completed\"]}]}, {\"name\": \"accuracy\", \"run_id\": \"AutoML_0fdbdd47-d7a0-46cb-8179-fbb94af9c3a4\", \"categories\": [0], \"series\": [{\"data\": [0.9882493417588204]}]}, {\"name\": \"recall_score_weighted\", \"run_id\": \"AutoML_0fdbdd47-d7a0-46cb-8179-fbb94af9c3a4\", \"categories\": [0], \"series\": [{\"data\": [0.9882493417588204]}]}, {\"name\": \"recall_score_macro\", \"run_id\": \"AutoML_0fdbdd47-d7a0-46cb-8179-fbb94af9c3a4\", \"categories\": [0], \"series\": [{\"data\": [0.9730665979636323]}]}, {\"name\": \"average_precision_score_weighted\", \"run_id\": \"AutoML_0fdbdd47-d7a0-46cb-8179-fbb94af9c3a4\", \"categories\": [0], \"series\": [{\"data\": [0.997850780106115]}]}, {\"name\": \"precision_score_micro\", \"run_id\": \"AutoML_0fdbdd47-d7a0-46cb-8179-fbb94af9c3a4\", \"categories\": [0], \"series\": [{\"data\": [0.9882493417588204]}]}, {\"name\": \"precision_score_macro\", \"run_id\": \"AutoML_0fdbdd47-d7a0-46cb-8179-fbb94af9c3a4\", \"categories\": [0], \"series\": [{\"data\": [0.9830163697708644]}]}, {\"name\": \"average_precision_score_macro\", \"run_id\": \"AutoML_0fdbdd47-d7a0-46cb-8179-fbb94af9c3a4\", \"categories\": [0], \"series\": [{\"data\": [0.9943414092192802]}]}, {\"name\": \"log_loss\", \"run_id\": \"AutoML_0fdbdd47-d7a0-46cb-8179-fbb94af9c3a4\", \"categories\": [0], \"series\": [{\"data\": [0.11380021103765514]}]}, {\"name\": \"recall_score_micro\", \"run_id\": \"AutoML_0fdbdd47-d7a0-46cb-8179-fbb94af9c3a4\", \"categories\": [0], \"series\": [{\"data\": [0.9882493417588204]}]}, {\"name\": \"AUC_weighted\", \"run_id\": \"AutoML_0fdbdd47-d7a0-46cb-8179-fbb94af9c3a4\", \"categories\": [0], \"series\": [{\"data\": [0.9974885437420142]}]}, {\"name\": \"weighted_accuracy\", \"run_id\": \"AutoML_0fdbdd47-d7a0-46cb-8179-fbb94af9c3a4\", \"categories\": [0], \"series\": [{\"data\": [0.9938389094553889]}]}, {\"name\": \"balanced_accuracy\", \"run_id\": \"AutoML_0fdbdd47-d7a0-46cb-8179-fbb94af9c3a4\", \"categories\": [0], \"series\": [{\"data\": [0.9730665979636323]}]}, {\"name\": \"f1_score_micro\", \"run_id\": \"AutoML_0fdbdd47-d7a0-46cb-8179-fbb94af9c3a4\", \"categories\": [0], \"series\": [{\"data\": [0.9882493417588204]}]}, {\"name\": \"matthews_correlation\", \"run_id\": \"AutoML_0fdbdd47-d7a0-46cb-8179-fbb94af9c3a4\", \"categories\": [0], \"series\": [{\"data\": [0.9560284158501058]}]}, {\"name\": \"f1_score_weighted\", \"run_id\": \"AutoML_0fdbdd47-d7a0-46cb-8179-fbb94af9c3a4\", \"categories\": [0], \"series\": [{\"data\": [0.9881894570962356]}]}, {\"name\": \"precision_score_weighted\", \"run_id\": \"AutoML_0fdbdd47-d7a0-46cb-8179-fbb94af9c3a4\", \"categories\": [0], \"series\": [{\"data\": [0.9881927022055556]}]}, {\"name\": \"AUC_micro\", \"run_id\": \"AutoML_0fdbdd47-d7a0-46cb-8179-fbb94af9c3a4\", \"categories\": [0], \"series\": [{\"data\": [0.9986469353276867]}]}, {\"name\": \"average_precision_score_micro\", \"run_id\": \"AutoML_0fdbdd47-d7a0-46cb-8179-fbb94af9c3a4\", \"categories\": [0], \"series\": [{\"data\": [0.9986733468442552]}]}, {\"name\": \"norm_macro_recall\", \"run_id\": \"AutoML_0fdbdd47-d7a0-46cb-8179-fbb94af9c3a4\", \"categories\": [0], \"series\": [{\"data\": [0.9461331959272646]}]}, {\"name\": \"f1_score_macro\", \"run_id\": \"AutoML_0fdbdd47-d7a0-46cb-8179-fbb94af9c3a4\", \"categories\": [0], \"series\": [{\"data\": [0.9779554040419759]}]}, {\"name\": \"AUC_macro\", \"run_id\": \"AutoML_0fdbdd47-d7a0-46cb-8179-fbb94af9c3a4\", \"categories\": [0], \"series\": [{\"data\": [0.9974885437420143]}]}], \"run_logs\": \"\\nRun is completed.\", \"graph\": {}, \"widget_settings\": {\"childWidgetDisplay\": \"popup\", \"send_telemetry\": false, \"log_level\": \"INFO\", \"sdk_version\": \"1.21.0\"}, \"loading\": false}"
          },
          "metadata": {}
        },
        {
          "output_type": "stream",
          "name": "stdout",
          "text": [
            "\n",
            "\n",
            "****************************************************************************************************\n",
            "DATA GUARDRAILS: \n",
            "\n",
            "TYPE:         Class balancing detection\n",
            "STATUS:       ALERTED\n",
            "DESCRIPTION:  To decrease model bias, please cancel the current run and fix balancing problem.\n",
            "              Learn more about imbalanced data: https://aka.ms/AutomatedMLImbalancedData\n",
            "DETAILS:      Imbalanced data can lead to a falsely perceived positive effect of a model's accuracy because the input data has bias towards one class.\n",
            "+---------------------------------+---------------------------------+--------------------------------------+\n",
            "|Size of the smallest class       |Name/Label of the smallest class |Number of samples in the training data|\n",
            "+=================================+=================================+======================================+\n",
            "|1627                             |1                                |10127                                 |\n",
            "+---------------------------------+---------------------------------+--------------------------------------+\n",
            "\n",
            "****************************************************************************************************\n",
            "\n",
            "TYPE:         Missing feature values imputation\n",
            "STATUS:       PASSED\n",
            "DESCRIPTION:  No feature missing values were detected in the training data.\n",
            "              Learn more about missing value imputation: https://aka.ms/AutomatedMLFeaturization\n",
            "\n",
            "****************************************************************************************************\n",
            "\n",
            "TYPE:         High cardinality feature detection\n",
            "STATUS:       PASSED\n",
            "DESCRIPTION:  Your inputs were analyzed, and no high cardinality features were detected.\n",
            "              Learn more about high cardinality feature handling: https://aka.ms/AutomatedMLFeaturization\n",
            "\n",
            "****************************************************************************************************\n",
            "\n",
            "****************************************************************************************************\n",
            "ITERATION: The iteration being evaluated.\n",
            "PIPELINE: A summary description of the pipeline being evaluated.\n",
            "DURATION: Time taken for the current iteration.\n",
            "METRIC: The result of computing score on the fitted pipeline.\n",
            "BEST: The best observed score thus far.\n",
            "****************************************************************************************************\n",
            "\n",
            " ITERATION   PIPELINE                                       DURATION      METRIC      BEST\n",
            "         0   MaxAbsScaler LightGBM                          0:00:52       0.9871    0.9871\n",
            "         1   MaxAbsScaler XGBoostClassifier                 0:00:57       0.9849    0.9871\n",
            "         2   MaxAbsScaler RandomForest                      0:00:57       0.8975    0.9871\n",
            "         3   MaxAbsScaler RandomForest                      0:01:08       0.8708    0.9871\n",
            "         4   MaxAbsScaler RandomForest                      0:03:30       0.9166    0.9871\n",
            "         5   MaxAbsScaler RandomForest                      0:03:30       0.8304    0.9871\n",
            "         6   SparseNormalizer XGBoostClassifier             0:03:33       0.9695    0.9871\n",
            "         7   SparseNormalizer XGBoostClassifier             0:00:51       0.9605    0.9871\n",
            "        10   StandardScalerWrapper RandomForest             0:00:50       0.9334    0.9871\n",
            "        11   MaxAbsScaler GradientBoosting                  0:01:02       0.9460    0.9871\n",
            "         8   MaxAbsScaler LogisticRegression                0:00:55       0.9559    0.9871\n",
            "         9   MaxAbsScaler RandomForest                      0:00:59       0.8825    0.9871\n",
            "        12   SparseNormalizer XGBoostClassifier             0:00:55       0.9017    0.9871\n",
            "        13   SparseNormalizer LightGBM                      0:00:48       0.9133    0.9871\n",
            "        14   MaxAbsScaler LightGBM                          0:00:52       0.9229    0.9871\n",
            "        15   SparseNormalizer XGBoostClassifier             0:00:55       0.9407    0.9871\n",
            "        16   SparseNormalizer LightGBM                      0:00:52       0.8726    0.9871\n",
            "        17   SparseNormalizer XGBoostClassifier             0:01:55       0.9612    0.9871\n",
            "        18   SparseNormalizer XGBoostClassifier             0:00:53       0.9566    0.9871\n",
            "        19   SparseNormalizer XGBoostClassifier             0:01:00       0.9725    0.9871\n",
            "        20   SparseNormalizer XGBoostClassifier             0:00:57       0.9724    0.9871\n",
            "        21   MaxAbsScaler LogisticRegression                0:00:49       0.9546    0.9871\n",
            "        22   StandardScalerWrapper XGBoostClassifier        0:00:44       0.9737    0.9871\n",
            "        23   MaxAbsScaler LogisticRegression                0:00:48       0.9567    0.9871\n",
            "        24   SparseNormalizer XGBoostClassifier             0:00:52       0.9025    0.9871\n",
            "        25   MaxAbsScaler LightGBM                          0:00:55       0.8393    0.9871\n",
            "        26   StandardScalerWrapper LogisticRegression       0:00:55       0.9550    0.9871\n",
            "        27   SparseNormalizer XGBoostClassifier             0:00:58       0.9706    0.9871\n",
            "        28   SparseNormalizer XGBoostClassifier             0:01:00       0.9652    0.9871\n",
            "        29   SparseNormalizer XGBoostClassifier             0:01:36       0.9732    0.9871\n",
            "        30   SparseNormalizer LightGBM                      0:00:51       0.9661    0.9871\n",
            "        31   SparseNormalizer XGBoostClassifier             0:00:50       0.9636    0.9871\n",
            "        32   SparseNormalizer XGBoostClassifier             0:00:54       0.9634    0.9871\n",
            "        33   SparseNormalizer XGBoostClassifier             0:00:24          nan    0.9871\n",
            "        34                                                  0:00:17          nan    0.9871\n",
            "        35                                                  0:00:18          nan    0.9871\n",
            "        36    VotingEnsemble                                0:01:28       0.9882    0.9882\n",
            "        37    StackEnsemble                                 0:01:29       0.9877    0.9882\n"
          ]
        },
        {
          "output_type": "execute_result",
          "execution_count": 9,
          "data": {
            "text/plain": "{'runId': 'AutoML_0fdbdd47-d7a0-46cb-8179-fbb94af9c3a4',\n 'target': 'project-cluster',\n 'status': 'Completed',\n 'startTimeUtc': '2021-02-03T03:12:50.902579Z',\n 'endTimeUtc': '2021-02-03T03:35:39.989827Z',\n 'properties': {'num_iterations': '1000',\n  'training_type': 'TrainFull',\n  'acquisition_function': 'EI',\n  'primary_metric': 'accuracy',\n  'train_split': '0',\n  'acquisition_parameter': '0',\n  'num_cross_validation': '3',\n  'target': 'project-cluster',\n  'AMLSettingsJsonString': '{\"path\":null,\"name\":\"exp-capstone\",\"subscription_id\":\"6b4af8be-9931-443e-90f6-c4c34a1f9737\",\"resource_group\":\"aml-quickstarts-137041\",\"workspace_name\":\"quick-starts-ws-137041\",\"region\":\"southcentralus\",\"compute_target\":\"project-cluster\",\"spark_service\":null,\"azure_service\":\"remote\",\"many_models\":false,\"pipeline_fetch_max_batch_size\":1,\"iterations\":1000,\"primary_metric\":\"accuracy\",\"task_type\":\"classification\",\"data_script\":null,\"validation_size\":0.0,\"n_cross_validations\":3,\"y_min\":null,\"y_max\":null,\"num_classes\":null,\"featurization\":\"auto\",\"_ignore_package_version_incompatibilities\":false,\"is_timeseries\":false,\"max_cores_per_iteration\":-1,\"max_concurrent_iterations\":4,\"iteration_timeout_minutes\":null,\"mem_in_mb\":null,\"enforce_time_on_windows\":false,\"experiment_timeout_minutes\":60,\"experiment_exit_score\":null,\"whitelist_models\":null,\"blacklist_algos\":[\"TensorFlowLinearClassifier\",\"TensorFlowDNN\"],\"supported_models\":[\"LogisticRegression\",\"TensorFlowLinearClassifier\",\"LinearSVM\",\"DecisionTree\",\"SGD\",\"BernoulliNaiveBayes\",\"LightGBM\",\"SVM\",\"GradientBoosting\",\"AveragedPerceptronClassifier\",\"MultinomialNaiveBayes\",\"ExtremeRandomTrees\",\"RandomForest\",\"XGBoostClassifier\",\"KNN\",\"TensorFlowDNN\"],\"auto_blacklist\":true,\"blacklist_samples_reached\":false,\"exclude_nan_labels\":true,\"verbosity\":20,\"_debug_log\":\"azureml_automl.log\",\"show_warnings\":false,\"model_explainability\":true,\"service_url\":null,\"sdk_url\":null,\"sdk_packages\":null,\"enable_onnx_compatible_models\":false,\"enable_split_onnx_featurizer_estimator_models\":false,\"vm_type\":\"STANDARD_D2_V2\",\"telemetry_verbosity\":20,\"send_telemetry\":true,\"enable_dnn\":false,\"scenario\":\"SDK-1.13.0\",\"environment_label\":null,\"force_text_dnn\":false,\"enable_feature_sweeping\":true,\"enable_early_stopping\":true,\"early_stopping_n_iters\":10,\"metrics\":null,\"enable_ensembling\":true,\"enable_stack_ensembling\":true,\"ensemble_iterations\":15,\"enable_tf\":false,\"enable_subsampling\":null,\"subsample_seed\":null,\"enable_nimbusml\":false,\"enable_streaming\":false,\"force_streaming\":false,\"track_child_runs\":true,\"allowed_private_models\":[],\"label_column_name\":\"Attrition_Flag\",\"weight_column_name\":null,\"cv_split_column_names\":null,\"enable_local_managed\":false,\"_local_managed_run_id\":null,\"cost_mode\":1,\"lag_length\":0,\"metric_operation\":\"maximize\",\"preprocess\":true}',\n  'DataPrepJsonString': '{\\\\\"training_data\\\\\": \\\\\"{\\\\\\\\\\\\\"blocks\\\\\\\\\\\\\": [{\\\\\\\\\\\\\"id\\\\\\\\\\\\\": \\\\\\\\\\\\\"36e55726-981f-46b4-970e-90965a23eb2b\\\\\\\\\\\\\", \\\\\\\\\\\\\"type\\\\\\\\\\\\\": \\\\\\\\\\\\\"Microsoft.DPrep.GetDatastoreFilesBlock\\\\\\\\\\\\\", \\\\\\\\\\\\\"arguments\\\\\\\\\\\\\": {\\\\\\\\\\\\\"datastores\\\\\\\\\\\\\": [{\\\\\\\\\\\\\"datastoreName\\\\\\\\\\\\\": \\\\\\\\\\\\\"workspaceblobstore\\\\\\\\\\\\\", \\\\\\\\\\\\\"path\\\\\\\\\\\\\": \\\\\\\\\\\\\"data/prepared.csv\\\\\\\\\\\\\", \\\\\\\\\\\\\"resourceGroup\\\\\\\\\\\\\": \\\\\\\\\\\\\"aml-quickstarts-137041\\\\\\\\\\\\\", \\\\\\\\\\\\\"subscription\\\\\\\\\\\\\": \\\\\\\\\\\\\"6b4af8be-9931-443e-90f6-c4c34a1f9737\\\\\\\\\\\\\", \\\\\\\\\\\\\"workspaceName\\\\\\\\\\\\\": \\\\\\\\\\\\\"quick-starts-ws-137041\\\\\\\\\\\\\"}]}, \\\\\\\\\\\\\"localData\\\\\\\\\\\\\": {}, \\\\\\\\\\\\\"isEnabled\\\\\\\\\\\\\": true, \\\\\\\\\\\\\"name\\\\\\\\\\\\\": null, \\\\\\\\\\\\\"annotation\\\\\\\\\\\\\": null}, {\\\\\\\\\\\\\"id\\\\\\\\\\\\\": \\\\\\\\\\\\\"05c47b97-9a9c-41ba-8828-462e56a8cf21\\\\\\\\\\\\\", \\\\\\\\\\\\\"type\\\\\\\\\\\\\": \\\\\\\\\\\\\"Microsoft.DPrep.ParseDelimitedBlock\\\\\\\\\\\\\", \\\\\\\\\\\\\"arguments\\\\\\\\\\\\\": {\\\\\\\\\\\\\"columnHeadersMode\\\\\\\\\\\\\": 3, \\\\\\\\\\\\\"fileEncoding\\\\\\\\\\\\\": 0, \\\\\\\\\\\\\"handleQuotedLineBreaks\\\\\\\\\\\\\": false, \\\\\\\\\\\\\"preview\\\\\\\\\\\\\": false, \\\\\\\\\\\\\"separator\\\\\\\\\\\\\": \\\\\\\\\\\\\",\\\\\\\\\\\\\", \\\\\\\\\\\\\"skipRows\\\\\\\\\\\\\": 0, \\\\\\\\\\\\\"skipRowsMode\\\\\\\\\\\\\": 0}, \\\\\\\\\\\\\"localData\\\\\\\\\\\\\": {}, \\\\\\\\\\\\\"isEnabled\\\\\\\\\\\\\": true, \\\\\\\\\\\\\"name\\\\\\\\\\\\\": null, \\\\\\\\\\\\\"annotation\\\\\\\\\\\\\": null}, {\\\\\\\\\\\\\"id\\\\\\\\\\\\\": \\\\\\\\\\\\\"5b14c30c-de2b-43f5-8a5b-a5a22b0794a1\\\\\\\\\\\\\", \\\\\\\\\\\\\"type\\\\\\\\\\\\\": \\\\\\\\\\\\\"Microsoft.DPrep.DropColumnsBlock\\\\\\\\\\\\\", \\\\\\\\\\\\\"arguments\\\\\\\\\\\\\": {\\\\\\\\\\\\\"columns\\\\\\\\\\\\\": {\\\\\\\\\\\\\"type\\\\\\\\\\\\\": 0, \\\\\\\\\\\\\"details\\\\\\\\\\\\\": {\\\\\\\\\\\\\"selectedColumns\\\\\\\\\\\\\": [\\\\\\\\\\\\\"Path\\\\\\\\\\\\\"]}}}, \\\\\\\\\\\\\"localData\\\\\\\\\\\\\": {}, \\\\\\\\\\\\\"isEnabled\\\\\\\\\\\\\": true, \\\\\\\\\\\\\"name\\\\\\\\\\\\\": null, \\\\\\\\\\\\\"annotation\\\\\\\\\\\\\": null}, {\\\\\\\\\\\\\"id\\\\\\\\\\\\\": \\\\\\\\\\\\\"26facdb1-b410-421b-af9b-b16723017839\\\\\\\\\\\\\", \\\\\\\\\\\\\"type\\\\\\\\\\\\\": \\\\\\\\\\\\\"Microsoft.DPrep.SetColumnTypesBlock\\\\\\\\\\\\\", \\\\\\\\\\\\\"arguments\\\\\\\\\\\\\": {\\\\\\\\\\\\\"columnConversion\\\\\\\\\\\\\": [{\\\\\\\\\\\\\"column\\\\\\\\\\\\\": {\\\\\\\\\\\\\"type\\\\\\\\\\\\\": 2, \\\\\\\\\\\\\"details\\\\\\\\\\\\\": {\\\\\\\\\\\\\"selectedColumn\\\\\\\\\\\\\": \\\\\\\\\\\\\"Column1\\\\\\\\\\\\\"}}, \\\\\\\\\\\\\"typeProperty\\\\\\\\\\\\\": 2}, {\\\\\\\\\\\\\"column\\\\\\\\\\\\\": {\\\\\\\\\\\\\"type\\\\\\\\\\\\\": 2, \\\\\\\\\\\\\"details\\\\\\\\\\\\\": {\\\\\\\\\\\\\"selectedColumn\\\\\\\\\\\\\": \\\\\\\\\\\\\"Customer_Age\\\\\\\\\\\\\"}}, \\\\\\\\\\\\\"typeProperty\\\\\\\\\\\\\": 2}, {\\\\\\\\\\\\\"column\\\\\\\\\\\\\": {\\\\\\\\\\\\\"type\\\\\\\\\\\\\": 2, \\\\\\\\\\\\\"details\\\\\\\\\\\\\": {\\\\\\\\\\\\\"selectedColumn\\\\\\\\\\\\\": \\\\\\\\\\\\\"Gender_M\\\\\\\\\\\\\"}}, \\\\\\\\\\\\\"typeProperty\\\\\\\\\\\\\": 2}, {\\\\\\\\\\\\\"column\\\\\\\\\\\\\": {\\\\\\\\\\\\\"type\\\\\\\\\\\\\": 2, \\\\\\\\\\\\\"details\\\\\\\\\\\\\": {\\\\\\\\\\\\\"selectedColumn\\\\\\\\\\\\\": \\\\\\\\\\\\\"Gender_F\\\\\\\\\\\\\"}}, \\\\\\\\\\\\\"typeProperty\\\\\\\\\\\\\": 2}, {\\\\\\\\\\\\\"column\\\\\\\\\\\\\": {\\\\\\\\\\\\\"type\\\\\\\\\\\\\": 2, \\\\\\\\\\\\\"details\\\\\\\\\\\\\": {\\\\\\\\\\\\\"selectedColumn\\\\\\\\\\\\\": \\\\\\\\\\\\\"Dependent_count\\\\\\\\\\\\\"}}, \\\\\\\\\\\\\"typeProperty\\\\\\\\\\\\\": 2}, {\\\\\\\\\\\\\"column\\\\\\\\\\\\\": {\\\\\\\\\\\\\"type\\\\\\\\\\\\\": 2, \\\\\\\\\\\\\"details\\\\\\\\\\\\\": {\\\\\\\\\\\\\"selectedColumn\\\\\\\\\\\\\": \\\\\\\\\\\\\"Education_Level\\\\\\\\\\\\\"}}, \\\\\\\\\\\\\"typeProperty\\\\\\\\\\\\\": 2}, {\\\\\\\\\\\\\"column\\\\\\\\\\\\\": {\\\\\\\\\\\\\"type\\\\\\\\\\\\\": 2, \\\\\\\\\\\\\"details\\\\\\\\\\\\\": {\\\\\\\\\\\\\"selectedColumn\\\\\\\\\\\\\": \\\\\\\\\\\\\"Married\\\\\\\\\\\\\"}}, \\\\\\\\\\\\\"typeProperty\\\\\\\\\\\\\": 2}, {\\\\\\\\\\\\\"column\\\\\\\\\\\\\": {\\\\\\\\\\\\\"type\\\\\\\\\\\\\": 2, \\\\\\\\\\\\\"details\\\\\\\\\\\\\": {\\\\\\\\\\\\\"selectedColumn\\\\\\\\\\\\\": \\\\\\\\\\\\\"Unknown\\\\\\\\\\\\\"}}, \\\\\\\\\\\\\"typeProperty\\\\\\\\\\\\\": 2}, {\\\\\\\\\\\\\"column\\\\\\\\\\\\\": {\\\\\\\\\\\\\"type\\\\\\\\\\\\\": 2, \\\\\\\\\\\\\"details\\\\\\\\\\\\\": {\\\\\\\\\\\\\"selectedColumn\\\\\\\\\\\\\": \\\\\\\\\\\\\"Divorced\\\\\\\\\\\\\"}}, \\\\\\\\\\\\\"typeProperty\\\\\\\\\\\\\": 2}, {\\\\\\\\\\\\\"column\\\\\\\\\\\\\": {\\\\\\\\\\\\\"type\\\\\\\\\\\\\": 2, \\\\\\\\\\\\\"details\\\\\\\\\\\\\": {\\\\\\\\\\\\\"selectedColumn\\\\\\\\\\\\\": \\\\\\\\\\\\\"Single\\\\\\\\\\\\\"}}, \\\\\\\\\\\\\"typeProperty\\\\\\\\\\\\\": 2}, {\\\\\\\\\\\\\"column\\\\\\\\\\\\\": {\\\\\\\\\\\\\"type\\\\\\\\\\\\\": 2, \\\\\\\\\\\\\"details\\\\\\\\\\\\\": {\\\\\\\\\\\\\"selectedColumn\\\\\\\\\\\\\": \\\\\\\\\\\\\"Income_Category\\\\\\\\\\\\\"}}, \\\\\\\\\\\\\"typeProperty\\\\\\\\\\\\\": 2}, {\\\\\\\\\\\\\"column\\\\\\\\\\\\\": {\\\\\\\\\\\\\"type\\\\\\\\\\\\\": 2, \\\\\\\\\\\\\"details\\\\\\\\\\\\\": {\\\\\\\\\\\\\"selectedColumn\\\\\\\\\\\\\": \\\\\\\\\\\\\"Card_Category\\\\\\\\\\\\\"}}, \\\\\\\\\\\\\"typeProperty\\\\\\\\\\\\\": 2}, {\\\\\\\\\\\\\"column\\\\\\\\\\\\\": {\\\\\\\\\\\\\"type\\\\\\\\\\\\\": 2, \\\\\\\\\\\\\"details\\\\\\\\\\\\\": {\\\\\\\\\\\\\"selectedColumn\\\\\\\\\\\\\": \\\\\\\\\\\\\"Months_on_book\\\\\\\\\\\\\"}}, \\\\\\\\\\\\\"typeProperty\\\\\\\\\\\\\": 2}, {\\\\\\\\\\\\\"column\\\\\\\\\\\\\": {\\\\\\\\\\\\\"type\\\\\\\\\\\\\": 2, \\\\\\\\\\\\\"details\\\\\\\\\\\\\": {\\\\\\\\\\\\\"selectedColumn\\\\\\\\\\\\\": \\\\\\\\\\\\\"Total_Relationship_Count\\\\\\\\\\\\\"}}, \\\\\\\\\\\\\"typeProperty\\\\\\\\\\\\\": 2}, {\\\\\\\\\\\\\"column\\\\\\\\\\\\\": {\\\\\\\\\\\\\"type\\\\\\\\\\\\\": 2, \\\\\\\\\\\\\"details\\\\\\\\\\\\\": {\\\\\\\\\\\\\"selectedColumn\\\\\\\\\\\\\": \\\\\\\\\\\\\"Months_Inactive_12_mon\\\\\\\\\\\\\"}}, \\\\\\\\\\\\\"typeProperty\\\\\\\\\\\\\": 2}, {\\\\\\\\\\\\\"column\\\\\\\\\\\\\": {\\\\\\\\\\\\\"type\\\\\\\\\\\\\": 2, \\\\\\\\\\\\\"details\\\\\\\\\\\\\": {\\\\\\\\\\\\\"selectedColumn\\\\\\\\\\\\\": \\\\\\\\\\\\\"Contacts_Count_12_mon\\\\\\\\\\\\\"}}, \\\\\\\\\\\\\"typeProperty\\\\\\\\\\\\\": 2}, {\\\\\\\\\\\\\"column\\\\\\\\\\\\\": {\\\\\\\\\\\\\"type\\\\\\\\\\\\\": 2, \\\\\\\\\\\\\"details\\\\\\\\\\\\\": {\\\\\\\\\\\\\"selectedColumn\\\\\\\\\\\\\": \\\\\\\\\\\\\"Credit_Limit\\\\\\\\\\\\\"}}, \\\\\\\\\\\\\"typeProperty\\\\\\\\\\\\\": 3}, {\\\\\\\\\\\\\"column\\\\\\\\\\\\\": {\\\\\\\\\\\\\"type\\\\\\\\\\\\\": 2, \\\\\\\\\\\\\"details\\\\\\\\\\\\\": {\\\\\\\\\\\\\"selectedColumn\\\\\\\\\\\\\": \\\\\\\\\\\\\"Total_Revolving_Bal\\\\\\\\\\\\\"}}, \\\\\\\\\\\\\"typeProperty\\\\\\\\\\\\\": 2}, {\\\\\\\\\\\\\"column\\\\\\\\\\\\\": {\\\\\\\\\\\\\"type\\\\\\\\\\\\\": 2, \\\\\\\\\\\\\"details\\\\\\\\\\\\\": {\\\\\\\\\\\\\"selectedColumn\\\\\\\\\\\\\": \\\\\\\\\\\\\"Avg_Open_To_Buy\\\\\\\\\\\\\"}}, \\\\\\\\\\\\\"typeProperty\\\\\\\\\\\\\": 3}, {\\\\\\\\\\\\\"column\\\\\\\\\\\\\": {\\\\\\\\\\\\\"type\\\\\\\\\\\\\": 2, \\\\\\\\\\\\\"details\\\\\\\\\\\\\": {\\\\\\\\\\\\\"selectedColumn\\\\\\\\\\\\\": \\\\\\\\\\\\\"Total_Amt_Chng_Q4_Q1\\\\\\\\\\\\\"}}, \\\\\\\\\\\\\"typeProperty\\\\\\\\\\\\\": 3}, {\\\\\\\\\\\\\"column\\\\\\\\\\\\\": {\\\\\\\\\\\\\"type\\\\\\\\\\\\\": 2, \\\\\\\\\\\\\"details\\\\\\\\\\\\\": {\\\\\\\\\\\\\"selectedColumn\\\\\\\\\\\\\": \\\\\\\\\\\\\"Total_Trans_Amt\\\\\\\\\\\\\"}}, \\\\\\\\\\\\\"typeProperty\\\\\\\\\\\\\": 2}, {\\\\\\\\\\\\\"column\\\\\\\\\\\\\": {\\\\\\\\\\\\\"type\\\\\\\\\\\\\": 2, \\\\\\\\\\\\\"details\\\\\\\\\\\\\": {\\\\\\\\\\\\\"selectedColumn\\\\\\\\\\\\\": \\\\\\\\\\\\\"Total_Trans_Ct\\\\\\\\\\\\\"}}, \\\\\\\\\\\\\"typeProperty\\\\\\\\\\\\\": 2}, {\\\\\\\\\\\\\"column\\\\\\\\\\\\\": {\\\\\\\\\\\\\"type\\\\\\\\\\\\\": 2, \\\\\\\\\\\\\"details\\\\\\\\\\\\\": {\\\\\\\\\\\\\"selectedColumn\\\\\\\\\\\\\": \\\\\\\\\\\\\"Total_Ct_Chng_Q4_Q1\\\\\\\\\\\\\"}}, \\\\\\\\\\\\\"typeProperty\\\\\\\\\\\\\": 3}, {\\\\\\\\\\\\\"column\\\\\\\\\\\\\": {\\\\\\\\\\\\\"type\\\\\\\\\\\\\": 2, \\\\\\\\\\\\\"details\\\\\\\\\\\\\": {\\\\\\\\\\\\\"selectedColumn\\\\\\\\\\\\\": \\\\\\\\\\\\\"Avg_Utilization_Ratio\\\\\\\\\\\\\"}}, \\\\\\\\\\\\\"typeProperty\\\\\\\\\\\\\": 3}, {\\\\\\\\\\\\\"column\\\\\\\\\\\\\": {\\\\\\\\\\\\\"type\\\\\\\\\\\\\": 2, \\\\\\\\\\\\\"details\\\\\\\\\\\\\": {\\\\\\\\\\\\\"selectedColumn\\\\\\\\\\\\\": \\\\\\\\\\\\\"Attrition_Flag\\\\\\\\\\\\\"}}, \\\\\\\\\\\\\"typeProperty\\\\\\\\\\\\\": 2}]}, \\\\\\\\\\\\\"localData\\\\\\\\\\\\\": {}, \\\\\\\\\\\\\"isEnabled\\\\\\\\\\\\\": true, \\\\\\\\\\\\\"name\\\\\\\\\\\\\": null, \\\\\\\\\\\\\"annotation\\\\\\\\\\\\\": null}], \\\\\\\\\\\\\"inspectors\\\\\\\\\\\\\": [], \\\\\\\\\\\\\"meta\\\\\\\\\\\\\": {\\\\\\\\\\\\\"savedDatasetId\\\\\\\\\\\\\": \\\\\\\\\\\\\"8d2e2451-25d6-40b5-8f4e-47aae38bf538\\\\\\\\\\\\\", \\\\\\\\\\\\\"datasetType\\\\\\\\\\\\\": \\\\\\\\\\\\\"tabular\\\\\\\\\\\\\", \\\\\\\\\\\\\"subscriptionId\\\\\\\\\\\\\": \\\\\\\\\\\\\"6b4af8be-9931-443e-90f6-c4c34a1f9737\\\\\\\\\\\\\", \\\\\\\\\\\\\"workspaceId\\\\\\\\\\\\\": \\\\\\\\\\\\\"4efbfa29-d836-4572-8448-b021d094e8a2\\\\\\\\\\\\\", \\\\\\\\\\\\\"workspaceLocation\\\\\\\\\\\\\": \\\\\\\\\\\\\"southcentralus\\\\\\\\\\\\\"}}\\\\\", \\\\\"activities\\\\\": 0}',\n  'EnableSubsampling': None,\n  'runTemplate': 'AutoML',\n  'azureml.runsource': 'automl',\n  'display_task_type': 'classification',\n  'dependencies_versions': '{\"azureml-widgets\": \"1.20.0\", \"azureml-train\": \"1.21.0\", \"azureml-train-restclients-hyperdrive\": \"1.21.0\", \"azureml-train-core\": \"1.21.0\", \"azureml-train-automl\": \"1.21.0\", \"azureml-train-automl-runtime\": \"1.21.0.post1\", \"azureml-train-automl-client\": \"1.21.0\", \"azureml-tensorboard\": \"1.20.0\", \"azureml-telemetry\": \"1.21.0\", \"azureml-sdk\": \"1.21.0\", \"azureml-samples\": \"0+unknown\", \"azureml-pipeline\": \"1.21.0\", \"azureml-pipeline-steps\": \"1.21.0\", \"azureml-pipeline-core\": \"1.21.0\", \"azureml-opendatasets\": \"1.20.0\", \"azureml-model-management-sdk\": \"1.0.1b6.post1\", \"azureml-mlflow\": \"1.20.0.post1\", \"azureml-interpret\": \"1.21.0\", \"azureml-explain-model\": \"1.20.0\", \"azureml-defaults\": \"1.21.0\", \"azureml-dataset-runtime\": \"1.21.0\", \"azureml-dataprep\": \"2.8.2\", \"azureml-dataprep-rslex\": \"1.6.0\", \"azureml-dataprep-native\": \"28.0.0\", \"azureml-datadrift\": \"1.20.0\", \"azureml-core\": \"1.21.0.post2\", \"azureml-contrib-services\": \"1.20.0\", \"azureml-contrib-server\": \"1.20.0\", \"azureml-contrib-reinforcementlearning\": \"1.20.0\", \"azureml-contrib-pipeline-steps\": \"1.20.0\", \"azureml-contrib-notebook\": \"1.20.0\", \"azureml-contrib-interpret\": \"1.20.0\", \"azureml-contrib-gbdt\": \"1.20.0\", \"azureml-contrib-fairness\": \"1.20.0\", \"azureml-contrib-dataset\": \"1.20.0\", \"azureml-cli-common\": \"1.20.0\", \"azureml-automl-runtime\": \"1.21.0\", \"azureml-automl-core\": \"1.21.0\", \"azureml-accel-models\": \"1.20.0\"}',\n  '_aml_system_scenario_identification': 'Remote.Parent',\n  'ClientType': 'SDK',\n  'environment_cpu_name': 'AzureML-AutoML',\n  'environment_cpu_label': 'prod',\n  'environment_gpu_name': 'AzureML-AutoML-GPU',\n  'environment_gpu_label': 'prod',\n  'root_attribution': 'automl',\n  'attribution': 'AutoML',\n  'Orchestrator': 'AutoML',\n  'CancelUri': 'https://southcentralus.experiments.azureml.net/jasmine/v1.0/subscriptions/6b4af8be-9931-443e-90f6-c4c34a1f9737/resourceGroups/aml-quickstarts-137041/providers/Microsoft.MachineLearningServices/workspaces/quick-starts-ws-137041/experimentids/9e02e400-f6f5-473f-affe-8f3ff32a3378/cancel/AutoML_0fdbdd47-d7a0-46cb-8179-fbb94af9c3a4',\n  'ClientSdkVersion': '1.21.0',\n  'snapshotId': '00000000-0000-0000-0000-000000000000',\n  'SetupRunId': 'AutoML_0fdbdd47-d7a0-46cb-8179-fbb94af9c3a4_setup',\n  'SetupRunContainerId': 'dcid.AutoML_0fdbdd47-d7a0-46cb-8179-fbb94af9c3a4_setup',\n  'FeaturizationRunJsonPath': 'featurizer_container.json',\n  'FeaturizationRunId': 'AutoML_0fdbdd47-d7a0-46cb-8179-fbb94af9c3a4_featurize',\n  'ProblemInfoJsonString': '{\"dataset_num_categorical\": 0, \"is_sparse\": true, \"subsampling\": false, \"dataset_classes\": 2, \"dataset_features\": 154, \"dataset_samples\": 10127, \"single_frequency_class_detected\": false}',\n  'ModelExplainRunId': 'AutoML_0fdbdd47-d7a0-46cb-8179-fbb94af9c3a4_ModelExplain'},\n 'inputDatasets': [{'dataset': {'id': '8d2e2451-25d6-40b5-8f4e-47aae38bf538'}, 'consumptionDetails': {'type': 'RunInput', 'inputName': 'training_data', 'mechanism': 'Direct'}}],\n 'outputDatasets': [],\n 'logFiles': {},\n 'submittedBy': 'ODL_User 137041'}"
          },
          "metadata": {}
        }
      ],
      "execution_count": 9,
      "metadata": {
        "gather": {
          "logged": 1612323582723
        },
        "jupyter": {
          "outputs_hidden": false,
          "source_hidden": false
        },
        "nteract": {
          "transient": {
            "deleting": false
          }
        }
      }
    },
    {
      "cell_type": "markdown",
      "source": [
        "## Best Model\n",
        "\n",
        "TODO: In the cell below, get the best model from the automl experiments and display all the properties of the model.\n",
        "\n"
      ],
      "metadata": {}
    },
    {
      "cell_type": "code",
      "source": [
        "best_run, best_model = remote_run.get_output()"
      ],
      "outputs": [],
      "execution_count": 10,
      "metadata": {
        "gather": {
          "logged": 1612323586296
        },
        "jupyter": {
          "outputs_hidden": false,
          "source_hidden": false
        },
        "nteract": {
          "transient": {
            "deleting": false
          }
        }
      }
    },
    {
      "cell_type": "code",
      "source": [
        "import joblib\r\n",
        "joblib.dump(value=best_model,filename='model.pkl')"
      ],
      "outputs": [
        {
          "output_type": "execute_result",
          "execution_count": 48,
          "data": {
            "text/plain": "['model.pkl']"
          },
          "metadata": {}
        }
      ],
      "execution_count": 48,
      "metadata": {
        "collapsed": true,
        "jupyter": {
          "source_hidden": false,
          "outputs_hidden": false
        },
        "nteract": {
          "transient": {
            "deleting": false
          }
        },
        "gather": {
          "logged": 1612328268201
        }
      }
    },
    {
      "cell_type": "code",
      "source": [
        "#TODO: Save the best model\n",
        "from azureml.core.model import Model\n",
        "\n",
        "from azureml.core.resource_configuration import ResourceConfiguration\n",
        "\n",
        "os.makedirs('outputs',exist_ok=True)\n",
        "automodel = best_run.register_model(model_name = \"model\", model_path = './outputs/model.pkl', \n",
        "                                model_framework= Model.Framework.SCIKITLEARN, model_framework_version='0.19.1')\n",
        "                                #resource_configuration=ResourceConfiguration(cpu=1, memory_in_gb=0.5))"
      ],
      "outputs": [],
      "execution_count": 69,
      "metadata": {
        "gather": {
          "logged": 1612329912219
        },
        "jupyter": {
          "outputs_hidden": false,
          "source_hidden": false
        },
        "nteract": {
          "transient": {
            "deleting": false
          }
        }
      }
    },
    {
      "cell_type": "code",
      "source": [
        "best_run.get_file_names()"
      ],
      "outputs": [
        {
          "output_type": "execute_result",
          "execution_count": 60,
          "data": {
            "text/plain": "['accuracy_table',\n 'automl_driver.py',\n 'azureml-logs/55_azureml-execution-tvmps_8742f8b147642b77d02b9dfaa3461ecc8524226d0025f1edac04dc4f964d8aab_d.txt',\n 'azureml-logs/65_job_prep-tvmps_8742f8b147642b77d02b9dfaa3461ecc8524226d0025f1edac04dc4f964d8aab_d.txt',\n 'azureml-logs/70_driver_log.txt',\n 'azureml-logs/75_job_post-tvmps_8742f8b147642b77d02b9dfaa3461ecc8524226d0025f1edac04dc4f964d8aab_d.txt',\n 'azureml-logs/process_info.json',\n 'azureml-logs/process_status.json',\n 'confusion_matrix',\n 'explanation/5514da20/classes.interpret.json',\n 'explanation/5514da20/expected_values.interpret.json',\n 'explanation/5514da20/features.interpret.json',\n 'explanation/5514da20/global_names/0.interpret.json',\n 'explanation/5514da20/global_rank/0.interpret.json',\n 'explanation/5514da20/global_values/0.interpret.json',\n 'explanation/5514da20/local_importance_values.interpret.json',\n 'explanation/5514da20/local_importance_viz.interpret.json',\n 'explanation/5514da20/per_class_names/0.interpret.json',\n 'explanation/5514da20/per_class_rank/0.interpret.json',\n 'explanation/5514da20/per_class_values/0.interpret.json',\n 'explanation/5514da20/rich_metadata.interpret.json',\n 'explanation/5514da20/visualization_dict.interpret.json',\n 'explanation/5514da20/ys_pred_proba_viz.interpret.json',\n 'explanation/5514da20/ys_pred_viz.interpret.json',\n 'explanation/d58dfa05/classes.interpret.json',\n 'explanation/d58dfa05/eval_data_viz.interpret.json',\n 'explanation/d58dfa05/expected_values.interpret.json',\n 'explanation/d58dfa05/features.interpret.json',\n 'explanation/d58dfa05/global_names/0.interpret.json',\n 'explanation/d58dfa05/global_rank/0.interpret.json',\n 'explanation/d58dfa05/global_values/0.interpret.json',\n 'explanation/d58dfa05/local_importance_values.interpret.json',\n 'explanation/d58dfa05/per_class_names/0.interpret.json',\n 'explanation/d58dfa05/per_class_rank/0.interpret.json',\n 'explanation/d58dfa05/per_class_values/0.interpret.json',\n 'explanation/d58dfa05/rich_metadata.interpret.json',\n 'explanation/d58dfa05/visualization_dict.interpret.json',\n 'logs/azureml/104_azureml.log',\n 'logs/azureml/azureml_automl.log',\n 'logs/azureml/job_prep_azureml.log',\n 'logs/azureml/job_release_azureml.log',\n 'outputs/conda_env_v_1_0_0.yml',\n 'outputs/env_dependencies.json',\n 'outputs/internal_cross_validated_models.pkl',\n 'outputs/model.pkl',\n 'outputs/pipeline_graph.json',\n 'outputs/scoring_file_v_1_0_0.py']"
          },
          "metadata": {}
        }
      ],
      "execution_count": 60,
      "metadata": {
        "collapsed": true,
        "jupyter": {
          "source_hidden": false,
          "outputs_hidden": false
        },
        "nteract": {
          "transient": {
            "deleting": false
          }
        },
        "gather": {
          "logged": 1612329124262
        }
      }
    },
    {
      "cell_type": "code",
      "source": [
        "best_run.download_file('outputs/scoring_file_v_1_0_0.py','score.py')"
      ],
      "outputs": [],
      "execution_count": 61,
      "metadata": {
        "collapsed": true,
        "jupyter": {
          "source_hidden": false,
          "outputs_hidden": false
        },
        "nteract": {
          "transient": {
            "deleting": false
          }
        },
        "gather": {
          "logged": 1612329381607
        }
      }
    },
    {
      "cell_type": "markdown",
      "source": [
        "## ONNX Model\n",
        "Save the model in ONNX format"
      ],
      "metadata": {}
    },
    {
      "cell_type": "code",
      "source": [
        "from azureml.automl.runtime.onnx_convert import OnnxConverter\n",
        "\n",
        "best_run, onnx_mdl = remote_run.get_output(return_onnx_model=True)\n",
        "\n",
        "onnx_fl_path = \"./best_model.onnx\"\n",
        "OnnxConverter.save_onnx_model(onnx_mdl, onnx_fl_path)"
      ],
      "outputs": [],
      "execution_count": null,
      "metadata": {}
    },
    {
      "cell_type": "markdown",
      "source": [
        "## Model Deployment\n",
        "\n",
        "Remember you have to deploy only one of the two models you trained.. Perform the steps in the rest of this notebook only if you wish to deploy this model.\n",
        "\n",
        "TODO: In the cell below, register the model, create an inference config and deploy the model as a web service."
      ],
      "metadata": {}
    },
    {
      "cell_type": "code",
      "source": [
        "from azureml.core.environment import Environment\n",
        "from azureml.core.model import InferenceConfig\n",
        "from azureml.core.webservice import AciWebservice\n",
        "from azureml.core.model import Model\n",
        "import azureml.train.automl\n",
        "import azureml.automl\n",
        "\n",
        "env_name=\"environment1\"\n",
        "#Use curated environment AzureML-Minimal\n",
        "env = Environment.get(ws, \"AzureML-AutoML\")\n",
        "\n",
        "for pip_package in [\"scikit-learn\"]:\n",
        "    env.python.conda_dependencies.add_pip_package(pip_package)\n",
        "\n",
        "inference_config = InferenceConfig(entry_script='score.py',environment=env)\n",
        "\n",
        "depl_config = AciWebservice.deploy_configuration(cpu_cores=1,memory_gb=2, enable_app_insights=True, auth_enabled= True)\n",
        "\n",
        "service = Model.deploy(ws, name=\"myservice1\", models=[model], inference_config=inference_config, deployment_config=depl_config)\n",
        "#service = Model.deploy(ws, \"myservice1\", [model], deployment_config=depl_config)\n",
        "#service = Model.deploy(ws, \"myservice1\", [model])\n",
        "\n",
        "service.wait_for_deployment(show_output = True)\n",
        "#enable logging\n",
        "service.update(enable_app_insights=True)\n",
        "print(service.get_logs())\n",
        "print(service.state)\n",
        "\n"
      ],
      "outputs": [
        {
          "output_type": "stream",
          "name": "stdout",
          "text": [
            "Tips: You can try get_logs(): https://aka.ms/debugimage#dockerlog or local deployment: https://aka.ms/debugimage#debug-locally to debug if deployment takes longer than 10 minutes.\n",
            "Running......................................\n",
            "Succeeded\n",
            "ACI service creation operation finished, operation \"Succeeded\"\n",
            "2021-02-03T05:29:05,893764500+00:00 - rsyslog/run \n",
            "2021-02-03T05:29:05,899073100+00:00 - gunicorn/run \n",
            "2021-02-03T05:29:05,901748000+00:00 - iot-server/run \n",
            "rsyslogd: /azureml-envs/azureml_7ade26eb614f97df8030bc480da59236/lib/libuuid.so.1: no version information available (required by rsyslogd)\n",
            "2021-02-03T05:29:05,932281700+00:00 - nginx/run \n",
            "/usr/sbin/nginx: /azureml-envs/azureml_7ade26eb614f97df8030bc480da59236/lib/libcrypto.so.1.0.0: no version information available (required by /usr/sbin/nginx)\n",
            "/usr/sbin/nginx: /azureml-envs/azureml_7ade26eb614f97df8030bc480da59236/lib/libcrypto.so.1.0.0: no version information available (required by /usr/sbin/nginx)\n",
            "/usr/sbin/nginx: /azureml-envs/azureml_7ade26eb614f97df8030bc480da59236/lib/libssl.so.1.0.0: no version information available (required by /usr/sbin/nginx)\n",
            "/usr/sbin/nginx: /azureml-envs/azureml_7ade26eb614f97df8030bc480da59236/lib/libssl.so.1.0.0: no version information available (required by /usr/sbin/nginx)\n",
            "/usr/sbin/nginx: /azureml-envs/azureml_7ade26eb614f97df8030bc480da59236/lib/libssl.so.1.0.0: no version information available (required by /usr/sbin/nginx)\n",
            "EdgeHubConnectionString and IOTEDGE_IOTHUBHOSTNAME are not set. Exiting...\n",
            "2021-02-03T05:29:07,703213600+00:00 - iot-server/finish 1 0\n",
            "2021-02-03T05:29:07,711760600+00:00 - Exit code 1 is normal. Not restarting iot-server.\n",
            "Starting gunicorn 19.9.0\n",
            "Listening at: http://127.0.0.1:31311 (69)\n",
            "Using worker: sync\n",
            "worker timeout is set to 300\n",
            "Booting worker with pid: 95\n",
            "SPARK_HOME not set. Skipping PySpark Initialization.\n",
            "Generating new fontManager, this may take some time...\n",
            "Initializing logger\n",
            "2021-02-03 05:29:13,866 | root | INFO | Starting up app insights client\n",
            "2021-02-03 05:29:13,867 | root | INFO | Starting up request id generator\n",
            "2021-02-03 05:29:13,867 | root | INFO | Starting up app insight hooks\n",
            "2021-02-03 05:29:13,867 | root | INFO | Invoking user's init function\n",
            "2021-02-03 05:29:26,381 | root | INFO | Users's init has completed successfully\n",
            "2021-02-03 05:29:26,397 | root | INFO | Skipping middleware: dbg_model_info as it's not enabled.\n",
            "2021-02-03 05:29:26,397 | root | INFO | Skipping middleware: dbg_resource_usage as it's not enabled.\n",
            "2021-02-03 05:29:26,399 | root | INFO | Scoring timeout is found from os.environ: 60000 ms\n",
            "2021-02-03 05:29:26,451 | root | INFO | 200\n",
            "127.0.0.1 - - [03/Feb/2021:05:29:26 +0000] \"GET /swagger.json HTTP/1.0\" 200 3864 \"-\" \"Go-http-client/1.1\"\n",
            "2021-02-03 05:29:28,868 | root | INFO | 200\n",
            "127.0.0.1 - - [03/Feb/2021:05:29:28 +0000] \"GET /swagger.json HTTP/1.0\" 200 3864 \"-\" \"Go-http-client/1.1\"\n",
            "2021-02-03 05:29:31,134 | root | INFO | 200\n",
            "127.0.0.1 - - [03/Feb/2021:05:29:31 +0000] \"GET /swagger.json HTTP/1.0\" 200 3864 \"-\" \"Go-http-client/1.1\"\n",
            "\n",
            "Healthy\n"
          ]
        }
      ],
      "execution_count": 72,
      "metadata": {
        "gather": {
          "logged": 1612330172300
        },
        "jupyter": {
          "outputs_hidden": false,
          "source_hidden": false
        },
        "nteract": {
          "transient": {
            "deleting": false
          }
        }
      }
    },
    {
      "cell_type": "markdown",
      "source": [
        "TODO: In the cell below, send a request to the web service you deployed to test it."
      ],
      "metadata": {
        "collapsed": true,
        "gather": {
          "logged": 1598431657736
        },
        "jupyter": {
          "outputs_hidden": false,
          "source_hidden": false
        },
        "nteract": {
          "transient": {
            "deleting": false
          }
        }
      }
    },
    {
      "cell_type": "code",
      "source": [
        "import requests\n",
        "import json\n",
        "\n",
        "primary, secondary = service.get_keys()\n",
        "print(primary)\n",
        "# URL for the web service\n",
        "scoring_uri = service.scoring_uri\n",
        "# If the service is authenticated, set the key or token\n",
        "key = primary\n",
        "\n",
        "# Two sets of data to score, so we get two results back\n",
        "data = {\"data\":\n",
        "        [\n",
        "          {\n",
        "          #\"Column1\": 0,\n",
        "          \"Customer_Age\": 45,\n",
        "          \"Gender_M\":1,\n",
        "          \"Gender_F\":0,\n",
        "          \"Dependent_count\":3,\n",
        "          \"Education_Level\":2,\n",
        "          \"Married\":0,\n",
        "          \"Single\":1,\n",
        "          \"Divorced\":0,\n",
        "          \"Unknown\":0,\n",
        "          \"Income_Category\":2,\n",
        "          \"Card_Category\":2,\n",
        "          \"Months_on_book\":39,\n",
        "          \"Total_Relationship_Count\":5,\n",
        "          \"Months_Inactive_12_mon\":1,\n",
        "          \"Contacts_Count_12_mon\":3,\n",
        "          \"Credit_Limit\":12691,\n",
        "          \"Total_Revolving_Bal\":777,\n",
        "          \"Avg_Open_To_Buy\":11914,\n",
        "          \"Total_Amt_Chng_Q4_Q1\":1.335,\n",
        "          \"Total_Trans_Amt\":1144,\n",
        "          \"Total_Trans_Ct\":42,\n",
        "          \"Total_Ct_Chng_Q4_Q1\":1.625,\n",
        "          \"Avg_Utilization_Ratio\":0.061,\n",
        "          },\n",
        "      ]\n",
        "    }\n",
        "# Convert to JSON string\n",
        "input_data = json.dumps(data)\n",
        "\n",
        "# Set the content type\n",
        "headers = {'Content-Type': 'application/json'}\n",
        "# If authentication is enabled, set the authorization header\n",
        "headers['Authorization'] = f'Bearer {key}'\n",
        "\n",
        "# Make the request and display the response\n",
        "resp = requests.post(scoring_uri, input_data, headers=headers)\n",
        "print(resp.text)"
      ],
      "outputs": [
        {
          "output_type": "stream",
          "name": "stdout",
          "text": [
            "hr9LfFTqtTyQygv3IZIhUjZicefcfoHg\n",
            "\"{\\\"result\\\": [0]}\"\n"
          ]
        }
      ],
      "execution_count": 87,
      "metadata": {
        "gather": {
          "logged": 1612331644205
        },
        "jupyter": {
          "outputs_hidden": false,
          "source_hidden": false
        },
        "nteract": {
          "transient": {
            "deleting": false
          }
        }
      }
    },
    {
      "cell_type": "markdown",
      "source": [
        "TODO: In the cell below, print the logs of the web service and delete the service"
      ],
      "metadata": {
        "collapsed": true,
        "gather": {
          "logged": 1598432765711
        },
        "jupyter": {
          "outputs_hidden": false,
          "source_hidden": false
        },
        "nteract": {
          "transient": {
            "deleting": false
          }
        }
      }
    },
    {
      "cell_type": "code",
      "source": [
        "#logs = service.get_logs()\n",
        "#print(logs)\n",
        "service.delete()"
      ],
      "outputs": [
        {
          "output_type": "error",
          "ename": "WebserviceException",
          "evalue": "WebserviceException:\n\tMessage: There is a deployment operation in flight for the Service: myservice\n\tInnerException None\n\tErrorResponse \n{\n    \"error\": {\n        \"message\": \"There is a deployment operation in flight for the Service: myservice\"\n    }\n}",
          "traceback": [
            "\u001b[0;31m---------------------------------------------------------------------------\u001b[0m",
            "\u001b[0;31mWebserviceException\u001b[0m                       Traceback (most recent call last)",
            "\u001b[0;32m<ipython-input-70-a10f876432a9>\u001b[0m in \u001b[0;36m<module>\u001b[0;34m\u001b[0m\n\u001b[1;32m      1\u001b[0m \u001b[0;31m#logs = service.get_logs()\u001b[0m\u001b[0;34m\u001b[0m\u001b[0;34m\u001b[0m\u001b[0;34m\u001b[0m\u001b[0m\n\u001b[1;32m      2\u001b[0m \u001b[0;31m#print(logs)\u001b[0m\u001b[0;34m\u001b[0m\u001b[0;34m\u001b[0m\u001b[0;34m\u001b[0m\u001b[0m\n\u001b[0;32m----> 3\u001b[0;31m \u001b[0mservice\u001b[0m\u001b[0;34m.\u001b[0m\u001b[0mdelete\u001b[0m\u001b[0;34m(\u001b[0m\u001b[0;34m)\u001b[0m\u001b[0;34m\u001b[0m\u001b[0;34m\u001b[0m\u001b[0m\n\u001b[0m",
            "\u001b[0;32m/anaconda/envs/azureml_py36/lib/python3.6/site-packages/azureml/core/webservice/webservice.py\u001b[0m in \u001b[0;36mdelete\u001b[0;34m(self)\u001b[0m\n\u001b[1;32m   1373\u001b[0m         \"\"\"\n\u001b[1;32m   1374\u001b[0m         Webservice._check_for_webservice(self.workspace, self.name, self.compute_type,\n\u001b[0;32m-> 1375\u001b[0;31m                                          None, SERVICE_REQUEST_OPERATION_DELETE)\n\u001b[0m\u001b[1;32m   1376\u001b[0m \u001b[0;34m\u001b[0m\u001b[0m\n\u001b[1;32m   1377\u001b[0m         \u001b[0mheaders\u001b[0m \u001b[0;34m=\u001b[0m \u001b[0mself\u001b[0m\u001b[0;34m.\u001b[0m\u001b[0m_auth\u001b[0m\u001b[0;34m.\u001b[0m\u001b[0mget_authentication_header\u001b[0m\u001b[0;34m(\u001b[0m\u001b[0;34m)\u001b[0m\u001b[0;34m\u001b[0m\u001b[0;34m\u001b[0m\u001b[0m\n",
            "\u001b[0;32m/anaconda/envs/azureml_py36/lib/python3.6/site-packages/azureml/core/webservice/webservice.py\u001b[0m in \u001b[0;36m_check_for_webservice\u001b[0;34m(workspace, name, compute_type, payload, action, request_func, check_func)\u001b[0m\n\u001b[1;32m    742\u001b[0m                 \u001b[0;32mreturn\u001b[0m \u001b[0mWebservice\u001b[0m\u001b[0;34m.\u001b[0m\u001b[0m_check_validate_error\u001b[0m\u001b[0;34m(\u001b[0m\u001b[0mcontent\u001b[0m\u001b[0;34m)\u001b[0m\u001b[0;34m\u001b[0m\u001b[0;34m\u001b[0m\u001b[0m\n\u001b[1;32m    743\u001b[0m \u001b[0;34m\u001b[0m\u001b[0m\n\u001b[0;32m--> 744\u001b[0;31m         \u001b[0mWebservice\u001b[0m\u001b[0;34m.\u001b[0m\u001b[0m_run_validate_framework\u001b[0m\u001b[0;34m(\u001b[0m\u001b[0mrequest_func\u001b[0m\u001b[0;34m,\u001b[0m \u001b[0mcheck_func\u001b[0m\u001b[0;34m)\u001b[0m\u001b[0;34m\u001b[0m\u001b[0;34m\u001b[0m\u001b[0m\n\u001b[0m\u001b[1;32m    745\u001b[0m \u001b[0;34m\u001b[0m\u001b[0m\n\u001b[1;32m    746\u001b[0m     \u001b[0;34m@\u001b[0m\u001b[0mstaticmethod\u001b[0m\u001b[0;34m\u001b[0m\u001b[0;34m\u001b[0m\u001b[0m\n",
            "\u001b[0;32m/anaconda/envs/azureml_py36/lib/python3.6/site-packages/azureml/core/webservice/webservice.py\u001b[0m in \u001b[0;36m_run_validate_framework\u001b[0;34m(request_func, check_func)\u001b[0m\n\u001b[1;32m    636\u001b[0m             \u001b[0;32mreturn\u001b[0m\u001b[0;34m\u001b[0m\u001b[0;34m\u001b[0m\u001b[0m\n\u001b[1;32m    637\u001b[0m \u001b[0;34m\u001b[0m\u001b[0m\n\u001b[0;32m--> 638\u001b[0;31m         \u001b[0;32mraise\u001b[0m \u001b[0mWebserviceException\u001b[0m\u001b[0;34m(\u001b[0m\u001b[0merror\u001b[0m\u001b[0;34m)\u001b[0m\u001b[0;34m\u001b[0m\u001b[0;34m\u001b[0m\u001b[0m\n\u001b[0m\u001b[1;32m    639\u001b[0m \u001b[0;34m\u001b[0m\u001b[0m\n\u001b[1;32m    640\u001b[0m     \u001b[0;34m@\u001b[0m\u001b[0mstaticmethod\u001b[0m\u001b[0;34m\u001b[0m\u001b[0;34m\u001b[0m\u001b[0m\n",
            "\u001b[0;31mWebserviceException\u001b[0m: WebserviceException:\n\tMessage: There is a deployment operation in flight for the Service: myservice\n\tInnerException None\n\tErrorResponse \n{\n    \"error\": {\n        \"message\": \"There is a deployment operation in flight for the Service: myservice\"\n    }\n}"
          ]
        }
      ],
      "execution_count": 70,
      "metadata": {
        "jupyter": {
          "outputs_hidden": false,
          "source_hidden": false
        },
        "nteract": {
          "transient": {
            "deleting": false
          }
        },
        "gather": {
          "logged": 1612329746406
        }
      }
    },
    {
      "cell_type": "code",
      "source": [],
      "outputs": [],
      "execution_count": null,
      "metadata": {
        "collapsed": true,
        "jupyter": {
          "source_hidden": false,
          "outputs_hidden": false
        },
        "nteract": {
          "transient": {
            "deleting": false
          }
        }
      }
    },
    {
      "cell_type": "code",
      "source": [],
      "outputs": [],
      "execution_count": null,
      "metadata": {
        "collapsed": true,
        "jupyter": {
          "source_hidden": false,
          "outputs_hidden": false
        },
        "nteract": {
          "transient": {
            "deleting": false
          }
        }
      }
    }
  ],
  "metadata": {
    "kernel_info": {
      "name": "python3"
    },
    "kernelspec": {
      "name": "python3",
      "language": "python",
      "display_name": "Python 3"
    },
    "language_info": {
      "name": "python",
      "version": "3.6.9",
      "mimetype": "text/x-python",
      "codemirror_mode": {
        "name": "ipython",
        "version": 3
      },
      "pygments_lexer": "ipython3",
      "nbconvert_exporter": "python",
      "file_extension": ".py"
    },
    "nteract": {
      "version": "nteract-front-end@1.0.0"
    }
  },
  "nbformat": 4,
  "nbformat_minor": 2
}