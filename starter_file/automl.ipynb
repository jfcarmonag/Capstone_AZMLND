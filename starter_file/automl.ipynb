{
  "cells": [
    {
      "cell_type": "markdown",
      "source": [
        "\n",
        "# Automated ML\n",
        "\n",
        "TODO: Import Dependencies. In the cell below, import all the dependencies that you will need to complete the project."
      ],
      "metadata": {}
    },
    {
      "cell_type": "code",
      "source": [
        "!pip install --upgrade azureml-sdk[automl]\n",
        "#!pip install --upgrade --upgrade-strategy eager azureml-sdk"
      ],
      "outputs": [
        {
          "output_type": "stream",
          "name": "stdout",
          "text": [
            "Requirement already up-to-date: azureml-sdk[automl] in /anaconda/envs/azureml_py36/lib/python3.6/site-packages (1.21.0)\n",
            "Requirement already satisfied, skipping upgrade: azureml-train~=1.21.0 in /anaconda/envs/azureml_py36/lib/python3.6/site-packages (from azureml-sdk[automl]) (1.21.0)\n",
            "Requirement already satisfied, skipping upgrade: azureml-dataset-runtime[fuse]~=1.21.0 in /anaconda/envs/azureml_py36/lib/python3.6/site-packages (from azureml-sdk[automl]) (1.21.0)\n",
            "Requirement already satisfied, skipping upgrade: azureml-core~=1.21.0 in /anaconda/envs/azureml_py36/lib/python3.6/site-packages (from azureml-sdk[automl]) (1.21.0.post2)\n",
            "Requirement already satisfied, skipping upgrade: azureml-pipeline~=1.21.0 in /anaconda/envs/azureml_py36/lib/python3.6/site-packages (from azureml-sdk[automl]) (1.21.0)\n",
            "Requirement already satisfied, skipping upgrade: azureml-train-automl-client~=1.21.0 in /anaconda/envs/azureml_py36/lib/python3.6/site-packages (from azureml-sdk[automl]) (1.21.0)\n",
            "Requirement already satisfied, skipping upgrade: azureml-train-automl~=1.21.0; extra == \"automl\" in /anaconda/envs/azureml_py36/lib/python3.6/site-packages (from azureml-sdk[automl]) (1.21.0)\n",
            "Requirement already satisfied, skipping upgrade: azureml-train-core~=1.21.0 in /anaconda/envs/azureml_py36/lib/python3.6/site-packages (from azureml-train~=1.21.0->azureml-sdk[automl]) (1.21.0)\n",
            "Requirement already satisfied, skipping upgrade: pyarrow<2.0.0,>=0.17.0 in /anaconda/envs/azureml_py36/lib/python3.6/site-packages (from azureml-dataset-runtime[fuse]~=1.21.0->azureml-sdk[automl]) (1.0.1)\n",
            "Requirement already satisfied, skipping upgrade: numpy!=1.19.3; sys_platform == \"linux\" in /anaconda/envs/azureml_py36/lib/python3.6/site-packages (from azureml-dataset-runtime[fuse]~=1.21.0->azureml-sdk[automl]) (1.19.5)\n",
            "Requirement already satisfied, skipping upgrade: azureml-dataprep<2.9.0a,>=2.8.0a in /anaconda/envs/azureml_py36/lib/python3.6/site-packages (from azureml-dataset-runtime[fuse]~=1.21.0->azureml-sdk[automl]) (2.8.2)\n",
            "Requirement already satisfied, skipping upgrade: fusepy<4.0.0,>=3.0.1; extra == \"fuse\" in /anaconda/envs/azureml_py36/lib/python3.6/site-packages (from azureml-dataset-runtime[fuse]~=1.21.0->azureml-sdk[automl]) (3.0.1)\n",
            "Requirement already satisfied, skipping upgrade: pathspec in /anaconda/envs/azureml_py36/lib/python3.6/site-packages (from azureml-core~=1.21.0->azureml-sdk[automl]) (0.8.1)\n",
            "Requirement already satisfied, skipping upgrade: pytz in /anaconda/envs/azureml_py36/lib/python3.6/site-packages (from azureml-core~=1.21.0->azureml-sdk[automl]) (2021.1)\n",
            "Requirement already satisfied, skipping upgrade: azure-mgmt-containerregistry>=2.0.0 in /anaconda/envs/azureml_py36/lib/python3.6/site-packages (from azureml-core~=1.21.0->azureml-sdk[automl]) (2.8.0)\n",
            "Requirement already satisfied, skipping upgrade: SecretStorage in /anaconda/envs/azureml_py36/lib/python3.6/site-packages (from azureml-core~=1.21.0->azureml-sdk[automl]) (3.3.0)\n",
            "Requirement already satisfied, skipping upgrade: azure-mgmt-storage<16.0.0,>=1.5.0 in /anaconda/envs/azureml_py36/lib/python3.6/site-packages (from azureml-core~=1.21.0->azureml-sdk[automl]) (11.2.0)\n",
            "Requirement already satisfied, skipping upgrade: jmespath in /anaconda/envs/azureml_py36/lib/python3.6/site-packages (from azureml-core~=1.21.0->azureml-sdk[automl]) (0.10.0)\n",
            "Requirement already satisfied, skipping upgrade: jsonpickle in /anaconda/envs/azureml_py36/lib/python3.6/site-packages (from azureml-core~=1.21.0->azureml-sdk[automl]) (1.5.1)\n",
            "Requirement already satisfied, skipping upgrade: requests>=2.19.1 in /anaconda/envs/azureml_py36/lib/python3.6/site-packages (from azureml-core~=1.21.0->azureml-sdk[automl]) (2.25.1)\n",
            "Requirement already satisfied, skipping upgrade: azure-mgmt-keyvault<7.0.0,>=0.40.0 in /anaconda/envs/azureml_py36/lib/python3.6/site-packages (from azureml-core~=1.21.0->azureml-sdk[automl]) (2.2.0)\n",
            "Requirement already satisfied, skipping upgrade: PyJWT<2.0.0 in /anaconda/envs/azureml_py36/lib/python3.6/site-packages (from azureml-core~=1.21.0->azureml-sdk[automl]) (1.7.1)\n",
            "Requirement already satisfied, skipping upgrade: msrestazure>=0.4.33 in /anaconda/envs/azureml_py36/lib/python3.6/site-packages (from azureml-core~=1.21.0->azureml-sdk[automl]) (0.6.4)\n",
            "Requirement already satisfied, skipping upgrade: backports.tempfile in /anaconda/envs/azureml_py36/lib/python3.6/site-packages (from azureml-core~=1.21.0->azureml-sdk[automl]) (1.0)\n",
            "Requirement already satisfied, skipping upgrade: cryptography!=1.9,!=2.0.*,!=2.1.*,!=2.2.* in /anaconda/envs/azureml_py36/lib/python3.6/site-packages (from azureml-core~=1.21.0->azureml-sdk[automl]) (3.3.1)\n",
            "Requirement already satisfied, skipping upgrade: pyopenssl<21.0.0 in /anaconda/envs/azureml_py36/lib/python3.6/site-packages (from azureml-core~=1.21.0->azureml-sdk[automl]) (20.0.1)\n",
            "Requirement already satisfied, skipping upgrade: azure-mgmt-resource<15.0.0,>=1.2.1 in /anaconda/envs/azureml_py36/lib/python3.6/site-packages (from azureml-core~=1.21.0->azureml-sdk[automl]) (12.0.0)\n",
            "Requirement already satisfied, skipping upgrade: azure-graphrbac<1.0.0,>=0.40.0 in /anaconda/envs/azureml_py36/lib/python3.6/site-packages (from azureml-core~=1.21.0->azureml-sdk[automl]) (0.61.1)\n",
            "Requirement already satisfied, skipping upgrade: azure-mgmt-authorization<1.0.0,>=0.40.0 in /anaconda/envs/azureml_py36/lib/python3.6/site-packages (from azureml-core~=1.21.0->azureml-sdk[automl]) (0.61.0)\n",
            "Requirement already satisfied, skipping upgrade: urllib3>=1.23 in /anaconda/envs/azureml_py36/lib/python3.6/site-packages (from azureml-core~=1.21.0->azureml-sdk[automl]) (1.26.3)\n",
            "Requirement already satisfied, skipping upgrade: contextlib2 in /anaconda/envs/azureml_py36/lib/python3.6/site-packages (from azureml-core~=1.21.0->azureml-sdk[automl]) (0.6.0.post1)\n",
            "Requirement already satisfied, skipping upgrade: python-dateutil>=2.7.3 in /anaconda/envs/azureml_py36/lib/python3.6/site-packages (from azureml-core~=1.21.0->azureml-sdk[automl]) (2.8.1)\n",
            "Requirement already satisfied, skipping upgrade: ndg-httpsclient in /anaconda/envs/azureml_py36/lib/python3.6/site-packages (from azureml-core~=1.21.0->azureml-sdk[automl]) (0.5.1)\n",
            "Requirement already satisfied, skipping upgrade: docker in /anaconda/envs/azureml_py36/lib/python3.6/site-packages (from azureml-core~=1.21.0->azureml-sdk[automl]) (4.4.1)\n",
            "Requirement already satisfied, skipping upgrade: azure-common>=1.1.12 in /anaconda/envs/azureml_py36/lib/python3.6/site-packages (from azureml-core~=1.21.0->azureml-sdk[automl]) (1.1.26)\n",
            "Requirement already satisfied, skipping upgrade: adal>=1.2.0 in /anaconda/envs/azureml_py36/lib/python3.6/site-packages (from azureml-core~=1.21.0->azureml-sdk[automl]) (1.2.6)\n",
            "Requirement already satisfied, skipping upgrade: ruamel.yaml>=0.15.35 in /anaconda/envs/azureml_py36/lib/python3.6/site-packages (from azureml-core~=1.21.0->azureml-sdk[automl]) (0.16.12)\n",
            "Requirement already satisfied, skipping upgrade: msrest>=0.5.1 in /anaconda/envs/azureml_py36/lib/python3.6/site-packages (from azureml-core~=1.21.0->azureml-sdk[automl]) (0.6.21)\n",
            "Requirement already satisfied, skipping upgrade: azureml-pipeline-steps~=1.21.0 in /anaconda/envs/azureml_py36/lib/python3.6/site-packages (from azureml-pipeline~=1.21.0->azureml-sdk[automl]) (1.21.0)\n",
            "Requirement already satisfied, skipping upgrade: azureml-pipeline-core~=1.21.0 in /anaconda/envs/azureml_py36/lib/python3.6/site-packages (from azureml-pipeline~=1.21.0->azureml-sdk[automl]) (1.21.0)\n",
            "Requirement already satisfied, skipping upgrade: azureml-telemetry~=1.21.0 in /anaconda/envs/azureml_py36/lib/python3.6/site-packages (from azureml-train-automl-client~=1.21.0->azureml-sdk[automl]) (1.21.0)\n",
            "Requirement already satisfied, skipping upgrade: azureml-automl-core~=1.21.0 in /anaconda/envs/azureml_py36/lib/python3.6/site-packages (from azureml-train-automl-client~=1.21.0->azureml-sdk[automl]) (1.21.0)\n",
            "Requirement already satisfied, skipping upgrade: azureml-automl-runtime~=1.21.0 in /anaconda/envs/azureml_py36/lib/python3.6/site-packages (from azureml-train-automl~=1.21.0; extra == \"automl\"->azureml-sdk[automl]) (1.21.0)\n",
            "Requirement already satisfied, skipping upgrade: azureml-train-automl-runtime~=1.21.0 in /anaconda/envs/azureml_py36/lib/python3.6/site-packages (from azureml-train-automl~=1.21.0; extra == \"automl\"->azureml-sdk[automl]) (1.21.0.post1)\n",
            "Requirement already satisfied, skipping upgrade: azureml-train-restclients-hyperdrive~=1.21.0 in /anaconda/envs/azureml_py36/lib/python3.6/site-packages (from azureml-train-core~=1.21.0->azureml-train~=1.21.0->azureml-sdk[automl]) (1.21.0)\n",
            "Requirement already satisfied, skipping upgrade: cloudpickle<2.0.0,>=1.1.0 in /anaconda/envs/azureml_py36/lib/python3.6/site-packages (from azureml-dataprep<2.9.0a,>=2.8.0a->azureml-dataset-runtime[fuse]~=1.21.0->azureml-sdk[automl]) (1.6.0)\n",
            "Requirement already satisfied, skipping upgrade: azureml-dataprep-native<29.0.0,>=28.0.0 in /anaconda/envs/azureml_py36/lib/python3.6/site-packages (from azureml-dataprep<2.9.0a,>=2.8.0a->azureml-dataset-runtime[fuse]~=1.21.0->azureml-sdk[automl]) (28.0.0)\n",
            "Requirement already satisfied, skipping upgrade: dotnetcore2<3.0.0,>=2.1.14 in /anaconda/envs/azureml_py36/lib/python3.6/site-packages (from azureml-dataprep<2.9.0a,>=2.8.0a->azureml-dataset-runtime[fuse]~=1.21.0->azureml-sdk[automl]) (2.1.20)\n",
            "Requirement already satisfied, skipping upgrade: azure-identity<1.5.0,>=1.2.0 in /anaconda/envs/azureml_py36/lib/python3.6/site-packages (from azureml-dataprep<2.9.0a,>=2.8.0a->azureml-dataset-runtime[fuse]~=1.21.0->azureml-sdk[automl]) (1.4.1)\n",
            "Requirement already satisfied, skipping upgrade: azureml-dataprep-rslex<1.7.0a,>=1.6.0dev0 in /anaconda/envs/azureml_py36/lib/python3.6/site-packages (from azureml-dataprep<2.9.0a,>=2.8.0a->azureml-dataset-runtime[fuse]~=1.21.0->azureml-sdk[automl]) (1.6.0)\n",
            "Requirement already satisfied, skipping upgrade: jeepney>=0.6 in /anaconda/envs/azureml_py36/lib/python3.6/site-packages (from SecretStorage->azureml-core~=1.21.0->azureml-sdk[automl]) (0.6.0)\n",
            "Requirement already satisfied, skipping upgrade: importlib-metadata; python_version < \"3.8\" in /anaconda/envs/azureml_py36/lib/python3.6/site-packages (from jsonpickle->azureml-core~=1.21.0->azureml-sdk[automl]) (3.4.0)\n",
            "Requirement already satisfied, skipping upgrade: certifi>=2017.4.17 in /anaconda/envs/azureml_py36/lib/python3.6/site-packages (from requests>=2.19.1->azureml-core~=1.21.0->azureml-sdk[automl]) (2020.12.5)\n",
            "Requirement already satisfied, skipping upgrade: idna<3,>=2.5 in /anaconda/envs/azureml_py36/lib/python3.6/site-packages (from requests>=2.19.1->azureml-core~=1.21.0->azureml-sdk[automl]) (2.10)\n",
            "Requirement already satisfied, skipping upgrade: chardet<5,>=3.0.2 in /anaconda/envs/azureml_py36/lib/python3.6/site-packages (from requests>=2.19.1->azureml-core~=1.21.0->azureml-sdk[automl]) (4.0.0)\n",
            "Requirement already satisfied, skipping upgrade: six in /anaconda/envs/azureml_py36/lib/python3.6/site-packages (from msrestazure>=0.4.33->azureml-core~=1.21.0->azureml-sdk[automl]) (1.15.0)\n",
            "Requirement already satisfied, skipping upgrade: backports.weakref in /anaconda/envs/azureml_py36/lib/python3.6/site-packages (from backports.tempfile->azureml-core~=1.21.0->azureml-sdk[automl]) (1.0.post1)\n",
            "Requirement already satisfied, skipping upgrade: cffi>=1.12 in /anaconda/envs/azureml_py36/lib/python3.6/site-packages (from cryptography!=1.9,!=2.0.*,!=2.1.*,!=2.2.*->azureml-core~=1.21.0->azureml-sdk[automl]) (1.14.4)\n",
            "Requirement already satisfied, skipping upgrade: pyasn1>=0.1.1 in /anaconda/envs/azureml_py36/lib/python3.6/site-packages (from ndg-httpsclient->azureml-core~=1.21.0->azureml-sdk[automl]) (0.4.8)\n",
            "Requirement already satisfied, skipping upgrade: websocket-client>=0.32.0 in /anaconda/envs/azureml_py36/lib/python3.6/site-packages (from docker->azureml-core~=1.21.0->azureml-sdk[automl]) (0.57.0)\n",
            "Requirement already satisfied, skipping upgrade: ruamel.yaml.clib>=0.1.2; platform_python_implementation == \"CPython\" and python_version < \"3.9\" in /anaconda/envs/azureml_py36/lib/python3.6/site-packages (from ruamel.yaml>=0.15.35->azureml-core~=1.21.0->azureml-sdk[automl]) (0.2.2)\n",
            "Requirement already satisfied, skipping upgrade: isodate>=0.6.0 in /anaconda/envs/azureml_py36/lib/python3.6/site-packages (from msrest>=0.5.1->azureml-core~=1.21.0->azureml-sdk[automl]) (0.6.0)\n",
            "Requirement already satisfied, skipping upgrade: requests-oauthlib>=0.5.0 in /anaconda/envs/azureml_py36/lib/python3.6/site-packages (from msrest>=0.5.1->azureml-core~=1.21.0->azureml-sdk[automl]) (1.3.0)\n",
            "Requirement already satisfied, skipping upgrade: applicationinsights in /anaconda/envs/azureml_py36/lib/python3.6/site-packages (from azureml-telemetry~=1.21.0->azureml-train-automl-client~=1.21.0->azureml-sdk[automl]) (0.11.9)\n",
            "Requirement already satisfied, skipping upgrade: keras2onnx<=1.6.0,>=1.4.0 in /anaconda/envs/azureml_py36/lib/python3.6/site-packages (from azureml-automl-runtime~=1.21.0->azureml-train-automl~=1.21.0; extra == \"automl\"->azureml-sdk[automl]) (1.6.0)\n",
            "Requirement already satisfied, skipping upgrade: joblib==0.14.1 in /anaconda/envs/azureml_py36/lib/python3.6/site-packages (from azureml-automl-runtime~=1.21.0->azureml-train-automl~=1.21.0; extra == \"automl\"->azureml-sdk[automl]) (0.14.1)\n",
            "Requirement already satisfied, skipping upgrade: boto3<=1.15.18 in /anaconda/envs/azureml_py36/lib/python3.6/site-packages (from azureml-automl-runtime~=1.21.0->azureml-train-automl~=1.21.0; extra == \"automl\"->azureml-sdk[automl]) (1.15.18)\n",
            "Requirement already satisfied, skipping upgrade: onnxmltools==1.4.1 in /anaconda/envs/azureml_py36/lib/python3.6/site-packages (from azureml-automl-runtime~=1.21.0->azureml-train-automl~=1.21.0; extra == \"automl\"->azureml-sdk[automl]) (1.4.1)\n",
            "Requirement already satisfied, skipping upgrade: onnxconverter-common<=1.6.0,>=1.4.2 in /anaconda/envs/azureml_py36/lib/python3.6/site-packages (from azureml-automl-runtime~=1.21.0->azureml-train-automl~=1.21.0; extra == \"automl\"->azureml-sdk[automl]) (1.6.0)\n",
            "Requirement already satisfied, skipping upgrade: onnxruntime==1.3.0 in /anaconda/envs/azureml_py36/lib/python3.6/site-packages (from azureml-automl-runtime~=1.21.0->azureml-train-automl~=1.21.0; extra == \"automl\"->azureml-sdk[automl]) (1.3.0)\n",
            "Requirement already satisfied, skipping upgrade: pandas<1.0.0,>=0.21.0 in /anaconda/envs/azureml_py36/lib/python3.6/site-packages (from azureml-automl-runtime~=1.21.0->azureml-train-automl~=1.21.0; extra == \"automl\"->azureml-sdk[automl]) (0.25.3)\n",
            "Requirement already satisfied, skipping upgrade: py-cpuinfo==5.0.0 in /anaconda/envs/azureml_py36/lib/python3.6/site-packages (from azureml-automl-runtime~=1.21.0->azureml-train-automl~=1.21.0; extra == \"automl\"->azureml-sdk[automl]) (5.0.0)\n",
            "Requirement already satisfied, skipping upgrade: onnx<=1.7.0,>=1.5.0 in /anaconda/envs/azureml_py36/lib/python3.6/site-packages (from azureml-automl-runtime~=1.21.0->azureml-train-automl~=1.21.0; extra == \"automl\"->azureml-sdk[automl]) (1.7.0)\n",
            "Requirement already satisfied, skipping upgrade: scipy<=1.5.2,>=1.0.0 in /anaconda/envs/azureml_py36/lib/python3.6/site-packages (from azureml-automl-runtime~=1.21.0->azureml-train-automl~=1.21.0; extra == \"automl\"->azureml-sdk[automl]) (1.5.2)\n",
            "Requirement already satisfied, skipping upgrade: pmdarima==1.1.1 in /anaconda/envs/azureml_py36/lib/python3.6/site-packages (from azureml-automl-runtime~=1.21.0->azureml-train-automl~=1.21.0; extra == \"automl\"->azureml-sdk[automl]) (1.1.1)\n",
            "Requirement already satisfied, skipping upgrade: sklearn-pandas<=1.7.0,>=1.4.0 in /anaconda/envs/azureml_py36/lib/python3.6/site-packages (from azureml-automl-runtime~=1.21.0->azureml-train-automl~=1.21.0; extra == \"automl\"->azureml-sdk[automl]) (1.7.0)\n",
            "Requirement already satisfied, skipping upgrade: botocore<=1.18.18 in /anaconda/envs/azureml_py36/lib/python3.6/site-packages (from azureml-automl-runtime~=1.21.0->azureml-train-automl~=1.21.0; extra == \"automl\"->azureml-sdk[automl]) (1.18.18)\n",
            "Requirement already satisfied, skipping upgrade: dill<0.4.0,>=0.2.8 in /anaconda/envs/azureml_py36/lib/python3.6/site-packages (from azureml-automl-runtime~=1.21.0->azureml-train-automl~=1.21.0; extra == \"automl\"->azureml-sdk[automl]) (0.3.3)\n",
            "Requirement already satisfied, skipping upgrade: skl2onnx==1.4.9 in /anaconda/envs/azureml_py36/lib/python3.6/site-packages (from azureml-automl-runtime~=1.21.0->azureml-train-automl~=1.21.0; extra == \"automl\"->azureml-sdk[automl]) (1.4.9)\n",
            "Requirement already satisfied, skipping upgrade: smart-open<=1.9.0 in /anaconda/envs/azureml_py36/lib/python3.6/site-packages (from azureml-automl-runtime~=1.21.0->azureml-train-automl~=1.21.0; extra == \"automl\"->azureml-sdk[automl]) (1.9.0)\n",
            "Requirement already satisfied, skipping upgrade: scikit-learn<0.23.0,>=0.19.0 in /anaconda/envs/azureml_py36/lib/python3.6/site-packages (from azureml-automl-runtime~=1.21.0->azureml-train-automl~=1.21.0; extra == \"automl\"->azureml-sdk[automl]) (0.22.2.post1)\n",
            "Requirement already satisfied, skipping upgrade: gensim<3.9.0 in /anaconda/envs/azureml_py36/lib/python3.6/site-packages (from azureml-automl-runtime~=1.21.0->azureml-train-automl~=1.21.0; extra == \"automl\"->azureml-sdk[automl]) (3.8.3)\n",
            "Requirement already satisfied, skipping upgrade: statsmodels<=0.10.2,>=0.9.0 in /anaconda/envs/azureml_py36/lib/python3.6/site-packages (from azureml-automl-runtime~=1.21.0->azureml-train-automl~=1.21.0; extra == \"automl\"->azureml-sdk[automl]) (0.10.2)\n",
            "Requirement already satisfied, skipping upgrade: lightgbm<=2.3.0,>=2.0.11 in /anaconda/envs/azureml_py36/lib/python3.6/site-packages (from azureml-automl-runtime~=1.21.0->azureml-train-automl~=1.21.0; extra == \"automl\"->azureml-sdk[automl]) (2.3.0)\n",
            "Requirement already satisfied, skipping upgrade: psutil<6.0.0,>=5.2.2 in /anaconda/envs/azureml_py36/lib/python3.6/site-packages (from azureml-automl-runtime~=1.21.0->azureml-train-automl~=1.21.0; extra == \"automl\"->azureml-sdk[automl]) (5.8.0)\n",
            "Requirement already satisfied, skipping upgrade: nimbusml<=1.8.0,>=1.7.1 in /anaconda/envs/azureml_py36/lib/python3.6/site-packages (from azureml-automl-runtime~=1.21.0->azureml-train-automl~=1.21.0; extra == \"automl\"->azureml-sdk[automl]) (1.8.0)\n",
            "Requirement already satisfied, skipping upgrade: jinja2<=2.11.2 in /anaconda/envs/azureml_py36/lib/python3.6/site-packages (from azureml-train-automl-runtime~=1.21.0->azureml-train-automl~=1.21.0; extra == \"automl\"->azureml-sdk[automl]) (2.11.2)\n",
            "Requirement already satisfied, skipping upgrade: azureml-defaults~=1.21.0 in /anaconda/envs/azureml_py36/lib/python3.6/site-packages (from azureml-train-automl-runtime~=1.21.0->azureml-train-automl~=1.21.0; extra == \"automl\"->azureml-sdk[automl]) (1.21.0)\n",
            "Requirement already satisfied, skipping upgrade: azureml-interpret~=1.21.0 in /anaconda/envs/azureml_py36/lib/python3.6/site-packages (from azureml-train-automl-runtime~=1.21.0->azureml-train-automl~=1.21.0; extra == \"automl\"->azureml-sdk[automl]) (1.21.0)\n",
            "Requirement already satisfied, skipping upgrade: azure-storage-queue~=12.1 in /anaconda/envs/azureml_py36/lib/python3.6/site-packages (from azureml-train-automl-runtime~=1.21.0->azureml-train-automl~=1.21.0; extra == \"automl\"->azureml-sdk[automl]) (12.1.4)\n",
            "Requirement already satisfied, skipping upgrade: distro>=1.2.0 in /anaconda/envs/azureml_py36/lib/python3.6/site-packages (from dotnetcore2<3.0.0,>=2.1.14->azureml-dataprep<2.9.0a,>=2.8.0a->azureml-dataset-runtime[fuse]~=1.21.0->azureml-sdk[automl]) (1.5.0)\n",
            "Requirement already satisfied, skipping upgrade: msal-extensions~=0.2.2 in /anaconda/envs/azureml_py36/lib/python3.6/site-packages (from azure-identity<1.5.0,>=1.2.0->azureml-dataprep<2.9.0a,>=2.8.0a->azureml-dataset-runtime[fuse]~=1.21.0->azureml-sdk[automl]) (0.2.2)\n",
            "Requirement already satisfied, skipping upgrade: azure-core<2.0.0,>=1.0.0 in /anaconda/envs/azureml_py36/lib/python3.6/site-packages (from azure-identity<1.5.0,>=1.2.0->azureml-dataprep<2.9.0a,>=2.8.0a->azureml-dataset-runtime[fuse]~=1.21.0->azureml-sdk[automl]) (1.10.0)\n",
            "Requirement already satisfied, skipping upgrade: msal<2.0.0,>=1.3.0 in /anaconda/envs/azureml_py36/lib/python3.6/site-packages (from azure-identity<1.5.0,>=1.2.0->azureml-dataprep<2.9.0a,>=2.8.0a->azureml-dataset-runtime[fuse]~=1.21.0->azureml-sdk[automl]) (1.8.0)\n",
            "Requirement already satisfied, skipping upgrade: zipp>=0.5 in /anaconda/envs/azureml_py36/lib/python3.6/site-packages (from importlib-metadata; python_version < \"3.8\"->jsonpickle->azureml-core~=1.21.0->azureml-sdk[automl]) (3.4.0)\n",
            "Requirement already satisfied, skipping upgrade: typing-extensions>=3.6.4; python_version < \"3.8\" in /anaconda/envs/azureml_py36/lib/python3.6/site-packages (from importlib-metadata; python_version < \"3.8\"->jsonpickle->azureml-core~=1.21.0->azureml-sdk[automl]) (3.7.4.3)\n",
            "Requirement already satisfied, skipping upgrade: pycparser in /anaconda/envs/azureml_py36/lib/python3.6/site-packages (from cffi>=1.12->cryptography!=1.9,!=2.0.*,!=2.1.*,!=2.2.*->azureml-core~=1.21.0->azureml-sdk[automl]) (2.20)\n",
            "Requirement already satisfied, skipping upgrade: oauthlib>=3.0.0 in /anaconda/envs/azureml_py36/lib/python3.6/site-packages (from requests-oauthlib>=0.5.0->msrest>=0.5.1->azureml-core~=1.21.0->azureml-sdk[automl]) (3.1.0)\n",
            "Requirement already satisfied, skipping upgrade: fire in /anaconda/envs/azureml_py36/lib/python3.6/site-packages (from keras2onnx<=1.6.0,>=1.4.0->azureml-automl-runtime~=1.21.0->azureml-train-automl~=1.21.0; extra == \"automl\"->azureml-sdk[automl]) (0.3.1)\n",
            "Requirement already satisfied, skipping upgrade: protobuf in /anaconda/envs/azureml_py36/lib/python3.6/site-packages (from keras2onnx<=1.6.0,>=1.4.0->azureml-automl-runtime~=1.21.0->azureml-train-automl~=1.21.0; extra == \"automl\"->azureml-sdk[automl]) (3.14.0)\n",
            "Requirement already satisfied, skipping upgrade: s3transfer<0.4.0,>=0.3.0 in /anaconda/envs/azureml_py36/lib/python3.6/site-packages (from boto3<=1.15.18->azureml-automl-runtime~=1.21.0->azureml-train-automl~=1.21.0; extra == \"automl\"->azureml-sdk[automl]) (0.3.3)\n",
            "Requirement already satisfied, skipping upgrade: Cython>=0.29 in /anaconda/envs/azureml_py36/lib/python3.6/site-packages (from pmdarima==1.1.1->azureml-automl-runtime~=1.21.0->azureml-train-automl~=1.21.0; extra == \"automl\"->azureml-sdk[automl]) (0.29.21)\n",
            "Requirement already satisfied, skipping upgrade: boto>=2.32 in /anaconda/envs/azureml_py36/lib/python3.6/site-packages (from smart-open<=1.9.0->azureml-automl-runtime~=1.21.0->azureml-train-automl~=1.21.0; extra == \"automl\"->azureml-sdk[automl]) (2.49.0)\n",
            "Requirement already satisfied, skipping upgrade: patsy>=0.4.0 in /anaconda/envs/azureml_py36/lib/python3.6/site-packages (from statsmodels<=0.10.2,>=0.9.0->azureml-automl-runtime~=1.21.0->azureml-train-automl~=1.21.0; extra == \"automl\"->azureml-sdk[automl]) (0.5.1)\n",
            "Requirement already satisfied, skipping upgrade: MarkupSafe>=0.23 in /anaconda/envs/azureml_py36/lib/python3.6/site-packages (from jinja2<=2.11.2->azureml-train-automl-runtime~=1.21.0->azureml-train-automl~=1.21.0; extra == \"automl\"->azureml-sdk[automl]) (1.1.1)\n",
            "Requirement already satisfied, skipping upgrade: werkzeug<=1.0.1,>=0.16.1 in /anaconda/envs/azureml_py36/lib/python3.6/site-packages (from azureml-defaults~=1.21.0->azureml-train-automl-runtime~=1.21.0->azureml-train-automl~=1.21.0; extra == \"automl\"->azureml-sdk[automl]) (1.0.1)\n",
            "Requirement already satisfied, skipping upgrade: azureml-model-management-sdk==1.0.1b6.post1 in /anaconda/envs/azureml_py36/lib/python3.6/site-packages (from azureml-defaults~=1.21.0->azureml-train-automl-runtime~=1.21.0->azureml-train-automl~=1.21.0; extra == \"automl\"->azureml-sdk[automl]) (1.0.1b6.post1)\n",
            "Requirement already satisfied, skipping upgrade: json-logging-py==0.2 in /anaconda/envs/azureml_py36/lib/python3.6/site-packages (from azureml-defaults~=1.21.0->azureml-train-automl-runtime~=1.21.0->azureml-train-automl~=1.21.0; extra == \"automl\"->azureml-sdk[automl]) (0.2)\n",
            "Requirement already satisfied, skipping upgrade: flask==1.0.3 in /anaconda/envs/azureml_py36/lib/python3.6/site-packages (from azureml-defaults~=1.21.0->azureml-train-automl-runtime~=1.21.0->azureml-train-automl~=1.21.0; extra == \"automl\"->azureml-sdk[automl]) (1.0.3)\n",
            "Requirement already satisfied, skipping upgrade: configparser==3.7.4 in /anaconda/envs/azureml_py36/lib/python3.6/site-packages (from azureml-defaults~=1.21.0->azureml-train-automl-runtime~=1.21.0->azureml-train-automl~=1.21.0; extra == \"automl\"->azureml-sdk[automl]) (3.7.4)\n",
            "Requirement already satisfied, skipping upgrade: gunicorn==19.9.0 in /anaconda/envs/azureml_py36/lib/python3.6/site-packages (from azureml-defaults~=1.21.0->azureml-train-automl-runtime~=1.21.0->azureml-train-automl~=1.21.0; extra == \"automl\"->azureml-sdk[automl]) (19.9.0)\n",
            "Requirement already satisfied, skipping upgrade: interpret-community==0.16.* in /anaconda/envs/azureml_py36/lib/python3.6/site-packages (from azureml-interpret~=1.21.0->azureml-train-automl-runtime~=1.21.0->azureml-train-automl~=1.21.0; extra == \"automl\"->azureml-sdk[automl]) (0.16.0)\n",
            "Requirement already satisfied, skipping upgrade: portalocker~=1.0; platform_system != \"Windows\" in /anaconda/envs/azureml_py36/lib/python3.6/site-packages (from msal-extensions~=0.2.2->azure-identity<1.5.0,>=1.2.0->azureml-dataprep<2.9.0a,>=2.8.0a->azureml-dataset-runtime[fuse]~=1.21.0->azureml-sdk[automl]) (1.7.1)\n",
            "Requirement already satisfied, skipping upgrade: termcolor in /anaconda/envs/azureml_py36/lib/python3.6/site-packages (from fire->keras2onnx<=1.6.0,>=1.4.0->azureml-automl-runtime~=1.21.0->azureml-train-automl~=1.21.0; extra == \"automl\"->azureml-sdk[automl]) (1.1.0)\n",
            "Requirement already satisfied, skipping upgrade: liac-arff>=2.1.1 in /anaconda/envs/azureml_py36/lib/python3.6/site-packages (from azureml-model-management-sdk==1.0.1b6.post1->azureml-defaults~=1.21.0->azureml-train-automl-runtime~=1.21.0->azureml-train-automl~=1.21.0; extra == \"automl\"->azureml-sdk[automl]) (2.5.0)\n",
            "Requirement already satisfied, skipping upgrade: itsdangerous>=0.24 in /anaconda/envs/azureml_py36/lib/python3.6/site-packages (from flask==1.0.3->azureml-defaults~=1.21.0->azureml-train-automl-runtime~=1.21.0->azureml-train-automl~=1.21.0; extra == \"automl\"->azureml-sdk[automl]) (1.1.0)\n",
            "Requirement already satisfied, skipping upgrade: click>=5.1 in /anaconda/envs/azureml_py36/lib/python3.6/site-packages (from flask==1.0.3->azureml-defaults~=1.21.0->azureml-train-automl-runtime~=1.21.0->azureml-train-automl~=1.21.0; extra == \"automl\"->azureml-sdk[automl]) (7.1.2)\n",
            "Requirement already satisfied, skipping upgrade: interpret-core[required]<=0.2.1,>=0.1.20 in /anaconda/envs/azureml_py36/lib/python3.6/site-packages (from interpret-community==0.16.*->azureml-interpret~=1.21.0->azureml-train-automl-runtime~=1.21.0->azureml-train-automl~=1.21.0; extra == \"automl\"->azureml-sdk[automl]) (0.2.1)\n",
            "Requirement already satisfied, skipping upgrade: shap<=0.34.0,>=0.20.0 in /anaconda/envs/azureml_py36/lib/python3.6/site-packages (from interpret-community==0.16.*->azureml-interpret~=1.21.0->azureml-train-automl-runtime~=1.21.0->azureml-train-automl~=1.21.0; extra == \"automl\"->azureml-sdk[automl]) (0.34.0)\n",
            "Requirement already satisfied, skipping upgrade: packaging in /anaconda/envs/azureml_py36/lib/python3.6/site-packages (from interpret-community==0.16.*->azureml-interpret~=1.21.0->azureml-train-automl-runtime~=1.21.0->azureml-train-automl~=1.21.0; extra == \"automl\"->azureml-sdk[automl]) (20.8)\n",
            "Requirement already satisfied, skipping upgrade: tqdm>4.25.0 in /anaconda/envs/azureml_py36/lib/python3.6/site-packages (from shap<=0.34.0,>=0.20.0->interpret-community==0.16.*->azureml-interpret~=1.21.0->azureml-train-automl-runtime~=1.21.0->azureml-train-automl~=1.21.0; extra == \"automl\"->azureml-sdk[automl]) (4.55.1)\n",
            "Requirement already satisfied, skipping upgrade: pyparsing>=2.0.2 in /anaconda/envs/azureml_py36/lib/python3.6/site-packages (from packaging->interpret-community==0.16.*->azureml-interpret~=1.21.0->azureml-train-automl-runtime~=1.21.0->azureml-train-automl~=1.21.0; extra == \"automl\"->azureml-sdk[automl]) (2.4.7)\n"
          ]
        }
      ],
      "execution_count": 1,
      "metadata": {
        "gather": {
          "logged": 1612299456746
        }
      }
    },
    {
      "cell_type": "code",
      "source": [
        "from azureml.core import Workspace, Experiment\n",
        "from azureml.core.compute import ComputeTarget, AmlCompute\n",
        "from azureml.core.compute_target import ComputeTargetException"
      ],
      "outputs": [],
      "execution_count": 2,
      "metadata": {
        "gather": {
          "logged": 1612299456934
        },
        "jupyter": {
          "outputs_hidden": false,
          "source_hidden": false
        },
        "nteract": {
          "transient": {
            "deleting": false
          }
        }
      }
    },
    {
      "cell_type": "markdown",
      "source": [
        "## Dataset\n",
        "\n",
        "### Overview\n",
        "TODO: In this markdown cell, give an overview of the dataset you are using. Also mention the task you will be performing.\n",
        "\n",
        "The dataset is extracted from an Udacity's competition called 'Predicting customer satisfaction' It consists of customers data from Santander bank, containing all their relevant features (like the number of products, their name, interest rate of loans, etc). \n",
        "\n",
        "TODO: Get data. In the cell below, write code to access the data you will be using in this project. Remember that the dataset needs to be external."
      ],
      "metadata": {}
    },
    {
      "cell_type": "code",
      "source": [
        "ws = Workspace.from_config()\n",
        "cluster_name = 'project-cluster'\n",
        "try:\n",
        "    compute_target = ComputeTarget(ws, cluster_name)\n",
        "except ComputeTargetException:\n",
        "    compute_config = AmlCompute.provisioning_configuration(vm_size='STANDARD_D2_V2', min_nodes=1, max_nodes=4)\n",
        "    compute_target = ComputeTarget.create(ws, cluster_name, compute_config)\n",
        "\n",
        "compute_target.wait_for_completion(show_output=True)"
      ],
      "outputs": [
        {
          "output_type": "stream",
          "name": "stdout",
          "text": [
            "Succeeded\n",
            "AmlCompute wait for completion finished\n",
            "\n",
            "Minimum number of nodes requested have been provisioned\n"
          ]
        }
      ],
      "execution_count": 3,
      "metadata": {
        "gather": {
          "logged": 1612299457414
        }
      }
    },
    {
      "cell_type": "code",
      "source": [
        "#import dataset\n",
        "from azureml.data.dataset_factory import TabularDatasetFactory\n",
        "Data_URL= \"https://github.com/jfcarmonag/Capstone_AZMLND/raw/master/starter_file/BankChurners.csv\"\n",
        "ds=TabularDatasetFactory.from_delimited_files(path=Data_URL)\n",
        "# choose a name for experiment\n",
        "experiment_name = 'exp-capstone'\n",
        "experiment=Experiment(ws, experiment_name)"
      ],
      "outputs": [],
      "execution_count": 4,
      "metadata": {
        "gather": {
          "logged": 1612299464908
        },
        "jupyter": {
          "outputs_hidden": false,
          "source_hidden": false
        },
        "nteract": {
          "transient": {
            "deleting": false
          }
        }
      }
    },
    {
      "cell_type": "code",
      "source": [
        "import pandas as pd\n",
        "from train import clean_data\n",
        "from azureml.train.automl import AutoMLConfig\n",
        "\n",
        "# Use the clean_data function to clean your data.\n",
        "x, y = clean_data(ds)\n",
        "complete_data = pd.concat([x, y], axis=1)\n",
        "\n",
        "complete_data"
      ],
      "outputs": [
        {
          "output_type": "execute_result",
          "execution_count": 5,
          "data": {
            "text/plain": "       Customer_Age  Gender_M  Gender_F  Dependent_count  Education_Level  \\\n0                45         1         0                3                1   \n1                49         0         1                5                3   \n2                51         1         0                3                3   \n3                40         0         1                4                1   \n4                40         1         0                3                0   \n...             ...       ...       ...              ...              ...   \n10122            50         1         0                2                3   \n10123            41         1         0                2                0   \n10124            44         0         1                1                1   \n10125            30         1         0                2                3   \n10126            43         0         1                2                3   \n\n       Married  Unknown  Divorced  Single  Income_Category  ...  \\\n0            1        0         0       0                3  ...   \n1            0        0         0       1                1  ...   \n2            1        0         0       0                4  ...   \n3            0        1         0       0                1  ...   \n4            1        0         0       0                3  ...   \n...        ...      ...       ...     ...              ...  ...   \n10122        0        0         0       1                2  ...   \n10123        0        0         1       0                2  ...   \n10124        1        0         0       0                1  ...   \n10125        0        1         0       0                2  ...   \n10126        1        0         0       0                1  ...   \n\n       Contacts_Count_12_mon  Credit_Limit  Total_Revolving_Bal  \\\n0                          3       12691.0                  777   \n1                          2        8256.0                  864   \n2                          0        3418.0                    0   \n3                          1        3313.0                 2517   \n4                          0        4716.0                    0   \n...                      ...           ...                  ...   \n10122                      3        4003.0                 1851   \n10123                      3        4277.0                 2186   \n10124                      4        5409.0                    0   \n10125                      3        5281.0                    0   \n10126                      4       10388.0                 1961   \n\n       Avg_Open_To_Buy  Total_Amt_Chng_Q4_Q1  Total_Trans_Amt  Total_Trans_Ct  \\\n0              11914.0                 1.335             1144              42   \n1               7392.0                 1.541             1291              33   \n2               3418.0                 2.594             1887              20   \n3                796.0                 1.405             1171              20   \n4               4716.0                 2.175              816              28   \n...                ...                   ...              ...             ...   \n10122           2152.0                 0.703            15476             117   \n10123           2091.0                 0.804             8764              69   \n10124           5409.0                 0.819            10291              60   \n10125           5281.0                 0.535             8395              62   \n10126           8427.0                 0.703            10294              61   \n\n       Total_Ct_Chng_Q4_Q1  Avg_Utilization_Ratio  Attrition_Flag  \n0                    1.625                  0.061               0  \n1                    3.714                  0.105               0  \n2                    2.333                  0.000               0  \n3                    2.333                  0.760               0  \n4                    2.500                  0.000               0  \n...                    ...                    ...             ...  \n10122                0.857                  0.462               0  \n10123                0.683                  0.511               1  \n10124                0.818                  0.000               1  \n10125                0.722                  0.000               1  \n10126                0.649                  0.189               1  \n\n[10127 rows x 24 columns]",
            "text/html": "<div>\n<style scoped>\n    .dataframe tbody tr th:only-of-type {\n        vertical-align: middle;\n    }\n\n    .dataframe tbody tr th {\n        vertical-align: top;\n    }\n\n    .dataframe thead th {\n        text-align: right;\n    }\n</style>\n<table border=\"1\" class=\"dataframe\">\n  <thead>\n    <tr style=\"text-align: right;\">\n      <th></th>\n      <th>Customer_Age</th>\n      <th>Gender_M</th>\n      <th>Gender_F</th>\n      <th>Dependent_count</th>\n      <th>Education_Level</th>\n      <th>Married</th>\n      <th>Unknown</th>\n      <th>Divorced</th>\n      <th>Single</th>\n      <th>Income_Category</th>\n      <th>...</th>\n      <th>Contacts_Count_12_mon</th>\n      <th>Credit_Limit</th>\n      <th>Total_Revolving_Bal</th>\n      <th>Avg_Open_To_Buy</th>\n      <th>Total_Amt_Chng_Q4_Q1</th>\n      <th>Total_Trans_Amt</th>\n      <th>Total_Trans_Ct</th>\n      <th>Total_Ct_Chng_Q4_Q1</th>\n      <th>Avg_Utilization_Ratio</th>\n      <th>Attrition_Flag</th>\n    </tr>\n  </thead>\n  <tbody>\n    <tr>\n      <th>0</th>\n      <td>45</td>\n      <td>1</td>\n      <td>0</td>\n      <td>3</td>\n      <td>1</td>\n      <td>1</td>\n      <td>0</td>\n      <td>0</td>\n      <td>0</td>\n      <td>3</td>\n      <td>...</td>\n      <td>3</td>\n      <td>12691.0</td>\n      <td>777</td>\n      <td>11914.0</td>\n      <td>1.335</td>\n      <td>1144</td>\n      <td>42</td>\n      <td>1.625</td>\n      <td>0.061</td>\n      <td>0</td>\n    </tr>\n    <tr>\n      <th>1</th>\n      <td>49</td>\n      <td>0</td>\n      <td>1</td>\n      <td>5</td>\n      <td>3</td>\n      <td>0</td>\n      <td>0</td>\n      <td>0</td>\n      <td>1</td>\n      <td>1</td>\n      <td>...</td>\n      <td>2</td>\n      <td>8256.0</td>\n      <td>864</td>\n      <td>7392.0</td>\n      <td>1.541</td>\n      <td>1291</td>\n      <td>33</td>\n      <td>3.714</td>\n      <td>0.105</td>\n      <td>0</td>\n    </tr>\n    <tr>\n      <th>2</th>\n      <td>51</td>\n      <td>1</td>\n      <td>0</td>\n      <td>3</td>\n      <td>3</td>\n      <td>1</td>\n      <td>0</td>\n      <td>0</td>\n      <td>0</td>\n      <td>4</td>\n      <td>...</td>\n      <td>0</td>\n      <td>3418.0</td>\n      <td>0</td>\n      <td>3418.0</td>\n      <td>2.594</td>\n      <td>1887</td>\n      <td>20</td>\n      <td>2.333</td>\n      <td>0.000</td>\n      <td>0</td>\n    </tr>\n    <tr>\n      <th>3</th>\n      <td>40</td>\n      <td>0</td>\n      <td>1</td>\n      <td>4</td>\n      <td>1</td>\n      <td>0</td>\n      <td>1</td>\n      <td>0</td>\n      <td>0</td>\n      <td>1</td>\n      <td>...</td>\n      <td>1</td>\n      <td>3313.0</td>\n      <td>2517</td>\n      <td>796.0</td>\n      <td>1.405</td>\n      <td>1171</td>\n      <td>20</td>\n      <td>2.333</td>\n      <td>0.760</td>\n      <td>0</td>\n    </tr>\n    <tr>\n      <th>4</th>\n      <td>40</td>\n      <td>1</td>\n      <td>0</td>\n      <td>3</td>\n      <td>0</td>\n      <td>1</td>\n      <td>0</td>\n      <td>0</td>\n      <td>0</td>\n      <td>3</td>\n      <td>...</td>\n      <td>0</td>\n      <td>4716.0</td>\n      <td>0</td>\n      <td>4716.0</td>\n      <td>2.175</td>\n      <td>816</td>\n      <td>28</td>\n      <td>2.500</td>\n      <td>0.000</td>\n      <td>0</td>\n    </tr>\n    <tr>\n      <th>...</th>\n      <td>...</td>\n      <td>...</td>\n      <td>...</td>\n      <td>...</td>\n      <td>...</td>\n      <td>...</td>\n      <td>...</td>\n      <td>...</td>\n      <td>...</td>\n      <td>...</td>\n      <td>...</td>\n      <td>...</td>\n      <td>...</td>\n      <td>...</td>\n      <td>...</td>\n      <td>...</td>\n      <td>...</td>\n      <td>...</td>\n      <td>...</td>\n      <td>...</td>\n      <td>...</td>\n    </tr>\n    <tr>\n      <th>10122</th>\n      <td>50</td>\n      <td>1</td>\n      <td>0</td>\n      <td>2</td>\n      <td>3</td>\n      <td>0</td>\n      <td>0</td>\n      <td>0</td>\n      <td>1</td>\n      <td>2</td>\n      <td>...</td>\n      <td>3</td>\n      <td>4003.0</td>\n      <td>1851</td>\n      <td>2152.0</td>\n      <td>0.703</td>\n      <td>15476</td>\n      <td>117</td>\n      <td>0.857</td>\n      <td>0.462</td>\n      <td>0</td>\n    </tr>\n    <tr>\n      <th>10123</th>\n      <td>41</td>\n      <td>1</td>\n      <td>0</td>\n      <td>2</td>\n      <td>0</td>\n      <td>0</td>\n      <td>0</td>\n      <td>1</td>\n      <td>0</td>\n      <td>2</td>\n      <td>...</td>\n      <td>3</td>\n      <td>4277.0</td>\n      <td>2186</td>\n      <td>2091.0</td>\n      <td>0.804</td>\n      <td>8764</td>\n      <td>69</td>\n      <td>0.683</td>\n      <td>0.511</td>\n      <td>1</td>\n    </tr>\n    <tr>\n      <th>10124</th>\n      <td>44</td>\n      <td>0</td>\n      <td>1</td>\n      <td>1</td>\n      <td>1</td>\n      <td>1</td>\n      <td>0</td>\n      <td>0</td>\n      <td>0</td>\n      <td>1</td>\n      <td>...</td>\n      <td>4</td>\n      <td>5409.0</td>\n      <td>0</td>\n      <td>5409.0</td>\n      <td>0.819</td>\n      <td>10291</td>\n      <td>60</td>\n      <td>0.818</td>\n      <td>0.000</td>\n      <td>1</td>\n    </tr>\n    <tr>\n      <th>10125</th>\n      <td>30</td>\n      <td>1</td>\n      <td>0</td>\n      <td>2</td>\n      <td>3</td>\n      <td>0</td>\n      <td>1</td>\n      <td>0</td>\n      <td>0</td>\n      <td>2</td>\n      <td>...</td>\n      <td>3</td>\n      <td>5281.0</td>\n      <td>0</td>\n      <td>5281.0</td>\n      <td>0.535</td>\n      <td>8395</td>\n      <td>62</td>\n      <td>0.722</td>\n      <td>0.000</td>\n      <td>1</td>\n    </tr>\n    <tr>\n      <th>10126</th>\n      <td>43</td>\n      <td>0</td>\n      <td>1</td>\n      <td>2</td>\n      <td>3</td>\n      <td>1</td>\n      <td>0</td>\n      <td>0</td>\n      <td>0</td>\n      <td>1</td>\n      <td>...</td>\n      <td>4</td>\n      <td>10388.0</td>\n      <td>1961</td>\n      <td>8427.0</td>\n      <td>0.703</td>\n      <td>10294</td>\n      <td>61</td>\n      <td>0.649</td>\n      <td>0.189</td>\n      <td>1</td>\n    </tr>\n  </tbody>\n</table>\n<p>10127 rows × 24 columns</p>\n</div>"
          },
          "metadata": {}
        }
      ],
      "execution_count": 5,
      "metadata": {
        "collapsed": true,
        "gather": {
          "logged": 1612299467561
        },
        "jupyter": {
          "outputs_hidden": false,
          "source_hidden": false
        },
        "nteract": {
          "transient": {
            "deleting": false
          }
        }
      }
    },
    {
      "cell_type": "markdown",
      "source": [
        "## AutoML Configuration\n",
        "\n",
        "TODO: Explain why you chose the automl settings and cofiguration you used below.\n",
        "\n",
        "- Since the dataset is unbalanced (HOW), F1-score is appropriate given that it takes into account both precision and recall."
      ],
      "metadata": {}
    },
    {
      "cell_type": "code",
      "source": [
        "# azureml-core of version 1.0.72 or higher is required\n",
        "# azureml-dataprep[pandas] of version 1.1.34 or higher is required\n",
        "\n",
        "from azureml.core import Workspace, Dataset\n",
        "local_path = 'data/prepared.csv'\n",
        "complete_data.to_csv(local_path)\n",
        "\n",
        "# get the datastore to upload prepared data\n",
        "datastore = ws.get_default_datastore()\n",
        "\n",
        "# upload the local file from src_dir to the target_path in datastore\n",
        "datastore.upload(src_dir='data', target_path='data')\n",
        "\n",
        "# create a dataset referencing the cloud location\n",
        "dataset = Dataset.Tabular.from_delimited_files(path = [(datastore, ('data/prepared.csv'))])"
      ],
      "outputs": [
        {
          "output_type": "stream",
          "name": "stdout",
          "text": [
            "Uploading an estimated of 1 files\n",
            "Target already exists. Skipping upload for data/prepared.csv\n",
            "Uploaded 0 files\n"
          ]
        }
      ],
      "execution_count": 6,
      "metadata": {
        "collapsed": true,
        "gather": {
          "logged": 1612299469631
        },
        "jupyter": {
          "outputs_hidden": false,
          "source_hidden": false
        },
        "nteract": {
          "transient": {
            "deleting": false
          }
        }
      }
    },
    {
      "cell_type": "code",
      "source": [
        "import pandas as pd\n",
        "from train import clean_data\n",
        "from azureml.train.automl import AutoMLConfig\n",
        "\n",
        "# automl settings\n",
        "automl_settings = {\n",
        "       \"n_cross_validations\": 3,\n",
        "       \"primary_metric\": 'accuracy',\n",
        "       \"enable_early_stopping\": True,\n",
        "       \"experiment_timeout_hours\": 1.0,\n",
        "       \"max_concurrent_iterations\": 4,\n",
        "       \"max_cores_per_iteration\": -1,\n",
        "       #\"verbosity\": logging.INFO,\n",
        "   }\n",
        "\n",
        "# automl configuration\n",
        "automl_config = AutoMLConfig(task = 'classification',\n",
        "                               compute_target = compute_target,\n",
        "                               training_data = dataset,\n",
        "                               label_column_name = \"Attrition_Flag\",\n",
        "                               **automl_settings\n",
        "                               )"
      ],
      "outputs": [],
      "execution_count": 7,
      "metadata": {
        "gather": {
          "logged": 1612299469793
        },
        "jupyter": {
          "outputs_hidden": false,
          "source_hidden": false
        },
        "nteract": {
          "transient": {
            "deleting": false
          }
        }
      }
    },
    {
      "cell_type": "code",
      "source": [
        "# TODO: Submit your experiment\n",
        "remote_run = experiment.submit(automl_config, show_output=\"True\")"
      ],
      "outputs": [
        {
          "output_type": "stream",
          "name": "stdout",
          "text": [
            "Running on remote.\n",
            "No run_configuration provided, running on project-cluster with default configuration\n",
            "Running on remote compute: project-cluster\n",
            "Parent Run ID: AutoML_ac532b66-509a-4c93-bbc7-512d2fbdeb01\n",
            "\n",
            "Current status: FeaturesGeneration. Generating features for the dataset.\n",
            "Current status: DatasetFeaturization. Beginning to fit featurizers and featurize the dataset.\n",
            "Current status: DatasetCrossValidationSplit. Generating individually featurized CV splits.\n",
            "Current status: ModelSelection. Beginning model selection.\n",
            "\n",
            "****************************************************************************************************\n",
            "DATA GUARDRAILS: \n",
            "\n",
            "TYPE:         Class balancing detection\n",
            "STATUS:       ALERTED\n",
            "DESCRIPTION:  To decrease model bias, please cancel the current run and fix balancing problem.\n",
            "              Learn more about imbalanced data: https://aka.ms/AutomatedMLImbalancedData\n",
            "DETAILS:      Imbalanced data can lead to a falsely perceived positive effect of a model's accuracy because the input data has bias towards one class.\n",
            "+---------------------------------+---------------------------------+--------------------------------------+\n",
            "|Size of the smallest class       |Name/Label of the smallest class |Number of samples in the training data|\n",
            "+=================================+=================================+======================================+\n",
            "|1627                             |1                                |10127                                 |\n",
            "+---------------------------------+---------------------------------+--------------------------------------+\n",
            "\n",
            "****************************************************************************************************\n",
            "\n",
            "TYPE:         Missing feature values imputation\n",
            "STATUS:       PASSED\n",
            "DESCRIPTION:  No feature missing values were detected in the training data.\n",
            "              Learn more about missing value imputation: https://aka.ms/AutomatedMLFeaturization\n",
            "\n",
            "****************************************************************************************************\n",
            "\n",
            "TYPE:         High cardinality feature detection\n",
            "STATUS:       PASSED\n",
            "DESCRIPTION:  Your inputs were analyzed, and no high cardinality features were detected.\n",
            "              Learn more about high cardinality feature handling: https://aka.ms/AutomatedMLFeaturization\n",
            "\n",
            "****************************************************************************************************\n",
            "\n",
            "****************************************************************************************************\n",
            "ITERATION: The iteration being evaluated.\n",
            "PIPELINE: A summary description of the pipeline being evaluated.\n",
            "DURATION: Time taken for the current iteration.\n",
            "METRIC: The result of computing score on the fitted pipeline.\n",
            "BEST: The best observed score thus far.\n",
            "****************************************************************************************************\n",
            "\n",
            " ITERATION   PIPELINE                                       DURATION      METRIC      BEST\n",
            "         0   MaxAbsScaler LightGBM                          0:01:00       0.9871    0.9871\n",
            "         1   MaxAbsScaler XGBoostClassifier                 0:01:03       0.9849    0.9871\n",
            "         2   MaxAbsScaler RandomForest                      0:00:58       0.8758    0.9871\n",
            "         3   MaxAbsScaler RandomForest                      0:00:58       0.8691    0.9871\n",
            "         4   MaxAbsScaler RandomForest                      0:01:00       0.9064    0.9871\n",
            "         5   MaxAbsScaler RandomForest                      0:00:57       0.8195    0.9871\n",
            "         7   SparseNormalizer XGBoostClassifier             0:01:01       0.9695    0.9871\n",
            "         6   MaxAbsScaler RandomForest                      0:01:24       0.8672    0.9871\n",
            "         8   SparseNormalizer XGBoostClassifier             0:01:01       0.9605    0.9871\n",
            "         9   SparseNormalizer XGBoostClassifier             0:01:06       0.9718    0.9871\n",
            "        10   StandardScalerWrapper RandomForest             0:00:53       0.9296    0.9871\n",
            "        11   SparseNormalizer XGBoostClassifier             0:00:57       0.9017    0.9871\n",
            "        12   MaxAbsScaler ExtremeRandomTrees                0:01:18       0.8876    0.9871\n",
            "        13   MaxAbsScaler RandomForest                      0:01:13       0.8827    0.9871\n",
            "        15   MaxAbsScaler LightGBM                          0:00:56       0.9229    0.9871\n",
            "        14   MaxAbsScaler ExtremeRandomTrees                0:01:11       0.8444    0.9871\n",
            "        16   SparseNormalizer XGBoostClassifier             0:00:59       0.9612    0.9871\n",
            "        17   SparseNormalizer XGBoostClassifier             0:00:55       0.9407    0.9871\n",
            "        18   MaxAbsScaler LightGBM                          0:00:53       0.9689    0.9871\n",
            "        19   MaxAbsScaler LightGBM                          0:00:58       0.9124    0.9871\n",
            "        20   SparseNormalizer XGBoostClassifier             0:01:05       0.9626    0.9871\n",
            "        21   MaxAbsScaler LogisticRegression                0:01:01       0.9546    0.9871\n",
            "        22   StandardScalerWrapper LogisticRegression       0:00:58       0.9533    0.9871\n",
            "        23   MaxAbsScaler LogisticRegression                0:01:01       0.9557    0.9871\n",
            "        24   StandardScalerWrapper LogisticRegression       0:00:59       0.9546    0.9871\n",
            "        25   StandardScalerWrapper LightGBM                 0:00:56       0.8393    0.9871\n",
            "        26   SparseNormalizer XGBoostClassifier             0:00:53       0.9233    0.9871\n",
            "        27   SparseNormalizer XGBoostClassifier             0:01:02       0.9252    0.9871\n",
            "        28   SparseNormalizer LightGBM                      0:01:04       0.9475    0.9871\n",
            "        29   StandardScalerWrapper XGBoostClassifier        0:00:56       0.9833    0.9871\n",
            "        30   SparseNormalizer LightGBM                      0:00:55       0.9677    0.9871\n",
            "        31   SparseNormalizer XGBoostClassifier             0:01:36       0.9732    0.9871\n",
            "        32   StandardScalerWrapper XGBoostClassifier        0:01:02       0.9844    0.9871\n",
            "        33   SparseNormalizer XGBoostClassifier             0:01:00       0.9526    0.9871\n",
            "        34                                                  0:00:11          nan    0.9871\n",
            "        35                                                  0:00:16          nan    0.9871\n"
          ]
        }
      ],
      "execution_count": 8,
      "metadata": {
        "gather": {
          "logged": 1612290886730
        },
        "jupyter": {
          "outputs_hidden": false,
          "source_hidden": false
        },
        "nteract": {
          "transient": {
            "deleting": false
          }
        }
      }
    },
    {
      "cell_type": "markdown",
      "source": [
        "## Run Details\n",
        "\n",
        "OPTIONAL: Write about the different models trained and their performance. Why do you think some models did better than others?\n",
        "\n",
        "TODO: In the cell below, use the `RunDetails` widget to show the different experiments."
      ],
      "metadata": {}
    },
    {
      "cell_type": "code",
      "source": [
        "from azureml.widgets import RunDetails\n",
        "RunDetails(remote_run).show()\n",
        "remote_run.wait_for_completion(show_output=True)"
      ],
      "outputs": [],
      "execution_count": null,
      "metadata": {
        "gather": {
          "logged": 1612291089276
        },
        "jupyter": {
          "outputs_hidden": false,
          "source_hidden": false
        },
        "nteract": {
          "transient": {
            "deleting": false
          }
        }
      }
    },
    {
      "cell_type": "markdown",
      "source": [
        "## Best Model\n",
        "\n",
        "TODO: In the cell below, get the best model from the automl experiments and display all the properties of the model.\n",
        "\n"
      ],
      "metadata": {}
    },
    {
      "cell_type": "code",
      "source": [
        "best_run, best_model = remote_run.get_output()"
      ],
      "outputs": [],
      "execution_count": null,
      "metadata": {
        "gather": {
          "logged": 1612291092339
        },
        "jupyter": {
          "outputs_hidden": false,
          "source_hidden": false
        },
        "nteract": {
          "transient": {
            "deleting": false
          }
        }
      }
    },
    {
      "cell_type": "code",
      "source": [
        "#TODO: Save the best model\n",
        "\n",
        "model = best_run.register_model(model_name = \"model\", model_path = './outputs/model.pkl', \n",
        "                                model_framework= Model.Framework.SCIKITLEARN, model_framework_version='0.19.1')"
      ],
      "outputs": [],
      "execution_count": null,
      "metadata": {
        "gather": {
          "logged": 1612299211589
        },
        "jupyter": {
          "outputs_hidden": false,
          "source_hidden": false
        },
        "nteract": {
          "transient": {
            "deleting": false
          }
        }
      }
    },
    {
      "cell_type": "markdown",
      "source": [
        "## ONNX Model\n",
        "Save the model in ONNX format"
      ],
      "metadata": {}
    },
    {
      "cell_type": "code",
      "source": [
        "from azureml.automl.runtime.onnx_convert import OnnxConverter\n",
        "\n",
        "best_run, onnx_mdl = remote_run.get_output(return_onnx_model=True)\n",
        "\n",
        "onnx_fl_path = \"./best_model.onnx\"\n",
        "OnnxConverter.save_onnx_model(onnx_mdl, onnx_fl_path)"
      ],
      "outputs": [],
      "execution_count": null,
      "metadata": {}
    },
    {
      "cell_type": "markdown",
      "source": [
        "## Model Deployment\n",
        "\n",
        "Remember you have to deploy only one of the two models you trained.. Perform the steps in the rest of this notebook only if you wish to deploy this model.\n",
        "\n",
        "TODO: In the cell below, register the model, create an inference config and deploy the model as a web service."
      ],
      "metadata": {}
    },
    {
      "cell_type": "code",
      "source": [
        "from azureml.core.environment import Environment\n",
        "from azureml.core.model import InferenceConfig\n",
        "from azureml.core.webservice import AciWebservice\n",
        "from azureml.core.model import Model\n",
        "\n",
        "env_name=\"environment1\"\n",
        "#Use curated environment AzureML-Minimal\n",
        "env = Environment.get(ws, \"AzureML-Minimal\").clone(env_name)\n",
        "\n",
        "for pip_package in [\"scikit-learn\"]:\n",
        "    env.python.conda_dependencies.add_pip_package(pip_package)\n",
        "\n",
        "#inference_config = InferenceConfig(entry_script='entry_script.py',environment=env)\n",
        "\n",
        "deployment_config = AciWebservice.deploy_configuration(cpu_cores=1,memory_gb=1)\n",
        "\n",
        "#service = Model.deploy(ws, \"myservice\", [model], inference_config=inference_config, deployment_config=deployment_config)\n",
        "service = Model.deploy(ws, \"myservice\", [model], deployment_config=deployment_config)\n",
        "\n",
        "service.wait_for_deployment(show_output = True)\n",
        "#enable logging\n",
        "service.update(enable_app_insights=True)\n",
        "print(service.get_logs())\n",
        "print(service.state)\n",
        "\n"
      ],
      "outputs": [],
      "execution_count": null,
      "metadata": {
        "gather": {
          "logged": 1598431435189
        },
        "jupyter": {
          "outputs_hidden": false,
          "source_hidden": false
        },
        "nteract": {
          "transient": {
            "deleting": false
          }
        }
      }
    },
    {
      "cell_type": "markdown",
      "source": [
        "TODO: In the cell below, send a request to the web service you deployed to test it."
      ],
      "metadata": {
        "collapsed": true,
        "gather": {
          "logged": 1598431657736
        },
        "jupyter": {
          "outputs_hidden": false,
          "source_hidden": false
        },
        "nteract": {
          "transient": {
            "deleting": false
          }
        }
      }
    },
    {
      "cell_type": "code",
      "source": [
        "import requests\n",
        "import json\n",
        "\n",
        "primary, secondary = service.get_keys()\n",
        "print(primary)\n",
        "# URL for the web service\n",
        "scoring_uri = service.scoring_uri\n",
        "# If the service is authenticated, set the key or token\n",
        "key = primary\n",
        "\n",
        "# Two sets of data to score, so we get two results back\n",
        "data = {\"data\":\n",
        "        [\n",
        "          {\"Attrition_Flag\":0,\n",
        "          \"Customer_Age\": 45,\n",
        "          \"Gender_M\":1,\n",
        "          \"Gender_F\":0,\n",
        "          \"Dependent_count\":3,\n",
        "          \"Education_Level\":2,\n",
        "          \"Married\":0,\n",
        "          \"Single\":1,\n",
        "          \"Divorced\":0,\n",
        "          \"Unknown\":0,\n",
        "          \"Income_Category\":2,\n",
        "          \"Card_Category\":2,\n",
        "          \"Months_on_book\":39,\n",
        "          \"Total_Relationship_Count\":5,\n",
        "          \"Months_Inactive_12_mon\":1,\n",
        "          \"Contacts_Count_12_mon\":3,\n",
        "          \"Credit_Limit\":12691,\n",
        "          \"Total_Revolving_Bal\":777,\n",
        "          \"Avg_Open_To_Buy\":11914,\n",
        "          \"Total_Amt_Chng_Q4_Q1\":1.335,\n",
        "          \"Total_Trans_Amt\":1144,\n",
        "          \"Total_Trans_Ct\":42,\n",
        "          \"Total_Ct_Chng_Q4_Q1\":1.625,\n",
        "          \"Avg_Utilization_Ratio\":0.061,\n",
        "          },\n",
        "      ]\n",
        "    }\n",
        "# Convert to JSON string\n",
        "input_data = json.dumps(data)\n",
        "\n",
        "# Set the content type\n",
        "headers = {'Content-Type': 'application/json'}\n",
        "# If authentication is enabled, set the authorization header\n",
        "headers['Authorization'] = f'Bearer {key}'\n",
        "\n",
        "# Make the request and display the response\n",
        "resp = requests.post(scoring_uri, input_data, headers=headers)\n",
        "print(resp.text)"
      ],
      "outputs": [],
      "execution_count": null,
      "metadata": {
        "gather": {
          "logged": 1598432707604
        },
        "jupyter": {
          "outputs_hidden": false,
          "source_hidden": false
        },
        "nteract": {
          "transient": {
            "deleting": false
          }
        }
      }
    },
    {
      "cell_type": "markdown",
      "source": [
        "TODO: In the cell below, print the logs of the web service and delete the service"
      ],
      "metadata": {
        "collapsed": true,
        "gather": {
          "logged": 1598432765711
        },
        "jupyter": {
          "outputs_hidden": false,
          "source_hidden": false
        },
        "nteract": {
          "transient": {
            "deleting": false
          }
        }
      }
    },
    {
      "cell_type": "code",
      "source": [
        "#logs = service.get_logs()\n",
        "#print(logs)\n",
        "service.delete()"
      ],
      "outputs": [],
      "execution_count": null,
      "metadata": {
        "jupyter": {
          "outputs_hidden": false,
          "source_hidden": false
        },
        "nteract": {
          "transient": {
            "deleting": false
          }
        },
        "gather": {
          "logged": 1612299116752
        }
      }
    },
    {
      "cell_type": "code",
      "source": [],
      "outputs": [],
      "execution_count": null,
      "metadata": {
        "collapsed": true,
        "jupyter": {
          "source_hidden": false,
          "outputs_hidden": false
        },
        "nteract": {
          "transient": {
            "deleting": false
          }
        }
      }
    },
    {
      "cell_type": "code",
      "source": [],
      "outputs": [],
      "execution_count": null,
      "metadata": {
        "collapsed": true,
        "jupyter": {
          "source_hidden": false,
          "outputs_hidden": false
        },
        "nteract": {
          "transient": {
            "deleting": false
          }
        }
      }
    }
  ],
  "metadata": {
    "kernel_info": {
      "name": "python3"
    },
    "kernelspec": {
      "name": "python3",
      "language": "python",
      "display_name": "Python 3"
    },
    "language_info": {
      "name": "python",
      "version": "3.6.9",
      "mimetype": "text/x-python",
      "codemirror_mode": {
        "name": "ipython",
        "version": 3
      },
      "pygments_lexer": "ipython3",
      "nbconvert_exporter": "python",
      "file_extension": ".py"
    },
    "nteract": {
      "version": "nteract-front-end@1.0.0"
    }
  },
  "nbformat": 4,
  "nbformat_minor": 2
}