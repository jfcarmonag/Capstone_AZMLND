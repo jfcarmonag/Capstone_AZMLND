{
  "cells": [
    {
      "cell_type": "markdown",
      "source": [
        "\n",
        "# Automated ML\n",
        "\n",
        "TODO: Import Dependencies. In the cell below, import all the dependencies that you will need to complete the project."
      ],
      "metadata": {}
    },
    {
      "cell_type": "code",
      "source": [
        "#update automl\n",
        "!pip install --upgrade azureml-sdk[automl]"
      ],
      "outputs": [
        {
          "output_type": "stream",
          "name": "stdout",
          "text": [
            "Requirement already up-to-date: azureml-sdk[automl] in /anaconda/envs/azureml_py36/lib/python3.6/site-packages (1.21.0)\n",
            "Requirement already satisfied, skipping upgrade: azureml-train~=1.21.0 in /anaconda/envs/azureml_py36/lib/python3.6/site-packages (from azureml-sdk[automl]) (1.21.0)\n",
            "Requirement already satisfied, skipping upgrade: azureml-dataset-runtime[fuse]~=1.21.0 in /anaconda/envs/azureml_py36/lib/python3.6/site-packages (from azureml-sdk[automl]) (1.21.0)\n",
            "Requirement already satisfied, skipping upgrade: azureml-train-automl-client~=1.21.0 in /anaconda/envs/azureml_py36/lib/python3.6/site-packages (from azureml-sdk[automl]) (1.21.0)\n",
            "Requirement already satisfied, skipping upgrade: azureml-pipeline~=1.21.0 in /anaconda/envs/azureml_py36/lib/python3.6/site-packages (from azureml-sdk[automl]) (1.21.0)\n",
            "Requirement already satisfied, skipping upgrade: azureml-core~=1.21.0 in /anaconda/envs/azureml_py36/lib/python3.6/site-packages (from azureml-sdk[automl]) (1.21.0.post2)\n",
            "Requirement already satisfied, skipping upgrade: azureml-train-automl~=1.21.0; extra == \"automl\" in /anaconda/envs/azureml_py36/lib/python3.6/site-packages (from azureml-sdk[automl]) (1.21.0)\n",
            "Requirement already satisfied, skipping upgrade: azureml-train-core~=1.21.0 in /anaconda/envs/azureml_py36/lib/python3.6/site-packages (from azureml-train~=1.21.0->azureml-sdk[automl]) (1.21.0)\n",
            "Requirement already satisfied, skipping upgrade: azureml-dataprep<2.9.0a,>=2.8.0a in /anaconda/envs/azureml_py36/lib/python3.6/site-packages (from azureml-dataset-runtime[fuse]~=1.21.0->azureml-sdk[automl]) (2.8.2)\n",
            "Requirement already satisfied, skipping upgrade: numpy!=1.19.3; sys_platform == \"linux\" in /anaconda/envs/azureml_py36/lib/python3.6/site-packages (from azureml-dataset-runtime[fuse]~=1.21.0->azureml-sdk[automl]) (1.18.5)\n",
            "Requirement already satisfied, skipping upgrade: pyarrow<2.0.0,>=0.17.0 in /anaconda/envs/azureml_py36/lib/python3.6/site-packages (from azureml-dataset-runtime[fuse]~=1.21.0->azureml-sdk[automl]) (1.0.1)\n",
            "Requirement already satisfied, skipping upgrade: fusepy<4.0.0,>=3.0.1; extra == \"fuse\" in /anaconda/envs/azureml_py36/lib/python3.6/site-packages (from azureml-dataset-runtime[fuse]~=1.21.0->azureml-sdk[automl]) (3.0.1)\n",
            "Requirement already satisfied, skipping upgrade: azureml-automl-core~=1.21.0 in /anaconda/envs/azureml_py36/lib/python3.6/site-packages (from azureml-train-automl-client~=1.21.0->azureml-sdk[automl]) (1.21.0)\n",
            "Requirement already satisfied, skipping upgrade: azureml-telemetry~=1.21.0 in /anaconda/envs/azureml_py36/lib/python3.6/site-packages (from azureml-train-automl-client~=1.21.0->azureml-sdk[automl]) (1.21.0)\n",
            "Requirement already satisfied, skipping upgrade: azureml-pipeline-core~=1.21.0 in /anaconda/envs/azureml_py36/lib/python3.6/site-packages (from azureml-pipeline~=1.21.0->azureml-sdk[automl]) (1.21.0)\n",
            "Requirement already satisfied, skipping upgrade: azureml-pipeline-steps~=1.21.0 in /anaconda/envs/azureml_py36/lib/python3.6/site-packages (from azureml-pipeline~=1.21.0->azureml-sdk[automl]) (1.21.0)\n",
            "Requirement already satisfied, skipping upgrade: contextlib2 in /anaconda/envs/azureml_py36/lib/python3.6/site-packages (from azureml-core~=1.21.0->azureml-sdk[automl]) (0.6.0.post1)\n",
            "Requirement already satisfied, skipping upgrade: PyJWT<2.0.0 in /anaconda/envs/azureml_py36/lib/python3.6/site-packages (from azureml-core~=1.21.0->azureml-sdk[automl]) (1.7.1)\n",
            "Requirement already satisfied, skipping upgrade: requests>=2.19.1 in /anaconda/envs/azureml_py36/lib/python3.6/site-packages (from azureml-core~=1.21.0->azureml-sdk[automl]) (2.25.1)\n",
            "Requirement already satisfied, skipping upgrade: azure-mgmt-containerregistry>=2.0.0 in /anaconda/envs/azureml_py36/lib/python3.6/site-packages (from azureml-core~=1.21.0->azureml-sdk[automl]) (2.8.0)\n",
            "Requirement already satisfied, skipping upgrade: azure-mgmt-resource<15.0.0,>=1.2.1 in /anaconda/envs/azureml_py36/lib/python3.6/site-packages (from azureml-core~=1.21.0->azureml-sdk[automl]) (12.0.0)\n",
            "Requirement already satisfied, skipping upgrade: docker in /anaconda/envs/azureml_py36/lib/python3.6/site-packages (from azureml-core~=1.21.0->azureml-sdk[automl]) (4.4.1)\n",
            "Requirement already satisfied, skipping upgrade: msrest>=0.5.1 in /anaconda/envs/azureml_py36/lib/python3.6/site-packages (from azureml-core~=1.21.0->azureml-sdk[automl]) (0.6.19)\n",
            "Requirement already satisfied, skipping upgrade: azure-graphrbac<1.0.0,>=0.40.0 in /anaconda/envs/azureml_py36/lib/python3.6/site-packages (from azureml-core~=1.21.0->azureml-sdk[automl]) (0.61.1)\n",
            "Requirement already satisfied, skipping upgrade: jmespath in /anaconda/envs/azureml_py36/lib/python3.6/site-packages (from azureml-core~=1.21.0->azureml-sdk[automl]) (0.10.0)\n",
            "Requirement already satisfied, skipping upgrade: ndg-httpsclient in /anaconda/envs/azureml_py36/lib/python3.6/site-packages (from azureml-core~=1.21.0->azureml-sdk[automl]) (0.5.1)\n",
            "Requirement already satisfied, skipping upgrade: pytz in /anaconda/envs/azureml_py36/lib/python3.6/site-packages (from azureml-core~=1.21.0->azureml-sdk[automl]) (2020.5)\n",
            "Requirement already satisfied, skipping upgrade: pyopenssl<21.0.0 in /anaconda/envs/azureml_py36/lib/python3.6/site-packages (from azureml-core~=1.21.0->azureml-sdk[automl]) (19.1.0)\n",
            "Requirement already satisfied, skipping upgrade: SecretStorage in /anaconda/envs/azureml_py36/lib/python3.6/site-packages (from azureml-core~=1.21.0->azureml-sdk[automl]) (3.3.0)\n",
            "Requirement already satisfied, skipping upgrade: azure-mgmt-keyvault<7.0.0,>=0.40.0 in /anaconda/envs/azureml_py36/lib/python3.6/site-packages (from azureml-core~=1.21.0->azureml-sdk[automl]) (2.2.0)\n",
            "Requirement already satisfied, skipping upgrade: msrestazure>=0.4.33 in /anaconda/envs/azureml_py36/lib/python3.6/site-packages (from azureml-core~=1.21.0->azureml-sdk[automl]) (0.6.4)\n",
            "Requirement already satisfied, skipping upgrade: urllib3>=1.23 in /anaconda/envs/azureml_py36/lib/python3.6/site-packages (from azureml-core~=1.21.0->azureml-sdk[automl]) (1.25.11)\n",
            "Requirement already satisfied, skipping upgrade: pathspec in /anaconda/envs/azureml_py36/lib/python3.6/site-packages (from azureml-core~=1.21.0->azureml-sdk[automl]) (0.8.1)\n",
            "Requirement already satisfied, skipping upgrade: python-dateutil>=2.7.3 in /anaconda/envs/azureml_py36/lib/python3.6/site-packages (from azureml-core~=1.21.0->azureml-sdk[automl]) (2.8.1)\n",
            "Requirement already satisfied, skipping upgrade: jsonpickle in /anaconda/envs/azureml_py36/lib/python3.6/site-packages (from azureml-core~=1.21.0->azureml-sdk[automl]) (1.4.2)\n",
            "Requirement already satisfied, skipping upgrade: azure-mgmt-storage<16.0.0,>=1.5.0 in /anaconda/envs/azureml_py36/lib/python3.6/site-packages (from azureml-core~=1.21.0->azureml-sdk[automl]) (11.2.0)\n",
            "Requirement already satisfied, skipping upgrade: azure-common>=1.1.12 in /anaconda/envs/azureml_py36/lib/python3.6/site-packages (from azureml-core~=1.21.0->azureml-sdk[automl]) (1.1.26)\n",
            "Requirement already satisfied, skipping upgrade: adal>=1.2.0 in /anaconda/envs/azureml_py36/lib/python3.6/site-packages (from azureml-core~=1.21.0->azureml-sdk[automl]) (1.2.5)\n",
            "Requirement already satisfied, skipping upgrade: azure-mgmt-authorization<1.0.0,>=0.40.0 in /anaconda/envs/azureml_py36/lib/python3.6/site-packages (from azureml-core~=1.21.0->azureml-sdk[automl]) (0.61.0)\n",
            "Requirement already satisfied, skipping upgrade: cryptography!=1.9,!=2.0.*,!=2.1.*,!=2.2.* in /anaconda/envs/azureml_py36/lib/python3.6/site-packages (from azureml-core~=1.21.0->azureml-sdk[automl]) (3.3.1)\n",
            "Requirement already satisfied, skipping upgrade: ruamel.yaml>=0.15.35 in /anaconda/envs/azureml_py36/lib/python3.6/site-packages (from azureml-core~=1.21.0->azureml-sdk[automl]) (0.16.12)\n",
            "Requirement already satisfied, skipping upgrade: backports.tempfile in /anaconda/envs/azureml_py36/lib/python3.6/site-packages (from azureml-core~=1.21.0->azureml-sdk[automl]) (1.0)\n",
            "Requirement already satisfied, skipping upgrade: azureml-train-automl-runtime~=1.21.0 in /anaconda/envs/azureml_py36/lib/python3.6/site-packages (from azureml-train-automl~=1.21.0; extra == \"automl\"->azureml-sdk[automl]) (1.21.0.post1)\n",
            "Requirement already satisfied, skipping upgrade: azureml-automl-runtime~=1.21.0 in /anaconda/envs/azureml_py36/lib/python3.6/site-packages (from azureml-train-automl~=1.21.0; extra == \"automl\"->azureml-sdk[automl]) (1.21.0)\n",
            "Requirement already satisfied, skipping upgrade: azureml-train-restclients-hyperdrive~=1.21.0 in /anaconda/envs/azureml_py36/lib/python3.6/site-packages (from azureml-train-core~=1.21.0->azureml-train~=1.21.0->azureml-sdk[automl]) (1.21.0)\n",
            "Requirement already satisfied, skipping upgrade: azureml-dataprep-rslex<1.7.0a,>=1.6.0dev0 in /anaconda/envs/azureml_py36/lib/python3.6/site-packages (from azureml-dataprep<2.9.0a,>=2.8.0a->azureml-dataset-runtime[fuse]~=1.21.0->azureml-sdk[automl]) (1.6.0)\n",
            "Requirement already satisfied, skipping upgrade: dotnetcore2<3.0.0,>=2.1.14 in /anaconda/envs/azureml_py36/lib/python3.6/site-packages (from azureml-dataprep<2.9.0a,>=2.8.0a->azureml-dataset-runtime[fuse]~=1.21.0->azureml-sdk[automl]) (2.1.20)\n",
            "Requirement already satisfied, skipping upgrade: azure-identity<1.5.0,>=1.2.0 in /anaconda/envs/azureml_py36/lib/python3.6/site-packages (from azureml-dataprep<2.9.0a,>=2.8.0a->azureml-dataset-runtime[fuse]~=1.21.0->azureml-sdk[automl]) (1.4.1)\n",
            "Requirement already satisfied, skipping upgrade: cloudpickle<2.0.0,>=1.1.0 in /anaconda/envs/azureml_py36/lib/python3.6/site-packages (from azureml-dataprep<2.9.0a,>=2.8.0a->azureml-dataset-runtime[fuse]~=1.21.0->azureml-sdk[automl]) (1.6.0)\n",
            "Requirement already satisfied, skipping upgrade: azureml-dataprep-native<29.0.0,>=28.0.0 in /anaconda/envs/azureml_py36/lib/python3.6/site-packages (from azureml-dataprep<2.9.0a,>=2.8.0a->azureml-dataset-runtime[fuse]~=1.21.0->azureml-sdk[automl]) (28.0.0)\n",
            "Requirement already satisfied, skipping upgrade: applicationinsights in /anaconda/envs/azureml_py36/lib/python3.6/site-packages (from azureml-telemetry~=1.21.0->azureml-train-automl-client~=1.21.0->azureml-sdk[automl]) (0.11.9)\n",
            "Requirement already satisfied, skipping upgrade: idna<3,>=2.5 in /anaconda/envs/azureml_py36/lib/python3.6/site-packages (from requests>=2.19.1->azureml-core~=1.21.0->azureml-sdk[automl]) (2.10)\n",
            "Requirement already satisfied, skipping upgrade: chardet<5,>=3.0.2 in /anaconda/envs/azureml_py36/lib/python3.6/site-packages (from requests>=2.19.1->azureml-core~=1.21.0->azureml-sdk[automl]) (4.0.0)\n",
            "Requirement already satisfied, skipping upgrade: certifi>=2017.4.17 in /anaconda/envs/azureml_py36/lib/python3.6/site-packages (from requests>=2.19.1->azureml-core~=1.21.0->azureml-sdk[automl]) (2020.12.5)\n",
            "Requirement already satisfied, skipping upgrade: websocket-client>=0.32.0 in /anaconda/envs/azureml_py36/lib/python3.6/site-packages (from docker->azureml-core~=1.21.0->azureml-sdk[automl]) (0.57.0)\n",
            "Requirement already satisfied, skipping upgrade: six>=1.4.0 in /anaconda/envs/azureml_py36/lib/python3.6/site-packages (from docker->azureml-core~=1.21.0->azureml-sdk[automl]) (1.15.0)\n",
            "Requirement already satisfied, skipping upgrade: requests-oauthlib>=0.5.0 in /anaconda/envs/azureml_py36/lib/python3.6/site-packages (from msrest>=0.5.1->azureml-core~=1.21.0->azureml-sdk[automl]) (1.3.0)\n",
            "Requirement already satisfied, skipping upgrade: isodate>=0.6.0 in /anaconda/envs/azureml_py36/lib/python3.6/site-packages (from msrest>=0.5.1->azureml-core~=1.21.0->azureml-sdk[automl]) (0.6.0)\n",
            "Requirement already satisfied, skipping upgrade: pyasn1>=0.1.1 in /anaconda/envs/azureml_py36/lib/python3.6/site-packages (from ndg-httpsclient->azureml-core~=1.21.0->azureml-sdk[automl]) (0.4.8)\n",
            "Requirement already satisfied, skipping upgrade: jeepney>=0.6 in /anaconda/envs/azureml_py36/lib/python3.6/site-packages (from SecretStorage->azureml-core~=1.21.0->azureml-sdk[automl]) (0.6.0)\n",
            "Requirement already satisfied, skipping upgrade: importlib-metadata; python_version < \"3.8\" in /anaconda/envs/azureml_py36/lib/python3.6/site-packages (from jsonpickle->azureml-core~=1.21.0->azureml-sdk[automl]) (3.3.0)\n",
            "Requirement already satisfied, skipping upgrade: cffi>=1.12 in /anaconda/envs/azureml_py36/lib/python3.6/site-packages (from cryptography!=1.9,!=2.0.*,!=2.1.*,!=2.2.*->azureml-core~=1.21.0->azureml-sdk[automl]) (1.14.4)\n",
            "Requirement already satisfied, skipping upgrade: ruamel.yaml.clib>=0.1.2; platform_python_implementation == \"CPython\" and python_version < \"3.9\" in /anaconda/envs/azureml_py36/lib/python3.6/site-packages (from ruamel.yaml>=0.15.35->azureml-core~=1.21.0->azureml-sdk[automl]) (0.2.2)\n",
            "Requirement already satisfied, skipping upgrade: backports.weakref in /anaconda/envs/azureml_py36/lib/python3.6/site-packages (from backports.tempfile->azureml-core~=1.21.0->azureml-sdk[automl]) (1.0.post1)\n",
            "Requirement already satisfied, skipping upgrade: onnx<=1.7.0,>=1.5.0 in /anaconda/envs/azureml_py36/lib/python3.6/site-packages (from azureml-train-automl-runtime~=1.21.0->azureml-train-automl~=1.21.0; extra == \"automl\"->azureml-sdk[automl]) (1.7.0)\n",
            "Requirement already satisfied, skipping upgrade: azure-storage-queue~=12.1 in /anaconda/envs/azureml_py36/lib/python3.6/site-packages (from azureml-train-automl-runtime~=1.21.0->azureml-train-automl~=1.21.0; extra == \"automl\"->azureml-sdk[automl]) (12.1.4)\n",
            "Requirement already satisfied, skipping upgrade: boto3<=1.15.18 in /anaconda/envs/azureml_py36/lib/python3.6/site-packages (from azureml-train-automl-runtime~=1.21.0->azureml-train-automl~=1.21.0; extra == \"automl\"->azureml-sdk[automl]) (1.15.18)\n",
            "Requirement already satisfied, skipping upgrade: onnxconverter-common<=1.6.0,>=1.4.2 in /anaconda/envs/azureml_py36/lib/python3.6/site-packages (from azureml-train-automl-runtime~=1.21.0->azureml-train-automl~=1.21.0; extra == \"automl\"->azureml-sdk[automl]) (1.6.0)\n",
            "Requirement already satisfied, skipping upgrade: smart-open<=1.9.0 in /anaconda/envs/azureml_py36/lib/python3.6/site-packages (from azureml-train-automl-runtime~=1.21.0->azureml-train-automl~=1.21.0; extra == \"automl\"->azureml-sdk[automl]) (1.9.0)\n",
            "Requirement already satisfied, skipping upgrade: azureml-interpret~=1.21.0 in /anaconda/envs/azureml_py36/lib/python3.6/site-packages (from azureml-train-automl-runtime~=1.21.0->azureml-train-automl~=1.21.0; extra == \"automl\"->azureml-sdk[automl]) (1.21.0)\n",
            "Requirement already satisfied, skipping upgrade: sklearn-pandas<=1.7.0,>=1.4.0 in /anaconda/envs/azureml_py36/lib/python3.6/site-packages (from azureml-train-automl-runtime~=1.21.0->azureml-train-automl~=1.21.0; extra == \"automl\"->azureml-sdk[automl]) (1.7.0)\n",
            "Requirement already satisfied, skipping upgrade: scikit-learn<0.23.0,>=0.19.0 in /anaconda/envs/azureml_py36/lib/python3.6/site-packages (from azureml-train-automl-runtime~=1.21.0->azureml-train-automl~=1.21.0; extra == \"automl\"->azureml-sdk[automl]) (0.22.2.post1)\n",
            "Requirement already satisfied, skipping upgrade: azureml-defaults~=1.21.0 in /anaconda/envs/azureml_py36/lib/python3.6/site-packages (from azureml-train-automl-runtime~=1.21.0->azureml-train-automl~=1.21.0; extra == \"automl\"->azureml-sdk[automl]) (1.21.0)\n",
            "Requirement already satisfied, skipping upgrade: onnxruntime==1.3.0 in /anaconda/envs/azureml_py36/lib/python3.6/site-packages (from azureml-train-automl-runtime~=1.21.0->azureml-train-automl~=1.21.0; extra == \"automl\"->azureml-sdk[automl]) (1.3.0)\n",
            "Requirement already satisfied, skipping upgrade: jinja2<=2.11.2 in /anaconda/envs/azureml_py36/lib/python3.6/site-packages (from azureml-train-automl-runtime~=1.21.0->azureml-train-automl~=1.21.0; extra == \"automl\"->azureml-sdk[automl]) (2.11.2)\n",
            "Requirement already satisfied, skipping upgrade: gensim<3.9.0 in /anaconda/envs/azureml_py36/lib/python3.6/site-packages (from azureml-train-automl-runtime~=1.21.0->azureml-train-automl~=1.21.0; extra == \"automl\"->azureml-sdk[automl]) (3.8.3)\n",
            "Requirement already satisfied, skipping upgrade: onnxmltools==1.4.1 in /anaconda/envs/azureml_py36/lib/python3.6/site-packages (from azureml-train-automl-runtime~=1.21.0->azureml-train-automl~=1.21.0; extra == \"automl\"->azureml-sdk[automl]) (1.4.1)\n",
            "Requirement already satisfied, skipping upgrade: pandas<1.0.0,>=0.21.0 in /anaconda/envs/azureml_py36/lib/python3.6/site-packages (from azureml-train-automl-runtime~=1.21.0->azureml-train-automl~=1.21.0; extra == \"automl\"->azureml-sdk[automl]) (0.25.3)\n",
            "Requirement already satisfied, skipping upgrade: keras2onnx<=1.6.0,>=1.4.0 in /anaconda/envs/azureml_py36/lib/python3.6/site-packages (from azureml-train-automl-runtime~=1.21.0->azureml-train-automl~=1.21.0; extra == \"automl\"->azureml-sdk[automl]) (1.6.0)\n",
            "Requirement already satisfied, skipping upgrade: scipy<=1.5.2,>=1.0.0 in /anaconda/envs/azureml_py36/lib/python3.6/site-packages (from azureml-train-automl-runtime~=1.21.0->azureml-train-automl~=1.21.0; extra == \"automl\"->azureml-sdk[automl]) (1.5.2)\n",
            "Requirement already satisfied, skipping upgrade: lightgbm<=2.3.0,>=2.0.11 in /anaconda/envs/azureml_py36/lib/python3.6/site-packages (from azureml-train-automl-runtime~=1.21.0->azureml-train-automl~=1.21.0; extra == \"automl\"->azureml-sdk[automl]) (2.3.0)\n",
            "Requirement already satisfied, skipping upgrade: statsmodels<=0.10.2,>=0.9.0 in /anaconda/envs/azureml_py36/lib/python3.6/site-packages (from azureml-train-automl-runtime~=1.21.0->azureml-train-automl~=1.21.0; extra == \"automl\"->azureml-sdk[automl]) (0.10.2)\n",
            "Requirement already satisfied, skipping upgrade: botocore<=1.18.18 in /anaconda/envs/azureml_py36/lib/python3.6/site-packages (from azureml-train-automl-runtime~=1.21.0->azureml-train-automl~=1.21.0; extra == \"automl\"->azureml-sdk[automl]) (1.18.18)\n",
            "Requirement already satisfied, skipping upgrade: skl2onnx==1.4.9 in /anaconda/envs/azureml_py36/lib/python3.6/site-packages (from azureml-train-automl-runtime~=1.21.0->azureml-train-automl~=1.21.0; extra == \"automl\"->azureml-sdk[automl]) (1.4.9)\n",
            "Requirement already satisfied, skipping upgrade: py-cpuinfo==5.0.0 in /anaconda/envs/azureml_py36/lib/python3.6/site-packages (from azureml-automl-runtime~=1.21.0->azureml-train-automl~=1.21.0; extra == \"automl\"->azureml-sdk[automl]) (5.0.0)\n",
            "Requirement already satisfied, skipping upgrade: nimbusml<=1.8.0,>=1.7.1 in /anaconda/envs/azureml_py36/lib/python3.6/site-packages (from azureml-automl-runtime~=1.21.0->azureml-train-automl~=1.21.0; extra == \"automl\"->azureml-sdk[automl]) (1.8.0)\n",
            "Requirement already satisfied, skipping upgrade: joblib==0.14.1 in /anaconda/envs/azureml_py36/lib/python3.6/site-packages (from azureml-automl-runtime~=1.21.0->azureml-train-automl~=1.21.0; extra == \"automl\"->azureml-sdk[automl]) (0.14.1)\n",
            "Requirement already satisfied, skipping upgrade: psutil<6.0.0,>=5.2.2 in /anaconda/envs/azureml_py36/lib/python3.6/site-packages (from azureml-automl-runtime~=1.21.0->azureml-train-automl~=1.21.0; extra == \"automl\"->azureml-sdk[automl]) (5.8.0)\n",
            "Requirement already satisfied, skipping upgrade: pmdarima==1.1.1 in /anaconda/envs/azureml_py36/lib/python3.6/site-packages (from azureml-automl-runtime~=1.21.0->azureml-train-automl~=1.21.0; extra == \"automl\"->azureml-sdk[automl]) (1.1.1)\n",
            "Requirement already satisfied, skipping upgrade: dill<0.4.0,>=0.2.8 in /anaconda/envs/azureml_py36/lib/python3.6/site-packages (from azureml-automl-runtime~=1.21.0->azureml-train-automl~=1.21.0; extra == \"automl\"->azureml-sdk[automl]) (0.3.3)\n",
            "Requirement already satisfied, skipping upgrade: distro>=1.2.0 in /anaconda/envs/azureml_py36/lib/python3.6/site-packages (from dotnetcore2<3.0.0,>=2.1.14->azureml-dataprep<2.9.0a,>=2.8.0a->azureml-dataset-runtime[fuse]~=1.21.0->azureml-sdk[automl]) (1.5.0)\n",
            "Requirement already satisfied, skipping upgrade: azure-core<2.0.0,>=1.0.0 in /anaconda/envs/azureml_py36/lib/python3.6/site-packages (from azure-identity<1.5.0,>=1.2.0->azureml-dataprep<2.9.0a,>=2.8.0a->azureml-dataset-runtime[fuse]~=1.21.0->azureml-sdk[automl]) (1.9.0)\n",
            "Requirement already satisfied, skipping upgrade: msal-extensions~=0.2.2 in /anaconda/envs/azureml_py36/lib/python3.6/site-packages (from azure-identity<1.5.0,>=1.2.0->azureml-dataprep<2.9.0a,>=2.8.0a->azureml-dataset-runtime[fuse]~=1.21.0->azureml-sdk[automl]) (0.2.2)\n",
            "Requirement already satisfied, skipping upgrade: msal<2.0.0,>=1.3.0 in /anaconda/envs/azureml_py36/lib/python3.6/site-packages (from azure-identity<1.5.0,>=1.2.0->azureml-dataprep<2.9.0a,>=2.8.0a->azureml-dataset-runtime[fuse]~=1.21.0->azureml-sdk[automl]) (1.8.0)\n",
            "Requirement already satisfied, skipping upgrade: oauthlib>=3.0.0 in /anaconda/envs/azureml_py36/lib/python3.6/site-packages (from requests-oauthlib>=0.5.0->msrest>=0.5.1->azureml-core~=1.21.0->azureml-sdk[automl]) (3.1.0)\n",
            "Requirement already satisfied, skipping upgrade: zipp>=0.5 in /anaconda/envs/azureml_py36/lib/python3.6/site-packages (from importlib-metadata; python_version < \"3.8\"->jsonpickle->azureml-core~=1.21.0->azureml-sdk[automl]) (3.4.0)\n",
            "Requirement already satisfied, skipping upgrade: typing-extensions>=3.6.4; python_version < \"3.8\" in /anaconda/envs/azureml_py36/lib/python3.6/site-packages (from importlib-metadata; python_version < \"3.8\"->jsonpickle->azureml-core~=1.21.0->azureml-sdk[automl]) (3.7.4.3)\n",
            "Requirement already satisfied, skipping upgrade: pycparser in /anaconda/envs/azureml_py36/lib/python3.6/site-packages (from cffi>=1.12->cryptography!=1.9,!=2.0.*,!=2.1.*,!=2.2.*->azureml-core~=1.21.0->azureml-sdk[automl]) (2.20)\n",
            "Requirement already satisfied, skipping upgrade: protobuf in /anaconda/envs/azureml_py36/lib/python3.6/site-packages (from onnx<=1.7.0,>=1.5.0->azureml-train-automl-runtime~=1.21.0->azureml-train-automl~=1.21.0; extra == \"automl\"->azureml-sdk[automl]) (3.14.0)\n",
            "Requirement already satisfied, skipping upgrade: s3transfer<0.4.0,>=0.3.0 in /anaconda/envs/azureml_py36/lib/python3.6/site-packages (from boto3<=1.15.18->azureml-train-automl-runtime~=1.21.0->azureml-train-automl~=1.21.0; extra == \"automl\"->azureml-sdk[automl]) (0.3.3)\n",
            "Requirement already satisfied, skipping upgrade: boto>=2.32 in /anaconda/envs/azureml_py36/lib/python3.6/site-packages (from smart-open<=1.9.0->azureml-train-automl-runtime~=1.21.0->azureml-train-automl~=1.21.0; extra == \"automl\"->azureml-sdk[automl]) (2.49.0)\n",
            "Requirement already satisfied, skipping upgrade: interpret-community==0.16.* in /anaconda/envs/azureml_py36/lib/python3.6/site-packages (from azureml-interpret~=1.21.0->azureml-train-automl-runtime~=1.21.0->azureml-train-automl~=1.21.0; extra == \"automl\"->azureml-sdk[automl]) (0.16.0)\n",
            "Requirement already satisfied, skipping upgrade: flask==1.0.3 in /anaconda/envs/azureml_py36/lib/python3.6/site-packages (from azureml-defaults~=1.21.0->azureml-train-automl-runtime~=1.21.0->azureml-train-automl~=1.21.0; extra == \"automl\"->azureml-sdk[automl]) (1.0.3)\n",
            "Requirement already satisfied, skipping upgrade: gunicorn==19.9.0 in /anaconda/envs/azureml_py36/lib/python3.6/site-packages (from azureml-defaults~=1.21.0->azureml-train-automl-runtime~=1.21.0->azureml-train-automl~=1.21.0; extra == \"automl\"->azureml-sdk[automl]) (19.9.0)\n",
            "Requirement already satisfied, skipping upgrade: configparser==3.7.4 in /anaconda/envs/azureml_py36/lib/python3.6/site-packages (from azureml-defaults~=1.21.0->azureml-train-automl-runtime~=1.21.0->azureml-train-automl~=1.21.0; extra == \"automl\"->azureml-sdk[automl]) (3.7.4)\n",
            "Requirement already satisfied, skipping upgrade: json-logging-py==0.2 in /anaconda/envs/azureml_py36/lib/python3.6/site-packages (from azureml-defaults~=1.21.0->azureml-train-automl-runtime~=1.21.0->azureml-train-automl~=1.21.0; extra == \"automl\"->azureml-sdk[automl]) (0.2)\n",
            "Requirement already satisfied, skipping upgrade: azureml-model-management-sdk==1.0.1b6.post1 in /anaconda/envs/azureml_py36/lib/python3.6/site-packages (from azureml-defaults~=1.21.0->azureml-train-automl-runtime~=1.21.0->azureml-train-automl~=1.21.0; extra == \"automl\"->azureml-sdk[automl]) (1.0.1b6.post1)\n",
            "Requirement already satisfied, skipping upgrade: werkzeug<=1.0.1,>=0.16.1 in /anaconda/envs/azureml_py36/lib/python3.6/site-packages (from azureml-defaults~=1.21.0->azureml-train-automl-runtime~=1.21.0->azureml-train-automl~=1.21.0; extra == \"automl\"->azureml-sdk[automl]) (1.0.1)\n",
            "Requirement already satisfied, skipping upgrade: MarkupSafe>=0.23 in /anaconda/envs/azureml_py36/lib/python3.6/site-packages (from jinja2<=2.11.2->azureml-train-automl-runtime~=1.21.0->azureml-train-automl~=1.21.0; extra == \"automl\"->azureml-sdk[automl]) (1.1.1)\n",
            "Requirement already satisfied, skipping upgrade: fire in /anaconda/envs/azureml_py36/lib/python3.6/site-packages (from keras2onnx<=1.6.0,>=1.4.0->azureml-train-automl-runtime~=1.21.0->azureml-train-automl~=1.21.0; extra == \"automl\"->azureml-sdk[automl]) (0.3.1)\n",
            "Requirement already satisfied, skipping upgrade: patsy>=0.4.0 in /anaconda/envs/azureml_py36/lib/python3.6/site-packages (from statsmodels<=0.10.2,>=0.9.0->azureml-train-automl-runtime~=1.21.0->azureml-train-automl~=1.21.0; extra == \"automl\"->azureml-sdk[automl]) (0.5.1)\n",
            "Requirement already satisfied, skipping upgrade: Cython>=0.29 in /anaconda/envs/azureml_py36/lib/python3.6/site-packages (from pmdarima==1.1.1->azureml-automl-runtime~=1.21.0->azureml-train-automl~=1.21.0; extra == \"automl\"->azureml-sdk[automl]) (0.29.21)\n",
            "Requirement already satisfied, skipping upgrade: portalocker~=1.0; platform_system != \"Windows\" in /anaconda/envs/azureml_py36/lib/python3.6/site-packages (from msal-extensions~=0.2.2->azure-identity<1.5.0,>=1.2.0->azureml-dataprep<2.9.0a,>=2.8.0a->azureml-dataset-runtime[fuse]~=1.21.0->azureml-sdk[automl]) (1.7.1)\n",
            "Requirement already satisfied, skipping upgrade: shap<=0.34.0,>=0.20.0 in /anaconda/envs/azureml_py36/lib/python3.6/site-packages (from interpret-community==0.16.*->azureml-interpret~=1.21.0->azureml-train-automl-runtime~=1.21.0->azureml-train-automl~=1.21.0; extra == \"automl\"->azureml-sdk[automl]) (0.34.0)\n",
            "Requirement already satisfied, skipping upgrade: packaging in /anaconda/envs/azureml_py36/lib/python3.6/site-packages (from interpret-community==0.16.*->azureml-interpret~=1.21.0->azureml-train-automl-runtime~=1.21.0->azureml-train-automl~=1.21.0; extra == \"automl\"->azureml-sdk[automl]) (20.8)\n",
            "Requirement already satisfied, skipping upgrade: interpret-core[required]<=0.2.1,>=0.1.20 in /anaconda/envs/azureml_py36/lib/python3.6/site-packages (from interpret-community==0.16.*->azureml-interpret~=1.21.0->azureml-train-automl-runtime~=1.21.0->azureml-train-automl~=1.21.0; extra == \"automl\"->azureml-sdk[automl]) (0.2.1)\n",
            "Requirement already satisfied, skipping upgrade: itsdangerous>=0.24 in /anaconda/envs/azureml_py36/lib/python3.6/site-packages (from flask==1.0.3->azureml-defaults~=1.21.0->azureml-train-automl-runtime~=1.21.0->azureml-train-automl~=1.21.0; extra == \"automl\"->azureml-sdk[automl]) (1.1.0)\n",
            "Requirement already satisfied, skipping upgrade: click>=5.1 in /anaconda/envs/azureml_py36/lib/python3.6/site-packages (from flask==1.0.3->azureml-defaults~=1.21.0->azureml-train-automl-runtime~=1.21.0->azureml-train-automl~=1.21.0; extra == \"automl\"->azureml-sdk[automl]) (7.1.2)\n",
            "Requirement already satisfied, skipping upgrade: liac-arff>=2.1.1 in /anaconda/envs/azureml_py36/lib/python3.6/site-packages (from azureml-model-management-sdk==1.0.1b6.post1->azureml-defaults~=1.21.0->azureml-train-automl-runtime~=1.21.0->azureml-train-automl~=1.21.0; extra == \"automl\"->azureml-sdk[automl]) (2.5.0)\n",
            "Requirement already satisfied, skipping upgrade: termcolor in /anaconda/envs/azureml_py36/lib/python3.6/site-packages (from fire->keras2onnx<=1.6.0,>=1.4.0->azureml-train-automl-runtime~=1.21.0->azureml-train-automl~=1.21.0; extra == \"automl\"->azureml-sdk[automl]) (1.1.0)\n",
            "Requirement already satisfied, skipping upgrade: tqdm>4.25.0 in /anaconda/envs/azureml_py36/lib/python3.6/site-packages (from shap<=0.34.0,>=0.20.0->interpret-community==0.16.*->azureml-interpret~=1.21.0->azureml-train-automl-runtime~=1.21.0->azureml-train-automl~=1.21.0; extra == \"automl\"->azureml-sdk[automl]) (4.55.1)\n",
            "Requirement already satisfied, skipping upgrade: pyparsing>=2.0.2 in /anaconda/envs/azureml_py36/lib/python3.6/site-packages (from packaging->interpret-community==0.16.*->azureml-interpret~=1.21.0->azureml-train-automl-runtime~=1.21.0->azureml-train-automl~=1.21.0; extra == \"automl\"->azureml-sdk[automl]) (2.4.7)\n"
          ]
        }
      ],
      "execution_count": 1,
      "metadata": {
        "gather": {
          "logged": 1612404934994
        }
      }
    },
    {
      "cell_type": "code",
      "source": [
        "from azureml.core import Workspace, Experiment\n",
        "from azureml.core.compute import ComputeTarget, AmlCompute\n",
        "from azureml.core.compute_target import ComputeTargetException\n",
        "\n",
        "from azureml.data.dataset_factory import TabularDatasetFactory\n",
        "\n",
        "import pandas as pd\n",
        "from train import clean_data\n",
        "from azureml.train.automl import AutoMLConfig\n",
        "\n",
        "from azureml.core import Workspace, Dataset\n",
        "\n",
        "from azureml.core.model import Model\n",
        "\n",
        "from azureml.core.resource_configuration import ResourceConfiguration\n",
        "\n",
        "import pandas as pd\n",
        "from train import clean_data\n",
        "from azureml.train.automl import AutoMLConfig\n",
        "\n",
        "from azureml.core.environment import Environment\n",
        "from azureml.core.model import InferenceConfig\n",
        "from azureml.core.webservice import AciWebservice\n",
        "from azureml.core.model import Model\n",
        "import azureml.train.automl\n",
        "import azureml.automl\n",
        "\n",
        "import requests\n",
        "import json"
      ],
      "outputs": [],
      "execution_count": 2,
      "metadata": {
        "gather": {
          "logged": 1612404935311
        },
        "jupyter": {
          "outputs_hidden": false,
          "source_hidden": false
        },
        "nteract": {
          "transient": {
            "deleting": false
          }
        }
      }
    },
    {
      "cell_type": "markdown",
      "source": [
        "## Dataset\n",
        "\n",
        "### Overview\n",
        "TODO: In this markdown cell, give an overview of the dataset you are using. Also mention the task you will be performing.\n",
        "\n",
        "The dataset is extracted from an Udacity's competition called 'Predicting customer satisfaction' It consists of customers data from Santander bank, containing all their relevant features (like the number of products, their name, interest rate of loans, etc). \n",
        "\n",
        "TODO: Get data. In the cell below, write code to access the data you will be using in this project. Remember that the dataset needs to be external."
      ],
      "metadata": {}
    },
    {
      "cell_type": "code",
      "source": [
        "ws = Workspace.from_config()\n",
        "cluster_name = 'project-cluster'\n",
        "try:\n",
        "    compute_target = ComputeTarget(ws, cluster_name)\n",
        "except ComputeTargetException:\n",
        "    compute_config = AmlCompute.provisioning_configuration(vm_size='STANDARD_D2_V2', min_nodes=1, max_nodes=4)\n",
        "    compute_target = ComputeTarget.create(ws, cluster_name, compute_config)\n",
        "\n",
        "compute_target.wait_for_completion(show_output=True)"
      ],
      "outputs": [
        {
          "output_type": "stream",
          "name": "stdout",
          "text": [
            "Succeeded\n",
            "AmlCompute wait for completion finished\n",
            "\n",
            "Minimum number of nodes requested have been provisioned\n"
          ]
        }
      ],
      "execution_count": 3,
      "metadata": {
        "gather": {
          "logged": 1612404936761
        }
      }
    },
    {
      "cell_type": "code",
      "source": [
        "#import dataset\n",
        "Data_URL= \"https://github.com/jfcarmonag/Capstone_AZMLND/raw/master/starter_file/BankChurners.csv\"\n",
        "ds=TabularDatasetFactory.from_delimited_files(path=Data_URL)\n",
        "# choose a name for experiment\n",
        "experiment_name = 'exp-capstone'\n",
        "experiment=Experiment(ws, experiment_name)"
      ],
      "outputs": [],
      "execution_count": 4,
      "metadata": {
        "gather": {
          "logged": 1612404944461
        },
        "jupyter": {
          "outputs_hidden": false,
          "source_hidden": false
        },
        "nteract": {
          "transient": {
            "deleting": false
          }
        }
      }
    },
    {
      "cell_type": "code",
      "source": [
        "# Use the clean_data function to clean your data.\n",
        "x, y = clean_data(ds)\n",
        "complete_data = pd.concat([x, y], axis=1)\n",
        "\n",
        "complete_data"
      ],
      "outputs": [
        {
          "output_type": "execute_result",
          "execution_count": 5,
          "data": {
            "text/plain": "       Customer_Age  Gender_M  Gender_F  Dependent_count  Education_Level  \\\n0                45         1         0                3                1   \n1                49         0         1                5                3   \n2                51         1         0                3                3   \n3                40         0         1                4                1   \n4                40         1         0                3                0   \n...             ...       ...       ...              ...              ...   \n10122            50         1         0                2                3   \n10123            41         1         0                2                0   \n10124            44         0         1                1                1   \n10125            30         1         0                2                3   \n10126            43         0         1                2                3   \n\n       Married  Unknown  Divorced  Single  Income_Category  ...  \\\n0            1        0         0       0                3  ...   \n1            0        0         0       1                1  ...   \n2            1        0         0       0                4  ...   \n3            0        1         0       0                1  ...   \n4            1        0         0       0                3  ...   \n...        ...      ...       ...     ...              ...  ...   \n10122        0        0         0       1                2  ...   \n10123        0        0         1       0                2  ...   \n10124        1        0         0       0                1  ...   \n10125        0        1         0       0                2  ...   \n10126        1        0         0       0                1  ...   \n\n       Contacts_Count_12_mon  Credit_Limit  Total_Revolving_Bal  \\\n0                          3       12691.0                  777   \n1                          2        8256.0                  864   \n2                          0        3418.0                    0   \n3                          1        3313.0                 2517   \n4                          0        4716.0                    0   \n...                      ...           ...                  ...   \n10122                      3        4003.0                 1851   \n10123                      3        4277.0                 2186   \n10124                      4        5409.0                    0   \n10125                      3        5281.0                    0   \n10126                      4       10388.0                 1961   \n\n       Avg_Open_To_Buy  Total_Amt_Chng_Q4_Q1  Total_Trans_Amt  Total_Trans_Ct  \\\n0              11914.0                 1.335             1144              42   \n1               7392.0                 1.541             1291              33   \n2               3418.0                 2.594             1887              20   \n3                796.0                 1.405             1171              20   \n4               4716.0                 2.175              816              28   \n...                ...                   ...              ...             ...   \n10122           2152.0                 0.703            15476             117   \n10123           2091.0                 0.804             8764              69   \n10124           5409.0                 0.819            10291              60   \n10125           5281.0                 0.535             8395              62   \n10126           8427.0                 0.703            10294              61   \n\n       Total_Ct_Chng_Q4_Q1  Avg_Utilization_Ratio  Attrition_Flag  \n0                    1.625                  0.061               0  \n1                    3.714                  0.105               0  \n2                    2.333                  0.000               0  \n3                    2.333                  0.760               0  \n4                    2.500                  0.000               0  \n...                    ...                    ...             ...  \n10122                0.857                  0.462               0  \n10123                0.683                  0.511               1  \n10124                0.818                  0.000               1  \n10125                0.722                  0.000               1  \n10126                0.649                  0.189               1  \n\n[10127 rows x 24 columns]",
            "text/html": "<div>\n<style scoped>\n    .dataframe tbody tr th:only-of-type {\n        vertical-align: middle;\n    }\n\n    .dataframe tbody tr th {\n        vertical-align: top;\n    }\n\n    .dataframe thead th {\n        text-align: right;\n    }\n</style>\n<table border=\"1\" class=\"dataframe\">\n  <thead>\n    <tr style=\"text-align: right;\">\n      <th></th>\n      <th>Customer_Age</th>\n      <th>Gender_M</th>\n      <th>Gender_F</th>\n      <th>Dependent_count</th>\n      <th>Education_Level</th>\n      <th>Married</th>\n      <th>Unknown</th>\n      <th>Divorced</th>\n      <th>Single</th>\n      <th>Income_Category</th>\n      <th>...</th>\n      <th>Contacts_Count_12_mon</th>\n      <th>Credit_Limit</th>\n      <th>Total_Revolving_Bal</th>\n      <th>Avg_Open_To_Buy</th>\n      <th>Total_Amt_Chng_Q4_Q1</th>\n      <th>Total_Trans_Amt</th>\n      <th>Total_Trans_Ct</th>\n      <th>Total_Ct_Chng_Q4_Q1</th>\n      <th>Avg_Utilization_Ratio</th>\n      <th>Attrition_Flag</th>\n    </tr>\n  </thead>\n  <tbody>\n    <tr>\n      <th>0</th>\n      <td>45</td>\n      <td>1</td>\n      <td>0</td>\n      <td>3</td>\n      <td>1</td>\n      <td>1</td>\n      <td>0</td>\n      <td>0</td>\n      <td>0</td>\n      <td>3</td>\n      <td>...</td>\n      <td>3</td>\n      <td>12691.0</td>\n      <td>777</td>\n      <td>11914.0</td>\n      <td>1.335</td>\n      <td>1144</td>\n      <td>42</td>\n      <td>1.625</td>\n      <td>0.061</td>\n      <td>0</td>\n    </tr>\n    <tr>\n      <th>1</th>\n      <td>49</td>\n      <td>0</td>\n      <td>1</td>\n      <td>5</td>\n      <td>3</td>\n      <td>0</td>\n      <td>0</td>\n      <td>0</td>\n      <td>1</td>\n      <td>1</td>\n      <td>...</td>\n      <td>2</td>\n      <td>8256.0</td>\n      <td>864</td>\n      <td>7392.0</td>\n      <td>1.541</td>\n      <td>1291</td>\n      <td>33</td>\n      <td>3.714</td>\n      <td>0.105</td>\n      <td>0</td>\n    </tr>\n    <tr>\n      <th>2</th>\n      <td>51</td>\n      <td>1</td>\n      <td>0</td>\n      <td>3</td>\n      <td>3</td>\n      <td>1</td>\n      <td>0</td>\n      <td>0</td>\n      <td>0</td>\n      <td>4</td>\n      <td>...</td>\n      <td>0</td>\n      <td>3418.0</td>\n      <td>0</td>\n      <td>3418.0</td>\n      <td>2.594</td>\n      <td>1887</td>\n      <td>20</td>\n      <td>2.333</td>\n      <td>0.000</td>\n      <td>0</td>\n    </tr>\n    <tr>\n      <th>3</th>\n      <td>40</td>\n      <td>0</td>\n      <td>1</td>\n      <td>4</td>\n      <td>1</td>\n      <td>0</td>\n      <td>1</td>\n      <td>0</td>\n      <td>0</td>\n      <td>1</td>\n      <td>...</td>\n      <td>1</td>\n      <td>3313.0</td>\n      <td>2517</td>\n      <td>796.0</td>\n      <td>1.405</td>\n      <td>1171</td>\n      <td>20</td>\n      <td>2.333</td>\n      <td>0.760</td>\n      <td>0</td>\n    </tr>\n    <tr>\n      <th>4</th>\n      <td>40</td>\n      <td>1</td>\n      <td>0</td>\n      <td>3</td>\n      <td>0</td>\n      <td>1</td>\n      <td>0</td>\n      <td>0</td>\n      <td>0</td>\n      <td>3</td>\n      <td>...</td>\n      <td>0</td>\n      <td>4716.0</td>\n      <td>0</td>\n      <td>4716.0</td>\n      <td>2.175</td>\n      <td>816</td>\n      <td>28</td>\n      <td>2.500</td>\n      <td>0.000</td>\n      <td>0</td>\n    </tr>\n    <tr>\n      <th>...</th>\n      <td>...</td>\n      <td>...</td>\n      <td>...</td>\n      <td>...</td>\n      <td>...</td>\n      <td>...</td>\n      <td>...</td>\n      <td>...</td>\n      <td>...</td>\n      <td>...</td>\n      <td>...</td>\n      <td>...</td>\n      <td>...</td>\n      <td>...</td>\n      <td>...</td>\n      <td>...</td>\n      <td>...</td>\n      <td>...</td>\n      <td>...</td>\n      <td>...</td>\n      <td>...</td>\n    </tr>\n    <tr>\n      <th>10122</th>\n      <td>50</td>\n      <td>1</td>\n      <td>0</td>\n      <td>2</td>\n      <td>3</td>\n      <td>0</td>\n      <td>0</td>\n      <td>0</td>\n      <td>1</td>\n      <td>2</td>\n      <td>...</td>\n      <td>3</td>\n      <td>4003.0</td>\n      <td>1851</td>\n      <td>2152.0</td>\n      <td>0.703</td>\n      <td>15476</td>\n      <td>117</td>\n      <td>0.857</td>\n      <td>0.462</td>\n      <td>0</td>\n    </tr>\n    <tr>\n      <th>10123</th>\n      <td>41</td>\n      <td>1</td>\n      <td>0</td>\n      <td>2</td>\n      <td>0</td>\n      <td>0</td>\n      <td>0</td>\n      <td>1</td>\n      <td>0</td>\n      <td>2</td>\n      <td>...</td>\n      <td>3</td>\n      <td>4277.0</td>\n      <td>2186</td>\n      <td>2091.0</td>\n      <td>0.804</td>\n      <td>8764</td>\n      <td>69</td>\n      <td>0.683</td>\n      <td>0.511</td>\n      <td>1</td>\n    </tr>\n    <tr>\n      <th>10124</th>\n      <td>44</td>\n      <td>0</td>\n      <td>1</td>\n      <td>1</td>\n      <td>1</td>\n      <td>1</td>\n      <td>0</td>\n      <td>0</td>\n      <td>0</td>\n      <td>1</td>\n      <td>...</td>\n      <td>4</td>\n      <td>5409.0</td>\n      <td>0</td>\n      <td>5409.0</td>\n      <td>0.819</td>\n      <td>10291</td>\n      <td>60</td>\n      <td>0.818</td>\n      <td>0.000</td>\n      <td>1</td>\n    </tr>\n    <tr>\n      <th>10125</th>\n      <td>30</td>\n      <td>1</td>\n      <td>0</td>\n      <td>2</td>\n      <td>3</td>\n      <td>0</td>\n      <td>1</td>\n      <td>0</td>\n      <td>0</td>\n      <td>2</td>\n      <td>...</td>\n      <td>3</td>\n      <td>5281.0</td>\n      <td>0</td>\n      <td>5281.0</td>\n      <td>0.535</td>\n      <td>8395</td>\n      <td>62</td>\n      <td>0.722</td>\n      <td>0.000</td>\n      <td>1</td>\n    </tr>\n    <tr>\n      <th>10126</th>\n      <td>43</td>\n      <td>0</td>\n      <td>1</td>\n      <td>2</td>\n      <td>3</td>\n      <td>1</td>\n      <td>0</td>\n      <td>0</td>\n      <td>0</td>\n      <td>1</td>\n      <td>...</td>\n      <td>4</td>\n      <td>10388.0</td>\n      <td>1961</td>\n      <td>8427.0</td>\n      <td>0.703</td>\n      <td>10294</td>\n      <td>61</td>\n      <td>0.649</td>\n      <td>0.189</td>\n      <td>1</td>\n    </tr>\n  </tbody>\n</table>\n<p>10127 rows × 24 columns</p>\n</div>"
          },
          "metadata": {}
        }
      ],
      "execution_count": 5,
      "metadata": {
        "collapsed": true,
        "gather": {
          "logged": 1612404946164
        },
        "jupyter": {
          "outputs_hidden": false,
          "source_hidden": false
        },
        "nteract": {
          "transient": {
            "deleting": false
          }
        }
      }
    },
    {
      "cell_type": "markdown",
      "source": [
        "## AutoML Configuration\n",
        "\n",
        "TODO: Explain why you chose the automl settings and cofiguration you used below.\n",
        "\n"
      ],
      "metadata": {}
    },
    {
      "cell_type": "code",
      "source": [
        "# azureml-core of version 1.0.72 or higher is required\n",
        "# azureml-dataprep[pandas] of version 1.1.34 or higher is required\n",
        "\n",
        "local_path = 'data/prepared.csv'\n",
        "complete_data.to_csv(local_path, index=False)\n",
        "\n",
        "# get the datastore to upload prepared data\n",
        "datastore = ws.get_default_datastore()\n",
        "\n",
        "# upload the local file from src_dir to the target_path in datastore\n",
        "datastore.upload(src_dir='data', target_path='data')\n",
        "\n",
        "# create a dataset referencing the cloud location\n",
        "dataset = Dataset.Tabular.from_delimited_files(path = [(datastore, ('data/prepared.csv'))])"
      ],
      "outputs": [
        {
          "output_type": "stream",
          "name": "stdout",
          "text": [
            "Uploading an estimated of 1 files\n",
            "Target already exists. Skipping upload for data/prepared.csv\n",
            "Uploaded 0 files\n"
          ]
        }
      ],
      "execution_count": 6,
      "metadata": {
        "collapsed": true,
        "gather": {
          "logged": 1612404947950
        },
        "jupyter": {
          "outputs_hidden": false,
          "source_hidden": false
        },
        "nteract": {
          "transient": {
            "deleting": false
          }
        }
      }
    },
    {
      "cell_type": "code",
      "source": [
        "\n",
        "\n",
        "# automl settings\n",
        "automl_settings = {\n",
        "       \"n_cross_validations\": 3,\n",
        "       \"primary_metric\": 'accuracy',\n",
        "       \"enable_early_stopping\": True,\n",
        "       \"experiment_timeout_hours\": 1.0,\n",
        "       \"max_concurrent_iterations\": 4,\n",
        "       \"max_cores_per_iteration\": -1,\n",
        "       #\"verbosity\": logging.INFO,\n",
        "   }\n",
        "\n",
        "# automl configuration\n",
        "automl_config = AutoMLConfig(task = 'classification',\n",
        "                               compute_target = compute_target,\n",
        "                               training_data = dataset,\n",
        "                               label_column_name = \"Attrition_Flag\",\n",
        "                               **automl_settings\n",
        "                               )"
      ],
      "outputs": [],
      "execution_count": 7,
      "metadata": {
        "gather": {
          "logged": 1612404948104
        },
        "jupyter": {
          "outputs_hidden": false,
          "source_hidden": false
        },
        "nteract": {
          "transient": {
            "deleting": false
          }
        }
      }
    },
    {
      "cell_type": "code",
      "source": [
        "# TODO: Submit your experiment\n",
        "remote_run = experiment.submit(automl_config, show_output=\"True\")"
      ],
      "outputs": [
        {
          "output_type": "stream",
          "name": "stdout",
          "text": [
            "Running on remote.\n",
            "No run_configuration provided, running on project-cluster with default configuration\n",
            "Running on remote compute: project-cluster\n",
            "Parent Run ID: AutoML_85b87058-0aa7-4ef9-808a-bc495797b044\n",
            "\n",
            "Current status: FeaturesGeneration. Generating features for the dataset.\n",
            "Current status: DatasetFeaturization. Beginning to fit featurizers and featurize the dataset.\n",
            "Current status: DatasetBalancing. Performing class balancing sweeping\n",
            "Current status: DatasetCrossValidationSplit. Generating individually featurized CV splits.\n",
            "Current status: ModelSelection. Beginning model selection.\n",
            "\n",
            "****************************************************************************************************\n",
            "DATA GUARDRAILS: \n",
            "\n",
            "TYPE:         Class balancing detection\n",
            "STATUS:       ALERTED\n",
            "DESCRIPTION:  To decrease model bias, please cancel the current run and fix balancing problem.\n",
            "              Learn more about imbalanced data: https://aka.ms/AutomatedMLImbalancedData\n",
            "DETAILS:      Imbalanced data can lead to a falsely perceived positive effect of a model's accuracy because the input data has bias towards one class.\n",
            "+---------------------------------+---------------------------------+--------------------------------------+\n",
            "|Size of the smallest class       |Name/Label of the smallest class |Number of samples in the training data|\n",
            "+=================================+=================================+======================================+\n",
            "|1627                             |1                                |10127                                 |\n",
            "+---------------------------------+---------------------------------+--------------------------------------+\n",
            "\n",
            "****************************************************************************************************\n",
            "\n",
            "TYPE:         Missing feature values imputation\n",
            "STATUS:       PASSED\n",
            "DESCRIPTION:  No feature missing values were detected in the training data.\n",
            "              Learn more about missing value imputation: https://aka.ms/AutomatedMLFeaturization\n",
            "\n",
            "****************************************************************************************************\n",
            "\n",
            "TYPE:         High cardinality feature detection\n",
            "STATUS:       PASSED\n",
            "DESCRIPTION:  Your inputs were analyzed, and no high cardinality features were detected.\n",
            "              Learn more about high cardinality feature handling: https://aka.ms/AutomatedMLFeaturization\n",
            "\n",
            "****************************************************************************************************\n",
            "\n",
            "****************************************************************************************************\n",
            "ITERATION: The iteration being evaluated.\n",
            "PIPELINE: A summary description of the pipeline being evaluated.\n",
            "DURATION: Time taken for the current iteration.\n",
            "METRIC: The result of computing score on the fitted pipeline.\n",
            "BEST: The best observed score thus far.\n",
            "****************************************************************************************************\n",
            "\n",
            " ITERATION   PIPELINE                                       DURATION      METRIC      BEST\n",
            "         0   MaxAbsScaler LightGBM                          0:01:00       0.9479    0.9479\n",
            "         1   MaxAbsScaler XGBoostClassifier                 0:01:01       0.9447    0.9479\n",
            "         5   MaxAbsScaler RandomForest                      0:00:52       0.5839    0.9479\n",
            "         6   MaxAbsScaler RandomForest                      0:00:54       0.5605    0.9479\n",
            "         4   MaxAbsScaler RandomForest                      0:03:31       0.6746    0.9479\n",
            "         3   MaxAbsScaler RandomForest                      0:03:42       0.8071    0.9479\n",
            "         7   SparseNormalizer XGBoostClassifier             0:01:04       0.8890    0.9479\n",
            "         2   MaxAbsScaler RandomForest                      0:03:55       0.8507    0.9479\n",
            "         9   SparseNormalizer XGBoostClassifier             0:00:46       0.8496    0.9479\n",
            "         8   SparseNormalizer XGBoostClassifier             0:01:04       0.8719    0.9479\n",
            "        10   SparseNormalizer XGBoostClassifier             0:01:07       0.8940    0.9479\n",
            "        11   StandardScalerWrapper LightGBM                 0:00:59       0.9421    0.9479\n",
            "        12   SparseNormalizer XGBoostClassifier             0:00:57       0.8593    0.9479\n",
            "        13   MaxAbsScaler LightGBM                          0:01:02       0.9003    0.9479\n",
            "        14   MaxAbsScaler RandomForest                      0:00:58       0.8160    0.9479\n",
            "        15   SparseNormalizer LightGBM                      0:01:02       0.8429    0.9479\n",
            "        16   MaxAbsScaler LightGBM                          0:00:52       0.8843    0.9479\n",
            "        17   SparseNormalizer LightGBM                      0:00:57       0.7952    0.9479\n",
            "        18   SparseNormalizer LightGBM                      0:00:55       0.8076    0.9479\n",
            "        19   MaxAbsScaler LightGBM                          0:00:53       0.8576    0.9479\n",
            "        20   MaxAbsScaler LogisticRegression                0:00:49       0.8620    0.9479\n",
            "        21   MaxAbsScaler LogisticRegression                0:01:01       0.8624    0.9479\n",
            "        22   StandardScalerWrapper LogisticRegression       0:00:58       0.8600    0.9479\n",
            "        23   SparseNormalizer LightGBM                      0:00:49       0.7911    0.9479\n",
            "        24   SparseNormalizer XGBoostClassifier             0:00:53       0.8562    0.9479\n",
            "        25   SparseNormalizer LightGBM                      0:00:55       0.7798    0.9479\n",
            "        26   SparseNormalizer XGBoostClassifier             0:00:58       0.8394    0.9479\n",
            "        27   SparseNormalizer XGBoostClassifier             0:01:09       0.8930    0.9479\n",
            "        28   SparseNormalizer XGBoostClassifier             0:00:56       0.8305    0.9479\n",
            "        29   SparseNormalizer XGBoostClassifier             0:00:50       0.8640    0.9479\n",
            "        30   MaxAbsScaler LightGBM                          0:00:50       0.4913    0.9479\n",
            "        31   MaxAbsScaler LightGBM                          0:00:55       0.9301    0.9479\n",
            "        32   SparseNormalizer LightGBM                      0:00:53       0.8665    0.9479\n",
            "        33   MaxAbsScaler GradientBoosting                  0:00:42       0.8975    0.9479\n",
            "        34                                                  0:00:26          nan    0.9479\n",
            "        35                                                  0:00:10          nan    0.9479\n",
            "        36    VotingEnsemble                                0:01:22       0.9543    0.9543\n",
            "        37    StackEnsemble                                 0:01:30       0.9529    0.9543\n"
          ]
        }
      ],
      "execution_count": 8,
      "metadata": {
        "gather": {
          "logged": 1612406305255
        },
        "jupyter": {
          "outputs_hidden": false,
          "source_hidden": false
        },
        "nteract": {
          "transient": {
            "deleting": false
          }
        }
      }
    },
    {
      "cell_type": "markdown",
      "source": [
        "## Run Details\n",
        "\n",
        "OPTIONAL: Write about the different models trained and their performance. Why do you think some models did better than others?\n",
        "\n",
        "TODO: In the cell below, use the `RunDetails` widget to show the different experiments."
      ],
      "metadata": {}
    },
    {
      "cell_type": "code",
      "source": [
        "from azureml.widgets import RunDetails\n",
        "RunDetails(remote_run).show()\n",
        "remote_run.wait_for_completion(show_output=True)"
      ],
      "outputs": [
        {
          "output_type": "display_data",
          "data": {
            "text/plain": "_AutoMLWidget(widget_settings={'childWidgetDisplay': 'popup', 'send_telemetry': False, 'log_level': 'INFO', 's…",
            "application/vnd.jupyter.widget-view+json": {
              "version_major": 2,
              "version_minor": 0,
              "model_id": "1ef2d1beb4ef45799ed1e305cbd502dc"
            }
          },
          "metadata": {}
        },
        {
          "output_type": "display_data",
          "data": {
            "application/aml.mini.widget.v1": "{\"status\": \"Completed\", \"workbench_run_details_uri\": \"https://ml.azure.com/experiments/exp-capstone/runs/AutoML_85b87058-0aa7-4ef9-808a-bc495797b044?wsid=/subscriptions/f9d5a085-54dc-4215-9ba6-dad5d86e60a0/resourcegroups/aml-quickstarts-137163/workspaces/quick-starts-ws-137163\", \"run_id\": \"AutoML_85b87058-0aa7-4ef9-808a-bc495797b044\", \"run_properties\": {\"run_id\": \"AutoML_85b87058-0aa7-4ef9-808a-bc495797b044\", \"created_utc\": \"2021-02-04T02:15:50.964247Z\", \"properties\": {\"num_iterations\": \"1000\", \"training_type\": \"TrainFull\", \"acquisition_function\": \"EI\", \"primary_metric\": \"accuracy\", \"train_split\": \"0\", \"acquisition_parameter\": \"0\", \"num_cross_validation\": \"3\", \"target\": \"project-cluster\", \"AMLSettingsJsonString\": \"{\\\"path\\\":null,\\\"name\\\":\\\"exp-capstone\\\",\\\"subscription_id\\\":\\\"f9d5a085-54dc-4215-9ba6-dad5d86e60a0\\\",\\\"resource_group\\\":\\\"aml-quickstarts-137163\\\",\\\"workspace_name\\\":\\\"quick-starts-ws-137163\\\",\\\"region\\\":\\\"southcentralus\\\",\\\"compute_target\\\":\\\"project-cluster\\\",\\\"spark_service\\\":null,\\\"azure_service\\\":\\\"remote\\\",\\\"many_models\\\":false,\\\"pipeline_fetch_max_batch_size\\\":1,\\\"iterations\\\":1000,\\\"primary_metric\\\":\\\"accuracy\\\",\\\"task_type\\\":\\\"classification\\\",\\\"data_script\\\":null,\\\"validation_size\\\":0.0,\\\"n_cross_validations\\\":3,\\\"y_min\\\":null,\\\"y_max\\\":null,\\\"num_classes\\\":null,\\\"featurization\\\":\\\"auto\\\",\\\"_ignore_package_version_incompatibilities\\\":false,\\\"is_timeseries\\\":false,\\\"max_cores_per_iteration\\\":-1,\\\"max_concurrent_iterations\\\":4,\\\"iteration_timeout_minutes\\\":null,\\\"mem_in_mb\\\":null,\\\"enforce_time_on_windows\\\":false,\\\"experiment_timeout_minutes\\\":60,\\\"experiment_exit_score\\\":null,\\\"whitelist_models\\\":null,\\\"blacklist_algos\\\":[\\\"TensorFlowLinearClassifier\\\",\\\"TensorFlowDNN\\\"],\\\"supported_models\\\":[\\\"AveragedPerceptronClassifier\\\",\\\"MultinomialNaiveBayes\\\",\\\"DecisionTree\\\",\\\"SVM\\\",\\\"BernoulliNaiveBayes\\\",\\\"RandomForest\\\",\\\"LogisticRegression\\\",\\\"XGBoostClassifier\\\",\\\"TensorFlowDNN\\\",\\\"ExtremeRandomTrees\\\",\\\"GradientBoosting\\\",\\\"LightGBM\\\",\\\"SGD\\\",\\\"KNN\\\",\\\"LinearSVM\\\",\\\"TensorFlowLinearClassifier\\\"],\\\"auto_blacklist\\\":true,\\\"blacklist_samples_reached\\\":false,\\\"exclude_nan_labels\\\":true,\\\"verbosity\\\":20,\\\"_debug_log\\\":\\\"azureml_automl.log\\\",\\\"show_warnings\\\":false,\\\"model_explainability\\\":true,\\\"service_url\\\":null,\\\"sdk_url\\\":null,\\\"sdk_packages\\\":null,\\\"enable_onnx_compatible_models\\\":false,\\\"enable_split_onnx_featurizer_estimator_models\\\":false,\\\"vm_type\\\":\\\"STANDARD_D2_V2\\\",\\\"telemetry_verbosity\\\":20,\\\"send_telemetry\\\":true,\\\"enable_dnn\\\":false,\\\"scenario\\\":\\\"SDK-1.13.0\\\",\\\"environment_label\\\":null,\\\"force_text_dnn\\\":false,\\\"enable_feature_sweeping\\\":true,\\\"enable_early_stopping\\\":true,\\\"early_stopping_n_iters\\\":10,\\\"metrics\\\":null,\\\"enable_ensembling\\\":true,\\\"enable_stack_ensembling\\\":true,\\\"ensemble_iterations\\\":15,\\\"enable_tf\\\":false,\\\"enable_subsampling\\\":null,\\\"subsample_seed\\\":null,\\\"enable_nimbusml\\\":false,\\\"enable_streaming\\\":false,\\\"force_streaming\\\":false,\\\"track_child_runs\\\":true,\\\"allowed_private_models\\\":[],\\\"label_column_name\\\":\\\"Attrition_Flag\\\",\\\"weight_column_name\\\":null,\\\"cv_split_column_names\\\":null,\\\"enable_local_managed\\\":false,\\\"_local_managed_run_id\\\":null,\\\"cost_mode\\\":1,\\\"lag_length\\\":0,\\\"metric_operation\\\":\\\"maximize\\\",\\\"preprocess\\\":true}\", \"DataPrepJsonString\": \"{\\\\\\\"training_data\\\\\\\": \\\\\\\"{\\\\\\\\\\\\\\\"blocks\\\\\\\\\\\\\\\": [{\\\\\\\\\\\\\\\"id\\\\\\\\\\\\\\\": \\\\\\\\\\\\\\\"ded82826-d8e2-4bd9-829e-a7989d0400cc\\\\\\\\\\\\\\\", \\\\\\\\\\\\\\\"type\\\\\\\\\\\\\\\": \\\\\\\\\\\\\\\"Microsoft.DPrep.GetDatastoreFilesBlock\\\\\\\\\\\\\\\", \\\\\\\\\\\\\\\"arguments\\\\\\\\\\\\\\\": {\\\\\\\\\\\\\\\"datastores\\\\\\\\\\\\\\\": [{\\\\\\\\\\\\\\\"datastoreName\\\\\\\\\\\\\\\": \\\\\\\\\\\\\\\"workspaceblobstore\\\\\\\\\\\\\\\", \\\\\\\\\\\\\\\"path\\\\\\\\\\\\\\\": \\\\\\\\\\\\\\\"data/prepared.csv\\\\\\\\\\\\\\\", \\\\\\\\\\\\\\\"resourceGroup\\\\\\\\\\\\\\\": \\\\\\\\\\\\\\\"aml-quickstarts-137163\\\\\\\\\\\\\\\", \\\\\\\\\\\\\\\"subscription\\\\\\\\\\\\\\\": \\\\\\\\\\\\\\\"f9d5a085-54dc-4215-9ba6-dad5d86e60a0\\\\\\\\\\\\\\\", \\\\\\\\\\\\\\\"workspaceName\\\\\\\\\\\\\\\": \\\\\\\\\\\\\\\"quick-starts-ws-137163\\\\\\\\\\\\\\\"}]}, \\\\\\\\\\\\\\\"localData\\\\\\\\\\\\\\\": {}, \\\\\\\\\\\\\\\"isEnabled\\\\\\\\\\\\\\\": true, \\\\\\\\\\\\\\\"name\\\\\\\\\\\\\\\": null, \\\\\\\\\\\\\\\"annotation\\\\\\\\\\\\\\\": null}, {\\\\\\\\\\\\\\\"id\\\\\\\\\\\\\\\": \\\\\\\\\\\\\\\"01480181-49e0-4265-af32-4e434f70e842\\\\\\\\\\\\\\\", \\\\\\\\\\\\\\\"type\\\\\\\\\\\\\\\": \\\\\\\\\\\\\\\"Microsoft.DPrep.ParseDelimitedBlock\\\\\\\\\\\\\\\", \\\\\\\\\\\\\\\"arguments\\\\\\\\\\\\\\\": {\\\\\\\\\\\\\\\"columnHeadersMode\\\\\\\\\\\\\\\": 3, \\\\\\\\\\\\\\\"fileEncoding\\\\\\\\\\\\\\\": 0, \\\\\\\\\\\\\\\"handleQuotedLineBreaks\\\\\\\\\\\\\\\": false, \\\\\\\\\\\\\\\"preview\\\\\\\\\\\\\\\": false, \\\\\\\\\\\\\\\"separator\\\\\\\\\\\\\\\": \\\\\\\\\\\\\\\",\\\\\\\\\\\\\\\", \\\\\\\\\\\\\\\"skipRows\\\\\\\\\\\\\\\": 0, \\\\\\\\\\\\\\\"skipRowsMode\\\\\\\\\\\\\\\": 0}, \\\\\\\\\\\\\\\"localData\\\\\\\\\\\\\\\": {}, \\\\\\\\\\\\\\\"isEnabled\\\\\\\\\\\\\\\": true, \\\\\\\\\\\\\\\"name\\\\\\\\\\\\\\\": null, \\\\\\\\\\\\\\\"annotation\\\\\\\\\\\\\\\": null}, {\\\\\\\\\\\\\\\"id\\\\\\\\\\\\\\\": \\\\\\\\\\\\\\\"87292265-a666-40ae-ab1d-459377a4cdf8\\\\\\\\\\\\\\\", \\\\\\\\\\\\\\\"type\\\\\\\\\\\\\\\": \\\\\\\\\\\\\\\"Microsoft.DPrep.DropColumnsBlock\\\\\\\\\\\\\\\", \\\\\\\\\\\\\\\"arguments\\\\\\\\\\\\\\\": {\\\\\\\\\\\\\\\"columns\\\\\\\\\\\\\\\": {\\\\\\\\\\\\\\\"type\\\\\\\\\\\\\\\": 0, \\\\\\\\\\\\\\\"details\\\\\\\\\\\\\\\": {\\\\\\\\\\\\\\\"selectedColumns\\\\\\\\\\\\\\\": [\\\\\\\\\\\\\\\"Path\\\\\\\\\\\\\\\"]}}}, \\\\\\\\\\\\\\\"localData\\\\\\\\\\\\\\\": {}, \\\\\\\\\\\\\\\"isEnabled\\\\\\\\\\\\\\\": true, \\\\\\\\\\\\\\\"name\\\\\\\\\\\\\\\": null, \\\\\\\\\\\\\\\"annotation\\\\\\\\\\\\\\\": null}, {\\\\\\\\\\\\\\\"id\\\\\\\\\\\\\\\": \\\\\\\\\\\\\\\"7cf5548c-b4f1-4e8a-b199-d12c635a44df\\\\\\\\\\\\\\\", \\\\\\\\\\\\\\\"type\\\\\\\\\\\\\\\": \\\\\\\\\\\\\\\"Microsoft.DPrep.SetColumnTypesBlock\\\\\\\\\\\\\\\", \\\\\\\\\\\\\\\"arguments\\\\\\\\\\\\\\\": {\\\\\\\\\\\\\\\"columnConversion\\\\\\\\\\\\\\\": [{\\\\\\\\\\\\\\\"column\\\\\\\\\\\\\\\": {\\\\\\\\\\\\\\\"type\\\\\\\\\\\\\\\": 2, \\\\\\\\\\\\\\\"details\\\\\\\\\\\\\\\": {\\\\\\\\\\\\\\\"selectedColumn\\\\\\\\\\\\\\\": \\\\\\\\\\\\\\\"Customer_Age\\\\\\\\\\\\\\\"}}, \\\\\\\\\\\\\\\"typeProperty\\\\\\\\\\\\\\\": 2}, {\\\\\\\\\\\\\\\"column\\\\\\\\\\\\\\\": {\\\\\\\\\\\\\\\"type\\\\\\\\\\\\\\\": 2, \\\\\\\\\\\\\\\"details\\\\\\\\\\\\\\\": {\\\\\\\\\\\\\\\"selectedColumn\\\\\\\\\\\\\\\": \\\\\\\\\\\\\\\"Gender_M\\\\\\\\\\\\\\\"}}, \\\\\\\\\\\\\\\"typeProperty\\\\\\\\\\\\\\\": 2}, {\\\\\\\\\\\\\\\"column\\\\\\\\\\\\\\\": {\\\\\\\\\\\\\\\"type\\\\\\\\\\\\\\\": 2, \\\\\\\\\\\\\\\"details\\\\\\\\\\\\\\\": {\\\\\\\\\\\\\\\"selectedColumn\\\\\\\\\\\\\\\": \\\\\\\\\\\\\\\"Gender_F\\\\\\\\\\\\\\\"}}, \\\\\\\\\\\\\\\"typeProperty\\\\\\\\\\\\\\\": 2}, {\\\\\\\\\\\\\\\"column\\\\\\\\\\\\\\\": {\\\\\\\\\\\\\\\"type\\\\\\\\\\\\\\\": 2, \\\\\\\\\\\\\\\"details\\\\\\\\\\\\\\\": {\\\\\\\\\\\\\\\"selectedColumn\\\\\\\\\\\\\\\": \\\\\\\\\\\\\\\"Dependent_count\\\\\\\\\\\\\\\"}}, \\\\\\\\\\\\\\\"typeProperty\\\\\\\\\\\\\\\": 2}, {\\\\\\\\\\\\\\\"column\\\\\\\\\\\\\\\": {\\\\\\\\\\\\\\\"type\\\\\\\\\\\\\\\": 2, \\\\\\\\\\\\\\\"details\\\\\\\\\\\\\\\": {\\\\\\\\\\\\\\\"selectedColumn\\\\\\\\\\\\\\\": \\\\\\\\\\\\\\\"Education_Level\\\\\\\\\\\\\\\"}}, \\\\\\\\\\\\\\\"typeProperty\\\\\\\\\\\\\\\": 2}, {\\\\\\\\\\\\\\\"column\\\\\\\\\\\\\\\": {\\\\\\\\\\\\\\\"type\\\\\\\\\\\\\\\": 2, \\\\\\\\\\\\\\\"details\\\\\\\\\\\\\\\": {\\\\\\\\\\\\\\\"selectedColumn\\\\\\\\\\\\\\\": \\\\\\\\\\\\\\\"Married\\\\\\\\\\\\\\\"}}, \\\\\\\\\\\\\\\"typeProperty\\\\\\\\\\\\\\\": 2}, {\\\\\\\\\\\\\\\"column\\\\\\\\\\\\\\\": {\\\\\\\\\\\\\\\"type\\\\\\\\\\\\\\\": 2, \\\\\\\\\\\\\\\"details\\\\\\\\\\\\\\\": {\\\\\\\\\\\\\\\"selectedColumn\\\\\\\\\\\\\\\": \\\\\\\\\\\\\\\"Unknown\\\\\\\\\\\\\\\"}}, \\\\\\\\\\\\\\\"typeProperty\\\\\\\\\\\\\\\": 2}, {\\\\\\\\\\\\\\\"column\\\\\\\\\\\\\\\": {\\\\\\\\\\\\\\\"type\\\\\\\\\\\\\\\": 2, \\\\\\\\\\\\\\\"details\\\\\\\\\\\\\\\": {\\\\\\\\\\\\\\\"selectedColumn\\\\\\\\\\\\\\\": \\\\\\\\\\\\\\\"Divorced\\\\\\\\\\\\\\\"}}, \\\\\\\\\\\\\\\"typeProperty\\\\\\\\\\\\\\\": 2}, {\\\\\\\\\\\\\\\"column\\\\\\\\\\\\\\\": {\\\\\\\\\\\\\\\"type\\\\\\\\\\\\\\\": 2, \\\\\\\\\\\\\\\"details\\\\\\\\\\\\\\\": {\\\\\\\\\\\\\\\"selectedColumn\\\\\\\\\\\\\\\": \\\\\\\\\\\\\\\"Single\\\\\\\\\\\\\\\"}}, \\\\\\\\\\\\\\\"typeProperty\\\\\\\\\\\\\\\": 2}, {\\\\\\\\\\\\\\\"column\\\\\\\\\\\\\\\": {\\\\\\\\\\\\\\\"type\\\\\\\\\\\\\\\": 2, \\\\\\\\\\\\\\\"details\\\\\\\\\\\\\\\": {\\\\\\\\\\\\\\\"selectedColumn\\\\\\\\\\\\\\\": \\\\\\\\\\\\\\\"Income_Category\\\\\\\\\\\\\\\"}}, \\\\\\\\\\\\\\\"typeProperty\\\\\\\\\\\\\\\": 2}, {\\\\\\\\\\\\\\\"column\\\\\\\\\\\\\\\": {\\\\\\\\\\\\\\\"type\\\\\\\\\\\\\\\": 2, \\\\\\\\\\\\\\\"details\\\\\\\\\\\\\\\": {\\\\\\\\\\\\\\\"selectedColumn\\\\\\\\\\\\\\\": \\\\\\\\\\\\\\\"Card_Category\\\\\\\\\\\\\\\"}}, \\\\\\\\\\\\\\\"typeProperty\\\\\\\\\\\\\\\": 2}, {\\\\\\\\\\\\\\\"column\\\\\\\\\\\\\\\": {\\\\\\\\\\\\\\\"type\\\\\\\\\\\\\\\": 2, \\\\\\\\\\\\\\\"details\\\\\\\\\\\\\\\": {\\\\\\\\\\\\\\\"selectedColumn\\\\\\\\\\\\\\\": \\\\\\\\\\\\\\\"Months_on_book\\\\\\\\\\\\\\\"}}, \\\\\\\\\\\\\\\"typeProperty\\\\\\\\\\\\\\\": 2}, {\\\\\\\\\\\\\\\"column\\\\\\\\\\\\\\\": {\\\\\\\\\\\\\\\"type\\\\\\\\\\\\\\\": 2, \\\\\\\\\\\\\\\"details\\\\\\\\\\\\\\\": {\\\\\\\\\\\\\\\"selectedColumn\\\\\\\\\\\\\\\": \\\\\\\\\\\\\\\"Total_Relationship_Count\\\\\\\\\\\\\\\"}}, \\\\\\\\\\\\\\\"typeProperty\\\\\\\\\\\\\\\": 2}, {\\\\\\\\\\\\\\\"column\\\\\\\\\\\\\\\": {\\\\\\\\\\\\\\\"type\\\\\\\\\\\\\\\": 2, \\\\\\\\\\\\\\\"details\\\\\\\\\\\\\\\": {\\\\\\\\\\\\\\\"selectedColumn\\\\\\\\\\\\\\\": \\\\\\\\\\\\\\\"Months_Inactive_12_mon\\\\\\\\\\\\\\\"}}, \\\\\\\\\\\\\\\"typeProperty\\\\\\\\\\\\\\\": 2}, {\\\\\\\\\\\\\\\"column\\\\\\\\\\\\\\\": {\\\\\\\\\\\\\\\"type\\\\\\\\\\\\\\\": 2, \\\\\\\\\\\\\\\"details\\\\\\\\\\\\\\\": {\\\\\\\\\\\\\\\"selectedColumn\\\\\\\\\\\\\\\": \\\\\\\\\\\\\\\"Contacts_Count_12_mon\\\\\\\\\\\\\\\"}}, \\\\\\\\\\\\\\\"typeProperty\\\\\\\\\\\\\\\": 2}, {\\\\\\\\\\\\\\\"column\\\\\\\\\\\\\\\": {\\\\\\\\\\\\\\\"type\\\\\\\\\\\\\\\": 2, \\\\\\\\\\\\\\\"details\\\\\\\\\\\\\\\": {\\\\\\\\\\\\\\\"selectedColumn\\\\\\\\\\\\\\\": \\\\\\\\\\\\\\\"Credit_Limit\\\\\\\\\\\\\\\"}}, \\\\\\\\\\\\\\\"typeProperty\\\\\\\\\\\\\\\": 3}, {\\\\\\\\\\\\\\\"column\\\\\\\\\\\\\\\": {\\\\\\\\\\\\\\\"type\\\\\\\\\\\\\\\": 2, \\\\\\\\\\\\\\\"details\\\\\\\\\\\\\\\": {\\\\\\\\\\\\\\\"selectedColumn\\\\\\\\\\\\\\\": \\\\\\\\\\\\\\\"Total_Revolving_Bal\\\\\\\\\\\\\\\"}}, \\\\\\\\\\\\\\\"typeProperty\\\\\\\\\\\\\\\": 2}, {\\\\\\\\\\\\\\\"column\\\\\\\\\\\\\\\": {\\\\\\\\\\\\\\\"type\\\\\\\\\\\\\\\": 2, \\\\\\\\\\\\\\\"details\\\\\\\\\\\\\\\": {\\\\\\\\\\\\\\\"selectedColumn\\\\\\\\\\\\\\\": \\\\\\\\\\\\\\\"Avg_Open_To_Buy\\\\\\\\\\\\\\\"}}, \\\\\\\\\\\\\\\"typeProperty\\\\\\\\\\\\\\\": 3}, {\\\\\\\\\\\\\\\"column\\\\\\\\\\\\\\\": {\\\\\\\\\\\\\\\"type\\\\\\\\\\\\\\\": 2, \\\\\\\\\\\\\\\"details\\\\\\\\\\\\\\\": {\\\\\\\\\\\\\\\"selectedColumn\\\\\\\\\\\\\\\": \\\\\\\\\\\\\\\"Total_Amt_Chng_Q4_Q1\\\\\\\\\\\\\\\"}}, \\\\\\\\\\\\\\\"typeProperty\\\\\\\\\\\\\\\": 3}, {\\\\\\\\\\\\\\\"column\\\\\\\\\\\\\\\": {\\\\\\\\\\\\\\\"type\\\\\\\\\\\\\\\": 2, \\\\\\\\\\\\\\\"details\\\\\\\\\\\\\\\": {\\\\\\\\\\\\\\\"selectedColumn\\\\\\\\\\\\\\\": \\\\\\\\\\\\\\\"Total_Trans_Amt\\\\\\\\\\\\\\\"}}, \\\\\\\\\\\\\\\"typeProperty\\\\\\\\\\\\\\\": 2}, {\\\\\\\\\\\\\\\"column\\\\\\\\\\\\\\\": {\\\\\\\\\\\\\\\"type\\\\\\\\\\\\\\\": 2, \\\\\\\\\\\\\\\"details\\\\\\\\\\\\\\\": {\\\\\\\\\\\\\\\"selectedColumn\\\\\\\\\\\\\\\": \\\\\\\\\\\\\\\"Total_Trans_Ct\\\\\\\\\\\\\\\"}}, \\\\\\\\\\\\\\\"typeProperty\\\\\\\\\\\\\\\": 2}, {\\\\\\\\\\\\\\\"column\\\\\\\\\\\\\\\": {\\\\\\\\\\\\\\\"type\\\\\\\\\\\\\\\": 2, \\\\\\\\\\\\\\\"details\\\\\\\\\\\\\\\": {\\\\\\\\\\\\\\\"selectedColumn\\\\\\\\\\\\\\\": \\\\\\\\\\\\\\\"Total_Ct_Chng_Q4_Q1\\\\\\\\\\\\\\\"}}, \\\\\\\\\\\\\\\"typeProperty\\\\\\\\\\\\\\\": 3}, {\\\\\\\\\\\\\\\"column\\\\\\\\\\\\\\\": {\\\\\\\\\\\\\\\"type\\\\\\\\\\\\\\\": 2, \\\\\\\\\\\\\\\"details\\\\\\\\\\\\\\\": {\\\\\\\\\\\\\\\"selectedColumn\\\\\\\\\\\\\\\": \\\\\\\\\\\\\\\"Avg_Utilization_Ratio\\\\\\\\\\\\\\\"}}, \\\\\\\\\\\\\\\"typeProperty\\\\\\\\\\\\\\\": 3}, {\\\\\\\\\\\\\\\"column\\\\\\\\\\\\\\\": {\\\\\\\\\\\\\\\"type\\\\\\\\\\\\\\\": 2, \\\\\\\\\\\\\\\"details\\\\\\\\\\\\\\\": {\\\\\\\\\\\\\\\"selectedColumn\\\\\\\\\\\\\\\": \\\\\\\\\\\\\\\"Attrition_Flag\\\\\\\\\\\\\\\"}}, \\\\\\\\\\\\\\\"typeProperty\\\\\\\\\\\\\\\": 2}]}, \\\\\\\\\\\\\\\"localData\\\\\\\\\\\\\\\": {}, \\\\\\\\\\\\\\\"isEnabled\\\\\\\\\\\\\\\": true, \\\\\\\\\\\\\\\"name\\\\\\\\\\\\\\\": null, \\\\\\\\\\\\\\\"annotation\\\\\\\\\\\\\\\": null}], \\\\\\\\\\\\\\\"inspectors\\\\\\\\\\\\\\\": [], \\\\\\\\\\\\\\\"meta\\\\\\\\\\\\\\\": {\\\\\\\\\\\\\\\"savedDatasetId\\\\\\\\\\\\\\\": \\\\\\\\\\\\\\\"a5136e87-b9ee-48ad-ad50-70ffbb44fe0f\\\\\\\\\\\\\\\", \\\\\\\\\\\\\\\"datasetType\\\\\\\\\\\\\\\": \\\\\\\\\\\\\\\"tabular\\\\\\\\\\\\\\\", \\\\\\\\\\\\\\\"subscriptionId\\\\\\\\\\\\\\\": \\\\\\\\\\\\\\\"f9d5a085-54dc-4215-9ba6-dad5d86e60a0\\\\\\\\\\\\\\\", \\\\\\\\\\\\\\\"workspaceId\\\\\\\\\\\\\\\": \\\\\\\\\\\\\\\"863e4356-a0a8-4dc5-bbed-5007f4e27172\\\\\\\\\\\\\\\", \\\\\\\\\\\\\\\"workspaceLocation\\\\\\\\\\\\\\\": \\\\\\\\\\\\\\\"southcentralus\\\\\\\\\\\\\\\"}}\\\\\\\", \\\\\\\"activities\\\\\\\": 0}\", \"EnableSubsampling\": null, \"runTemplate\": \"AutoML\", \"azureml.runsource\": \"automl\", \"display_task_type\": \"classification\", \"dependencies_versions\": \"{\\\"azureml-widgets\\\": \\\"1.20.0\\\", \\\"azureml-train\\\": \\\"1.21.0\\\", \\\"azureml-train-restclients-hyperdrive\\\": \\\"1.21.0\\\", \\\"azureml-train-core\\\": \\\"1.21.0\\\", \\\"azureml-train-automl\\\": \\\"1.21.0\\\", \\\"azureml-train-automl-runtime\\\": \\\"1.21.0.post1\\\", \\\"azureml-train-automl-client\\\": \\\"1.21.0\\\", \\\"azureml-tensorboard\\\": \\\"1.20.0\\\", \\\"azureml-telemetry\\\": \\\"1.21.0\\\", \\\"azureml-sdk\\\": \\\"1.21.0\\\", \\\"azureml-samples\\\": \\\"0+unknown\\\", \\\"azureml-pipeline\\\": \\\"1.21.0\\\", \\\"azureml-pipeline-steps\\\": \\\"1.21.0\\\", \\\"azureml-pipeline-core\\\": \\\"1.21.0\\\", \\\"azureml-opendatasets\\\": \\\"1.20.0\\\", \\\"azureml-model-management-sdk\\\": \\\"1.0.1b6.post1\\\", \\\"azureml-mlflow\\\": \\\"1.20.0.post1\\\", \\\"azureml-interpret\\\": \\\"1.21.0\\\", \\\"azureml-explain-model\\\": \\\"1.20.0\\\", \\\"azureml-defaults\\\": \\\"1.21.0\\\", \\\"azureml-dataset-runtime\\\": \\\"1.21.0\\\", \\\"azureml-dataprep\\\": \\\"2.8.2\\\", \\\"azureml-dataprep-rslex\\\": \\\"1.6.0\\\", \\\"azureml-dataprep-native\\\": \\\"28.0.0\\\", \\\"azureml-datadrift\\\": \\\"1.20.0\\\", \\\"azureml-core\\\": \\\"1.21.0.post2\\\", \\\"azureml-contrib-services\\\": \\\"1.20.0\\\", \\\"azureml-contrib-server\\\": \\\"1.20.0\\\", \\\"azureml-contrib-reinforcementlearning\\\": \\\"1.20.0\\\", \\\"azureml-contrib-pipeline-steps\\\": \\\"1.20.0\\\", \\\"azureml-contrib-notebook\\\": \\\"1.20.0\\\", \\\"azureml-contrib-interpret\\\": \\\"1.20.0\\\", \\\"azureml-contrib-gbdt\\\": \\\"1.20.0\\\", \\\"azureml-contrib-fairness\\\": \\\"1.20.0\\\", \\\"azureml-contrib-dataset\\\": \\\"1.20.0\\\", \\\"azureml-cli-common\\\": \\\"1.20.0\\\", \\\"azureml-automl-runtime\\\": \\\"1.21.0\\\", \\\"azureml-automl-core\\\": \\\"1.21.0\\\", \\\"azureml-accel-models\\\": \\\"1.20.0\\\"}\", \"_aml_system_scenario_identification\": \"Remote.Parent\", \"ClientType\": \"SDK\", \"environment_cpu_name\": \"AzureML-AutoML\", \"environment_cpu_label\": \"prod\", \"environment_gpu_name\": \"AzureML-AutoML-GPU\", \"environment_gpu_label\": \"prod\", \"root_attribution\": \"automl\", \"attribution\": \"AutoML\", \"Orchestrator\": \"AutoML\", \"CancelUri\": \"https://southcentralus.experiments.azureml.net/jasmine/v1.0/subscriptions/f9d5a085-54dc-4215-9ba6-dad5d86e60a0/resourceGroups/aml-quickstarts-137163/providers/Microsoft.MachineLearningServices/workspaces/quick-starts-ws-137163/experimentids/62de3a78-b491-4dbc-9876-ae04e782418b/cancel/AutoML_85b87058-0aa7-4ef9-808a-bc495797b044\", \"ClientSdkVersion\": \"1.21.0\", \"snapshotId\": \"00000000-0000-0000-0000-000000000000\", \"SetupRunId\": \"AutoML_85b87058-0aa7-4ef9-808a-bc495797b044_setup\", \"SetupRunContainerId\": \"dcid.AutoML_85b87058-0aa7-4ef9-808a-bc495797b044_setup\", \"FeaturizationRunJsonPath\": \"featurizer_container.json\", \"FeaturizationRunId\": \"AutoML_85b87058-0aa7-4ef9-808a-bc495797b044_featurize\", \"ProblemInfoJsonString\": \"{\\\"dataset_num_categorical\\\": 0, \\\"is_sparse\\\": true, \\\"subsampling\\\": false, \\\"dataset_classes\\\": 2, \\\"dataset_features\\\": 153, \\\"dataset_samples\\\": 10127, \\\"single_frequency_class_detected\\\": false}\", \"ModelExplainRunId\": \"AutoML_85b87058-0aa7-4ef9-808a-bc495797b044_ModelExplain\"}, \"tags\": {\"model_explain_run\": \"best_run\", \"_aml_system_azureml.automlComponent\": \"AutoML\", \"pipeline_id\": \"\", \"score\": \"\", \"predicted_cost\": \"\", \"fit_time\": \"\", \"training_percent\": \"\", \"iteration\": \"\", \"run_preprocessor\": \"\", \"run_algorithm\": \"\", \"dynamic_whitelisting_iterations\": \"<25>;<30>;<35>;\", \"automl_best_child_run_id\": \"AutoML_85b87058-0aa7-4ef9-808a-bc495797b044_36\"}, \"end_time_utc\": \"2021-02-04T02:38:19.295092Z\", \"status\": \"Completed\", \"log_files\": {}, \"log_groups\": [], \"run_duration\": \"0:22:28\"}, \"child_runs\": [{\"run_id\": \"AutoML_85b87058-0aa7-4ef9-808a-bc495797b044_0\", \"run_number\": 8, \"metric\": null, \"status\": \"Completed\", \"run_type\": \"azureml.scriptrun\", \"training_percent\": \"100\", \"start_time\": \"2021-02-04T02:22:43.302024Z\", \"end_time\": \"2021-02-04T02:23:42.912822Z\", \"created_time\": \"2021-02-04T02:22:30.690011Z\", \"created_time_dt\": \"2021-02-04T02:22:30.690011Z\", \"duration\": \"0:01:12\", \"iteration\": \"0\", \"goal\": \"accuracy_max\", \"run_name\": \"MaxAbsScaler, LightGBM\", \"run_properties\": \"copy=True\", \"primary_metric\": 0.94790961, \"best_metric\": 0.94790961}, {\"run_id\": \"AutoML_85b87058-0aa7-4ef9-808a-bc495797b044_1\", \"run_number\": 9, \"metric\": null, \"status\": \"Completed\", \"run_type\": \"azureml.scriptrun\", \"training_percent\": \"100\", \"start_time\": \"2021-02-04T02:23:44.091241Z\", \"end_time\": \"2021-02-04T02:24:45.374031Z\", \"created_time\": \"2021-02-04T02:22:30.748331Z\", \"created_time_dt\": \"2021-02-04T02:22:30.748331Z\", \"duration\": \"0:02:14\", \"iteration\": \"1\", \"goal\": \"accuracy_max\", \"run_name\": \"MaxAbsScaler, XGBoostClassifier\", \"run_properties\": \"copy=True\", \"primary_metric\": 0.94465515, \"best_metric\": 0.94790961}, {\"run_id\": \"AutoML_85b87058-0aa7-4ef9-808a-bc495797b044_3\", \"run_number\": 10, \"metric\": null, \"status\": \"Completed\", \"run_type\": \"azureml.scriptrun\", \"training_percent\": \"100\", \"start_time\": \"2021-02-04T02:24:34.317421Z\", \"end_time\": \"2021-02-04T02:28:16.755455Z\", \"created_time\": \"2021-02-04T02:22:30.858297Z\", \"created_time_dt\": \"2021-02-04T02:22:30.858297Z\", \"duration\": \"0:05:45\", \"iteration\": \"3\", \"goal\": \"accuracy_max\", \"run_name\": \"MaxAbsScaler, RandomForest\", \"run_properties\": \"copy=True\", \"primary_metric\": 0.80712874, \"best_metric\": 0.94790961}, {\"run_id\": \"AutoML_85b87058-0aa7-4ef9-808a-bc495797b044_2\", \"run_number\": 11, \"metric\": null, \"status\": \"Completed\", \"run_type\": \"azureml.scriptrun\", \"training_percent\": \"100\", \"start_time\": \"2021-02-04T02:24:39.190486Z\", \"end_time\": \"2021-02-04T02:28:34.405197Z\", \"created_time\": \"2021-02-04T02:22:30.930548Z\", \"created_time_dt\": \"2021-02-04T02:22:30.930548Z\", \"duration\": \"0:06:03\", \"iteration\": \"2\", \"goal\": \"accuracy_max\", \"run_name\": \"MaxAbsScaler, RandomForest\", \"run_properties\": \"copy=True\", \"primary_metric\": 0.85068849, \"best_metric\": 0.94790961}, {\"run_id\": \"AutoML_85b87058-0aa7-4ef9-808a-bc495797b044_4\", \"run_number\": 12, \"metric\": null, \"status\": \"Completed\", \"run_type\": \"azureml.scriptrun\", \"training_percent\": \"100\", \"start_time\": \"2021-02-04T02:24:35.380067Z\", \"end_time\": \"2021-02-04T02:28:06.596477Z\", \"created_time\": \"2021-02-04T02:23:44.26414Z\", \"created_time_dt\": \"2021-02-04T02:23:44.26414Z\", \"duration\": \"0:04:22\", \"iteration\": \"4\", \"goal\": \"accuracy_max\", \"run_name\": \"MaxAbsScaler, RandomForest\", \"run_properties\": \"copy=True\", \"primary_metric\": 0.67459684, \"best_metric\": 0.94790961}, {\"run_id\": \"AutoML_85b87058-0aa7-4ef9-808a-bc495797b044_5\", \"run_number\": 13, \"metric\": null, \"status\": \"Completed\", \"run_type\": \"azureml.scriptrun\", \"training_percent\": \"100\", \"start_time\": \"2021-02-04T02:25:01.163448Z\", \"end_time\": \"2021-02-04T02:25:53.555855Z\", \"created_time\": \"2021-02-04T02:24:46.919274Z\", \"created_time_dt\": \"2021-02-04T02:24:46.919274Z\", \"duration\": \"0:01:06\", \"iteration\": \"5\", \"goal\": \"accuracy_max\", \"run_name\": \"MaxAbsScaler, RandomForest\", \"run_properties\": \"copy=True\", \"primary_metric\": 0.5839064, \"best_metric\": 0.94790961}, {\"run_id\": \"AutoML_85b87058-0aa7-4ef9-808a-bc495797b044_6\", \"run_number\": 14, \"metric\": null, \"status\": \"Completed\", \"run_type\": \"azureml.scriptrun\", \"training_percent\": \"100\", \"start_time\": \"2021-02-04T02:26:09.467277Z\", \"end_time\": \"2021-02-04T02:27:03.102948Z\", \"created_time\": \"2021-02-04T02:25:56.197822Z\", \"created_time_dt\": \"2021-02-04T02:25:56.197822Z\", \"duration\": \"0:01:06\", \"iteration\": \"6\", \"goal\": \"accuracy_max\", \"run_name\": \"MaxAbsScaler, RandomForest\", \"run_properties\": \"copy=True\", \"primary_metric\": 0.56045492, \"best_metric\": 0.94790961}, {\"run_id\": \"AutoML_85b87058-0aa7-4ef9-808a-bc495797b044_7\", \"run_number\": 15, \"metric\": null, \"status\": \"Completed\", \"run_type\": \"azureml.scriptrun\", \"training_percent\": \"100\", \"start_time\": \"2021-02-04T02:27:18.38067Z\", \"end_time\": \"2021-02-04T02:28:22.039649Z\", \"created_time\": \"2021-02-04T02:27:06.689236Z\", \"created_time_dt\": \"2021-02-04T02:27:06.689236Z\", \"duration\": \"0:01:15\", \"iteration\": \"7\", \"goal\": \"accuracy_max\", \"run_name\": \"SparseNormalizer, XGBoostClassifier\", \"run_properties\": \"<azureml.automl.runtime.shared.model_wrappers.SparseNormalizer object at 0x7fa7bdebfc50\", \"primary_metric\": 0.88896102, \"best_metric\": 0.94790961}, {\"run_id\": \"AutoML_85b87058-0aa7-4ef9-808a-bc495797b044_8\", \"run_number\": 16, \"metric\": null, \"status\": \"Completed\", \"run_type\": \"azureml.scriptrun\", \"training_percent\": \"100\", \"start_time\": \"2021-02-04T02:28:22.047497Z\", \"end_time\": \"2021-02-04T02:29:25.947335Z\", \"created_time\": \"2021-02-04T02:28:09.470217Z\", \"created_time_dt\": \"2021-02-04T02:28:09.470217Z\", \"duration\": \"0:01:16\", \"iteration\": \"8\", \"goal\": \"accuracy_max\", \"run_name\": \"SparseNormalizer, XGBoostClassifier\", \"run_properties\": \"<azureml.automl.runtime.shared.model_wrappers.SparseNormalizer object at 0x7f03de405f60\", \"primary_metric\": 0.87191584, \"best_metric\": 0.94790961}, {\"run_id\": \"AutoML_85b87058-0aa7-4ef9-808a-bc495797b044_9\", \"run_number\": 17, \"metric\": null, \"status\": \"Completed\", \"run_type\": \"azureml.scriptrun\", \"training_percent\": \"100\", \"start_time\": \"2021-02-04T02:28:32.92675Z\", \"end_time\": \"2021-02-04T02:29:18.807804Z\", \"created_time\": \"2021-02-04T02:28:19.313769Z\", \"created_time_dt\": \"2021-02-04T02:28:19.313769Z\", \"duration\": \"0:00:59\", \"iteration\": \"9\", \"goal\": \"accuracy_max\", \"run_name\": \"SparseNormalizer, XGBoostClassifier\", \"run_properties\": \"<azureml.automl.runtime.shared.model_wrappers.SparseNormalizer object at 0x7f574833bb70\", \"primary_metric\": 0.8496242, \"best_metric\": 0.94790961}, {\"run_id\": \"AutoML_85b87058-0aa7-4ef9-808a-bc495797b044_10\", \"run_number\": 18, \"metric\": null, \"status\": \"Completed\", \"run_type\": \"azureml.scriptrun\", \"training_percent\": \"100\", \"start_time\": \"2021-02-04T02:28:37.340228Z\", \"end_time\": \"2021-02-04T02:29:43.888206Z\", \"created_time\": \"2021-02-04T02:28:24.667594Z\", \"created_time_dt\": \"2021-02-04T02:28:24.667594Z\", \"duration\": \"0:01:19\", \"iteration\": \"10\", \"goal\": \"accuracy_max\", \"run_name\": \"SparseNormalizer, XGBoostClassifier\", \"run_properties\": \"<azureml.automl.runtime.shared.model_wrappers.SparseNormalizer object at 0x7fcd4b691ba8\", \"primary_metric\": 0.8939838, \"best_metric\": 0.94790961}, {\"run_id\": \"AutoML_85b87058-0aa7-4ef9-808a-bc495797b044_11\", \"run_number\": 19, \"metric\": null, \"status\": \"Completed\", \"run_type\": \"azureml.scriptrun\", \"training_percent\": \"100\", \"start_time\": \"2021-02-04T02:28:52.202614Z\", \"end_time\": \"2021-02-04T02:29:51.577827Z\", \"created_time\": \"2021-02-04T02:28:36.590373Z\", \"created_time_dt\": \"2021-02-04T02:28:36.590373Z\", \"duration\": \"0:01:14\", \"iteration\": \"11\", \"goal\": \"accuracy_max\", \"run_name\": \"StandardScalerWrapper, LightGBM\", \"run_properties\": \"<azureml.automl.runtime.shared.model_wrappers.StandardScalerWrapper object at 0x7f93b00d2b38\", \"primary_metric\": 0.94214904, \"best_metric\": 0.94790961}, {\"run_id\": \"AutoML_85b87058-0aa7-4ef9-808a-bc495797b044_12\", \"run_number\": 20, \"metric\": null, \"status\": \"Completed\", \"run_type\": \"azureml.scriptrun\", \"training_percent\": \"100\", \"start_time\": \"2021-02-04T02:29:36.4662Z\", \"end_time\": \"2021-02-04T02:30:33.337229Z\", \"created_time\": \"2021-02-04T02:29:21.894371Z\", \"created_time_dt\": \"2021-02-04T02:29:21.894371Z\", \"duration\": \"0:01:11\", \"iteration\": \"12\", \"goal\": \"accuracy_max\", \"run_name\": \"SparseNormalizer, XGBoostClassifier\", \"run_properties\": \"<azureml.automl.runtime.shared.model_wrappers.SparseNormalizer object at 0x7f61ac966dd8\", \"primary_metric\": 0.85925913, \"best_metric\": 0.94790961}, {\"run_id\": \"AutoML_85b87058-0aa7-4ef9-808a-bc495797b044_13\", \"run_number\": 21, \"metric\": null, \"status\": \"Completed\", \"run_type\": \"azureml.scriptrun\", \"training_percent\": \"100\", \"start_time\": \"2021-02-04T02:29:41.786905Z\", \"end_time\": \"2021-02-04T02:30:43.383496Z\", \"created_time\": \"2021-02-04T02:29:28.895636Z\", \"created_time_dt\": \"2021-02-04T02:29:28.895636Z\", \"duration\": \"0:01:14\", \"iteration\": \"13\", \"goal\": \"accuracy_max\", \"run_name\": \"MaxAbsScaler, LightGBM\", \"run_properties\": \"copy=True\", \"primary_metric\": 0.90031001, \"best_metric\": 0.94790961}, {\"run_id\": \"AutoML_85b87058-0aa7-4ef9-808a-bc495797b044_14\", \"run_number\": 22, \"metric\": null, \"status\": \"Completed\", \"run_type\": \"azureml.scriptrun\", \"training_percent\": \"100\", \"start_time\": \"2021-02-04T02:30:00.197779Z\", \"end_time\": \"2021-02-04T02:30:58.49079Z\", \"created_time\": \"2021-02-04T02:29:47.435095Z\", \"created_time_dt\": \"2021-02-04T02:29:47.435095Z\", \"duration\": \"0:01:11\", \"iteration\": \"14\", \"goal\": \"accuracy_max\", \"run_name\": \"MaxAbsScaler, RandomForest\", \"run_properties\": \"copy=True\", \"primary_metric\": 0.81597804, \"best_metric\": 0.94790961}, {\"run_id\": \"AutoML_85b87058-0aa7-4ef9-808a-bc495797b044_15\", \"run_number\": 23, \"metric\": null, \"status\": \"Completed\", \"run_type\": \"azureml.scriptrun\", \"training_percent\": \"100\", \"start_time\": \"2021-02-04T02:30:08.299601Z\", \"end_time\": \"2021-02-04T02:31:10.678766Z\", \"created_time\": \"2021-02-04T02:29:54.41364Z\", \"created_time_dt\": \"2021-02-04T02:29:54.41364Z\", \"duration\": \"0:01:16\", \"iteration\": \"15\", \"goal\": \"accuracy_max\", \"run_name\": \"SparseNormalizer, LightGBM\", \"run_properties\": \"<azureml.automl.runtime.shared.model_wrappers.SparseNormalizer object at 0x7fd3d4414550\", \"primary_metric\": 0.84290699, \"best_metric\": 0.94790961}, {\"run_id\": \"AutoML_85b87058-0aa7-4ef9-808a-bc495797b044_16\", \"run_number\": 24, \"metric\": null, \"status\": \"Completed\", \"run_type\": \"azureml.scriptrun\", \"training_percent\": \"100\", \"start_time\": \"2021-02-04T02:30:47.676396Z\", \"end_time\": \"2021-02-04T02:31:39.336096Z\", \"created_time\": \"2021-02-04T02:30:35.547738Z\", \"created_time_dt\": \"2021-02-04T02:30:35.547738Z\", \"duration\": \"0:01:03\", \"iteration\": \"16\", \"goal\": \"accuracy_max\", \"run_name\": \"MaxAbsScaler, LightGBM\", \"run_properties\": \"copy=True\", \"primary_metric\": 0.88426346, \"best_metric\": 0.94790961}, {\"run_id\": \"AutoML_85b87058-0aa7-4ef9-808a-bc495797b044_17\", \"run_number\": 25, \"metric\": null, \"status\": \"Completed\", \"run_type\": \"azureml.scriptrun\", \"training_percent\": \"100\", \"start_time\": \"2021-02-04T02:30:58.869458Z\", \"end_time\": \"2021-02-04T02:31:55.759129Z\", \"created_time\": \"2021-02-04T02:30:46.075204Z\", \"created_time_dt\": \"2021-02-04T02:30:46.075204Z\", \"duration\": \"0:01:09\", \"iteration\": \"17\", \"goal\": \"accuracy_max\", \"run_name\": \"SparseNormalizer, LightGBM\", \"run_properties\": \"<azureml.automl.runtime.shared.model_wrappers.SparseNormalizer object at 0x7f64d0170cc0\", \"primary_metric\": 0.79520419, \"best_metric\": 0.94790961}, {\"run_id\": \"AutoML_85b87058-0aa7-4ef9-808a-bc495797b044_18\", \"run_number\": 26, \"metric\": null, \"status\": \"Completed\", \"run_type\": \"azureml.scriptrun\", \"training_percent\": \"100\", \"start_time\": \"2021-02-04T02:31:14.748042Z\", \"end_time\": \"2021-02-04T02:32:09.603684Z\", \"created_time\": \"2021-02-04T02:31:01.061857Z\", \"created_time_dt\": \"2021-02-04T02:31:01.061857Z\", \"duration\": \"0:01:08\", \"iteration\": \"18\", \"goal\": \"accuracy_max\", \"run_name\": \"SparseNormalizer, LightGBM\", \"run_properties\": \"<azureml.automl.runtime.shared.model_wrappers.SparseNormalizer object at 0x7f8e543ee5c0\", \"primary_metric\": 0.80756843, \"best_metric\": 0.94790961}, {\"run_id\": \"AutoML_85b87058-0aa7-4ef9-808a-bc495797b044_19\", \"run_number\": 27, \"metric\": null, \"status\": \"Completed\", \"run_type\": \"azureml.scriptrun\", \"training_percent\": \"100\", \"start_time\": \"2021-02-04T02:31:27.158202Z\", \"end_time\": \"2021-02-04T02:32:20.281693Z\", \"created_time\": \"2021-02-04T02:31:12.876585Z\", \"created_time_dt\": \"2021-02-04T02:31:12.876585Z\", \"duration\": \"0:01:07\", \"iteration\": \"19\", \"goal\": \"accuracy_max\", \"run_name\": \"MaxAbsScaler, LightGBM\", \"run_properties\": \"copy=True\", \"primary_metric\": 0.85756439, \"best_metric\": 0.94790961}, {\"run_id\": \"AutoML_85b87058-0aa7-4ef9-808a-bc495797b044_20\", \"run_number\": 28, \"metric\": null, \"status\": \"Completed\", \"run_type\": \"azureml.scriptrun\", \"training_percent\": \"100\", \"start_time\": \"2021-02-04T02:31:53.47567Z\", \"end_time\": \"2021-02-04T02:32:42.8118Z\", \"created_time\": \"2021-02-04T02:31:41.824139Z\", \"created_time_dt\": \"2021-02-04T02:31:41.824139Z\", \"duration\": \"0:01:00\", \"iteration\": \"20\", \"goal\": \"accuracy_max\", \"run_name\": \"MaxAbsScaler, LogisticRegression\", \"run_properties\": \"copy=True\", \"primary_metric\": 0.8620388, \"best_metric\": 0.94790961}, {\"run_id\": \"AutoML_85b87058-0aa7-4ef9-808a-bc495797b044_21\", \"run_number\": 29, \"metric\": null, \"status\": \"Completed\", \"run_type\": \"azureml.scriptrun\", \"training_percent\": \"100\", \"start_time\": \"2021-02-04T02:32:10.131105Z\", \"end_time\": \"2021-02-04T02:33:10.782687Z\", \"created_time\": \"2021-02-04T02:31:57.919498Z\", \"created_time_dt\": \"2021-02-04T02:31:57.919498Z\", \"duration\": \"0:01:12\", \"iteration\": \"21\", \"goal\": \"accuracy_max\", \"run_name\": \"MaxAbsScaler, LogisticRegression\", \"run_properties\": \"copy=True\", \"primary_metric\": 0.86235309, \"best_metric\": 0.94790961}, {\"run_id\": \"AutoML_85b87058-0aa7-4ef9-808a-bc495797b044_22\", \"run_number\": 30, \"metric\": null, \"status\": \"Completed\", \"run_type\": \"azureml.scriptrun\", \"training_percent\": \"100\", \"start_time\": \"2021-02-04T02:32:24.469685Z\", \"end_time\": \"2021-02-04T02:33:22.573194Z\", \"created_time\": \"2021-02-04T02:32:12.128706Z\", \"created_time_dt\": \"2021-02-04T02:32:12.128706Z\", \"duration\": \"0:01:10\", \"iteration\": \"22\", \"goal\": \"accuracy_max\", \"run_name\": \"StandardScalerWrapper, LogisticRegression\", \"run_properties\": \"<azureml.automl.runtime.shared.model_wrappers.StandardScalerWrapper object at 0x7f6684200c18\", \"primary_metric\": 0.86000203, \"best_metric\": 0.94790961}, {\"run_id\": \"AutoML_85b87058-0aa7-4ef9-808a-bc495797b044_23\", \"run_number\": 31, \"metric\": null, \"status\": \"Completed\", \"run_type\": \"azureml.scriptrun\", \"training_percent\": \"100\", \"start_time\": \"2021-02-04T02:32:33.789292Z\", \"end_time\": \"2021-02-04T02:33:23.118619Z\", \"created_time\": \"2021-02-04T02:32:22.710318Z\", \"created_time_dt\": \"2021-02-04T02:32:22.710318Z\", \"duration\": \"0:01:00\", \"iteration\": \"23\", \"goal\": \"accuracy_max\", \"run_name\": \"SparseNormalizer, LightGBM\", \"run_properties\": \"<azureml.automl.runtime.shared.model_wrappers.SparseNormalizer object at 0x7fbbd20156a0\", \"primary_metric\": 0.79106589, \"best_metric\": 0.94790961}, {\"run_id\": \"AutoML_85b87058-0aa7-4ef9-808a-bc495797b044_24\", \"run_number\": 32, \"metric\": null, \"status\": \"Completed\", \"run_type\": \"azureml.scriptrun\", \"training_percent\": \"100\", \"start_time\": \"2021-02-04T02:32:59.876175Z\", \"end_time\": \"2021-02-04T02:33:52.924382Z\", \"created_time\": \"2021-02-04T02:32:46.055194Z\", \"created_time_dt\": \"2021-02-04T02:32:46.055194Z\", \"duration\": \"0:01:06\", \"iteration\": \"24\", \"goal\": \"accuracy_max\", \"run_name\": \"SparseNormalizer, XGBoostClassifier\", \"run_properties\": \"<azureml.automl.runtime.shared.model_wrappers.SparseNormalizer object at 0x7fc4b18a89e8\", \"primary_metric\": 0.85621893, \"best_metric\": 0.94790961}, {\"run_id\": \"AutoML_85b87058-0aa7-4ef9-808a-bc495797b044_25\", \"run_number\": 33, \"metric\": null, \"status\": \"Completed\", \"run_type\": \"azureml.scriptrun\", \"training_percent\": \"100\", \"start_time\": \"2021-02-04T02:33:25.657444Z\", \"end_time\": \"2021-02-04T02:34:21.101486Z\", \"created_time\": \"2021-02-04T02:33:14.765051Z\", \"created_time_dt\": \"2021-02-04T02:33:14.765051Z\", \"duration\": \"0:01:06\", \"iteration\": \"25\", \"goal\": \"accuracy_max\", \"run_name\": \"SparseNormalizer, LightGBM\", \"run_properties\": \"<azureml.automl.runtime.shared.model_wrappers.SparseNormalizer object at 0x7ff26d230e48\", \"primary_metric\": 0.77977723, \"best_metric\": 0.94790961}, {\"run_id\": \"AutoML_85b87058-0aa7-4ef9-808a-bc495797b044_26\", \"run_number\": 34, \"metric\": null, \"status\": \"Completed\", \"run_type\": \"azureml.scriptrun\", \"training_percent\": \"100\", \"start_time\": \"2021-02-04T02:33:37.727719Z\", \"end_time\": \"2021-02-04T02:34:35.687739Z\", \"created_time\": \"2021-02-04T02:33:25.954254Z\", \"created_time_dt\": \"2021-02-04T02:33:25.954254Z\", \"duration\": \"0:01:09\", \"iteration\": \"26\", \"goal\": \"accuracy_max\", \"run_name\": \"SparseNormalizer, XGBoostClassifier\", \"run_properties\": \"<azureml.automl.runtime.shared.model_wrappers.SparseNormalizer object at 0x7f128cf913c8\", \"primary_metric\": 0.83944442, \"best_metric\": 0.94790961}, {\"run_id\": \"AutoML_85b87058-0aa7-4ef9-808a-bc495797b044_27\", \"run_number\": 35, \"metric\": null, \"status\": \"Completed\", \"run_type\": \"azureml.scriptrun\", \"training_percent\": \"100\", \"start_time\": \"2021-02-04T02:33:36.770714Z\", \"end_time\": \"2021-02-04T02:34:46.22671Z\", \"created_time\": \"2021-02-04T02:33:25.963913Z\", \"created_time_dt\": \"2021-02-04T02:33:25.963913Z\", \"duration\": \"0:01:20\", \"iteration\": \"27\", \"goal\": \"accuracy_max\", \"run_name\": \"SparseNormalizer, XGBoostClassifier\", \"run_properties\": \"<azureml.automl.runtime.shared.model_wrappers.SparseNormalizer object at 0x7f8d556154e0\", \"primary_metric\": 0.89303043, \"best_metric\": 0.94790961}, {\"run_id\": \"AutoML_85b87058-0aa7-4ef9-808a-bc495797b044_28\", \"run_number\": 36, \"metric\": null, \"status\": \"Completed\", \"run_type\": \"azureml.scriptrun\", \"training_percent\": \"100\", \"start_time\": \"2021-02-04T02:34:11.099084Z\", \"end_time\": \"2021-02-04T02:35:06.90303Z\", \"created_time\": \"2021-02-04T02:33:56.035776Z\", \"created_time_dt\": \"2021-02-04T02:33:56.035776Z\", \"duration\": \"0:01:10\", \"iteration\": \"28\", \"goal\": \"accuracy_max\", \"run_name\": \"SparseNormalizer, XGBoostClassifier\", \"run_properties\": \"<azureml.automl.runtime.shared.model_wrappers.SparseNormalizer object at 0x7f39deca0c50\", \"primary_metric\": 0.83053168, \"best_metric\": 0.94790961}, {\"run_id\": \"AutoML_85b87058-0aa7-4ef9-808a-bc495797b044_29\", \"run_number\": 37, \"metric\": null, \"status\": \"Completed\", \"run_type\": \"azureml.scriptrun\", \"training_percent\": \"100\", \"start_time\": \"2021-02-04T02:34:38.147486Z\", \"end_time\": \"2021-02-04T02:35:28.529797Z\", \"created_time\": \"2021-02-04T02:34:24.170223Z\", \"created_time_dt\": \"2021-02-04T02:34:24.170223Z\", \"duration\": \"0:01:04\", \"iteration\": \"29\", \"goal\": \"accuracy_max\", \"run_name\": \"SparseNormalizer, XGBoostClassifier\", \"run_properties\": \"<azureml.automl.runtime.shared.model_wrappers.SparseNormalizer object at 0x7f05d447d7b8\", \"primary_metric\": 0.86398012, \"best_metric\": 0.94790961}, {\"run_id\": \"AutoML_85b87058-0aa7-4ef9-808a-bc495797b044_30\", \"run_number\": 38, \"metric\": null, \"status\": \"Completed\", \"run_type\": \"azureml.scriptrun\", \"training_percent\": \"100\", \"start_time\": \"2021-02-04T02:34:51.16167Z\", \"end_time\": \"2021-02-04T02:35:41.544839Z\", \"created_time\": \"2021-02-04T02:34:40.144235Z\", \"created_time_dt\": \"2021-02-04T02:34:40.144235Z\", \"duration\": \"0:01:01\", \"iteration\": \"30\", \"goal\": \"accuracy_max\", \"run_name\": \"MaxAbsScaler, LightGBM\", \"run_properties\": \"copy=True\", \"primary_metric\": 0.49132017, \"best_metric\": 0.94790961}, {\"run_id\": \"AutoML_85b87058-0aa7-4ef9-808a-bc495797b044_31\", \"run_number\": 39, \"metric\": null, \"status\": \"Completed\", \"run_type\": \"azureml.scriptrun\", \"training_percent\": \"100\", \"start_time\": \"2021-02-04T02:35:01.611415Z\", \"end_time\": \"2021-02-04T02:35:56.715356Z\", \"created_time\": \"2021-02-04T02:34:48.676844Z\", \"created_time_dt\": \"2021-02-04T02:34:48.676844Z\", \"duration\": \"0:01:08\", \"iteration\": \"31\", \"goal\": \"accuracy_max\", \"run_name\": \"MaxAbsScaler, LightGBM\", \"run_properties\": \"copy=True\", \"primary_metric\": 0.93009622, \"best_metric\": 0.94790961}, {\"run_id\": \"AutoML_85b87058-0aa7-4ef9-808a-bc495797b044_32\", \"run_number\": 40, \"metric\": null, \"status\": \"Completed\", \"run_type\": \"azureml.scriptrun\", \"training_percent\": \"100\", \"start_time\": \"2021-02-04T02:35:21.703953Z\", \"end_time\": \"2021-02-04T02:36:14.459561Z\", \"created_time\": \"2021-02-04T02:35:09.202075Z\", \"created_time_dt\": \"2021-02-04T02:35:09.202075Z\", \"duration\": \"0:01:05\", \"iteration\": \"32\", \"goal\": \"accuracy_max\", \"run_name\": \"SparseNormalizer, LightGBM\", \"run_properties\": \"<azureml.automl.runtime.shared.model_wrappers.SparseNormalizer object at 0x7fa86fcc9b38\", \"primary_metric\": 0.86649835, \"best_metric\": 0.94790961}, {\"run_id\": \"AutoML_85b87058-0aa7-4ef9-808a-bc495797b044_33\", \"run_number\": 41, \"metric\": null, \"status\": \"Canceled\", \"run_type\": \"azureml.scriptrun\", \"training_percent\": \"100\", \"start_time\": \"2021-02-04T02:35:41.250318Z\", \"end_time\": \"2021-02-04T02:36:22.864883Z\", \"created_time\": \"2021-02-04T02:35:30.708474Z\", \"created_time_dt\": \"2021-02-04T02:35:30.708474Z\", \"duration\": \"0:00:52\", \"iteration\": \"33\", \"goal\": \"accuracy_max\", \"run_name\": \"MaxAbsScaler, GradientBoosting\", \"run_properties\": \"copy=True\", \"primary_metric\": 0.89746125, \"best_metric\": 0.94790961}, {\"run_id\": \"AutoML_85b87058-0aa7-4ef9-808a-bc495797b044_34\", \"run_number\": 42, \"metric\": null, \"status\": \"Canceled\", \"run_type\": \"azureml.scriptrun\", \"training_percent\": \"100\", \"start_time\": \"2021-02-04T02:35:55.427321Z\", \"end_time\": \"2021-02-04T02:36:21.671881Z\", \"created_time\": \"2021-02-04T02:35:43.699615Z\", \"created_time_dt\": \"2021-02-04T02:35:43.699615Z\", \"duration\": \"0:00:37\", \"iteration\": \"34\", \"goal\": null, \"run_name\": \"Canceled\", \"run_properties\": null}, {\"run_id\": \"AutoML_85b87058-0aa7-4ef9-808a-bc495797b044_35\", \"run_number\": 43, \"metric\": null, \"status\": \"Canceled\", \"run_type\": \"azureml.scriptrun\", \"training_percent\": \"100\", \"start_time\": \"2021-02-04T02:36:13.216375Z\", \"end_time\": \"2021-02-04T02:36:22.949511Z\", \"created_time\": \"2021-02-04T02:36:00.822849Z\", \"created_time_dt\": \"2021-02-04T02:36:00.822849Z\", \"duration\": \"0:00:22\", \"iteration\": \"35\", \"goal\": null, \"run_name\": \"Canceled\", \"run_properties\": null}, {\"run_id\": \"AutoML_85b87058-0aa7-4ef9-808a-bc495797b044_36\", \"run_number\": 44, \"metric\": null, \"status\": \"Completed\", \"run_type\": \"azureml.scriptrun\", \"training_percent\": \"100\", \"start_time\": \"2021-02-04T02:36:39.376376Z\", \"end_time\": \"2021-02-04T02:38:01.705341Z\", \"created_time\": \"2021-02-04T02:36:25.961591Z\", \"created_time_dt\": \"2021-02-04T02:36:25.961591Z\", \"duration\": \"0:01:35\", \"iteration\": \"36\", \"goal\": \"accuracy_max\", \"run_name\": \"VotingEnsemble\", \"run_properties\": \"classification_labels=None,\\n                              estimators=[('0',\\n                                           Pipeline(memory=None,\\n                                                    steps=[('maxabsscaler',\\n                                                            MaxAbsScaler(copy=True\", \"primary_metric\": 0.95430215, \"best_metric\": 0.95430215}, {\"run_id\": \"AutoML_85b87058-0aa7-4ef9-808a-bc495797b044_37\", \"run_number\": 45, \"metric\": null, \"status\": \"Completed\", \"run_type\": \"azureml.scriptrun\", \"training_percent\": \"100\", \"start_time\": \"2021-02-04T02:36:36.471818Z\", \"end_time\": \"2021-02-04T02:38:06.811514Z\", \"created_time\": \"2021-02-04T02:36:26.084952Z\", \"created_time_dt\": \"2021-02-04T02:36:26.084952Z\", \"duration\": \"0:01:40\", \"iteration\": \"37\", \"goal\": \"accuracy_max\", \"run_name\": \"StackEnsemble\", \"run_properties\": \"base_learners=[('0',\\n                                        Pipeline(memory=None,\\n                                                 steps=[('maxabsscaler',\\n                                                         MaxAbsScaler(copy=True\", \"primary_metric\": 0.95287912, \"best_metric\": 0.95430215}], \"children_metrics\": {\"categories\": [0], \"series\": {\"average_precision_score_weighted\": [{\"categories\": [\"0\", \"1\", \"2\", \"3\", \"4\", \"5\", \"6\", \"7\", \"8\", \"9\", \"10\", \"11\", \"12\", \"13\", \"14\", \"15\", \"16\", \"17\", \"18\", \"19\", \"20\", \"21\", \"22\", \"23\", \"24\", \"25\", \"26\", \"27\", \"28\", \"29\", \"30\", \"31\", \"32\", \"33\", \"36\", \"37\"], \"mode\": \"markers\", \"name\": \"average_precision_score_weighted\", \"stepped\": false, \"type\": \"scatter\", \"data\": [0.9920944939575804, 0.988662661475146, 0.9188318425731182, 0.8949562418649993, 0.9283482639468795, 0.8925296702137847, 0.9167714919400792, 0.9672360272781236, 0.9543866693920392, 0.9315157067445079, 0.9713515105482265, 0.9867937779371165, 0.9419517522393107, 0.9615635464504672, 0.8993761601842634, 0.9332955572481524, 0.9511839551119848, 0.886742756784046, 0.8929376618330171, 0.9305465867050882, 0.9393185266018964, 0.9398457438200524, 0.9375700012971477, 0.8765174060438614, 0.9393595003912255, 0.8786999348692014, 0.9222522200496949, 0.975296611173464, 0.9158062518086236, 0.9545547661816531, 0.9128018921002766, 0.979218022571663, 0.9449702231443348, 0.9612380346176335, 0.9893117499450693, 0.9912205441368332]}, {\"categories\": [\"0\", \"1\", \"2\", \"3\", \"4\", \"5\", \"6\", \"7\", \"8\", \"9\", \"10\", \"11\", \"12\", \"13\", \"14\", \"15\", \"16\", \"17\", \"18\", \"19\", \"20\", \"21\", \"22\", \"23\", \"24\", \"25\", \"26\", \"27\", \"28\", \"29\", \"30\", \"31\", \"32\", \"33\", \"36\", \"37\"], \"mode\": \"lines\", \"name\": \"average_precision_score_weighted_max\", \"stepped\": true, \"type\": \"scatter\", \"data\": [0.9920944939575804, 0.9920944939575804, 0.9920944939575804, 0.9920944939575804, 0.9920944939575804, 0.9920944939575804, 0.9920944939575804, 0.9920944939575804, 0.9920944939575804, 0.9920944939575804, 0.9920944939575804, 0.9920944939575804, 0.9920944939575804, 0.9920944939575804, 0.9920944939575804, 0.9920944939575804, 0.9920944939575804, 0.9920944939575804, 0.9920944939575804, 0.9920944939575804, 0.9920944939575804, 0.9920944939575804, 0.9920944939575804, 0.9920944939575804, 0.9920944939575804, 0.9920944939575804, 0.9920944939575804, 0.9920944939575804, 0.9920944939575804, 0.9920944939575804, 0.9920944939575804, 0.9920944939575804, 0.9920944939575804, 0.9920944939575804, 0.9920944939575804, 0.9920944939575804]}], \"recall_score_macro\": [{\"categories\": [\"0\", \"1\", \"2\", \"3\", \"4\", \"5\", \"6\", \"7\", \"8\", \"9\", \"10\", \"11\", \"12\", \"13\", \"14\", \"15\", \"16\", \"17\", \"18\", \"19\", \"20\", \"21\", \"22\", \"23\", \"24\", \"25\", \"26\", \"27\", \"28\", \"29\", \"30\", \"31\", \"32\", \"33\", \"36\", \"37\"], \"mode\": \"markers\", \"name\": \"recall_score_macro\", \"stepped\": false, \"type\": \"scatter\", \"data\": [0.947950156695511, 0.9446312103663509, 0.85104555354024, 0.8068053089900321, 0.6745216360030964, 0.5838720479079349, 0.560773299642142, 0.8889833970275226, 0.8719184764466336, 0.8496175237261577, 0.8940918409832199, 0.9422002523719719, 0.859254057205651, 0.9004368494517617, 0.8160226827771583, 0.8428071585784206, 0.8843312376152479, 0.795170609876125, 0.8075465396049845, 0.8577222373198626, 0.8621745459821488, 0.8624629238489302, 0.8601423710055401, 0.7908599825091797, 0.8561583176847684, 0.7800627487189814, 0.8393953538906711, 0.8930728699466571, 0.8305735752854467, 0.8641140438281827, 0.5, 0.9301621120660525, 0.8663440758777016, 0.8975251148099473, 0.9543367855663729, 0.9529271302476929]}, {\"categories\": [\"0\", \"1\", \"2\", \"3\", \"4\", \"5\", \"6\", \"7\", \"8\", \"9\", \"10\", \"11\", \"12\", \"13\", \"14\", \"15\", \"16\", \"17\", \"18\", \"19\", \"20\", \"21\", \"22\", \"23\", \"24\", \"25\", \"26\", \"27\", \"28\", \"29\", \"30\", \"31\", \"32\", \"33\", \"36\", \"37\"], \"mode\": \"lines\", \"name\": \"recall_score_macro_max\", \"stepped\": true, \"type\": \"scatter\", \"data\": [0.947950156695511, 0.947950156695511, 0.947950156695511, 0.947950156695511, 0.947950156695511, 0.947950156695511, 0.947950156695511, 0.947950156695511, 0.947950156695511, 0.947950156695511, 0.947950156695511, 0.947950156695511, 0.947950156695511, 0.947950156695511, 0.947950156695511, 0.947950156695511, 0.947950156695511, 0.947950156695511, 0.947950156695511, 0.947950156695511, 0.947950156695511, 0.947950156695511, 0.947950156695511, 0.947950156695511, 0.947950156695511, 0.947950156695511, 0.947950156695511, 0.947950156695511, 0.947950156695511, 0.947950156695511, 0.947950156695511, 0.947950156695511, 0.947950156695511, 0.947950156695511, 0.9543367855663729, 0.9543367855663729]}], \"average_precision_score_macro\": [{\"categories\": [\"0\", \"1\", \"2\", \"3\", \"4\", \"5\", \"6\", \"7\", \"8\", \"9\", \"10\", \"11\", \"12\", \"13\", \"14\", \"15\", \"16\", \"17\", \"18\", \"19\", \"20\", \"21\", \"22\", \"23\", \"24\", \"25\", \"26\", \"27\", \"28\", \"29\", \"30\", \"31\", \"32\", \"33\", \"36\", \"37\"], \"mode\": \"markers\", \"name\": \"average_precision_score_macro\", \"stepped\": false, \"type\": \"scatter\", \"data\": [0.9920809769323999, 0.9886515309360857, 0.9187593031019894, 0.894882424418495, 0.9282882929958358, 0.8924131962038234, 0.9166902592123405, 0.9672110928675176, 0.9543493050576296, 0.9314333865441307, 0.9713255042449728, 0.9867791584452874, 0.9419254007472516, 0.9615128281245994, 0.8992740989846517, 0.9332432696747786, 0.95111503206338, 0.8866468461331262, 0.8928588642527653, 0.9304821800191512, 0.9392626584292835, 0.9397903098742232, 0.9375084768176346, 0.8764100583193124, 0.9393326825946214, 0.8786537793860125, 0.9222015943295387, 0.9752772413020422, 0.9157426369095059, 0.954518178544042, 0.9126997980684948, 0.9791916451518761, 0.944945484759915, 0.961195436967238, 0.9892941648274846, 0.9912169285089857]}, {\"categories\": [\"0\", \"1\", \"2\", \"3\", \"4\", \"5\", \"6\", \"7\", \"8\", \"9\", \"10\", \"11\", \"12\", \"13\", \"14\", \"15\", \"16\", \"17\", \"18\", \"19\", \"20\", \"21\", \"22\", \"23\", \"24\", \"25\", \"26\", \"27\", \"28\", \"29\", \"30\", \"31\", \"32\", \"33\", \"36\", \"37\"], \"mode\": \"lines\", \"name\": \"average_precision_score_macro_max\", \"stepped\": true, \"type\": \"scatter\", \"data\": [0.9920809769323999, 0.9920809769323999, 0.9920809769323999, 0.9920809769323999, 0.9920809769323999, 0.9920809769323999, 0.9920809769323999, 0.9920809769323999, 0.9920809769323999, 0.9920809769323999, 0.9920809769323999, 0.9920809769323999, 0.9920809769323999, 0.9920809769323999, 0.9920809769323999, 0.9920809769323999, 0.9920809769323999, 0.9920809769323999, 0.9920809769323999, 0.9920809769323999, 0.9920809769323999, 0.9920809769323999, 0.9920809769323999, 0.9920809769323999, 0.9920809769323999, 0.9920809769323999, 0.9920809769323999, 0.9920809769323999, 0.9920809769323999, 0.9920809769323999, 0.9920809769323999, 0.9920809769323999, 0.9920809769323999, 0.9920809769323999, 0.9920809769323999, 0.9920809769323999]}], \"balanced_accuracy\": [{\"categories\": [\"0\", \"1\", \"2\", \"3\", \"4\", \"5\", \"6\", \"7\", \"8\", \"9\", \"10\", \"11\", \"12\", \"13\", \"14\", \"15\", \"16\", \"17\", \"18\", \"19\", \"20\", \"21\", \"22\", \"23\", \"24\", \"25\", \"26\", \"27\", \"28\", \"29\", \"30\", \"31\", \"32\", \"33\", \"36\", \"37\"], \"mode\": \"markers\", \"name\": \"balanced_accuracy\", \"stepped\": false, \"type\": \"scatter\", \"data\": [0.947950156695511, 0.9446312103663509, 0.85104555354024, 0.8068053089900321, 0.6745216360030964, 0.5838720479079349, 0.560773299642142, 0.8889833970275226, 0.8719184764466336, 0.8496175237261577, 0.8940918409832199, 0.9422002523719719, 0.859254057205651, 0.9004368494517617, 0.8160226827771583, 0.8428071585784206, 0.8843312376152479, 0.795170609876125, 0.8075465396049845, 0.8577222373198626, 0.8621745459821488, 0.8624629238489302, 0.8601423710055401, 0.7908599825091797, 0.8561583176847684, 0.7800627487189814, 0.8393953538906711, 0.8930728699466571, 0.8305735752854467, 0.8641140438281827, 0.5, 0.9301621120660525, 0.8663440758777016, 0.8975251148099473, 0.9543367855663729, 0.9529271302476929]}, {\"categories\": [\"0\", \"1\", \"2\", \"3\", \"4\", \"5\", \"6\", \"7\", \"8\", \"9\", \"10\", \"11\", \"12\", \"13\", \"14\", \"15\", \"16\", \"17\", \"18\", \"19\", \"20\", \"21\", \"22\", \"23\", \"24\", \"25\", \"26\", \"27\", \"28\", \"29\", \"30\", \"31\", \"32\", \"33\", \"36\", \"37\"], \"mode\": \"lines\", \"name\": \"balanced_accuracy_max\", \"stepped\": true, \"type\": \"scatter\", \"data\": [0.947950156695511, 0.947950156695511, 0.947950156695511, 0.947950156695511, 0.947950156695511, 0.947950156695511, 0.947950156695511, 0.947950156695511, 0.947950156695511, 0.947950156695511, 0.947950156695511, 0.947950156695511, 0.947950156695511, 0.947950156695511, 0.947950156695511, 0.947950156695511, 0.947950156695511, 0.947950156695511, 0.947950156695511, 0.947950156695511, 0.947950156695511, 0.947950156695511, 0.947950156695511, 0.947950156695511, 0.947950156695511, 0.947950156695511, 0.947950156695511, 0.947950156695511, 0.947950156695511, 0.947950156695511, 0.947950156695511, 0.947950156695511, 0.947950156695511, 0.947950156695511, 0.9543367855663729, 0.9543367855663729]}], \"average_precision_score_micro\": [{\"categories\": [\"0\", \"1\", \"2\", \"3\", \"4\", \"5\", \"6\", \"7\", \"8\", \"9\", \"10\", \"11\", \"12\", \"13\", \"14\", \"15\", \"16\", \"17\", \"18\", \"19\", \"20\", \"21\", \"22\", \"23\", \"24\", \"25\", \"26\", \"27\", \"28\", \"29\", \"30\", \"31\", \"32\", \"33\", \"36\", \"37\"], \"mode\": \"markers\", \"name\": \"average_precision_score_micro\", \"stepped\": false, \"type\": \"scatter\", \"data\": [0.9890510907741948, 0.9887648560971182, 0.9177181743706898, 0.8953534966199651, 0.7975560585163494, 0.7403735945139839, 0.7510555292439886, 0.9616980847131177, 0.9471637527959852, 0.9295319714093857, 0.9636491456735846, 0.9861921282256306, 0.9401445646692211, 0.9617520421134432, 0.9088114439057907, 0.9314191414617116, 0.9512802704434608, 0.8874150651846939, 0.8942507192440162, 0.928981513053655, 0.9389693324463683, 0.9395017958129462, 0.9371222353697782, 0.8757272683442124, 0.937700214189405, 0.8741862872520301, 0.922082290862139, 0.9655090763770247, 0.915657952436581, 0.9437979918253306, 0.7353563816423936, 0.9802779910135521, 0.9437853270217031, 0.9617792013369857, 0.9882800122434903, 0.9899292891456358]}, {\"categories\": [\"0\", \"1\", \"2\", \"3\", \"4\", \"5\", \"6\", \"7\", \"8\", \"9\", \"10\", \"11\", \"12\", \"13\", \"14\", \"15\", \"16\", \"17\", \"18\", \"19\", \"20\", \"21\", \"22\", \"23\", \"24\", \"25\", \"26\", \"27\", \"28\", \"29\", \"30\", \"31\", \"32\", \"33\", \"36\", \"37\"], \"mode\": \"lines\", \"name\": \"average_precision_score_micro_max\", \"stepped\": true, \"type\": \"scatter\", \"data\": [0.9890510907741948, 0.9890510907741948, 0.9890510907741948, 0.9890510907741948, 0.9890510907741948, 0.9890510907741948, 0.9890510907741948, 0.9890510907741948, 0.9890510907741948, 0.9890510907741948, 0.9890510907741948, 0.9890510907741948, 0.9890510907741948, 0.9890510907741948, 0.9890510907741948, 0.9890510907741948, 0.9890510907741948, 0.9890510907741948, 0.9890510907741948, 0.9890510907741948, 0.9890510907741948, 0.9890510907741948, 0.9890510907741948, 0.9890510907741948, 0.9890510907741948, 0.9890510907741948, 0.9890510907741948, 0.9890510907741948, 0.9890510907741948, 0.9890510907741948, 0.9890510907741948, 0.9890510907741948, 0.9890510907741948, 0.9890510907741948, 0.9890510907741948, 0.9899292891456358]}], \"weighted_accuracy\": [{\"categories\": [\"0\", \"1\", \"2\", \"3\", \"4\", \"5\", \"6\", \"7\", \"8\", \"9\", \"10\", \"11\", \"12\", \"13\", \"14\", \"15\", \"16\", \"17\", \"18\", \"19\", \"20\", \"21\", \"22\", \"23\", \"24\", \"25\", \"26\", \"27\", \"28\", \"29\", \"30\", \"31\", \"32\", \"33\", \"36\", \"37\"], \"mode\": \"markers\", \"name\": \"weighted_accuracy\", \"stepped\": false, \"type\": \"scatter\", \"data\": [0.9748911194340062, 0.9464758669738486, 0.8546561487313372, 0.8146951678868831, 0.37960223906625257, 0.19892851527694388, 0.15259159916111117, 0.9360841941587323, 0.9266930020359817, 0.8853006004935681, 0.9473529136164278, 0.949571796041336, 0.8855284774411035, 0.9029671288692667, 0.8458090055052135, 0.8810118624403103, 0.8807637508033684, 0.7797824429506924, 0.7996917330884942, 0.8765703738340053, 0.8726170962322196, 0.8726334517841727, 0.8703950481060305, 0.8038745499451165, 0.8832661260453311, 0.7922728456716053, 0.8387561266786472, 0.9575690140502847, 0.8284005199469763, 0.9289601436708604, 0.34272689844097964, 0.9177876703212641, 0.8850048875789506, 0.8856246641274635, 0.9530598172388586, 0.9594005791832755]}, {\"categories\": [\"0\", \"1\", \"2\", \"3\", \"4\", \"5\", \"6\", \"7\", \"8\", \"9\", \"10\", \"11\", \"12\", \"13\", \"14\", \"15\", \"16\", \"17\", \"18\", \"19\", \"20\", \"21\", \"22\", \"23\", \"24\", \"25\", \"26\", \"27\", \"28\", \"29\", \"30\", \"31\", \"32\", \"33\", \"36\", \"37\"], \"mode\": \"lines\", \"name\": \"weighted_accuracy_max\", \"stepped\": true, \"type\": \"scatter\", \"data\": [0.9748911194340062, 0.9748911194340062, 0.9748911194340062, 0.9748911194340062, 0.9748911194340062, 0.9748911194340062, 0.9748911194340062, 0.9748911194340062, 0.9748911194340062, 0.9748911194340062, 0.9748911194340062, 0.9748911194340062, 0.9748911194340062, 0.9748911194340062, 0.9748911194340062, 0.9748911194340062, 0.9748911194340062, 0.9748911194340062, 0.9748911194340062, 0.9748911194340062, 0.9748911194340062, 0.9748911194340062, 0.9748911194340062, 0.9748911194340062, 0.9748911194340062, 0.9748911194340062, 0.9748911194340062, 0.9748911194340062, 0.9748911194340062, 0.9748911194340062, 0.9748911194340062, 0.9748911194340062, 0.9748911194340062, 0.9748911194340062, 0.9748911194340062, 0.9748911194340062]}], \"f1_score_macro\": [{\"categories\": [\"0\", \"1\", \"2\", \"3\", \"4\", \"5\", \"6\", \"7\", \"8\", \"9\", \"10\", \"11\", \"12\", \"13\", \"14\", \"15\", \"16\", \"17\", \"18\", \"19\", \"20\", \"21\", \"22\", \"23\", \"24\", \"25\", \"26\", \"27\", \"28\", \"29\", \"30\", \"31\", \"32\", \"33\", \"36\", \"37\"], \"mode\": \"markers\", \"name\": \"f1_score_macro\", \"stepped\": false, \"type\": \"scatter\", \"data\": [0.9478520970209026, 0.9446346270126739, 0.8506466571934307, 0.8068802787228373, 0.6371571136859342, 0.49250877000014315, 0.4547469955417283, 0.8886389039331051, 0.8714077159087977, 0.8493456225324927, 0.8936131923305677, 0.9421309152844005, 0.8591040062545794, 0.9002815105281164, 0.8156402898563258, 0.8425539733024698, 0.8842342796254128, 0.7950791249465751, 0.8074989575742632, 0.8574920960648541, 0.8619893327952531, 0.8622995904007512, 0.8599589379837257, 0.7908782824657067, 0.8560281403783799, 0.7797378726179579, 0.8393866096982306, 0.8924859708021687, 0.8304836684705696, 0.8632848949526201, 0.3294479338711996, 0.9300674405964976, 0.8663455878523294, 0.89741614175625, 0.9542898072118203, 0.9528647608166526]}, {\"categories\": [\"0\", \"1\", \"2\", \"3\", \"4\", \"5\", \"6\", \"7\", \"8\", \"9\", \"10\", \"11\", \"12\", \"13\", \"14\", \"15\", \"16\", \"17\", \"18\", \"19\", \"20\", \"21\", \"22\", \"23\", \"24\", \"25\", \"26\", \"27\", \"28\", \"29\", \"30\", \"31\", \"32\", \"33\", \"36\", \"37\"], \"mode\": \"lines\", \"name\": \"f1_score_macro_max\", \"stepped\": true, \"type\": \"scatter\", \"data\": [0.9478520970209026, 0.9478520970209026, 0.9478520970209026, 0.9478520970209026, 0.9478520970209026, 0.9478520970209026, 0.9478520970209026, 0.9478520970209026, 0.9478520970209026, 0.9478520970209026, 0.9478520970209026, 0.9478520970209026, 0.9478520970209026, 0.9478520970209026, 0.9478520970209026, 0.9478520970209026, 0.9478520970209026, 0.9478520970209026, 0.9478520970209026, 0.9478520970209026, 0.9478520970209026, 0.9478520970209026, 0.9478520970209026, 0.9478520970209026, 0.9478520970209026, 0.9478520970209026, 0.9478520970209026, 0.9478520970209026, 0.9478520970209026, 0.9478520970209026, 0.9478520970209026, 0.9478520970209026, 0.9478520970209026, 0.9478520970209026, 0.9542898072118203, 0.9542898072118203]}], \"precision_score_weighted\": [{\"categories\": [\"0\", \"1\", \"2\", \"3\", \"4\", \"5\", \"6\", \"7\", \"8\", \"9\", \"10\", \"11\", \"12\", \"13\", \"14\", \"15\", \"16\", \"17\", \"18\", \"19\", \"20\", \"21\", \"22\", \"23\", \"24\", \"25\", \"26\", \"27\", \"28\", \"29\", \"30\", \"31\", \"32\", \"33\", \"36\", \"37\"], \"mode\": \"markers\", \"name\": \"precision_score_weighted\", \"stepped\": false, \"type\": \"scatter\", \"data\": [0.9494541136015574, 0.944668060325344, 0.8518245545111857, 0.8075466031157242, 0.7929442854758791, 0.7693619949421175, 0.7664111409661684, 0.893046910068762, 0.8772036676189923, 0.8517688102166822, 0.8994118065421804, 0.94229563236342, 0.8604372264821061, 0.9007034224039973, 0.8182904293872689, 0.8452236630358283, 0.8844557286292706, 0.795619356177748, 0.8077149353433536, 0.8584209315704534, 0.8625790076252421, 0.862855286286634, 0.8604948173677393, 0.7913017833419453, 0.8574503121079319, 0.7805511096264431, 0.8394629772653627, 0.9008081595430605, 0.8307210315323842, 0.871447460460054, 0.24141293319106027, 0.9305463649750999, 0.8671774216539309, 0.8979370971556616, 0.9543257642078454, 0.9529968016746686]}, {\"categories\": [\"0\", \"1\", \"2\", \"3\", \"4\", \"5\", \"6\", \"7\", \"8\", \"9\", \"10\", \"11\", \"12\", \"13\", \"14\", \"15\", \"16\", \"17\", \"18\", \"19\", \"20\", \"21\", \"22\", \"23\", \"24\", \"25\", \"26\", \"27\", \"28\", \"29\", \"30\", \"31\", \"32\", \"33\", \"36\", \"37\"], \"mode\": \"lines\", \"name\": \"precision_score_weighted_max\", \"stepped\": true, \"type\": \"scatter\", \"data\": [0.9494541136015574, 0.9494541136015574, 0.9494541136015574, 0.9494541136015574, 0.9494541136015574, 0.9494541136015574, 0.9494541136015574, 0.9494541136015574, 0.9494541136015574, 0.9494541136015574, 0.9494541136015574, 0.9494541136015574, 0.9494541136015574, 0.9494541136015574, 0.9494541136015574, 0.9494541136015574, 0.9494541136015574, 0.9494541136015574, 0.9494541136015574, 0.9494541136015574, 0.9494541136015574, 0.9494541136015574, 0.9494541136015574, 0.9494541136015574, 0.9494541136015574, 0.9494541136015574, 0.9494541136015574, 0.9494541136015574, 0.9494541136015574, 0.9494541136015574, 0.9494541136015574, 0.9494541136015574, 0.9494541136015574, 0.9494541136015574, 0.9543257642078454, 0.9543257642078454]}], \"AUC_micro\": [{\"categories\": [\"0\", \"1\", \"2\", \"3\", \"4\", \"5\", \"6\", \"7\", \"8\", \"9\", \"10\", \"11\", \"12\", \"13\", \"14\", \"15\", \"16\", \"17\", \"18\", \"19\", \"20\", \"21\", \"22\", \"23\", \"24\", \"25\", \"26\", \"27\", \"28\", \"29\", \"30\", \"31\", \"32\", \"33\", \"36\", \"37\"], \"mode\": \"markers\", \"name\": \"AUC_micro\", \"stepped\": false, \"type\": \"scatter\", \"data\": [0.989002953959909, 0.9885242900245732, 0.9201089063478798, 0.8950424988450417, 0.7836552791100037, 0.7138496647801326, 0.7174604731522268, 0.9605465104603482, 0.946480212720294, 0.9298249293370181, 0.9625144767299932, 0.9859957874398045, 0.9387472117316672, 0.961895205841217, 0.9125598153358294, 0.9294812788624714, 0.9514354278907508, 0.885921224307416, 0.8933525100452457, 0.9301707594433376, 0.9385867202844057, 0.9390705976787345, 0.9367437305300857, 0.8749832656491742, 0.9364793962301045, 0.8734152243194262, 0.9208326552206382, 0.9642475108725996, 0.914183661981204, 0.9422289152876194, 0.6976901128410665, 0.9798457362503, 0.9426336187739621, 0.9611788155436187, 0.9886691945930389, 0.9903044395808566]}, {\"categories\": [\"0\", \"1\", \"2\", \"3\", \"4\", \"5\", \"6\", \"7\", \"8\", \"9\", \"10\", \"11\", \"12\", \"13\", \"14\", \"15\", \"16\", \"17\", \"18\", \"19\", \"20\", \"21\", \"22\", \"23\", \"24\", \"25\", \"26\", \"27\", \"28\", \"29\", \"30\", \"31\", \"32\", \"33\", \"36\", \"37\"], \"mode\": \"lines\", \"name\": \"AUC_micro_max\", \"stepped\": true, \"type\": \"scatter\", \"data\": [0.989002953959909, 0.989002953959909, 0.989002953959909, 0.989002953959909, 0.989002953959909, 0.989002953959909, 0.989002953959909, 0.989002953959909, 0.989002953959909, 0.989002953959909, 0.989002953959909, 0.989002953959909, 0.989002953959909, 0.989002953959909, 0.989002953959909, 0.989002953959909, 0.989002953959909, 0.989002953959909, 0.989002953959909, 0.989002953959909, 0.989002953959909, 0.989002953959909, 0.989002953959909, 0.989002953959909, 0.989002953959909, 0.989002953959909, 0.989002953959909, 0.989002953959909, 0.989002953959909, 0.989002953959909, 0.989002953959909, 0.989002953959909, 0.989002953959909, 0.989002953959909, 0.989002953959909, 0.9903044395808566]}], \"matthews_correlation\": [{\"categories\": [\"0\", \"1\", \"2\", \"3\", \"4\", \"5\", \"6\", \"7\", \"8\", \"9\", \"10\", \"11\", \"12\", \"13\", \"14\", \"15\", \"16\", \"17\", \"18\", \"19\", \"20\", \"21\", \"22\", \"23\", \"24\", \"25\", \"26\", \"27\", \"28\", \"29\", \"30\", \"31\", \"32\", \"33\", \"36\", \"37\"], \"mode\": \"markers\", \"name\": \"matthews_correlation\", \"stepped\": false, \"type\": \"scatter\", \"data\": [0.8973308918815056, 0.8892837718172036, 0.7025208317031226, 0.6144348156500019, 0.45144273473157215, 0.28811154545900874, 0.251673061291611, 0.7819253906870743, 0.7490098865483735, 0.7012916827231593, 0.7933336426708916, 0.8844092826450813, 0.7196078172845315, 0.800971104422909, 0.6341819635136815, 0.6879926932970881, 0.7686603122978372, 0.5906923930130538, 0.6151638938489765, 0.7159393447792625, 0.7245667756867502, 0.7251504289450988, 0.7204468200270768, 0.5821601155342587, 0.7135582006832265, 0.5603248973226619, 0.6787922391580441, 0.7937393423139888, 0.6611630533867133, 0.7353358171934176, 0.0, 0.8606065951276219, 0.7335474746306989, 0.7953448553806082, 0.9085993544995487, 0.905847225853886]}, {\"categories\": [\"0\", \"1\", \"2\", \"3\", \"4\", \"5\", \"6\", \"7\", \"8\", \"9\", \"10\", \"11\", \"12\", \"13\", \"14\", \"15\", \"16\", \"17\", \"18\", \"19\", \"20\", \"21\", \"22\", \"23\", \"24\", \"25\", \"26\", \"27\", \"28\", \"29\", \"30\", \"31\", \"32\", \"33\", \"36\", \"37\"], \"mode\": \"lines\", \"name\": \"matthews_correlation_max\", \"stepped\": true, \"type\": \"scatter\", \"data\": [0.8973308918815056, 0.8973308918815056, 0.8973308918815056, 0.8973308918815056, 0.8973308918815056, 0.8973308918815056, 0.8973308918815056, 0.8973308918815056, 0.8973308918815056, 0.8973308918815056, 0.8973308918815056, 0.8973308918815056, 0.8973308918815056, 0.8973308918815056, 0.8973308918815056, 0.8973308918815056, 0.8973308918815056, 0.8973308918815056, 0.8973308918815056, 0.8973308918815056, 0.8973308918815056, 0.8973308918815056, 0.8973308918815056, 0.8973308918815056, 0.8973308918815056, 0.8973308918815056, 0.8973308918815056, 0.8973308918815056, 0.8973308918815056, 0.8973308918815056, 0.8973308918815056, 0.8973308918815056, 0.8973308918815056, 0.8973308918815056, 0.9085993544995487, 0.9085993544995487]}], \"precision_score_micro\": [{\"categories\": [\"0\", \"1\", \"2\", \"3\", \"4\", \"5\", \"6\", \"7\", \"8\", \"9\", \"10\", \"11\", \"12\", \"13\", \"14\", \"15\", \"16\", \"17\", \"18\", \"19\", \"20\", \"21\", \"22\", \"23\", \"24\", \"25\", \"26\", \"27\", \"28\", \"29\", \"30\", \"31\", \"32\", \"33\", \"36\", \"37\"], \"mode\": \"markers\", \"name\": \"precision_score_micro\", \"stepped\": false, \"type\": \"scatter\", \"data\": [0.9479096064885618, 0.9446551507943376, 0.8506884919785186, 0.8071287370664094, 0.674596839047139, 0.5839063997818303, 0.5604549242646827, 0.8889610248529713, 0.8719158414469907, 0.8496242038202301, 0.8939837953805151, 0.9421490372277371, 0.8592591267968234, 0.9003100127875908, 0.8159780379607415, 0.8429069856290163, 0.8842634594782189, 0.7952041904073907, 0.8075684312194514, 0.8575643933661038, 0.8620387961688682, 0.8623530937399798, 0.8600020283830606, 0.7910658939708356, 0.8562189251057285, 0.7797772323783616, 0.8394444249546211, 0.8930304340496082, 0.8305316774441126, 0.8639801213568488, 0.49132017179377446, 0.9300962222514043, 0.8664983469296049, 0.8974612483542003, 0.954302148006279, 0.9528791248180887]}, {\"categories\": [\"0\", \"1\", \"2\", \"3\", \"4\", \"5\", \"6\", \"7\", \"8\", \"9\", \"10\", \"11\", \"12\", \"13\", \"14\", \"15\", \"16\", \"17\", \"18\", \"19\", \"20\", \"21\", \"22\", \"23\", \"24\", \"25\", \"26\", \"27\", \"28\", \"29\", \"30\", \"31\", \"32\", \"33\", \"36\", \"37\"], \"mode\": \"lines\", \"name\": \"precision_score_micro_max\", \"stepped\": true, \"type\": \"scatter\", \"data\": [0.9479096064885618, 0.9479096064885618, 0.9479096064885618, 0.9479096064885618, 0.9479096064885618, 0.9479096064885618, 0.9479096064885618, 0.9479096064885618, 0.9479096064885618, 0.9479096064885618, 0.9479096064885618, 0.9479096064885618, 0.9479096064885618, 0.9479096064885618, 0.9479096064885618, 0.9479096064885618, 0.9479096064885618, 0.9479096064885618, 0.9479096064885618, 0.9479096064885618, 0.9479096064885618, 0.9479096064885618, 0.9479096064885618, 0.9479096064885618, 0.9479096064885618, 0.9479096064885618, 0.9479096064885618, 0.9479096064885618, 0.9479096064885618, 0.9479096064885618, 0.9479096064885618, 0.9479096064885618, 0.9479096064885618, 0.9479096064885618, 0.954302148006279, 0.954302148006279]}], \"f1_score_micro\": [{\"categories\": [\"0\", \"1\", \"2\", \"3\", \"4\", \"5\", \"6\", \"7\", \"8\", \"9\", \"10\", \"11\", \"12\", \"13\", \"14\", \"15\", \"16\", \"17\", \"18\", \"19\", \"20\", \"21\", \"22\", \"23\", \"24\", \"25\", \"26\", \"27\", \"28\", \"29\", \"30\", \"31\", \"32\", \"33\", \"36\", \"37\"], \"mode\": \"markers\", \"name\": \"f1_score_micro\", \"stepped\": false, \"type\": \"scatter\", \"data\": [0.9479096064885608, 0.9446551507943376, 0.8506884919785186, 0.8071287370664093, 0.6745968390471374, 0.5839063997818248, 0.560454924264676, 0.8889610248529697, 0.8719158414469893, 0.8496242038202292, 0.8939837953805133, 0.942149037227737, 0.8592591267968227, 0.900310012787591, 0.8159780379607406, 0.8429069856290154, 0.8842634594782192, 0.7952041904073912, 0.807568431219452, 0.8575643933661032, 0.8620387961688678, 0.8623530937399794, 0.8600020283830602, 0.7910658939708354, 0.8562189251057278, 0.7797772323783616, 0.8394444249546212, 0.8930304340496059, 0.8305316774441129, 0.8639801213568465, 0.49132017179376625, 0.930096222251405, 0.8664983469296043, 0.8974612483542007, 0.9543021480062791, 0.9528791248180886]}, {\"categories\": [\"0\", \"1\", \"2\", \"3\", \"4\", \"5\", \"6\", \"7\", \"8\", \"9\", \"10\", \"11\", \"12\", \"13\", \"14\", \"15\", \"16\", \"17\", \"18\", \"19\", \"20\", \"21\", \"22\", \"23\", \"24\", \"25\", \"26\", \"27\", \"28\", \"29\", \"30\", \"31\", \"32\", \"33\", \"36\", \"37\"], \"mode\": \"lines\", \"name\": \"f1_score_micro_max\", \"stepped\": true, \"type\": \"scatter\", \"data\": [0.9479096064885608, 0.9479096064885608, 0.9479096064885608, 0.9479096064885608, 0.9479096064885608, 0.9479096064885608, 0.9479096064885608, 0.9479096064885608, 0.9479096064885608, 0.9479096064885608, 0.9479096064885608, 0.9479096064885608, 0.9479096064885608, 0.9479096064885608, 0.9479096064885608, 0.9479096064885608, 0.9479096064885608, 0.9479096064885608, 0.9479096064885608, 0.9479096064885608, 0.9479096064885608, 0.9479096064885608, 0.9479096064885608, 0.9479096064885608, 0.9479096064885608, 0.9479096064885608, 0.9479096064885608, 0.9479096064885608, 0.9479096064885608, 0.9479096064885608, 0.9479096064885608, 0.9479096064885608, 0.9479096064885608, 0.9479096064885608, 0.9543021480062791, 0.9543021480062791]}], \"recall_score_micro\": [{\"categories\": [\"0\", \"1\", \"2\", \"3\", \"4\", \"5\", \"6\", \"7\", \"8\", \"9\", \"10\", \"11\", \"12\", \"13\", \"14\", \"15\", \"16\", \"17\", \"18\", \"19\", \"20\", \"21\", \"22\", \"23\", \"24\", \"25\", \"26\", \"27\", \"28\", \"29\", \"30\", \"31\", \"32\", \"33\", \"36\", \"37\"], \"mode\": \"markers\", \"name\": \"recall_score_micro\", \"stepped\": false, \"type\": \"scatter\", \"data\": [0.9479096064885595, 0.9446551507943375, 0.8506884919785187, 0.807128737066409, 0.674596839047136, 0.5839063997818194, 0.5604549242646694, 0.8889610248529681, 0.8719158414469875, 0.8496242038202282, 0.8939837953805112, 0.9421490372277369, 0.8592591267968223, 0.900310012787591, 0.8159780379607399, 0.8429069856290144, 0.8842634594782194, 0.7952041904073917, 0.8075684312194523, 0.8575643933661027, 0.8620387961688674, 0.8623530937399789, 0.8600020283830597, 0.7910658939708354, 0.8562189251057273, 0.7797772323783613, 0.8394444249546215, 0.8930304340496037, 0.830531677444113, 0.8639801213568443, 0.49132017179375803, 0.9300962222514055, 0.8664983469296038, 0.8974612483542012, 0.9543021480062793, 0.9528791248180885]}, {\"categories\": [\"0\", \"1\", \"2\", \"3\", \"4\", \"5\", \"6\", \"7\", \"8\", \"9\", \"10\", \"11\", \"12\", \"13\", \"14\", \"15\", \"16\", \"17\", \"18\", \"19\", \"20\", \"21\", \"22\", \"23\", \"24\", \"25\", \"26\", \"27\", \"28\", \"29\", \"30\", \"31\", \"32\", \"33\", \"36\", \"37\"], \"mode\": \"lines\", \"name\": \"recall_score_micro_max\", \"stepped\": true, \"type\": \"scatter\", \"data\": [0.9479096064885595, 0.9479096064885595, 0.9479096064885595, 0.9479096064885595, 0.9479096064885595, 0.9479096064885595, 0.9479096064885595, 0.9479096064885595, 0.9479096064885595, 0.9479096064885595, 0.9479096064885595, 0.9479096064885595, 0.9479096064885595, 0.9479096064885595, 0.9479096064885595, 0.9479096064885595, 0.9479096064885595, 0.9479096064885595, 0.9479096064885595, 0.9479096064885595, 0.9479096064885595, 0.9479096064885595, 0.9479096064885595, 0.9479096064885595, 0.9479096064885595, 0.9479096064885595, 0.9479096064885595, 0.9479096064885595, 0.9479096064885595, 0.9479096064885595, 0.9479096064885595, 0.9479096064885595, 0.9479096064885595, 0.9479096064885595, 0.9543021480062793, 0.9543021480062793]}], \"accuracy\": [{\"categories\": [\"0\", \"1\", \"2\", \"3\", \"4\", \"5\", \"6\", \"7\", \"8\", \"9\", \"10\", \"11\", \"12\", \"13\", \"14\", \"15\", \"16\", \"17\", \"18\", \"19\", \"20\", \"21\", \"22\", \"23\", \"24\", \"25\", \"26\", \"27\", \"28\", \"29\", \"30\", \"31\", \"32\", \"33\", \"36\", \"37\"], \"mode\": \"markers\", \"name\": \"accuracy\", \"stepped\": false, \"type\": \"scatter\", \"data\": [0.9479096064885585, 0.944655150794334, 0.850688491978509, 0.807128737066397, 0.6745968390471119, 0.5839063997817991, 0.5604549242646502, 0.888961024852965, 0.871915841446984, 0.8496242038202215, 0.8939837953805091, 0.9421490372277336, 0.8592591267968154, 0.9003100127875846, 0.8159780379607305, 0.8429069856290076, 0.8842634594782114, 0.7952041904073767, 0.807568431219439, 0.8575643933660949, 0.8620387961688593, 0.8623530937399707, 0.8600020283830515, 0.7910658939708227, 0.8562189251057201, 0.7797772323783478, 0.8394444249546108, 0.8930304340496025, 0.8305316774441017, 0.8639801213568412, 0.4913201717937521, 0.9300962222513998, 0.8664983469295967, 0.8974612483541934, 0.954302148006276, 0.9528791248180859]}, {\"categories\": [\"0\", \"1\", \"2\", \"3\", \"4\", \"5\", \"6\", \"7\", \"8\", \"9\", \"10\", \"11\", \"12\", \"13\", \"14\", \"15\", \"16\", \"17\", \"18\", \"19\", \"20\", \"21\", \"22\", \"23\", \"24\", \"25\", \"26\", \"27\", \"28\", \"29\", \"30\", \"31\", \"32\", \"33\", \"36\", \"37\"], \"mode\": \"lines\", \"name\": \"accuracy_max\", \"stepped\": true, \"type\": \"scatter\", \"data\": [0.9479096064885585, 0.9479096064885585, 0.9479096064885585, 0.9479096064885585, 0.9479096064885585, 0.9479096064885585, 0.9479096064885585, 0.9479096064885585, 0.9479096064885585, 0.9479096064885585, 0.9479096064885585, 0.9479096064885585, 0.9479096064885585, 0.9479096064885585, 0.9479096064885585, 0.9479096064885585, 0.9479096064885585, 0.9479096064885585, 0.9479096064885585, 0.9479096064885585, 0.9479096064885585, 0.9479096064885585, 0.9479096064885585, 0.9479096064885585, 0.9479096064885585, 0.9479096064885585, 0.9479096064885585, 0.9479096064885585, 0.9479096064885585, 0.9479096064885585, 0.9479096064885585, 0.9479096064885585, 0.9479096064885585, 0.9479096064885585, 0.954302148006276, 0.954302148006276]}], \"f1_score_weighted\": [{\"categories\": [\"0\", \"1\", \"2\", \"3\", \"4\", \"5\", \"6\", \"7\", \"8\", \"9\", \"10\", \"11\", \"12\", \"13\", \"14\", \"15\", \"16\", \"17\", \"18\", \"19\", \"20\", \"21\", \"22\", \"23\", \"24\", \"25\", \"26\", \"27\", \"28\", \"29\", \"30\", \"31\", \"32\", \"33\", \"36\", \"37\"], \"mode\": \"markers\", \"name\": \"f1_score_weighted\", \"stepped\": false, \"type\": \"scatter\", \"data\": [0.9478681101516188, 0.944654346883893, 0.850642539586744, 0.8070004225843297, 0.6373121370295886, 0.49264494197993863, 0.4544710462736652, 0.8886753823327721, 0.871453498808052, 0.8493948117459347, 0.8936350395291223, 0.9421486344146004, 0.8591479993418646, 0.9003026813681804, 0.8156812805241979, 0.842621268051559, 0.8842637275641626, 0.7951447088991171, 0.8075587143325423, 0.8575148965098961, 0.8620148203535294, 0.8623285307268503, 0.8599839467749054, 0.7909820471676613, 0.8560832362509597, 0.7797393142285031, 0.8394441937992615, 0.8925176912252452, 0.8305285062808503, 0.8633114507266533, 0.3237444758451388, 0.9300854167802052, 0.8664094852021552, 0.8974428361654344, 0.9543040900682865, 0.9528791321315285]}, {\"categories\": [\"0\", \"1\", \"2\", \"3\", \"4\", \"5\", \"6\", \"7\", \"8\", \"9\", \"10\", \"11\", \"12\", \"13\", \"14\", \"15\", \"16\", \"17\", \"18\", \"19\", \"20\", \"21\", \"22\", \"23\", \"24\", \"25\", \"26\", \"27\", \"28\", \"29\", \"30\", \"31\", \"32\", \"33\", \"36\", \"37\"], \"mode\": \"lines\", \"name\": \"f1_score_weighted_max\", \"stepped\": true, \"type\": \"scatter\", \"data\": [0.9478681101516188, 0.9478681101516188, 0.9478681101516188, 0.9478681101516188, 0.9478681101516188, 0.9478681101516188, 0.9478681101516188, 0.9478681101516188, 0.9478681101516188, 0.9478681101516188, 0.9478681101516188, 0.9478681101516188, 0.9478681101516188, 0.9478681101516188, 0.9478681101516188, 0.9478681101516188, 0.9478681101516188, 0.9478681101516188, 0.9478681101516188, 0.9478681101516188, 0.9478681101516188, 0.9478681101516188, 0.9478681101516188, 0.9478681101516188, 0.9478681101516188, 0.9478681101516188, 0.9478681101516188, 0.9478681101516188, 0.9478681101516188, 0.9478681101516188, 0.9478681101516188, 0.9478681101516188, 0.9478681101516188, 0.9478681101516188, 0.9543040900682865, 0.9543040900682865]}], \"AUC_weighted\": [{\"categories\": [\"0\", \"1\", \"2\", \"3\", \"4\", \"5\", \"6\", \"7\", \"8\", \"9\", \"10\", \"11\", \"12\", \"13\", \"14\", \"15\", \"16\", \"17\", \"18\", \"19\", \"20\", \"21\", \"22\", \"23\", \"24\", \"25\", \"26\", \"27\", \"28\", \"29\", \"30\", \"31\", \"32\", \"33\", \"36\", \"37\"], \"mode\": \"markers\", \"name\": \"AUC_weighted\", \"stepped\": false, \"type\": \"scatter\", \"data\": [0.9920236804696033, 0.9884895557147227, 0.9214410025657328, 0.8952949201074502, 0.9292336824692281, 0.8944488510203351, 0.9172133079531558, 0.9662869901347354, 0.9540252003061123, 0.9325497945660168, 0.970444910434113, 0.9866400679799554, 0.9406402772336427, 0.9619270166334893, 0.909961608292123, 0.931825807660649, 0.9514559347641948, 0.8858029865137107, 0.8927041460242361, 0.9311590249095335, 0.9389432187648286, 0.9394167885690573, 0.9371480306706292, 0.876186786107152, 0.9383584333242186, 0.8770577007958367, 0.9207530605433615, 0.9745332272506887, 0.9140496072692404, 0.9537159541159016, 0.9128931452584172, 0.9791691444658649, 0.943699064553042, 0.9611726261944065, 0.9893545703526149, 0.9912375903635806]}, {\"categories\": [\"0\", \"1\", \"2\", \"3\", \"4\", \"5\", \"6\", \"7\", \"8\", \"9\", \"10\", \"11\", \"12\", \"13\", \"14\", \"15\", \"16\", \"17\", \"18\", \"19\", \"20\", \"21\", \"22\", \"23\", \"24\", \"25\", \"26\", \"27\", \"28\", \"29\", \"30\", \"31\", \"32\", \"33\", \"36\", \"37\"], \"mode\": \"lines\", \"name\": \"AUC_weighted_max\", \"stepped\": true, \"type\": \"scatter\", \"data\": [0.9920236804696033, 0.9920236804696033, 0.9920236804696033, 0.9920236804696033, 0.9920236804696033, 0.9920236804696033, 0.9920236804696033, 0.9920236804696033, 0.9920236804696033, 0.9920236804696033, 0.9920236804696033, 0.9920236804696033, 0.9920236804696033, 0.9920236804696033, 0.9920236804696033, 0.9920236804696033, 0.9920236804696033, 0.9920236804696033, 0.9920236804696033, 0.9920236804696033, 0.9920236804696033, 0.9920236804696033, 0.9920236804696033, 0.9920236804696033, 0.9920236804696033, 0.9920236804696033, 0.9920236804696033, 0.9920236804696033, 0.9920236804696033, 0.9920236804696033, 0.9920236804696033, 0.9920236804696033, 0.9920236804696033, 0.9920236804696033, 0.9920236804696033, 0.9920236804696033]}], \"log_loss\": [{\"categories\": [\"0\", \"1\", \"2\", \"3\", \"4\", \"5\", \"6\", \"7\", \"8\", \"9\", \"10\", \"11\", \"12\", \"13\", \"14\", \"15\", \"16\", \"17\", \"18\", \"19\", \"20\", \"21\", \"22\", \"23\", \"24\", \"25\", \"26\", \"27\", \"28\", \"29\", \"30\", \"31\", \"32\", \"33\", \"36\", \"37\"], \"mode\": \"markers\", \"name\": \"log_loss\", \"stepped\": false, \"type\": \"scatter\", \"data\": [0.13473303667117886, 0.15584052492484923, 0.4114568172742932, 0.4499473715297185, 0.5564114485087748, 0.6731442305850649, 0.6626229273035512, 0.2592566158334626, 0.3137512275927604, 0.4397418103136923, 0.2493796490323349, 0.15078153067553002, 0.3509825662402782, 0.3212217720664293, 0.3794125686851237, 0.39486429285878893, 0.3289692656835468, 0.44547137283949917, 0.4858655093215736, 0.34865230243449413, 0.3162190074556805, 0.315134173714906, 0.32155871798266356, 0.4889232181794369, 0.3606085422854357, 0.6411583991224471, 0.3818523257195318, 0.24372663412228734, 0.39490787349769524, 0.32143479273075687, 0.6933466428905257, 0.2114763228658816, 0.31073302893188537, 0.26945519785207767, 0.287038761897838, 0.12578318891004311]}, {\"categories\": [\"0\", \"1\", \"2\", \"3\", \"4\", \"5\", \"6\", \"7\", \"8\", \"9\", \"10\", \"11\", \"12\", \"13\", \"14\", \"15\", \"16\", \"17\", \"18\", \"19\", \"20\", \"21\", \"22\", \"23\", \"24\", \"25\", \"26\", \"27\", \"28\", \"29\", \"30\", \"31\", \"32\", \"33\", \"36\", \"37\"], \"mode\": \"lines\", \"name\": \"log_loss_min\", \"stepped\": true, \"type\": \"scatter\", \"data\": [0.13473303667117886, 0.13473303667117886, 0.13473303667117886, 0.13473303667117886, 0.13473303667117886, 0.13473303667117886, 0.13473303667117886, 0.13473303667117886, 0.13473303667117886, 0.13473303667117886, 0.13473303667117886, 0.13473303667117886, 0.13473303667117886, 0.13473303667117886, 0.13473303667117886, 0.13473303667117886, 0.13473303667117886, 0.13473303667117886, 0.13473303667117886, 0.13473303667117886, 0.13473303667117886, 0.13473303667117886, 0.13473303667117886, 0.13473303667117886, 0.13473303667117886, 0.13473303667117886, 0.13473303667117886, 0.13473303667117886, 0.13473303667117886, 0.13473303667117886, 0.13473303667117886, 0.13473303667117886, 0.13473303667117886, 0.13473303667117886, 0.13473303667117886, 0.12578318891004311]}], \"AUC_macro\": [{\"categories\": [\"0\", \"1\", \"2\", \"3\", \"4\", \"5\", \"6\", \"7\", \"8\", \"9\", \"10\", \"11\", \"12\", \"13\", \"14\", \"15\", \"16\", \"17\", \"18\", \"19\", \"20\", \"21\", \"22\", \"23\", \"24\", \"25\", \"26\", \"27\", \"28\", \"29\", \"30\", \"31\", \"32\", \"33\", \"36\", \"37\"], \"mode\": \"markers\", \"name\": \"AUC_macro\", \"stepped\": false, \"type\": \"scatter\", \"data\": [0.9920236804696031, 0.988489555714723, 0.9214410025657328, 0.8952949201074502, 0.9292336824692281, 0.8944488510203351, 0.9172133079531558, 0.9662869901347356, 0.9540252003061123, 0.9325497945660168, 0.970444910434113, 0.9866400679799554, 0.9406402772336429, 0.9619270166334895, 0.9099616082921232, 0.931825807660649, 0.9514559347641947, 0.8858029865137107, 0.8927041460242361, 0.9311590249095335, 0.9389432187648286, 0.9394167885690573, 0.9371480306706291, 0.876186786107152, 0.9383584333242186, 0.8770577007958366, 0.9207530605433615, 0.9745332272506887, 0.9140496072692402, 0.9537159541159017, 0.9128931452584172, 0.9791691444658649, 0.943699064553042, 0.9611726261944065, 0.9893545703526149, 0.9912375903635806]}, {\"categories\": [\"0\", \"1\", \"2\", \"3\", \"4\", \"5\", \"6\", \"7\", \"8\", \"9\", \"10\", \"11\", \"12\", \"13\", \"14\", \"15\", \"16\", \"17\", \"18\", \"19\", \"20\", \"21\", \"22\", \"23\", \"24\", \"25\", \"26\", \"27\", \"28\", \"29\", \"30\", \"31\", \"32\", \"33\", \"36\", \"37\"], \"mode\": \"lines\", \"name\": \"AUC_macro_max\", \"stepped\": true, \"type\": \"scatter\", \"data\": [0.9920236804696031, 0.9920236804696031, 0.9920236804696031, 0.9920236804696031, 0.9920236804696031, 0.9920236804696031, 0.9920236804696031, 0.9920236804696031, 0.9920236804696031, 0.9920236804696031, 0.9920236804696031, 0.9920236804696031, 0.9920236804696031, 0.9920236804696031, 0.9920236804696031, 0.9920236804696031, 0.9920236804696031, 0.9920236804696031, 0.9920236804696031, 0.9920236804696031, 0.9920236804696031, 0.9920236804696031, 0.9920236804696031, 0.9920236804696031, 0.9920236804696031, 0.9920236804696031, 0.9920236804696031, 0.9920236804696031, 0.9920236804696031, 0.9920236804696031, 0.9920236804696031, 0.9920236804696031, 0.9920236804696031, 0.9920236804696031, 0.9920236804696031, 0.9920236804696031]}], \"precision_score_macro\": [{\"categories\": [\"0\", \"1\", \"2\", \"3\", \"4\", \"5\", \"6\", \"7\", \"8\", \"9\", \"10\", \"11\", \"12\", \"13\", \"14\", \"15\", \"16\", \"17\", \"18\", \"19\", \"20\", \"21\", \"22\", \"23\", \"24\", \"25\", \"26\", \"27\", \"28\", \"29\", \"30\", \"31\", \"32\", \"33\", \"36\", \"37\"], \"mode\": \"markers\", \"name\": \"precision_score_macro\", \"stepped\": false, \"type\": \"scatter\", \"data\": [0.9493821614027493, 0.9446525631639258, 0.8514754729079801, 0.8076302096383837, 0.7928808247781126, 0.7692079491161913, 0.7662024985908463, 0.8929530442274144, 0.8771117809598036, 0.8516781279913808, 0.8992595195093861, 0.9422090563782991, 0.8603548973088424, 0.9005343483830733, 0.818165736363795, 0.8451910513256286, 0.8843290780175375, 0.7955220093214569, 0.8076173827618729, 0.858217358969085, 0.8623924680612799, 0.862687772693902, 0.860304605066465, 0.7913004206080138, 0.8574016090354245, 0.7802622579983584, 0.8393968887567981, 0.9007040392727359, 0.8305894870468361, 0.8712577606337173, 0.24566008589688723, 0.9304445737958004, 0.8672044456476566, 0.8978198319324359, 0.9542625737563931, 0.9529201192113507]}, {\"categories\": [\"0\", \"1\", \"2\", \"3\", \"4\", \"5\", \"6\", \"7\", \"8\", \"9\", \"10\", \"11\", \"12\", \"13\", \"14\", \"15\", \"16\", \"17\", \"18\", \"19\", \"20\", \"21\", \"22\", \"23\", \"24\", \"25\", \"26\", \"27\", \"28\", \"29\", \"30\", \"31\", \"32\", \"33\", \"36\", \"37\"], \"mode\": \"lines\", \"name\": \"precision_score_macro_max\", \"stepped\": true, \"type\": \"scatter\", \"data\": [0.9493821614027493, 0.9493821614027493, 0.9493821614027493, 0.9493821614027493, 0.9493821614027493, 0.9493821614027493, 0.9493821614027493, 0.9493821614027493, 0.9493821614027493, 0.9493821614027493, 0.9493821614027493, 0.9493821614027493, 0.9493821614027493, 0.9493821614027493, 0.9493821614027493, 0.9493821614027493, 0.9493821614027493, 0.9493821614027493, 0.9493821614027493, 0.9493821614027493, 0.9493821614027493, 0.9493821614027493, 0.9493821614027493, 0.9493821614027493, 0.9493821614027493, 0.9493821614027493, 0.9493821614027493, 0.9493821614027493, 0.9493821614027493, 0.9493821614027493, 0.9493821614027493, 0.9493821614027493, 0.9493821614027493, 0.9493821614027493, 0.9542625737563931, 0.9542625737563931]}], \"norm_macro_recall\": [{\"categories\": [\"0\", \"1\", \"2\", \"3\", \"4\", \"5\", \"6\", \"7\", \"8\", \"9\", \"10\", \"11\", \"12\", \"13\", \"14\", \"15\", \"16\", \"17\", \"18\", \"19\", \"20\", \"21\", \"22\", \"23\", \"24\", \"25\", \"26\", \"27\", \"28\", \"29\", \"30\", \"31\", \"32\", \"33\", \"36\", \"37\"], \"mode\": \"markers\", \"name\": \"norm_macro_recall\", \"stepped\": false, \"type\": \"scatter\", \"data\": [0.8959003133910164, 0.8892624207326917, 0.7020911070804546, 0.6136106179800328, 0.34904327200616914, 0.1677440958158627, 0.12154659928428102, 0.7779667940550324, 0.7438369528932524, 0.6992350474522938, 0.7881836819664289, 0.8844005047439337, 0.7185081144112807, 0.8008736989035053, 0.6320453655542891, 0.6856143171568188, 0.7686624752304742, 0.5903412197522147, 0.6150930792099358, 0.7154444746397024, 0.7243490919642744, 0.7249258476978374, 0.720284742011057, 0.5817199650183263, 0.7123166353695147, 0.5601254974379284, 0.6787907077813143, 0.7861457398933048, 0.661147150570864, 0.7282280876563512, 0.0, 0.8603242241320895, 0.7326881517553817, 0.7950502296198741, 0.908673571132737, 0.9058542604953779]}, {\"categories\": [\"0\", \"1\", \"2\", \"3\", \"4\", \"5\", \"6\", \"7\", \"8\", \"9\", \"10\", \"11\", \"12\", \"13\", \"14\", \"15\", \"16\", \"17\", \"18\", \"19\", \"20\", \"21\", \"22\", \"23\", \"24\", \"25\", \"26\", \"27\", \"28\", \"29\", \"30\", \"31\", \"32\", \"33\", \"36\", \"37\"], \"mode\": \"lines\", \"name\": \"norm_macro_recall_max\", \"stepped\": true, \"type\": \"scatter\", \"data\": [0.8959003133910164, 0.8959003133910164, 0.8959003133910164, 0.8959003133910164, 0.8959003133910164, 0.8959003133910164, 0.8959003133910164, 0.8959003133910164, 0.8959003133910164, 0.8959003133910164, 0.8959003133910164, 0.8959003133910164, 0.8959003133910164, 0.8959003133910164, 0.8959003133910164, 0.8959003133910164, 0.8959003133910164, 0.8959003133910164, 0.8959003133910164, 0.8959003133910164, 0.8959003133910164, 0.8959003133910164, 0.8959003133910164, 0.8959003133910164, 0.8959003133910164, 0.8959003133910164, 0.8959003133910164, 0.8959003133910164, 0.8959003133910164, 0.8959003133910164, 0.8959003133910164, 0.8959003133910164, 0.8959003133910164, 0.8959003133910164, 0.908673571132737, 0.908673571132737]}], \"recall_score_weighted\": [{\"categories\": [\"0\", \"1\", \"2\", \"3\", \"4\", \"5\", \"6\", \"7\", \"8\", \"9\", \"10\", \"11\", \"12\", \"13\", \"14\", \"15\", \"16\", \"17\", \"18\", \"19\", \"20\", \"21\", \"22\", \"23\", \"24\", \"25\", \"26\", \"27\", \"28\", \"29\", \"30\", \"31\", \"32\", \"33\", \"36\", \"37\"], \"mode\": \"markers\", \"name\": \"recall_score_weighted\", \"stepped\": false, \"type\": \"scatter\", \"data\": [0.9479096064885595, 0.9446551507943375, 0.8506884919785187, 0.807128737066409, 0.674596839047136, 0.5839063997818194, 0.5604549242646694, 0.8889610248529681, 0.8719158414469875, 0.8496242038202282, 0.8939837953805112, 0.9421490372277369, 0.8592591267968223, 0.900310012787591, 0.8159780379607399, 0.8429069856290144, 0.8842634594782194, 0.7952041904073917, 0.8075684312194523, 0.8575643933661027, 0.8620387961688674, 0.8623530937399789, 0.8600020283830597, 0.7910658939708354, 0.8562189251057273, 0.7797772323783613, 0.8394444249546215, 0.8930304340496037, 0.830531677444113, 0.8639801213568443, 0.49132017179375803, 0.9300962222514055, 0.8664983469296038, 0.8974612483542012, 0.9543021480062793, 0.9528791248180885]}, {\"categories\": [\"0\", \"1\", \"2\", \"3\", \"4\", \"5\", \"6\", \"7\", \"8\", \"9\", \"10\", \"11\", \"12\", \"13\", \"14\", \"15\", \"16\", \"17\", \"18\", \"19\", \"20\", \"21\", \"22\", \"23\", \"24\", \"25\", \"26\", \"27\", \"28\", \"29\", \"30\", \"31\", \"32\", \"33\", \"36\", \"37\"], \"mode\": \"lines\", \"name\": \"recall_score_weighted_max\", \"stepped\": true, \"type\": \"scatter\", \"data\": [0.9479096064885595, 0.9479096064885595, 0.9479096064885595, 0.9479096064885595, 0.9479096064885595, 0.9479096064885595, 0.9479096064885595, 0.9479096064885595, 0.9479096064885595, 0.9479096064885595, 0.9479096064885595, 0.9479096064885595, 0.9479096064885595, 0.9479096064885595, 0.9479096064885595, 0.9479096064885595, 0.9479096064885595, 0.9479096064885595, 0.9479096064885595, 0.9479096064885595, 0.9479096064885595, 0.9479096064885595, 0.9479096064885595, 0.9479096064885595, 0.9479096064885595, 0.9479096064885595, 0.9479096064885595, 0.9479096064885595, 0.9479096064885595, 0.9479096064885595, 0.9479096064885595, 0.9479096064885595, 0.9479096064885595, 0.9479096064885595, 0.9543021480062793, 0.9543021480062793]}]}, \"metricName\": null, \"primaryMetricName\": \"accuracy\", \"showLegend\": false}, \"run_metrics\": [{\"name\": \"experiment_status\", \"run_id\": \"AutoML_85b87058-0aa7-4ef9-808a-bc495797b044\", \"categories\": [0, 1, 2, 3, 4, 5, 6], \"series\": [{\"data\": [\"DatasetEvaluation\", \"FeaturesGeneration\", \"DatasetFeaturization\", \"DatasetFeaturizationCompleted\", \"DatasetBalancing\", \"DatasetCrossValidationSplit\", \"ModelSelection\"]}]}, {\"name\": \"experiment_status_description\", \"run_id\": \"AutoML_85b87058-0aa7-4ef9-808a-bc495797b044\", \"categories\": [0, 1, 2, 3, 4, 5, 6], \"series\": [{\"data\": [\"Gathering dataset statistics.\", \"Generating features for the dataset.\", \"Beginning to fit featurizers and featurize the dataset.\", \"Completed fit featurizers and featurizing the dataset.\", \"Performing class balancing sweeping\", \"Generating individually featurized CV splits.\", \"Beginning model selection.\"]}]}, {\"name\": \"f1_score_macro\", \"run_id\": \"AutoML_85b87058-0aa7-4ef9-808a-bc495797b044\", \"categories\": [0], \"series\": [{\"data\": [0.9542898072118203]}]}, {\"name\": \"AUC_weighted\", \"run_id\": \"AutoML_85b87058-0aa7-4ef9-808a-bc495797b044\", \"categories\": [0], \"series\": [{\"data\": [0.9893545703526149]}]}, {\"name\": \"average_precision_score_micro\", \"run_id\": \"AutoML_85b87058-0aa7-4ef9-808a-bc495797b044\", \"categories\": [0], \"series\": [{\"data\": [0.9882800122434903]}]}, {\"name\": \"f1_score_micro\", \"run_id\": \"AutoML_85b87058-0aa7-4ef9-808a-bc495797b044\", \"categories\": [0], \"series\": [{\"data\": [0.9543021480062791]}]}, {\"name\": \"recall_score_micro\", \"run_id\": \"AutoML_85b87058-0aa7-4ef9-808a-bc495797b044\", \"categories\": [0], \"series\": [{\"data\": [0.9543021480062793]}]}, {\"name\": \"norm_macro_recall\", \"run_id\": \"AutoML_85b87058-0aa7-4ef9-808a-bc495797b044\", \"categories\": [0], \"series\": [{\"data\": [0.908673571132737]}]}, {\"name\": \"accuracy\", \"run_id\": \"AutoML_85b87058-0aa7-4ef9-808a-bc495797b044\", \"categories\": [0], \"series\": [{\"data\": [0.954302148006276]}]}, {\"name\": \"precision_score_micro\", \"run_id\": \"AutoML_85b87058-0aa7-4ef9-808a-bc495797b044\", \"categories\": [0], \"series\": [{\"data\": [0.954302148006279]}]}, {\"name\": \"log_loss\", \"run_id\": \"AutoML_85b87058-0aa7-4ef9-808a-bc495797b044\", \"categories\": [0], \"series\": [{\"data\": [0.287038761897838]}]}, {\"name\": \"f1_score_weighted\", \"run_id\": \"AutoML_85b87058-0aa7-4ef9-808a-bc495797b044\", \"categories\": [0], \"series\": [{\"data\": [0.9543040900682865]}]}, {\"name\": \"precision_score_macro\", \"run_id\": \"AutoML_85b87058-0aa7-4ef9-808a-bc495797b044\", \"categories\": [0], \"series\": [{\"data\": [0.9542625737563931]}]}, {\"name\": \"weighted_accuracy\", \"run_id\": \"AutoML_85b87058-0aa7-4ef9-808a-bc495797b044\", \"categories\": [0], \"series\": [{\"data\": [0.9530598172388586]}]}, {\"name\": \"AUC_macro\", \"run_id\": \"AutoML_85b87058-0aa7-4ef9-808a-bc495797b044\", \"categories\": [0], \"series\": [{\"data\": [0.9893545703526149]}]}, {\"name\": \"average_precision_score_macro\", \"run_id\": \"AutoML_85b87058-0aa7-4ef9-808a-bc495797b044\", \"categories\": [0], \"series\": [{\"data\": [0.9892941648274846]}]}, {\"name\": \"AUC_micro\", \"run_id\": \"AutoML_85b87058-0aa7-4ef9-808a-bc495797b044\", \"categories\": [0], \"series\": [{\"data\": [0.9886691945930389]}]}, {\"name\": \"precision_score_weighted\", \"run_id\": \"AutoML_85b87058-0aa7-4ef9-808a-bc495797b044\", \"categories\": [0], \"series\": [{\"data\": [0.9543257642078454]}]}, {\"name\": \"recall_score_macro\", \"run_id\": \"AutoML_85b87058-0aa7-4ef9-808a-bc495797b044\", \"categories\": [0], \"series\": [{\"data\": [0.9543367855663729]}]}, {\"name\": \"balanced_accuracy\", \"run_id\": \"AutoML_85b87058-0aa7-4ef9-808a-bc495797b044\", \"categories\": [0], \"series\": [{\"data\": [0.9543367855663729]}]}, {\"name\": \"average_precision_score_weighted\", \"run_id\": \"AutoML_85b87058-0aa7-4ef9-808a-bc495797b044\", \"categories\": [0], \"series\": [{\"data\": [0.9893117499450693]}]}, {\"name\": \"matthews_correlation\", \"run_id\": \"AutoML_85b87058-0aa7-4ef9-808a-bc495797b044\", \"categories\": [0], \"series\": [{\"data\": [0.9085993544995487]}]}, {\"name\": \"recall_score_weighted\", \"run_id\": \"AutoML_85b87058-0aa7-4ef9-808a-bc495797b044\", \"categories\": [0], \"series\": [{\"data\": [0.9543021480062793]}]}], \"run_logs\": \"\\nRun is completed.\", \"graph\": {}, \"widget_settings\": {\"childWidgetDisplay\": \"popup\", \"send_telemetry\": false, \"log_level\": \"INFO\", \"sdk_version\": \"1.21.0\"}, \"loading\": false}"
          },
          "metadata": {}
        },
        {
          "output_type": "stream",
          "name": "stdout",
          "text": [
            "\n",
            "\n",
            "****************************************************************************************************\n",
            "DATA GUARDRAILS: \n",
            "\n",
            "TYPE:         Class balancing detection\n",
            "STATUS:       ALERTED\n",
            "DESCRIPTION:  To decrease model bias, please cancel the current run and fix balancing problem.\n",
            "              Learn more about imbalanced data: https://aka.ms/AutomatedMLImbalancedData\n",
            "DETAILS:      Imbalanced data can lead to a falsely perceived positive effect of a model's accuracy because the input data has bias towards one class.\n",
            "+---------------------------------+---------------------------------+--------------------------------------+\n",
            "|Size of the smallest class       |Name/Label of the smallest class |Number of samples in the training data|\n",
            "+=================================+=================================+======================================+\n",
            "|1627                             |1                                |10127                                 |\n",
            "+---------------------------------+---------------------------------+--------------------------------------+\n",
            "\n",
            "****************************************************************************************************\n",
            "\n",
            "TYPE:         Missing feature values imputation\n",
            "STATUS:       PASSED\n",
            "DESCRIPTION:  No feature missing values were detected in the training data.\n",
            "              Learn more about missing value imputation: https://aka.ms/AutomatedMLFeaturization\n",
            "\n",
            "****************************************************************************************************\n",
            "\n",
            "TYPE:         High cardinality feature detection\n",
            "STATUS:       PASSED\n",
            "DESCRIPTION:  Your inputs were analyzed, and no high cardinality features were detected.\n",
            "              Learn more about high cardinality feature handling: https://aka.ms/AutomatedMLFeaturization\n",
            "\n",
            "****************************************************************************************************\n",
            "\n",
            "****************************************************************************************************\n",
            "ITERATION: The iteration being evaluated.\n",
            "PIPELINE: A summary description of the pipeline being evaluated.\n",
            "DURATION: Time taken for the current iteration.\n",
            "METRIC: The result of computing score on the fitted pipeline.\n",
            "BEST: The best observed score thus far.\n",
            "****************************************************************************************************\n",
            "\n",
            " ITERATION   PIPELINE                                       DURATION      METRIC      BEST\n",
            "         0   MaxAbsScaler LightGBM                          0:01:00       0.9479    0.9479\n",
            "         1   MaxAbsScaler XGBoostClassifier                 0:01:01       0.9447    0.9479\n",
            "         2   MaxAbsScaler RandomForest                      0:03:55       0.8507    0.9479\n",
            "         3   MaxAbsScaler RandomForest                      0:03:42       0.8071    0.9479\n",
            "         4   MaxAbsScaler RandomForest                      0:03:31       0.6746    0.9479\n",
            "         5   MaxAbsScaler RandomForest                      0:00:52       0.5839    0.9479\n",
            "         6   MaxAbsScaler RandomForest                      0:00:54       0.5605    0.9479\n",
            "         7   SparseNormalizer XGBoostClassifier             0:01:04       0.8890    0.9479\n",
            "        10   SparseNormalizer XGBoostClassifier             0:01:07       0.8940    0.9479\n",
            "        11   StandardScalerWrapper LightGBM                 0:00:59       0.9421    0.9479\n",
            "         8   SparseNormalizer XGBoostClassifier             0:01:04       0.8719    0.9479\n",
            "         9   SparseNormalizer XGBoostClassifier             0:00:46       0.8496    0.9479\n",
            "        12   SparseNormalizer XGBoostClassifier             0:00:57       0.8593    0.9479\n",
            "        13   MaxAbsScaler LightGBM                          0:01:02       0.9003    0.9479\n",
            "        14   MaxAbsScaler RandomForest                      0:00:58       0.8160    0.9479\n",
            "        15   SparseNormalizer LightGBM                      0:01:02       0.8429    0.9479\n",
            "        16   MaxAbsScaler LightGBM                          0:00:52       0.8843    0.9479\n",
            "        17   SparseNormalizer LightGBM                      0:00:57       0.7952    0.9479\n",
            "        18   SparseNormalizer LightGBM                      0:00:55       0.8076    0.9479\n",
            "        19   MaxAbsScaler LightGBM                          0:00:53       0.8576    0.9479\n",
            "        20   MaxAbsScaler LogisticRegression                0:00:49       0.8620    0.9479\n",
            "        21   MaxAbsScaler LogisticRegression                0:01:01       0.8624    0.9479\n",
            "        22   StandardScalerWrapper LogisticRegression       0:00:58       0.8600    0.9479\n",
            "        23   SparseNormalizer LightGBM                      0:00:49       0.7911    0.9479\n",
            "        24   SparseNormalizer XGBoostClassifier             0:00:53       0.8562    0.9479\n",
            "        25   SparseNormalizer LightGBM                      0:00:55       0.7798    0.9479\n",
            "        26   SparseNormalizer XGBoostClassifier             0:00:58       0.8394    0.9479\n",
            "        27   SparseNormalizer XGBoostClassifier             0:01:09       0.8930    0.9479\n",
            "        28   SparseNormalizer XGBoostClassifier             0:00:56       0.8305    0.9479\n",
            "        29   SparseNormalizer XGBoostClassifier             0:00:50       0.8640    0.9479\n",
            "        30   MaxAbsScaler LightGBM                          0:00:50       0.4913    0.9479\n",
            "        31   MaxAbsScaler LightGBM                          0:00:55       0.9301    0.9479\n",
            "        32   SparseNormalizer LightGBM                      0:00:53       0.8665    0.9479\n",
            "        33   MaxAbsScaler GradientBoosting                  0:00:42       0.8975    0.9479\n",
            "        34                                                  0:00:26          nan    0.9479\n",
            "        35                                                  0:00:10          nan    0.9479\n",
            "        36    VotingEnsemble                                0:01:22       0.9543    0.9543\n",
            "        37    StackEnsemble                                 0:01:30       0.9529    0.9543\n"
          ]
        },
        {
          "output_type": "execute_result",
          "execution_count": 9,
          "data": {
            "text/plain": "{'runId': 'AutoML_85b87058-0aa7-4ef9-808a-bc495797b044',\n 'target': 'project-cluster',\n 'status': 'Completed',\n 'startTimeUtc': '2021-02-04T02:16:06.286256Z',\n 'endTimeUtc': '2021-02-04T02:38:19.295092Z',\n 'properties': {'num_iterations': '1000',\n  'training_type': 'TrainFull',\n  'acquisition_function': 'EI',\n  'primary_metric': 'accuracy',\n  'train_split': '0',\n  'acquisition_parameter': '0',\n  'num_cross_validation': '3',\n  'target': 'project-cluster',\n  'AMLSettingsJsonString': '{\"path\":null,\"name\":\"exp-capstone\",\"subscription_id\":\"f9d5a085-54dc-4215-9ba6-dad5d86e60a0\",\"resource_group\":\"aml-quickstarts-137163\",\"workspace_name\":\"quick-starts-ws-137163\",\"region\":\"southcentralus\",\"compute_target\":\"project-cluster\",\"spark_service\":null,\"azure_service\":\"remote\",\"many_models\":false,\"pipeline_fetch_max_batch_size\":1,\"iterations\":1000,\"primary_metric\":\"accuracy\",\"task_type\":\"classification\",\"data_script\":null,\"validation_size\":0.0,\"n_cross_validations\":3,\"y_min\":null,\"y_max\":null,\"num_classes\":null,\"featurization\":\"auto\",\"_ignore_package_version_incompatibilities\":false,\"is_timeseries\":false,\"max_cores_per_iteration\":-1,\"max_concurrent_iterations\":4,\"iteration_timeout_minutes\":null,\"mem_in_mb\":null,\"enforce_time_on_windows\":false,\"experiment_timeout_minutes\":60,\"experiment_exit_score\":null,\"whitelist_models\":null,\"blacklist_algos\":[\"TensorFlowLinearClassifier\",\"TensorFlowDNN\"],\"supported_models\":[\"AveragedPerceptronClassifier\",\"MultinomialNaiveBayes\",\"DecisionTree\",\"SVM\",\"BernoulliNaiveBayes\",\"RandomForest\",\"LogisticRegression\",\"XGBoostClassifier\",\"TensorFlowDNN\",\"ExtremeRandomTrees\",\"GradientBoosting\",\"LightGBM\",\"SGD\",\"KNN\",\"LinearSVM\",\"TensorFlowLinearClassifier\"],\"auto_blacklist\":true,\"blacklist_samples_reached\":false,\"exclude_nan_labels\":true,\"verbosity\":20,\"_debug_log\":\"azureml_automl.log\",\"show_warnings\":false,\"model_explainability\":true,\"service_url\":null,\"sdk_url\":null,\"sdk_packages\":null,\"enable_onnx_compatible_models\":false,\"enable_split_onnx_featurizer_estimator_models\":false,\"vm_type\":\"STANDARD_D2_V2\",\"telemetry_verbosity\":20,\"send_telemetry\":true,\"enable_dnn\":false,\"scenario\":\"SDK-1.13.0\",\"environment_label\":null,\"force_text_dnn\":false,\"enable_feature_sweeping\":true,\"enable_early_stopping\":true,\"early_stopping_n_iters\":10,\"metrics\":null,\"enable_ensembling\":true,\"enable_stack_ensembling\":true,\"ensemble_iterations\":15,\"enable_tf\":false,\"enable_subsampling\":null,\"subsample_seed\":null,\"enable_nimbusml\":false,\"enable_streaming\":false,\"force_streaming\":false,\"track_child_runs\":true,\"allowed_private_models\":[],\"label_column_name\":\"Attrition_Flag\",\"weight_column_name\":null,\"cv_split_column_names\":null,\"enable_local_managed\":false,\"_local_managed_run_id\":null,\"cost_mode\":1,\"lag_length\":0,\"metric_operation\":\"maximize\",\"preprocess\":true}',\n  'DataPrepJsonString': '{\\\\\"training_data\\\\\": \\\\\"{\\\\\\\\\\\\\"blocks\\\\\\\\\\\\\": [{\\\\\\\\\\\\\"id\\\\\\\\\\\\\": \\\\\\\\\\\\\"ded82826-d8e2-4bd9-829e-a7989d0400cc\\\\\\\\\\\\\", \\\\\\\\\\\\\"type\\\\\\\\\\\\\": \\\\\\\\\\\\\"Microsoft.DPrep.GetDatastoreFilesBlock\\\\\\\\\\\\\", \\\\\\\\\\\\\"arguments\\\\\\\\\\\\\": {\\\\\\\\\\\\\"datastores\\\\\\\\\\\\\": [{\\\\\\\\\\\\\"datastoreName\\\\\\\\\\\\\": \\\\\\\\\\\\\"workspaceblobstore\\\\\\\\\\\\\", \\\\\\\\\\\\\"path\\\\\\\\\\\\\": \\\\\\\\\\\\\"data/prepared.csv\\\\\\\\\\\\\", \\\\\\\\\\\\\"resourceGroup\\\\\\\\\\\\\": \\\\\\\\\\\\\"aml-quickstarts-137163\\\\\\\\\\\\\", \\\\\\\\\\\\\"subscription\\\\\\\\\\\\\": \\\\\\\\\\\\\"f9d5a085-54dc-4215-9ba6-dad5d86e60a0\\\\\\\\\\\\\", \\\\\\\\\\\\\"workspaceName\\\\\\\\\\\\\": \\\\\\\\\\\\\"quick-starts-ws-137163\\\\\\\\\\\\\"}]}, \\\\\\\\\\\\\"localData\\\\\\\\\\\\\": {}, \\\\\\\\\\\\\"isEnabled\\\\\\\\\\\\\": true, \\\\\\\\\\\\\"name\\\\\\\\\\\\\": null, \\\\\\\\\\\\\"annotation\\\\\\\\\\\\\": null}, {\\\\\\\\\\\\\"id\\\\\\\\\\\\\": \\\\\\\\\\\\\"01480181-49e0-4265-af32-4e434f70e842\\\\\\\\\\\\\", \\\\\\\\\\\\\"type\\\\\\\\\\\\\": \\\\\\\\\\\\\"Microsoft.DPrep.ParseDelimitedBlock\\\\\\\\\\\\\", \\\\\\\\\\\\\"arguments\\\\\\\\\\\\\": {\\\\\\\\\\\\\"columnHeadersMode\\\\\\\\\\\\\": 3, \\\\\\\\\\\\\"fileEncoding\\\\\\\\\\\\\": 0, \\\\\\\\\\\\\"handleQuotedLineBreaks\\\\\\\\\\\\\": false, \\\\\\\\\\\\\"preview\\\\\\\\\\\\\": false, \\\\\\\\\\\\\"separator\\\\\\\\\\\\\": \\\\\\\\\\\\\",\\\\\\\\\\\\\", \\\\\\\\\\\\\"skipRows\\\\\\\\\\\\\": 0, \\\\\\\\\\\\\"skipRowsMode\\\\\\\\\\\\\": 0}, \\\\\\\\\\\\\"localData\\\\\\\\\\\\\": {}, \\\\\\\\\\\\\"isEnabled\\\\\\\\\\\\\": true, \\\\\\\\\\\\\"name\\\\\\\\\\\\\": null, \\\\\\\\\\\\\"annotation\\\\\\\\\\\\\": null}, {\\\\\\\\\\\\\"id\\\\\\\\\\\\\": \\\\\\\\\\\\\"87292265-a666-40ae-ab1d-459377a4cdf8\\\\\\\\\\\\\", \\\\\\\\\\\\\"type\\\\\\\\\\\\\": \\\\\\\\\\\\\"Microsoft.DPrep.DropColumnsBlock\\\\\\\\\\\\\", \\\\\\\\\\\\\"arguments\\\\\\\\\\\\\": {\\\\\\\\\\\\\"columns\\\\\\\\\\\\\": {\\\\\\\\\\\\\"type\\\\\\\\\\\\\": 0, \\\\\\\\\\\\\"details\\\\\\\\\\\\\": {\\\\\\\\\\\\\"selectedColumns\\\\\\\\\\\\\": [\\\\\\\\\\\\\"Path\\\\\\\\\\\\\"]}}}, \\\\\\\\\\\\\"localData\\\\\\\\\\\\\": {}, \\\\\\\\\\\\\"isEnabled\\\\\\\\\\\\\": true, \\\\\\\\\\\\\"name\\\\\\\\\\\\\": null, \\\\\\\\\\\\\"annotation\\\\\\\\\\\\\": null}, {\\\\\\\\\\\\\"id\\\\\\\\\\\\\": \\\\\\\\\\\\\"7cf5548c-b4f1-4e8a-b199-d12c635a44df\\\\\\\\\\\\\", \\\\\\\\\\\\\"type\\\\\\\\\\\\\": \\\\\\\\\\\\\"Microsoft.DPrep.SetColumnTypesBlock\\\\\\\\\\\\\", \\\\\\\\\\\\\"arguments\\\\\\\\\\\\\": {\\\\\\\\\\\\\"columnConversion\\\\\\\\\\\\\": [{\\\\\\\\\\\\\"column\\\\\\\\\\\\\": {\\\\\\\\\\\\\"type\\\\\\\\\\\\\": 2, \\\\\\\\\\\\\"details\\\\\\\\\\\\\": {\\\\\\\\\\\\\"selectedColumn\\\\\\\\\\\\\": \\\\\\\\\\\\\"Customer_Age\\\\\\\\\\\\\"}}, \\\\\\\\\\\\\"typeProperty\\\\\\\\\\\\\": 2}, {\\\\\\\\\\\\\"column\\\\\\\\\\\\\": {\\\\\\\\\\\\\"type\\\\\\\\\\\\\": 2, \\\\\\\\\\\\\"details\\\\\\\\\\\\\": {\\\\\\\\\\\\\"selectedColumn\\\\\\\\\\\\\": \\\\\\\\\\\\\"Gender_M\\\\\\\\\\\\\"}}, \\\\\\\\\\\\\"typeProperty\\\\\\\\\\\\\": 2}, {\\\\\\\\\\\\\"column\\\\\\\\\\\\\": {\\\\\\\\\\\\\"type\\\\\\\\\\\\\": 2, \\\\\\\\\\\\\"details\\\\\\\\\\\\\": {\\\\\\\\\\\\\"selectedColumn\\\\\\\\\\\\\": \\\\\\\\\\\\\"Gender_F\\\\\\\\\\\\\"}}, \\\\\\\\\\\\\"typeProperty\\\\\\\\\\\\\": 2}, {\\\\\\\\\\\\\"column\\\\\\\\\\\\\": {\\\\\\\\\\\\\"type\\\\\\\\\\\\\": 2, \\\\\\\\\\\\\"details\\\\\\\\\\\\\": {\\\\\\\\\\\\\"selectedColumn\\\\\\\\\\\\\": \\\\\\\\\\\\\"Dependent_count\\\\\\\\\\\\\"}}, \\\\\\\\\\\\\"typeProperty\\\\\\\\\\\\\": 2}, {\\\\\\\\\\\\\"column\\\\\\\\\\\\\": {\\\\\\\\\\\\\"type\\\\\\\\\\\\\": 2, \\\\\\\\\\\\\"details\\\\\\\\\\\\\": {\\\\\\\\\\\\\"selectedColumn\\\\\\\\\\\\\": \\\\\\\\\\\\\"Education_Level\\\\\\\\\\\\\"}}, \\\\\\\\\\\\\"typeProperty\\\\\\\\\\\\\": 2}, {\\\\\\\\\\\\\"column\\\\\\\\\\\\\": {\\\\\\\\\\\\\"type\\\\\\\\\\\\\": 2, \\\\\\\\\\\\\"details\\\\\\\\\\\\\": {\\\\\\\\\\\\\"selectedColumn\\\\\\\\\\\\\": \\\\\\\\\\\\\"Married\\\\\\\\\\\\\"}}, \\\\\\\\\\\\\"typeProperty\\\\\\\\\\\\\": 2}, {\\\\\\\\\\\\\"column\\\\\\\\\\\\\": {\\\\\\\\\\\\\"type\\\\\\\\\\\\\": 2, \\\\\\\\\\\\\"details\\\\\\\\\\\\\": {\\\\\\\\\\\\\"selectedColumn\\\\\\\\\\\\\": \\\\\\\\\\\\\"Unknown\\\\\\\\\\\\\"}}, \\\\\\\\\\\\\"typeProperty\\\\\\\\\\\\\": 2}, {\\\\\\\\\\\\\"column\\\\\\\\\\\\\": {\\\\\\\\\\\\\"type\\\\\\\\\\\\\": 2, \\\\\\\\\\\\\"details\\\\\\\\\\\\\": {\\\\\\\\\\\\\"selectedColumn\\\\\\\\\\\\\": \\\\\\\\\\\\\"Divorced\\\\\\\\\\\\\"}}, \\\\\\\\\\\\\"typeProperty\\\\\\\\\\\\\": 2}, {\\\\\\\\\\\\\"column\\\\\\\\\\\\\": {\\\\\\\\\\\\\"type\\\\\\\\\\\\\": 2, \\\\\\\\\\\\\"details\\\\\\\\\\\\\": {\\\\\\\\\\\\\"selectedColumn\\\\\\\\\\\\\": \\\\\\\\\\\\\"Single\\\\\\\\\\\\\"}}, \\\\\\\\\\\\\"typeProperty\\\\\\\\\\\\\": 2}, {\\\\\\\\\\\\\"column\\\\\\\\\\\\\": {\\\\\\\\\\\\\"type\\\\\\\\\\\\\": 2, \\\\\\\\\\\\\"details\\\\\\\\\\\\\": {\\\\\\\\\\\\\"selectedColumn\\\\\\\\\\\\\": \\\\\\\\\\\\\"Income_Category\\\\\\\\\\\\\"}}, \\\\\\\\\\\\\"typeProperty\\\\\\\\\\\\\": 2}, {\\\\\\\\\\\\\"column\\\\\\\\\\\\\": {\\\\\\\\\\\\\"type\\\\\\\\\\\\\": 2, \\\\\\\\\\\\\"details\\\\\\\\\\\\\": {\\\\\\\\\\\\\"selectedColumn\\\\\\\\\\\\\": \\\\\\\\\\\\\"Card_Category\\\\\\\\\\\\\"}}, \\\\\\\\\\\\\"typeProperty\\\\\\\\\\\\\": 2}, {\\\\\\\\\\\\\"column\\\\\\\\\\\\\": {\\\\\\\\\\\\\"type\\\\\\\\\\\\\": 2, \\\\\\\\\\\\\"details\\\\\\\\\\\\\": {\\\\\\\\\\\\\"selectedColumn\\\\\\\\\\\\\": \\\\\\\\\\\\\"Months_on_book\\\\\\\\\\\\\"}}, \\\\\\\\\\\\\"typeProperty\\\\\\\\\\\\\": 2}, {\\\\\\\\\\\\\"column\\\\\\\\\\\\\": {\\\\\\\\\\\\\"type\\\\\\\\\\\\\": 2, \\\\\\\\\\\\\"details\\\\\\\\\\\\\": {\\\\\\\\\\\\\"selectedColumn\\\\\\\\\\\\\": \\\\\\\\\\\\\"Total_Relationship_Count\\\\\\\\\\\\\"}}, \\\\\\\\\\\\\"typeProperty\\\\\\\\\\\\\": 2}, {\\\\\\\\\\\\\"column\\\\\\\\\\\\\": {\\\\\\\\\\\\\"type\\\\\\\\\\\\\": 2, \\\\\\\\\\\\\"details\\\\\\\\\\\\\": {\\\\\\\\\\\\\"selectedColumn\\\\\\\\\\\\\": \\\\\\\\\\\\\"Months_Inactive_12_mon\\\\\\\\\\\\\"}}, \\\\\\\\\\\\\"typeProperty\\\\\\\\\\\\\": 2}, {\\\\\\\\\\\\\"column\\\\\\\\\\\\\": {\\\\\\\\\\\\\"type\\\\\\\\\\\\\": 2, \\\\\\\\\\\\\"details\\\\\\\\\\\\\": {\\\\\\\\\\\\\"selectedColumn\\\\\\\\\\\\\": \\\\\\\\\\\\\"Contacts_Count_12_mon\\\\\\\\\\\\\"}}, \\\\\\\\\\\\\"typeProperty\\\\\\\\\\\\\": 2}, {\\\\\\\\\\\\\"column\\\\\\\\\\\\\": {\\\\\\\\\\\\\"type\\\\\\\\\\\\\": 2, \\\\\\\\\\\\\"details\\\\\\\\\\\\\": {\\\\\\\\\\\\\"selectedColumn\\\\\\\\\\\\\": \\\\\\\\\\\\\"Credit_Limit\\\\\\\\\\\\\"}}, \\\\\\\\\\\\\"typeProperty\\\\\\\\\\\\\": 3}, {\\\\\\\\\\\\\"column\\\\\\\\\\\\\": {\\\\\\\\\\\\\"type\\\\\\\\\\\\\": 2, \\\\\\\\\\\\\"details\\\\\\\\\\\\\": {\\\\\\\\\\\\\"selectedColumn\\\\\\\\\\\\\": \\\\\\\\\\\\\"Total_Revolving_Bal\\\\\\\\\\\\\"}}, \\\\\\\\\\\\\"typeProperty\\\\\\\\\\\\\": 2}, {\\\\\\\\\\\\\"column\\\\\\\\\\\\\": {\\\\\\\\\\\\\"type\\\\\\\\\\\\\": 2, \\\\\\\\\\\\\"details\\\\\\\\\\\\\": {\\\\\\\\\\\\\"selectedColumn\\\\\\\\\\\\\": \\\\\\\\\\\\\"Avg_Open_To_Buy\\\\\\\\\\\\\"}}, \\\\\\\\\\\\\"typeProperty\\\\\\\\\\\\\": 3}, {\\\\\\\\\\\\\"column\\\\\\\\\\\\\": {\\\\\\\\\\\\\"type\\\\\\\\\\\\\": 2, \\\\\\\\\\\\\"details\\\\\\\\\\\\\": {\\\\\\\\\\\\\"selectedColumn\\\\\\\\\\\\\": \\\\\\\\\\\\\"Total_Amt_Chng_Q4_Q1\\\\\\\\\\\\\"}}, \\\\\\\\\\\\\"typeProperty\\\\\\\\\\\\\": 3}, {\\\\\\\\\\\\\"column\\\\\\\\\\\\\": {\\\\\\\\\\\\\"type\\\\\\\\\\\\\": 2, \\\\\\\\\\\\\"details\\\\\\\\\\\\\": {\\\\\\\\\\\\\"selectedColumn\\\\\\\\\\\\\": \\\\\\\\\\\\\"Total_Trans_Amt\\\\\\\\\\\\\"}}, \\\\\\\\\\\\\"typeProperty\\\\\\\\\\\\\": 2}, {\\\\\\\\\\\\\"column\\\\\\\\\\\\\": {\\\\\\\\\\\\\"type\\\\\\\\\\\\\": 2, \\\\\\\\\\\\\"details\\\\\\\\\\\\\": {\\\\\\\\\\\\\"selectedColumn\\\\\\\\\\\\\": \\\\\\\\\\\\\"Total_Trans_Ct\\\\\\\\\\\\\"}}, \\\\\\\\\\\\\"typeProperty\\\\\\\\\\\\\": 2}, {\\\\\\\\\\\\\"column\\\\\\\\\\\\\": {\\\\\\\\\\\\\"type\\\\\\\\\\\\\": 2, \\\\\\\\\\\\\"details\\\\\\\\\\\\\": {\\\\\\\\\\\\\"selectedColumn\\\\\\\\\\\\\": \\\\\\\\\\\\\"Total_Ct_Chng_Q4_Q1\\\\\\\\\\\\\"}}, \\\\\\\\\\\\\"typeProperty\\\\\\\\\\\\\": 3}, {\\\\\\\\\\\\\"column\\\\\\\\\\\\\": {\\\\\\\\\\\\\"type\\\\\\\\\\\\\": 2, \\\\\\\\\\\\\"details\\\\\\\\\\\\\": {\\\\\\\\\\\\\"selectedColumn\\\\\\\\\\\\\": \\\\\\\\\\\\\"Avg_Utilization_Ratio\\\\\\\\\\\\\"}}, \\\\\\\\\\\\\"typeProperty\\\\\\\\\\\\\": 3}, {\\\\\\\\\\\\\"column\\\\\\\\\\\\\": {\\\\\\\\\\\\\"type\\\\\\\\\\\\\": 2, \\\\\\\\\\\\\"details\\\\\\\\\\\\\": {\\\\\\\\\\\\\"selectedColumn\\\\\\\\\\\\\": \\\\\\\\\\\\\"Attrition_Flag\\\\\\\\\\\\\"}}, \\\\\\\\\\\\\"typeProperty\\\\\\\\\\\\\": 2}]}, \\\\\\\\\\\\\"localData\\\\\\\\\\\\\": {}, \\\\\\\\\\\\\"isEnabled\\\\\\\\\\\\\": true, \\\\\\\\\\\\\"name\\\\\\\\\\\\\": null, \\\\\\\\\\\\\"annotation\\\\\\\\\\\\\": null}], \\\\\\\\\\\\\"inspectors\\\\\\\\\\\\\": [], \\\\\\\\\\\\\"meta\\\\\\\\\\\\\": {\\\\\\\\\\\\\"savedDatasetId\\\\\\\\\\\\\": \\\\\\\\\\\\\"a5136e87-b9ee-48ad-ad50-70ffbb44fe0f\\\\\\\\\\\\\", \\\\\\\\\\\\\"datasetType\\\\\\\\\\\\\": \\\\\\\\\\\\\"tabular\\\\\\\\\\\\\", \\\\\\\\\\\\\"subscriptionId\\\\\\\\\\\\\": \\\\\\\\\\\\\"f9d5a085-54dc-4215-9ba6-dad5d86e60a0\\\\\\\\\\\\\", \\\\\\\\\\\\\"workspaceId\\\\\\\\\\\\\": \\\\\\\\\\\\\"863e4356-a0a8-4dc5-bbed-5007f4e27172\\\\\\\\\\\\\", \\\\\\\\\\\\\"workspaceLocation\\\\\\\\\\\\\": \\\\\\\\\\\\\"southcentralus\\\\\\\\\\\\\"}}\\\\\", \\\\\"activities\\\\\": 0}',\n  'EnableSubsampling': None,\n  'runTemplate': 'AutoML',\n  'azureml.runsource': 'automl',\n  'display_task_type': 'classification',\n  'dependencies_versions': '{\"azureml-widgets\": \"1.20.0\", \"azureml-train\": \"1.21.0\", \"azureml-train-restclients-hyperdrive\": \"1.21.0\", \"azureml-train-core\": \"1.21.0\", \"azureml-train-automl\": \"1.21.0\", \"azureml-train-automl-runtime\": \"1.21.0.post1\", \"azureml-train-automl-client\": \"1.21.0\", \"azureml-tensorboard\": \"1.20.0\", \"azureml-telemetry\": \"1.21.0\", \"azureml-sdk\": \"1.21.0\", \"azureml-samples\": \"0+unknown\", \"azureml-pipeline\": \"1.21.0\", \"azureml-pipeline-steps\": \"1.21.0\", \"azureml-pipeline-core\": \"1.21.0\", \"azureml-opendatasets\": \"1.20.0\", \"azureml-model-management-sdk\": \"1.0.1b6.post1\", \"azureml-mlflow\": \"1.20.0.post1\", \"azureml-interpret\": \"1.21.0\", \"azureml-explain-model\": \"1.20.0\", \"azureml-defaults\": \"1.21.0\", \"azureml-dataset-runtime\": \"1.21.0\", \"azureml-dataprep\": \"2.8.2\", \"azureml-dataprep-rslex\": \"1.6.0\", \"azureml-dataprep-native\": \"28.0.0\", \"azureml-datadrift\": \"1.20.0\", \"azureml-core\": \"1.21.0.post2\", \"azureml-contrib-services\": \"1.20.0\", \"azureml-contrib-server\": \"1.20.0\", \"azureml-contrib-reinforcementlearning\": \"1.20.0\", \"azureml-contrib-pipeline-steps\": \"1.20.0\", \"azureml-contrib-notebook\": \"1.20.0\", \"azureml-contrib-interpret\": \"1.20.0\", \"azureml-contrib-gbdt\": \"1.20.0\", \"azureml-contrib-fairness\": \"1.20.0\", \"azureml-contrib-dataset\": \"1.20.0\", \"azureml-cli-common\": \"1.20.0\", \"azureml-automl-runtime\": \"1.21.0\", \"azureml-automl-core\": \"1.21.0\", \"azureml-accel-models\": \"1.20.0\"}',\n  '_aml_system_scenario_identification': 'Remote.Parent',\n  'ClientType': 'SDK',\n  'environment_cpu_name': 'AzureML-AutoML',\n  'environment_cpu_label': 'prod',\n  'environment_gpu_name': 'AzureML-AutoML-GPU',\n  'environment_gpu_label': 'prod',\n  'root_attribution': 'automl',\n  'attribution': 'AutoML',\n  'Orchestrator': 'AutoML',\n  'CancelUri': 'https://southcentralus.experiments.azureml.net/jasmine/v1.0/subscriptions/f9d5a085-54dc-4215-9ba6-dad5d86e60a0/resourceGroups/aml-quickstarts-137163/providers/Microsoft.MachineLearningServices/workspaces/quick-starts-ws-137163/experimentids/62de3a78-b491-4dbc-9876-ae04e782418b/cancel/AutoML_85b87058-0aa7-4ef9-808a-bc495797b044',\n  'ClientSdkVersion': '1.21.0',\n  'snapshotId': '00000000-0000-0000-0000-000000000000',\n  'SetupRunId': 'AutoML_85b87058-0aa7-4ef9-808a-bc495797b044_setup',\n  'SetupRunContainerId': 'dcid.AutoML_85b87058-0aa7-4ef9-808a-bc495797b044_setup',\n  'FeaturizationRunJsonPath': 'featurizer_container.json',\n  'FeaturizationRunId': 'AutoML_85b87058-0aa7-4ef9-808a-bc495797b044_featurize',\n  'ProblemInfoJsonString': '{\"dataset_num_categorical\": 0, \"is_sparse\": true, \"subsampling\": false, \"dataset_classes\": 2, \"dataset_features\": 153, \"dataset_samples\": 10127, \"single_frequency_class_detected\": false}',\n  'ModelExplainRunId': 'AutoML_85b87058-0aa7-4ef9-808a-bc495797b044_ModelExplain'},\n 'inputDatasets': [{'dataset': {'id': 'a5136e87-b9ee-48ad-ad50-70ffbb44fe0f'}, 'consumptionDetails': {'type': 'RunInput', 'inputName': 'training_data', 'mechanism': 'Direct'}}],\n 'outputDatasets': [],\n 'logFiles': {},\n 'submittedBy': 'ODL_User 137163'}"
          },
          "metadata": {}
        }
      ],
      "execution_count": 9,
      "metadata": {
        "gather": {
          "logged": 1612406557510
        },
        "jupyter": {
          "outputs_hidden": false,
          "source_hidden": false
        },
        "nteract": {
          "transient": {
            "deleting": false
          }
        }
      }
    },
    {
      "cell_type": "markdown",
      "source": [
        "## Best Model\n",
        "\n",
        "TODO: In the cell below, get the best model from the automl experiments and display all the properties of the model.\n",
        "\n"
      ],
      "metadata": {}
    },
    {
      "cell_type": "code",
      "source": [
        "best_run, best_model = remote_run.get_output()"
      ],
      "outputs": [],
      "execution_count": 10,
      "metadata": {
        "gather": {
          "logged": 1612406571325
        },
        "jupyter": {
          "outputs_hidden": false,
          "source_hidden": false
        },
        "nteract": {
          "transient": {
            "deleting": false
          }
        }
      }
    },
    {
      "cell_type": "code",
      "source": [
        "import joblib\r\n",
        "joblib.dump(value=best_model,filename='model.pkl')"
      ],
      "outputs": [
        {
          "output_type": "execute_result",
          "execution_count": 11,
          "data": {
            "text/plain": "['model.pkl']"
          },
          "metadata": {}
        }
      ],
      "execution_count": 11,
      "metadata": {
        "collapsed": true,
        "jupyter": {
          "source_hidden": false,
          "outputs_hidden": false
        },
        "nteract": {
          "transient": {
            "deleting": false
          }
        },
        "gather": {
          "logged": 1612406571628
        }
      }
    },
    {
      "cell_type": "code",
      "source": [
        "#TODO: Save the best model\n",
        "os.makedirs('outputs',exist_ok=True)\n",
        "model = best_run.register_model(model_name = \"model\", model_path = './outputs/model.pkl', \n",
        "                                model_framework= Model.Framework.SCIKITLEARN, model_framework_version='0.19.1')\n",
        "                                #resource_configuration=ResourceConfiguration(cpu=1, memory_in_gb=0.5))"
      ],
      "outputs": [],
      "execution_count": 20,
      "metadata": {
        "gather": {
          "logged": 1612411346816
        },
        "jupyter": {
          "outputs_hidden": false,
          "source_hidden": false
        },
        "nteract": {
          "transient": {
            "deleting": false
          }
        }
      }
    },
    {
      "cell_type": "code",
      "source": [
        "best_run.get_file_names()"
      ],
      "outputs": [
        {
          "output_type": "execute_result",
          "execution_count": 21,
          "data": {
            "text/plain": "['accuracy_table',\n 'automl_driver.py',\n 'azureml-logs/55_azureml-execution-tvmps_5208ed78b11a6a7a84725eece5329944a484b0b5be86f9d35d62cf2f76e40f33_d.txt',\n 'azureml-logs/65_job_prep-tvmps_5208ed78b11a6a7a84725eece5329944a484b0b5be86f9d35d62cf2f76e40f33_d.txt',\n 'azureml-logs/70_driver_log.txt',\n 'azureml-logs/75_job_post-tvmps_5208ed78b11a6a7a84725eece5329944a484b0b5be86f9d35d62cf2f76e40f33_d.txt',\n 'azureml-logs/process_info.json',\n 'azureml-logs/process_status.json',\n 'confusion_matrix',\n 'explanation/2f656387/classes.interpret.json',\n 'explanation/2f656387/expected_values.interpret.json',\n 'explanation/2f656387/features.interpret.json',\n 'explanation/2f656387/global_names/0.interpret.json',\n 'explanation/2f656387/global_rank/0.interpret.json',\n 'explanation/2f656387/global_values/0.interpret.json',\n 'explanation/2f656387/local_importance_values.interpret.json',\n 'explanation/2f656387/local_importance_viz.interpret.json',\n 'explanation/2f656387/per_class_names/0.interpret.json',\n 'explanation/2f656387/per_class_rank/0.interpret.json',\n 'explanation/2f656387/per_class_values/0.interpret.json',\n 'explanation/2f656387/rich_metadata.interpret.json',\n 'explanation/2f656387/visualization_dict.interpret.json',\n 'explanation/2f656387/ys_pred_proba_viz.interpret.json',\n 'explanation/2f656387/ys_pred_viz.interpret.json',\n 'explanation/7f6e50e4/classes.interpret.json',\n 'explanation/7f6e50e4/eval_data_viz.interpret.json',\n 'explanation/7f6e50e4/expected_values.interpret.json',\n 'explanation/7f6e50e4/features.interpret.json',\n 'explanation/7f6e50e4/global_names/0.interpret.json',\n 'explanation/7f6e50e4/global_rank/0.interpret.json',\n 'explanation/7f6e50e4/global_values/0.interpret.json',\n 'explanation/7f6e50e4/local_importance_values.interpret.json',\n 'explanation/7f6e50e4/per_class_names/0.interpret.json',\n 'explanation/7f6e50e4/per_class_rank/0.interpret.json',\n 'explanation/7f6e50e4/per_class_values/0.interpret.json',\n 'explanation/7f6e50e4/rich_metadata.interpret.json',\n 'explanation/7f6e50e4/visualization_dict.interpret.json',\n 'logs/azureml/104_azureml.log',\n 'logs/azureml/azureml_automl.log',\n 'logs/azureml/job_prep_azureml.log',\n 'logs/azureml/job_release_azureml.log',\n 'outputs/conda_env_v_1_0_0.yml',\n 'outputs/env_dependencies.json',\n 'outputs/internal_cross_validated_models.pkl',\n 'outputs/model.pkl',\n 'outputs/pipeline_graph.json',\n 'outputs/scoring_file_v_1_0_0.py']"
          },
          "metadata": {}
        }
      ],
      "execution_count": 21,
      "metadata": {
        "collapsed": true,
        "jupyter": {
          "source_hidden": false,
          "outputs_hidden": false
        },
        "nteract": {
          "transient": {
            "deleting": false
          }
        },
        "gather": {
          "logged": 1612411355685
        }
      }
    },
    {
      "cell_type": "code",
      "source": [
        "best_run.download_file('outputs/scoring_file_v_1_0_0.py','score.py')"
      ],
      "outputs": [],
      "execution_count": 14,
      "metadata": {
        "collapsed": true,
        "jupyter": {
          "source_hidden": false,
          "outputs_hidden": false
        },
        "nteract": {
          "transient": {
            "deleting": false
          }
        },
        "gather": {
          "logged": 1612406572976
        }
      }
    },
    {
      "cell_type": "code",
      "source": [
        "#from azureml.automl.runtime.onnx_convert import OnnxConverter\n",
        "#best_run, onnx_mdl = remote_run.get_output(return_onnx_model=True)\n",
        "#onnx_fl_path = \"./best_model.onnx\"\n",
        "#OnnxConverter.save_onnx_model(onnx_mdl, onnx_fl_path)"
      ],
      "outputs": [],
      "execution_count": 15,
      "metadata": {
        "gather": {
          "logged": 1612406573047
        }
      }
    },
    {
      "cell_type": "markdown",
      "source": [
        "## Model Deployment\n",
        "\n",
        "Remember you have to deploy only one of the two models you trained.. Perform the steps in the rest of this notebook only if you wish to deploy this model.\n",
        "\n",
        "TODO: In the cell below, register the model, create an inference config and deploy the model as a web service."
      ],
      "metadata": {}
    },
    {
      "cell_type": "code",
      "source": [
        "\n",
        "\n",
        "env_name=\"environment1\"\n",
        "#Use curated environment AzureML-Minimal\n",
        "env = Environment.get(ws, \"AzureML-AutoML\")\n",
        "\n",
        "for pip_package in [\"scikit-learn\"]:\n",
        "    env.python.conda_dependencies.add_pip_package(pip_package)\n",
        "\n",
        "inference_config = InferenceConfig(entry_script='score.py',environment=env)\n",
        "\n",
        "depl_config = AciWebservice.deploy_configuration(cpu_cores=1,memory_gb=2, enable_app_insights=True, auth_enabled= True)\n",
        "\n",
        "service = Model.deploy(ws, name=\"myservice1\", models=[model], inference_config=inference_config, deployment_config=depl_config)\n",
        "#service = Model.deploy(ws, \"myservice1\", [model], deployment_config=depl_config)\n",
        "#service = Model.deploy(ws, \"myservice1\", [model])\n",
        "\n",
        "service.wait_for_deployment(show_output = True)\n",
        "#enable logging\n",
        "service.update(enable_app_insights=True)\n",
        "print(service.get_logs())\n",
        "print(service.state)\n",
        "\n"
      ],
      "outputs": [
        {
          "output_type": "stream",
          "name": "stdout",
          "text": [
            "Tips: You can try get_logs(): https://aka.ms/debugimage#dockerlog or local deployment: https://aka.ms/debugimage#debug-locally to debug if deployment takes longer than 10 minutes.\n",
            "Running....................................\n",
            "Succeeded\n",
            "ACI service creation operation finished, operation \"Succeeded\"\n",
            "2021-02-04T04:05:28,849676300+00:00 - gunicorn/run \n",
            "2021-02-04T04:05:28,865156000+00:00 - rsyslog/run \n",
            "2021-02-04T04:05:28,878891700+00:00 - iot-server/run \n",
            "2021-02-04T04:05:28,949046800+00:00 - nginx/run \n",
            "/usr/sbin/nginx: /azureml-envs/azureml_7ade26eb614f97df8030bc480da59236/lib/libcrypto.so.1.0.0: no version information available (required by /usr/sbin/nginx)\n",
            "/usr/sbin/nginx: /azureml-envs/azureml_7ade26eb614f97df8030bc480da59236/lib/libcrypto.so.1.0.0: no version information available (required by /usr/sbin/nginx)\n",
            "/usr/sbin/nginx: /azureml-envs/azureml_7ade26eb614f97df8030bc480da59236/lib/libssl.so.1.0.0: no version information available (required by /usr/sbin/nginx)\n",
            "/usr/sbin/nginx: /azureml-envs/azureml_7ade26eb614f97df8030bc480da59236/lib/libssl.so.1.0.0: no version information available (required by /usr/sbin/nginx)\n",
            "/usr/sbin/nginx: /azureml-envs/azureml_7ade26eb614f97df8030bc480da59236/lib/libssl.so.1.0.0: no version information available (required by /usr/sbin/nginx)\n",
            "rsyslogd: /azureml-envs/azureml_7ade26eb614f97df8030bc480da59236/lib/libuuid.so.1: no version information available (required by rsyslogd)\n",
            "EdgeHubConnectionString and IOTEDGE_IOTHUBHOSTNAME are not set. Exiting...\n",
            "2021-02-04T04:05:30,441962300+00:00 - iot-server/finish 1 0\n",
            "2021-02-04T04:05:30,446785000+00:00 - Exit code 1 is normal. Not restarting iot-server.\n",
            "Starting gunicorn 19.9.0\n",
            "Listening at: http://127.0.0.1:31311 (94)\n",
            "Using worker: sync\n",
            "worker timeout is set to 300\n",
            "Booting worker with pid: 121\n",
            "SPARK_HOME not set. Skipping PySpark Initialization.\n",
            "Generating new fontManager, this may take some time...\n",
            "Initializing logger\n",
            "2021-02-04 04:05:36,453 | root | INFO | Starting up app insights client\n",
            "2021-02-04 04:05:36,454 | root | INFO | Starting up request id generator\n",
            "2021-02-04 04:05:36,454 | root | INFO | Starting up app insight hooks\n",
            "2021-02-04 04:05:36,455 | root | INFO | Invoking user's init function\n",
            "2021-02-04 04:05:47,352 | root | INFO | Users's init has completed successfully\n",
            "2021-02-04 04:05:47,366 | root | INFO | Skipping middleware: dbg_model_info as it's not enabled.\n",
            "2021-02-04 04:05:47,366 | root | INFO | Skipping middleware: dbg_resource_usage as it's not enabled.\n",
            "2021-02-04 04:05:47,370 | root | INFO | Scoring timeout is found from os.environ: 60000 ms\n",
            "2021-02-04 04:05:47,386 | root | INFO | 200\n",
            "127.0.0.1 - - [04/Feb/2021:04:05:47 +0000] \"GET /swagger.json HTTP/1.0\" 200 3799 \"-\" \"Go-http-client/1.1\"\n",
            "2021-02-04 04:05:51,890 | root | INFO | 200\n",
            "127.0.0.1 - - [04/Feb/2021:04:05:51 +0000] \"GET /swagger.json HTTP/1.0\" 200 3799 \"-\" \"Go-http-client/1.1\"\n",
            "2021-02-04 04:05:52,613 | root | INFO | 200\n",
            "127.0.0.1 - - [04/Feb/2021:04:05:52 +0000] \"GET /swagger.json HTTP/1.0\" 200 3799 \"-\" \"Go-http-client/1.1\"\n",
            "\n",
            "Healthy\n"
          ]
        }
      ],
      "execution_count": 22,
      "metadata": {
        "gather": {
          "logged": 1612411553359
        },
        "jupyter": {
          "outputs_hidden": false,
          "source_hidden": false
        },
        "nteract": {
          "transient": {
            "deleting": false
          }
        }
      }
    },
    {
      "cell_type": "markdown",
      "source": [
        "TODO: In the cell below, send a request to the web service you deployed to test it."
      ],
      "metadata": {
        "collapsed": true,
        "gather": {
          "logged": 1598431657736
        },
        "jupyter": {
          "outputs_hidden": false,
          "source_hidden": false
        },
        "nteract": {
          "transient": {
            "deleting": false
          }
        }
      }
    },
    {
      "cell_type": "code",
      "source": [
        "\n",
        "\n",
        "primary, secondary = service.get_keys()\n",
        "print(primary)\n",
        "# URL for the web service\n",
        "scoring_uri = service.scoring_uri\n",
        "# If the service is authenticated, set the key or token\n",
        "key = primary\n",
        "\n",
        "# Two sets of data to score, so we get two results back\n",
        "data = {\"data\":\n",
        "        [\n",
        "          {\n",
        "          #\"Column1\": 0,\n",
        "          \"Customer_Age\": 45,\n",
        "          \"Gender_M\":1,\n",
        "          \"Gender_F\":0,\n",
        "          \"Dependent_count\":3,\n",
        "          \"Education_Level\":2,\n",
        "          \"Married\":0,\n",
        "          \"Single\":1,\n",
        "          \"Divorced\":0,\n",
        "          \"Unknown\":0,\n",
        "          \"Income_Category\":2,\n",
        "          \"Card_Category\":2,\n",
        "          \"Months_on_book\":39,\n",
        "          \"Total_Relationship_Count\":5,\n",
        "          \"Months_Inactive_12_mon\":1,\n",
        "          \"Contacts_Count_12_mon\":3,\n",
        "          \"Credit_Limit\":12691,\n",
        "          \"Total_Revolving_Bal\":777,\n",
        "          \"Avg_Open_To_Buy\":11914,\n",
        "          \"Total_Amt_Chng_Q4_Q1\":1.335,\n",
        "          \"Total_Trans_Amt\":1144,\n",
        "          \"Total_Trans_Ct\":42,\n",
        "          \"Total_Ct_Chng_Q4_Q1\":1.625,\n",
        "          \"Avg_Utilization_Ratio\":0.061,\n",
        "          },\n",
        "      ]\n",
        "    }\n",
        "# Convert to JSON string\n",
        "input_data = json.dumps(data)\n",
        "\n",
        "# Set the content type\n",
        "headers = {'Content-Type': 'application/json'}\n",
        "# If authentication is enabled, set the authorization header\n",
        "headers['Authorization'] = f'Bearer {key}'\n",
        "\n",
        "# Make the request and display the response\n",
        "resp = requests.post(scoring_uri, input_data, headers=headers)\n",
        "print(resp.text)"
      ],
      "outputs": [
        {
          "output_type": "stream",
          "name": "stdout",
          "text": [
            "oDMxLB8WbjAPhFKtAnlqMPlF4s90Oeq9\n",
            "\"{\\\"result\\\": [0]}\"\n"
          ]
        }
      ],
      "execution_count": 23,
      "metadata": {
        "gather": {
          "logged": 1612411554466
        },
        "jupyter": {
          "outputs_hidden": false,
          "source_hidden": false
        },
        "nteract": {
          "transient": {
            "deleting": false
          }
        }
      }
    },
    {
      "cell_type": "markdown",
      "source": [
        "TODO: In the cell below, print the logs of the web service and delete the service"
      ],
      "metadata": {
        "collapsed": true,
        "gather": {
          "logged": 1598432765711
        },
        "jupyter": {
          "outputs_hidden": false,
          "source_hidden": false
        },
        "nteract": {
          "transient": {
            "deleting": false
          }
        }
      }
    },
    {
      "cell_type": "code",
      "source": [
        "logs = service.get_logs()\n",
        "print(logs)\n",
        "service.delete()"
      ],
      "outputs": [
        {
          "output_type": "stream",
          "name": "stdout",
          "text": [
            "2021-02-04T04:05:28,849676300+00:00 - gunicorn/run \n",
            "2021-02-04T04:05:28,865156000+00:00 - rsyslog/run \n",
            "2021-02-04T04:05:28,878891700+00:00 - iot-server/run \n",
            "2021-02-04T04:05:28,949046800+00:00 - nginx/run \n",
            "/usr/sbin/nginx: /azureml-envs/azureml_7ade26eb614f97df8030bc480da59236/lib/libcrypto.so.1.0.0: no version information available (required by /usr/sbin/nginx)\n",
            "/usr/sbin/nginx: /azureml-envs/azureml_7ade26eb614f97df8030bc480da59236/lib/libcrypto.so.1.0.0: no version information available (required by /usr/sbin/nginx)\n",
            "/usr/sbin/nginx: /azureml-envs/azureml_7ade26eb614f97df8030bc480da59236/lib/libssl.so.1.0.0: no version information available (required by /usr/sbin/nginx)\n",
            "/usr/sbin/nginx: /azureml-envs/azureml_7ade26eb614f97df8030bc480da59236/lib/libssl.so.1.0.0: no version information available (required by /usr/sbin/nginx)\n",
            "/usr/sbin/nginx: /azureml-envs/azureml_7ade26eb614f97df8030bc480da59236/lib/libssl.so.1.0.0: no version information available (required by /usr/sbin/nginx)\n",
            "rsyslogd: /azureml-envs/azureml_7ade26eb614f97df8030bc480da59236/lib/libuuid.so.1: no version information available (required by rsyslogd)\n",
            "EdgeHubConnectionString and IOTEDGE_IOTHUBHOSTNAME are not set. Exiting...\n",
            "2021-02-04T04:05:30,441962300+00:00 - iot-server/finish 1 0\n",
            "2021-02-04T04:05:30,446785000+00:00 - Exit code 1 is normal. Not restarting iot-server.\n",
            "Starting gunicorn 19.9.0\n",
            "Listening at: http://127.0.0.1:31311 (94)\n",
            "Using worker: sync\n",
            "worker timeout is set to 300\n",
            "Booting worker with pid: 121\n",
            "SPARK_HOME not set. Skipping PySpark Initialization.\n",
            "Generating new fontManager, this may take some time...\n",
            "Initializing logger\n",
            "2021-02-04 04:05:36,453 | root | INFO | Starting up app insights client\n",
            "2021-02-04 04:05:36,454 | root | INFO | Starting up request id generator\n",
            "2021-02-04 04:05:36,454 | root | INFO | Starting up app insight hooks\n",
            "2021-02-04 04:05:36,455 | root | INFO | Invoking user's init function\n",
            "2021-02-04 04:05:47,352 | root | INFO | Users's init has completed successfully\n",
            "2021-02-04 04:05:47,366 | root | INFO | Skipping middleware: dbg_model_info as it's not enabled.\n",
            "2021-02-04 04:05:47,366 | root | INFO | Skipping middleware: dbg_resource_usage as it's not enabled.\n",
            "2021-02-04 04:05:47,370 | root | INFO | Scoring timeout is found from os.environ: 60000 ms\n",
            "2021-02-04 04:05:47,386 | root | INFO | 200\n",
            "127.0.0.1 - - [04/Feb/2021:04:05:47 +0000] \"GET /swagger.json HTTP/1.0\" 200 3799 \"-\" \"Go-http-client/1.1\"\n",
            "2021-02-04 04:05:51,890 | root | INFO | 200\n",
            "127.0.0.1 - - [04/Feb/2021:04:05:51 +0000] \"GET /swagger.json HTTP/1.0\" 200 3799 \"-\" \"Go-http-client/1.1\"\n",
            "2021-02-04 04:05:52,613 | root | INFO | 200\n",
            "127.0.0.1 - - [04/Feb/2021:04:05:52 +0000] \"GET /swagger.json HTTP/1.0\" 200 3799 \"-\" \"Go-http-client/1.1\"\n",
            "2021-02-04 04:05:53,488 | root | INFO | Validation Request Content-Type\n",
            "2021-02-04 04:05:53,493 | root | INFO | Scoring Timer is set to 60.0 seconds\n",
            "2021-02-04 04:05:54,425 | root | INFO | 200\n",
            "127.0.0.1 - - [04/Feb/2021:04:05:54 +0000] \"POST /score HTTP/1.0\" 200 19 \"-\" \"python-requests/2.25.1\"\n",
            "\n"
          ]
        }
      ],
      "execution_count": 24,
      "metadata": {
        "jupyter": {
          "outputs_hidden": false,
          "source_hidden": false
        },
        "nteract": {
          "transient": {
            "deleting": false
          }
        },
        "gather": {
          "logged": 1612411605923
        }
      }
    },
    {
      "cell_type": "code",
      "source": [],
      "outputs": [],
      "execution_count": null,
      "metadata": {
        "collapsed": true,
        "jupyter": {
          "source_hidden": false,
          "outputs_hidden": false
        },
        "nteract": {
          "transient": {
            "deleting": false
          }
        }
      }
    },
    {
      "cell_type": "code",
      "source": [],
      "outputs": [],
      "execution_count": null,
      "metadata": {
        "collapsed": true,
        "jupyter": {
          "source_hidden": false,
          "outputs_hidden": false
        },
        "nteract": {
          "transient": {
            "deleting": false
          }
        }
      }
    }
  ],
  "metadata": {
    "kernel_info": {
      "name": "python3"
    },
    "kernelspec": {
      "name": "python3",
      "language": "python",
      "display_name": "Python 3"
    },
    "language_info": {
      "name": "python",
      "version": "3.6.9",
      "mimetype": "text/x-python",
      "codemirror_mode": {
        "name": "ipython",
        "version": 3
      },
      "pygments_lexer": "ipython3",
      "nbconvert_exporter": "python",
      "file_extension": ".py"
    },
    "nteract": {
      "version": "nteract-front-end@1.0.0"
    }
  },
  "nbformat": 4,
  "nbformat_minor": 2
}