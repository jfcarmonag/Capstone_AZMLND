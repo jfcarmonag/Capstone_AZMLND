{
 "cells": [
  {
   "cell_type": "markdown",
   "metadata": {},
   "source": [
    "\n",
    "# Automated ML\n",
    "\n",
    "TODO: Import Dependencies. In the cell below, import all the dependencies that you will need to complete the project."
   ]
  },
  {
   "cell_type": "code",
   "execution_count": null,
   "metadata": {
    "gather": {
     "logged": 1612404934994
    }
   },
   "outputs": [],
   "source": [
    "#update automl\n",
    "!pip install --upgrade azureml-sdk[automl]"
   ]
  },
  {
   "cell_type": "code",
   "execution_count": null,
   "metadata": {
    "gather": {
     "logged": 1612404935311
    },
    "jupyter": {
     "outputs_hidden": false,
     "source_hidden": false
    },
    "nteract": {
     "transient": {
      "deleting": false
     }
    }
   },
   "outputs": [],
   "source": [
    "from azureml.core import Workspace, Experiment\n",
    "from azureml.core.compute import ComputeTarget, AmlCompute\n",
    "from azureml.core.compute_target import ComputeTargetException\n",
    "\n",
    "from azureml.data.dataset_factory import TabularDatasetFactory\n",
    "\n",
    "import pandas as pd\n",
    "from train import clean_data\n",
    "from azureml.train.automl import AutoMLConfig\n",
    "\n",
    "from azureml.core import Workspace, Dataset\n",
    "\n",
    "from azureml.core.model import Model\n",
    "\n",
    "from azureml.core.resource_configuration import ResourceConfiguration\n",
    "\n",
    "import pandas as pd\n",
    "from train import clean_data\n",
    "from azureml.train.automl import AutoMLConfig\n",
    "\n",
    "from azureml.core.environment import Environment\n",
    "from azureml.core.model import InferenceConfig\n",
    "from azureml.core.webservice import AciWebservice\n",
    "from azureml.core.model import Model\n",
    "import azureml.train.automl\n",
    "import azureml.automl\n",
    "\n",
    "import requests\n",
    "import json"
   ]
  },
  {
   "cell_type": "markdown",
   "metadata": {},
   "source": [
    "## Dataset\n",
    "\n",
    "### Overview\n",
    "TODO: In this markdown cell, give an overview of the dataset you are using. Also mention the task you will be performing.\n",
    "\n",
    "The dataset is extracted from an Udacity's competition called 'Predicting customer satisfaction' It consists of customers data from Santander bank, containing all their relevant features (like the number of products, their name, interest rate of loans, etc). \n",
    "\n",
    "TODO: Get data. In the cell below, write code to access the data you will be using in this project. Remember that the dataset needs to be external."
   ]
  },
  {
   "cell_type": "code",
   "execution_count": null,
   "metadata": {
    "gather": {
     "logged": 1612404936761
    }
   },
   "outputs": [],
   "source": [
    "ws = Workspace.from_config()\n",
    "cluster_name = 'project-cluster'\n",
    "try:\n",
    "    compute_target = ComputeTarget(ws, cluster_name)\n",
    "except ComputeTargetException:\n",
    "    compute_config = AmlCompute.provisioning_configuration(vm_size='STANDARD_D2_V2', min_nodes=1, max_nodes=4)\n",
    "    compute_target = ComputeTarget.create(ws, cluster_name, compute_config)\n",
    "\n",
    "compute_target.wait_for_completion(show_output=True)"
   ]
  },
  {
   "cell_type": "code",
   "execution_count": null,
   "metadata": {
    "gather": {
     "logged": 1612404944461
    },
    "jupyter": {
     "outputs_hidden": false,
     "source_hidden": false
    },
    "nteract": {
     "transient": {
      "deleting": false
     }
    }
   },
   "outputs": [],
   "source": [
    "#import dataset\n",
    "Data_URL= \"https://github.com/jfcarmonag/Capstone_AZMLND/raw/master/starter_file/BankChurners.csv\"\n",
    "ds=TabularDatasetFactory.from_delimited_files(path=Data_URL)\n",
    "# choose a name for experiment\n",
    "experiment_name = 'exp-capstone'\n",
    "experiment=Experiment(ws, experiment_name)"
   ]
  },
  {
   "cell_type": "code",
   "execution_count": null,
   "metadata": {
    "gather": {
     "logged": 1612404946164
    },
    "jupyter": {
     "outputs_hidden": false,
     "source_hidden": false
    },
    "nteract": {
     "transient": {
      "deleting": false
     }
    }
   },
   "outputs": [],
   "source": [
    "# Use the clean_data function to clean your data.\n",
    "x, y = clean_data(ds)\n",
    "complete_data = pd.concat([x, y], axis=1)\n",
    "\n",
    "complete_data"
   ]
  },
  {
   "cell_type": "markdown",
   "metadata": {},
   "source": [
    "## AutoML Configuration\n",
    "\n",
    "TODO: Explain why you chose the automl settings and cofiguration you used below.\n",
    "\n"
   ]
  },
  {
   "cell_type": "code",
   "execution_count": null,
   "metadata": {
    "gather": {
     "logged": 1612404947950
    },
    "jupyter": {
     "outputs_hidden": false,
     "source_hidden": false
    },
    "nteract": {
     "transient": {
      "deleting": false
     }
    }
   },
   "outputs": [],
   "source": [
    "# azureml-core of version 1.0.72 or higher is required\n",
    "# azureml-dataprep[pandas] of version 1.1.34 or higher is required\n",
    "\n",
    "local_path = 'data/prepared.csv'\n",
    "complete_data.to_csv(local_path, index=False)\n",
    "\n",
    "# get the datastore to upload prepared data\n",
    "datastore = ws.get_default_datastore()\n",
    "\n",
    "# upload the local file from src_dir to the target_path in datastore\n",
    "datastore.upload(src_dir='data', target_path='data')\n",
    "\n",
    "# create a dataset referencing the cloud location\n",
    "dataset = Dataset.Tabular.from_delimited_files(path = [(datastore, ('data/prepared.csv'))])"
   ]
  },
  {
   "cell_type": "code",
   "execution_count": null,
   "metadata": {
    "gather": {
     "logged": 1612404948104
    },
    "jupyter": {
     "outputs_hidden": false,
     "source_hidden": false
    },
    "nteract": {
     "transient": {
      "deleting": false
     }
    }
   },
   "outputs": [],
   "source": [
    "\n",
    "\n",
    "# automl settings\n",
    "automl_settings = {\n",
    "       \"n_cross_validations\": 3,\n",
    "       \"primary_metric\": 'norm_macro_recall',\n",
    "       \"enable_early_stopping\": True,\n",
    "       \"experiment_timeout_hours\": 1.0,\n",
    "       \"max_concurrent_iterations\": 4,\n",
    "       \"max_cores_per_iteration\": -1,\n",
    "       #\"verbosity\": logging.INFO,\n",
    "   }\n",
    "\n",
    "# automl configuration\n",
    "automl_config = AutoMLConfig(task = 'classification',\n",
    "                               compute_target = compute_target,\n",
    "                               training_data = dataset,\n",
    "                               label_column_name = \"Attrition_Flag\",\n",
    "                               **automl_settings\n",
    "                               )"
   ]
  },
  {
   "cell_type": "code",
   "execution_count": null,
   "metadata": {
    "gather": {
     "logged": 1612406305255
    },
    "jupyter": {
     "outputs_hidden": false,
     "source_hidden": false
    },
    "nteract": {
     "transient": {
      "deleting": false
     }
    }
   },
   "outputs": [],
   "source": [
    "# TODO: Submit your experiment\n",
    "remote_run = experiment.submit(automl_config, show_output=\"True\")"
   ]
  },
  {
   "cell_type": "markdown",
   "metadata": {},
   "source": [
    "## Run Details\n",
    "\n",
    "OPTIONAL: Write about the different models trained and their performance. Why do you think some models did better than others?\n",
    "\n",
    "TODO: In the cell below, use the `RunDetails` widget to show the different experiments."
   ]
  },
  {
   "cell_type": "code",
   "execution_count": null,
   "metadata": {
    "gather": {
     "logged": 1612406557510
    },
    "jupyter": {
     "outputs_hidden": false,
     "source_hidden": false
    },
    "nteract": {
     "transient": {
      "deleting": false
     }
    }
   },
   "outputs": [],
   "source": [
    "from azureml.widgets import RunDetails\n",
    "RunDetails(remote_run).show()\n",
    "remote_run.wait_for_completion(show_output=True)"
   ]
  },
  {
   "cell_type": "markdown",
   "metadata": {},
   "source": [
    "## Best Model\n",
    "\n",
    "TODO: In the cell below, get the best model from the automl experiments and display all the properties of the model.\n",
    "\n"
   ]
  },
  {
   "cell_type": "code",
   "execution_count": null,
   "metadata": {
    "gather": {
     "logged": 1612406571325
    },
    "jupyter": {
     "outputs_hidden": false,
     "source_hidden": false
    },
    "nteract": {
     "transient": {
      "deleting": false
     }
    }
   },
   "outputs": [],
   "source": [
    "best_run, best_model = remote_run.get_output()"
   ]
  },
  {
   "cell_type": "code",
   "execution_count": null,
   "metadata": {
    "gather": {
     "logged": 1612406571628
    },
    "jupyter": {
     "outputs_hidden": false,
     "source_hidden": false
    },
    "nteract": {
     "transient": {
      "deleting": false
     }
    }
   },
   "outputs": [],
   "source": [
    "import joblib\n",
    "joblib.dump(value=best_model,filename='model.pkl')"
   ]
  },
  {
   "cell_type": "code",
   "execution_count": null,
   "metadata": {
    "gather": {
     "logged": 1612411346816
    },
    "jupyter": {
     "outputs_hidden": false,
     "source_hidden": false
    },
    "nteract": {
     "transient": {
      "deleting": false
     }
    }
   },
   "outputs": [],
   "source": [
    "#TODO: Save the best model\n",
    "os.makedirs('outputs',exist_ok=True)\n",
    "model = best_run.register_model(model_name = \"model\", model_path = './outputs/model.pkl', \n",
    "                                model_framework= Model.Framework.SCIKITLEARN, model_framework_version='0.19.1')\n",
    "                                #resource_configuration=ResourceConfiguration(cpu=1, memory_in_gb=0.5))"
   ]
  },
  {
   "cell_type": "code",
   "execution_count": null,
   "metadata": {
    "gather": {
     "logged": 1612411355685
    },
    "jupyter": {
     "outputs_hidden": false,
     "source_hidden": false
    },
    "nteract": {
     "transient": {
      "deleting": false
     }
    }
   },
   "outputs": [],
   "source": [
    "best_run.get_file_names()"
   ]
  },
  {
   "cell_type": "code",
   "execution_count": null,
   "metadata": {
    "gather": {
     "logged": 1612406572976
    },
    "jupyter": {
     "outputs_hidden": false,
     "source_hidden": false
    },
    "nteract": {
     "transient": {
      "deleting": false
     }
    }
   },
   "outputs": [],
   "source": [
    "best_run.download_file('outputs/scoring_file_v_1_0_0.py','score.py')"
   ]
  },
  {
   "cell_type": "code",
   "execution_count": null,
   "metadata": {
    "gather": {
     "logged": 1612406573047
    }
   },
   "outputs": [],
   "source": [
    "#from azureml.automl.runtime.onnx_convert import OnnxConverter\n",
    "#best_run, onnx_mdl = remote_run.get_output(return_onnx_model=True)\n",
    "#onnx_fl_path = \"./best_model.onnx\"\n",
    "#OnnxConverter.save_onnx_model(onnx_mdl, onnx_fl_path)"
   ]
  },
  {
   "cell_type": "markdown",
   "metadata": {},
   "source": [
    "## Model Deployment\n",
    "\n",
    "Remember you have to deploy only one of the two models you trained.. Perform the steps in the rest of this notebook only if you wish to deploy this model.\n",
    "\n",
    "TODO: In the cell below, register the model, create an inference config and deploy the model as a web service."
   ]
  },
  {
   "cell_type": "code",
   "execution_count": null,
   "metadata": {
    "gather": {
     "logged": 1612411553359
    },
    "jupyter": {
     "outputs_hidden": false,
     "source_hidden": false
    },
    "nteract": {
     "transient": {
      "deleting": false
     }
    }
   },
   "outputs": [],
   "source": [
    "\n",
    "\n",
    "env_name=\"environment1\"\n",
    "#Use curated environment AzureML-Minimal\n",
    "env = Environment.get(ws, \"AzureML-AutoML\")\n",
    "\n",
    "for pip_package in [\"scikit-learn\"]:\n",
    "    env.python.conda_dependencies.add_pip_package(pip_package)\n",
    "\n",
    "inference_config = InferenceConfig(entry_script='score.py',environment=env)\n",
    "\n",
    "depl_config = AciWebservice.deploy_configuration(cpu_cores=1,memory_gb=2, enable_app_insights=True, auth_enabled= True)\n",
    "\n",
    "service = Model.deploy(ws, name=\"myservice1\", models=[model], inference_config=inference_config, deployment_config=depl_config)\n",
    "#service = Model.deploy(ws, \"myservice1\", [model], deployment_config=depl_config)\n",
    "#service = Model.deploy(ws, \"myservice1\", [model])\n",
    "\n",
    "service.wait_for_deployment(show_output = True)\n",
    "#enable logging\n",
    "service.update(enable_app_insights=True)\n",
    "print(service.get_logs())\n",
    "print(service.state)\n",
    "\n"
   ]
  },
  {
   "cell_type": "markdown",
   "metadata": {
    "collapsed": true,
    "gather": {
     "logged": 1598431657736
    },
    "jupyter": {
     "outputs_hidden": false,
     "source_hidden": false
    },
    "nteract": {
     "transient": {
      "deleting": false
     }
    }
   },
   "source": [
    "TODO: In the cell below, send a request to the web service you deployed to test it."
   ]
  },
  {
   "cell_type": "code",
   "execution_count": null,
   "metadata": {
    "gather": {
     "logged": 1612411554466
    },
    "jupyter": {
     "outputs_hidden": false,
     "source_hidden": false
    },
    "nteract": {
     "transient": {
      "deleting": false
     }
    }
   },
   "outputs": [],
   "source": [
    "primary, secondary = service.get_keys()\n",
    "print(primary)\n",
    "# URL for the web service\n",
    "scoring_uri = service.scoring_uri\n",
    "# If the service is authenticated, set the key or token\n",
    "key = primary\n",
    "\n",
    "# Two sets of data to score, so we get two results back\n",
    "data = {\"data\":\n",
    "        [\n",
    "          {\n",
    "          #\"Column1\": 0,\n",
    "          \"Customer_Age\": 45,\n",
    "          \"Gender_M\":1,\n",
    "          \"Gender_F\":0,\n",
    "          \"Dependent_count\":3,\n",
    "          \"Education_Level\":2,\n",
    "          \"Married\":0,\n",
    "          \"Single\":1,\n",
    "          \"Divorced\":0,\n",
    "          \"Unknown\":0,\n",
    "          \"Income_Category\":2,\n",
    "          \"Card_Category\":2,\n",
    "          \"Months_on_book\":39,\n",
    "          \"Total_Relationship_Count\":5,\n",
    "          \"Months_Inactive_12_mon\":1,\n",
    "          \"Contacts_Count_12_mon\":3,\n",
    "          \"Credit_Limit\":12691,\n",
    "          \"Total_Revolving_Bal\":777,\n",
    "          \"Avg_Open_To_Buy\":11914,\n",
    "          \"Total_Amt_Chng_Q4_Q1\":1.335,\n",
    "          \"Total_Trans_Amt\":1144,\n",
    "          \"Total_Trans_Ct\":42,\n",
    "          \"Total_Ct_Chng_Q4_Q1\":1.625,\n",
    "          \"Avg_Utilization_Ratio\":0.061,\n",
    "          },\n",
    "      ]\n",
    "    }\n",
    "# Convert to JSON string\n",
    "input_data = json.dumps(data)\n",
    "\n",
    "# Set the content type\n",
    "headers = {'Content-Type': 'application/json'}\n",
    "# If authentication is enabled, set the authorization header\n",
    "headers['Authorization'] = f'Bearer {key}'\n",
    "\n",
    "# Make the request and display the response\n",
    "resp = requests.post(scoring_uri, input_data, headers=headers)\n",
    "print(resp.text)"
   ]
  },
  {
   "cell_type": "markdown",
   "metadata": {
    "collapsed": true,
    "gather": {
     "logged": 1598432765711
    },
    "jupyter": {
     "outputs_hidden": false,
     "source_hidden": false
    },
    "nteract": {
     "transient": {
      "deleting": false
     }
    }
   },
   "source": [
    "TODO: In the cell below, print the logs of the web service and delete the service"
   ]
  },
  {
   "cell_type": "code",
   "execution_count": null,
   "metadata": {
    "gather": {
     "logged": 1612411605923
    },
    "jupyter": {
     "outputs_hidden": false,
     "source_hidden": false
    },
    "nteract": {
     "transient": {
      "deleting": false
     }
    }
   },
   "outputs": [],
   "source": [
    "logs = service.get_logs()\n",
    "print(logs)\n",
    "service.delete()"
   ]
  },
  {
   "cell_type": "code",
   "execution_count": null,
   "metadata": {
    "jupyter": {
     "outputs_hidden": false,
     "source_hidden": false
    },
    "nteract": {
     "transient": {
      "deleting": false
     }
    }
   },
   "outputs": [],
   "source": []
  },
  {
   "cell_type": "code",
   "execution_count": null,
   "metadata": {
    "jupyter": {
     "outputs_hidden": false,
     "source_hidden": false
    },
    "nteract": {
     "transient": {
      "deleting": false
     }
    }
   },
   "outputs": [],
   "source": []
  }
 ],
 "metadata": {
  "kernel_info": {
   "name": "python3"
  },
  "kernelspec": {
   "display_name": "Python 3",
   "language": "python",
   "name": "python3"
  },
  "language_info": {
   "codemirror_mode": {
    "name": "ipython",
    "version": 3
   },
   "file_extension": ".py",
   "mimetype": "text/x-python",
   "name": "python",
   "nbconvert_exporter": "python",
   "pygments_lexer": "ipython3",
   "version": "3.6.12"
  },
  "nteract": {
   "version": "nteract-front-end@1.0.0"
  }
 },
 "nbformat": 4,
 "nbformat_minor": 2
}
