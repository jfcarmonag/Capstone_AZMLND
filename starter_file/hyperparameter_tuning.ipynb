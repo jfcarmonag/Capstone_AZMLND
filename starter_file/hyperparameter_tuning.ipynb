{
  "cells": [
    {
      "cell_type": "markdown",
      "source": [
        "# Hyperparameter Tuning using HyperDrive\n",
        "\n",
        "TODO: Import Dependencies. In the cell below, import all the dependencies that you will need to complete the project."
      ],
      "metadata": {}
    },
    {
      "cell_type": "code",
      "source": [
        "from azureml.core import Workspace, Experiment\n",
        "from azureml.core.compute import ComputeTarget, AmlCompute\n",
        "from azureml.core.compute_target import ComputeTargetException"
      ],
      "outputs": [],
      "execution_count": 1,
      "metadata": {
        "gather": {
          "logged": 1607560082967
        }
      }
    },
    {
      "cell_type": "markdown",
      "source": [
        "## Dataset\n",
        "\n",
        "TODO: Get data. In the cell below, write code to access the data you will be using in this project. Remember that the dataset needs to be external."
      ],
      "metadata": {}
    },
    {
      "cell_type": "code",
      "source": [
        "from azureml.data.dataset_factory import TabularDatasetFactory\n",
        "Data_URL= 'https://github.com/jfcarmonag/nd00333-capstone/raw/master/starter_file/BankChurners.csv'\n",
        "ds=TabularDatasetFactory.from_delimited_files(path=Data_URL)\n",
        "\n",
        "ws = Workspace.from_config()\n",
        "experiment_name = 'exp-capstone-hyperdrive'\n",
        "\n",
        "experiment=Experiment(ws, experiment_name)\n",
        "\n",
        "cluster_name = 'project-cluster'\n",
        "try:\n",
        "    compute_target = ComputeTarget(ws, cluster_name)\n",
        "except ComputeTargetException:\n",
        "    compute_config = AmlCompute.provisioning_configuration(vm_size='STANDARD_D2_V2', min_nodes=1, max_nodes=4)\n",
        "    compute_target = ComputeTarget.create(ws, cluster_name, compute_config)\n",
        "\n",
        "compute_target.wait_for_completion(show_output=True)"
      ],
      "outputs": [
        {
          "output_type": "stream",
          "name": "stdout",
          "text": [
            "Succeeded\n",
            "AmlCompute wait for completion finished\n",
            "\n",
            "Minimum number of nodes requested have been provisioned\n"
          ]
        }
      ],
      "execution_count": 2,
      "metadata": {
        "gather": {
          "logged": 1607560090192
        },
        "jupyter": {
          "outputs_hidden": false,
          "source_hidden": false
        },
        "nteract": {
          "transient": {
            "deleting": false
          }
        }
      }
    },
    {
      "cell_type": "markdown",
      "source": [
        "## Hyperdrive Configuration\n",
        "\n",
        "TODO: Explain the model you are using and the reason for chosing the different hyperparameters, termination policy and config settings."
      ],
      "metadata": {
        "collapsed": true,
        "gather": {
          "logged": 1598531923519
        },
        "jupyter": {
          "outputs_hidden": false,
          "source_hidden": false
        },
        "nteract": {
          "transient": {
            "deleting": false
          }
        }
      }
    },
    {
      "cell_type": "code",
      "source": [
        "##ONLY RUN FOR LOGISTIC REGRESSION\n",
        "\n",
        "from azureml.train.hyperdrive.policy import BanditPolicy\n",
        "from azureml.train.hyperdrive.sampling import RandomParameterSampling\n",
        "from azureml.train.hyperdrive.parameter_expressions import choice, uniform\n",
        "from azureml.train.sklearn import SKLearn\n",
        "from azureml.train.estimator import Estimator\n",
        "from azureml.train.hyperdrive.runconfig import HyperDriveConfig\n",
        "from azureml.train.hyperdrive.run import PrimaryMetricGoal\n",
        "\n",
        "# Specify parameter sampler\n",
        "\n",
        "\n",
        "# TODO: Create an early termination policy. This is not required if you are using Bayesian sampling.\n",
        "early_termination_policy = BanditPolicy(evaluation_interval=3,slack_factor=0.1)\n",
        "\n",
        "#TODO: Create the different params that you will be using during training\n",
        "param_sampling = RandomParameterSampling({'--max_depth': choice(3,4,5),\n",
        "                 '--learning_rate':uniform(0.05,0.1),\n",
        "                 '--gamma': choice(0.0,0.25,0.5,1.0),\n",
        "                 '--reg_lambda':choice(0,1.0,10.0),\n",
        "                 '--scale_pos_weight': choice (1,3,5)})\n",
        "\n",
        "#TODO: Create your estimator and hyperdrive config\n",
        "estimator = Estimator(\n",
        "    source_directory=\"./\",\n",
        "    entry_script=\"train.py\",\n",
        "    compute_target=compute_target,\n",
        ")\n",
        "\n",
        "hyperdrive_run_config = HyperDriveConfig(\n",
        "    primary_metric_name=\"Accuracy\",\n",
        "    primary_metric_goal=PrimaryMetricGoal.MAXIMIZE,\n",
        "    max_total_runs=50,\n",
        "    max_concurrent_runs=8,\n",
        "    hyperparameter_sampling=param_sampling,\n",
        "    policy=early_termination_policy,\n",
        "    estimator=estimator\n",
        ")"
      ],
      "outputs": [
        {
          "output_type": "stream",
          "name": "stderr",
          "text": [
            "'Estimator' is deprecated. Please use 'ScriptRunConfig' from 'azureml.core.script_run_config' with your own defined environment or an Azure ML curated environment.\n"
          ]
        }
      ],
      "execution_count": 3,
      "metadata": {
        "gather": {
          "logged": 1607560094150
        }
      }
    },
    {
      "cell_type": "code",
      "source": [
        "##RUN FOR XGBOOST\n",
        "\n",
        "from azureml.train.hyperdrive.policy import BanditPolicy\n",
        "from azureml.train.hyperdrive.sampling import RandomParameterSampling\n",
        "from azureml.train.hyperdrive.parameter_expressions import choice, uniform\n",
        "from azureml.train.sklearn import SKLearn\n",
        "from azureml.train.estimator import Estimator\n",
        "from azureml.core import \n",
        "from azureml.train.hyperdrive.runconfig import HyperDriveConfig\n",
        "from azureml.train.hyperdrive.run import PrimaryMetricGoal\n",
        "\n",
        "\n",
        "\n",
        "# TODO: Create an early termination policy. This is not required if you are using Bayesian sampling.\n",
        "early_termination_policy = BanditPolicy(evaluation_interval=3,slack_factor=0.1)\n",
        "\n",
        "#TODO: Create the different params that you will be using during training\n",
        "param_sampling = RandomParameterSampling({'--max_depth': choice(3,4,5),\n",
        "                 '--learning_rate':uniform(0.05,0.1),\n",
        "                 '--gamma': choice(0.0,0.25,0.5,1.0),\n",
        "                 '--reg_lambda':choice(0,1.0,10.0),\n",
        "                 '--scale_pos_weight': choice (1,3,5)})\n",
        "\n",
        "#TODO: Create your estimator and hyperdrive config\n",
        "estimator = ScriptRunConfig(\n",
        "    source_directory=\"./\",\n",
        "    entry_script=\"train.py\",\n",
        "    compute_target=compute_target,\n",
        ")\n",
        "\n",
        "hyperdrive_run_config = HyperDriveConfig(\n",
        "    primary_metric_name=\"Accuracy\",\n",
        "    primary_metric_goal=PrimaryMetricGoal.MAXIMIZE,\n",
        "    max_total_runs=50,\n",
        "    max_concurrent_runs=8,\n",
        "    hyperparameter_sampling=param_sampling,\n",
        "    policy=early_termination_policy,\n",
        "    run_config=estimator\n",
        ")"
      ],
      "outputs": [
        {
          "output_type": "error",
          "ename": "NameError",
          "evalue": "name 'ScriptRunConfig' is not defined",
          "traceback": [
            "\u001b[0;31m---------------------------------------------------------------------------\u001b[0m",
            "\u001b[0;31mNameError\u001b[0m                                 Traceback (most recent call last)",
            "\u001b[0;32m<ipython-input-4-1273da5026ea>\u001b[0m in \u001b[0;36m<module>\u001b[0;34m\u001b[0m\n\u001b[1;32m     22\u001b[0m \u001b[0;34m\u001b[0m\u001b[0m\n\u001b[1;32m     23\u001b[0m \u001b[0;31m#TODO: Create your estimator and hyperdrive config\u001b[0m\u001b[0;34m\u001b[0m\u001b[0;34m\u001b[0m\u001b[0;34m\u001b[0m\u001b[0m\n\u001b[0;32m---> 24\u001b[0;31m estimator = ScriptRunConfig(\n\u001b[0m\u001b[1;32m     25\u001b[0m     \u001b[0msource_directory\u001b[0m\u001b[0;34m=\u001b[0m\u001b[0;34m\"./\"\u001b[0m\u001b[0;34m,\u001b[0m\u001b[0;34m\u001b[0m\u001b[0;34m\u001b[0m\u001b[0m\n\u001b[1;32m     26\u001b[0m     \u001b[0mentry_script\u001b[0m\u001b[0;34m=\u001b[0m\u001b[0;34m\"train.py\"\u001b[0m\u001b[0;34m,\u001b[0m\u001b[0;34m\u001b[0m\u001b[0;34m\u001b[0m\u001b[0m\n",
            "\u001b[0;31mNameError\u001b[0m: name 'ScriptRunConfig' is not defined"
          ]
        }
      ],
      "execution_count": 4,
      "metadata": {
        "gather": {
          "logged": 1607559430275
        },
        "jupyter": {
          "outputs_hidden": false,
          "source_hidden": false
        },
        "nteract": {
          "transient": {
            "deleting": false
          }
        }
      }
    },
    {
      "cell_type": "code",
      "source": [
        "#TODO: Submit your experiment\n",
        "from azureml.widgets import RunDetails\n",
        "hyperdrive_run = experiment.submit(hyperdrive_run_config)\n",
        "RunDetails(hyperdrive_run).show()\n",
        "hyperdrive_run.wait_for_completion(show_output=True)"
      ],
      "outputs": [],
      "execution_count": null,
      "metadata": {
        "gather": {
          "logged": 1607038130117
        },
        "jupyter": {
          "outputs_hidden": false,
          "source_hidden": false
        },
        "nteract": {
          "transient": {
            "deleting": false
          }
        }
      }
    },
    {
      "cell_type": "markdown",
      "source": [
        "## Run Details\n",
        "\n",
        "OPTIONAL: Write about the different models trained and their performance. Why do you think some models did better than others?\n",
        "\n",
        "TODO: In the cell below, use the `RunDetails` widget to show the different experiments."
      ],
      "metadata": {
        "collapsed": true,
        "gather": {
          "logged": 1598544898497
        },
        "jupyter": {
          "outputs_hidden": false,
          "source_hidden": false
        },
        "nteract": {
          "transient": {
            "deleting": false
          }
        }
      }
    },
    {
      "cell_type": "code",
      "source": [],
      "outputs": [],
      "execution_count": null,
      "metadata": {
        "gather": {
          "logged": 1598546648408
        },
        "jupyter": {
          "outputs_hidden": false,
          "source_hidden": false
        },
        "nteract": {
          "transient": {
            "deleting": false
          }
        }
      }
    },
    {
      "cell_type": "markdown",
      "source": [
        "## Best Model\n",
        "\n",
        "TODO: In the cell below, get the best model from the hyperdrive experiments and display all the properties of the model."
      ],
      "metadata": {}
    },
    {
      "cell_type": "code",
      "source": [],
      "outputs": [],
      "execution_count": null,
      "metadata": {
        "gather": {
          "logged": 1598546650307
        },
        "jupyter": {
          "outputs_hidden": false,
          "source_hidden": false
        },
        "nteract": {
          "transient": {
            "deleting": false
          }
        }
      }
    },
    {
      "cell_type": "code",
      "source": [
        "#TODO: Save the best model\n",
        "best_run = hyperdrive_run.get_best_run_by_primary_metric()\n",
        "# register model \n",
        "model = best_run.register_model(model_name='model', model_path='outputs/model.pkl')\n",
        "print(f\"Model {model.name}.v{model.version} correctly saved\")"
      ],
      "outputs": [],
      "execution_count": null,
      "metadata": {
        "gather": {
          "logged": 1598546657829
        },
        "jupyter": {
          "outputs_hidden": false,
          "source_hidden": false
        },
        "nteract": {
          "transient": {
            "deleting": false
          }
        }
      }
    },
    {
      "cell_type": "markdown",
      "source": [
        "## Model Deployment\n",
        "\n",
        "Remember you have to deploy only one of the two models you trained.. Perform the steps in the rest of this notebook only if you wish to deploy this model.\n",
        "\n",
        "TODO: In the cell below, register the model, create an inference config and deploy the model as a web service."
      ],
      "metadata": {
        "collapsed": true,
        "jupyter": {
          "outputs_hidden": false,
          "source_hidden": false
        },
        "nteract": {
          "transient": {
            "deleting": false
          }
        }
      }
    },
    {
      "cell_type": "code",
      "source": [],
      "outputs": [],
      "execution_count": null,
      "metadata": {}
    },
    {
      "cell_type": "markdown",
      "source": [
        "TODO: In the cell below, send a request to the web service you deployed to test it."
      ],
      "metadata": {}
    },
    {
      "cell_type": "code",
      "source": [],
      "outputs": [],
      "execution_count": null,
      "metadata": {}
    },
    {
      "cell_type": "markdown",
      "source": [
        "TODO: In the cell below, print the logs of the web service and delete the service"
      ],
      "metadata": {}
    },
    {
      "cell_type": "code",
      "source": [
        "import xgboost as xgb \n",
        "import argparse\n",
        "import os\n",
        "import numpy as np\n",
        "from sklearn.metrics import mean_squared_error, confusion_matrix\n",
        "import joblib\n",
        "from sklearn.model_selection import train_test_split\n",
        "from sklearn.metrics import accuracy_score\n",
        "from sklearn.preprocessing import OneHotEncoder\n",
        "import pandas as pd\n",
        "from azureml.core.run import Run\n",
        "from azureml.data.dataset_factory import TabularDatasetFactory\n",
        "\n",
        "# TODO: Create TabularDataset using TabularDatasetFactory\n",
        "# Data is located at:\n",
        "_DATA_URL = 'https://github.com/jfcarmonag/nd00333-capstone/raw/master/starter_file/BankChurners.csv'\n",
        "\n",
        "def clean_data(data):\n",
        "    \n",
        "    # Clean and one hot encode data\n",
        "    # Cleaning and one-hot encoding extracted from \n",
        "    # https://www.kaggle.com/sakshigoyal7/churned-customers-recall-of-86\n",
        "    x_df = data.to_pandas_dataframe().dropna()\n",
        "    x_df['Attrition_Flag'].replace({'Existing Customer':0, \n",
        "    'Attrited Customer':1},inplace=True)\n",
        "    x_df.drop(x_df.columns[[0,-1,-2]].values,axis=1,inplace=True)\n",
        "    map_education_level = {'High School':1,'Graduate':3,'Uneducated':0,\n",
        "    'College':2,'Post-Graduate':4,'Doctorate':5, 'Unknown':0}\n",
        "    map_income_level = {'$60K - $80K':3,'Less than $40K':1, '$80K - $120K':4,\n",
        "    '$40K - $60K':2,'$120K +':5, 'Unknown':0}\n",
        "    map_card_category = {'Blue':1,'Gold':3,'Silver':2,'Platinum':4}\n",
        "    x_df['Education_Level'].replace(map_education_level,inplace=True)\n",
        "    x_df['Income_Category'].replace(map_income_level,inplace=True)\n",
        "    x_df['Card_Category'].replace(map_card_category,inplace=True)\n",
        "    # #hot encoding of gender category\n",
        "    x_df.insert(2,'Gender_M',x_df['Gender'],True)\n",
        "    x_df.rename({'Gender':'Gender_F'},axis=1,inplace=True)\n",
        "    x_df['Gender_M'].replace({'M':1,'F':0},inplace=True)\n",
        "    x_df['Gender_F'].replace({'M':0,'F':1},inplace=True)\n",
        "    #\n",
        "    # #hot encoding of marital status\n",
        "    x_df.insert(7,'Single',x_df['Marital_Status'],True)\n",
        "    x_df.insert(7,'Divorced',x_df['Marital_Status'],True)\n",
        "    x_df.insert(7,'Unknown',x_df['Marital_Status'],True)\n",
        "    x_df.rename({'Marital_Status':'Married'},axis=1,inplace=True)\n",
        "    x_df['Married'].replace({'Single':0, 'Married':1, 'Divorced':0, 'Unknown':0},\n",
        "    inplace=True)\n",
        "    x_df['Single'].replace({'Single':1, 'Married':0, 'Divorced':0, 'Unknown':0},\n",
        "    inplace=True)\n",
        "    x_df['Divorced'].replace({'Single':0, 'Married':0, 'Divorced':1, 'Unknown':0},\n",
        "    inplace=True)\n",
        "    x_df['Unknown'].replace({'Single':0, 'Married':0, 'Divorced':0, 'Unknown':1},\n",
        "    inplace=True)\n",
        "    y_df = x_df.pop(\"Attrition_Flag\")\n",
        "    return x_df, y_df\n",
        "\n",
        "\n",
        "def get_clean_data():\n",
        "    ds = TabularDatasetFactory.from_delimited_files(path=_DATA_URL)\n",
        "    return clean_data(ds)\n",
        "\n",
        "\n",
        "def main():\n",
        "    # Add arguments to script\n",
        "    parser = argparse.ArgumentParser()\n",
        "\n",
        "    # parser.add_argument('--C', type=float, default=1.0, \n",
        "    # help=\"Inverse of regularization strength. \n",
        "    # Smaller values cause stronger regularization\")\n",
        "    # parser.add_argument('--max_iter', type=int, default=100, \n",
        "    # help=\"Maximum number of iterations to converge\")\n",
        "    parser.add_argument('--max_depth', type=float, default= 4)\n",
        "    parser.add_argument('--learning_rate', type=float, default= 0.1)\n",
        "    parser.add_argument('--gamma', type=float, default= 0.5)\n",
        "    parser.add_argument('--reg_lambda', type=float, default= 1.0)\n",
        "    parser.add_argument('--scale_pos_weight', type=float, default=3.0)\n",
        "    args, unknown = parser.parse_known_args()\n",
        "\n",
        "    run = Run.get_context()\n",
        "\n",
        "    run.log(\"max_depth:\", np.int(args.max_depth))\n",
        "    run.log(\"learning_rate:\", np.float(args.learning_rate))\n",
        "    run.log(\"gamma:\", np.float(args.gamma))\n",
        "    run.log(\"reg_lambda:\", np.float(args.reg_lambda))\n",
        "    run.log(\"scale_pos_weight:\", np.float(args.scale_pos_weight))\n",
        "\n",
        "    x, y = get_clean_data()\n",
        "    print(set(x['Income_Category']))\n",
        "    x_train, x_test, y_train, y_test = train_test_split(x, y, test_size=0.3, \n",
        "                                                        random_state=42)\n",
        "    model = xgb.XGBClassifier(objective=\"binary:logistic\", \n",
        "                            missing=None,\n",
        "                            max_depth=args.max_depth, \n",
        "                            learning_rate=args.learning_rate, \n",
        "                            gamma=args.gamma, \n",
        "                            reg_lambda=args.reg_lambda,\n",
        "                            scale_pos_weight=args.scale_pos_weight)\n",
        "    model.fit(x_train,y_train)\n",
        "    y_pred = model.predict(x_test)\n",
        "    accuracy = accuracy_score(y_pred, y_test)\n",
        "    run.log(\"Accuracy\", np.float(accuracy))\n",
        "    #value = {\n",
        "    #   \"schema_type\": \"confusion_matrix\",\n",
        "    #   \"schema_version\": \"v1\",\n",
        "    #   \"data\": {\n",
        "    #       \"class_labels\": [\"0\", \"1\"],\n",
        "    #       \"matrix\": confusion_matrix(y_test, model.predict(x_test)).tolist()\n",
        "    #   }\n",
        "    #}\n",
        "    #run.log_confusion_matrix(name='Confusion Matrix', value=value)\n",
        "    os.makedirs('outputs', exist_ok=True)\n",
        "    # note file saved in the outputs folder is automatically uploaded \n",
        "    # into experiment record\n",
        "    joblib.dump(value=model, filename='outputs/model.pkl')\n",
        "\n",
        "if __name__ == '__main__':\n",
        "    main()\n"
      ],
      "outputs": [],
      "execution_count": null,
      "metadata": {
        "gather": {
          "logged": 1607039031544
        }
      }
    }
  ],
  "metadata": {
    "kernel_info": {
      "name": "python3"
    },
    "kernelspec": {
      "name": "python3",
      "language": "python",
      "display_name": "Python 3"
    },
    "language_info": {
      "name": "python",
      "version": "3.6.9",
      "mimetype": "text/x-python",
      "codemirror_mode": {
        "name": "ipython",
        "version": 3
      },
      "pygments_lexer": "ipython3",
      "nbconvert_exporter": "python",
      "file_extension": ".py"
    },
    "nteract": {
      "version": "nteract-front-end@1.0.0"
    }
  },
  "nbformat": 4,
  "nbformat_minor": 2
}